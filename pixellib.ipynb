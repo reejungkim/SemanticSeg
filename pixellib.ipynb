{
 "cells": [
  {
   "cell_type": "code",
   "execution_count": 4,
   "metadata": {},
   "outputs": [],
   "source": [
    "import pixellib\n",
    "from pixellib.semantic import semantic_segmentation\n",
    "\n",
    "segment_image = semantic_segmentation()\n",
    "\n",
    "#load he xception model trained on pascal voc for segmenting objects\n",
    "segment_image.load_pascalvoc_model(\"/Users/reejungkim/Documents/Git/SemanticSeg/deeplabv3_xception_tf_dim_ordering_tf_kernels.h5\") \n",
    "\n",
    "\n"
   ]
  },
  {
   "cell_type": "code",
   "execution_count": 42,
   "metadata": {},
   "outputs": [
    {
     "name": "stdout",
     "output_type": "stream",
     "text": [
      "Processed Image saved successfully in your current working directory.\n"
     ]
    },
    {
     "data": {
      "text/plain": [
       "({'class_ids': array([ 0,  9, 16, 18, 20]),\n",
       "  'masks': array([[False, False, False, ..., False, False, False],\n",
       "         [False, False, False, ..., False, False, False],\n",
       "         [False, False, False, ..., False, False, False],\n",
       "         ...,\n",
       "         [False, False, False, ..., False, False, False],\n",
       "         [False, False, False, ..., False, False, False],\n",
       "         [False, False, False, ..., False, False, False]])},\n",
       " array([[[59, 56, 46],\n",
       "         [50, 46, 37],\n",
       "         [55, 51, 42],\n",
       "         ...,\n",
       "         [33, 31, 22],\n",
       "         [32, 31, 20],\n",
       "         [32, 31, 20]],\n",
       " \n",
       "        [[59, 56, 46],\n",
       "         [50, 46, 37],\n",
       "         [55, 51, 42],\n",
       "         ...,\n",
       "         [58, 56, 47],\n",
       "         [58, 57, 46],\n",
       "         [58, 56, 45]],\n",
       " \n",
       "        [[59, 56, 46],\n",
       "         [50, 46, 37],\n",
       "         [55, 51, 42],\n",
       "         ...,\n",
       "         [55, 53, 44],\n",
       "         [55, 54, 43],\n",
       "         [55, 53, 42]],\n",
       " \n",
       "        ...,\n",
       " \n",
       "        [[ 0,  2,  5],\n",
       "         [ 1,  2,  4],\n",
       "         [ 2,  2,  3],\n",
       "         ...,\n",
       "         [54, 52, 45],\n",
       "         [54, 52, 44],\n",
       "         [54, 52, 43]],\n",
       " \n",
       "        [[ 0,  2,  5],\n",
       "         [ 1,  2,  4],\n",
       "         [ 2,  2,  3],\n",
       "         ...,\n",
       "         [55, 53, 46],\n",
       "         [55, 53, 45],\n",
       "         [55, 53, 44]],\n",
       " \n",
       "        [[ 0,  2,  5],\n",
       "         [ 1,  2,  4],\n",
       "         [ 2,  2,  3],\n",
       "         ...,\n",
       "         [56, 54, 48],\n",
       "         [56, 55, 46],\n",
       "         [56, 55, 46]]], dtype=uint8))"
      ]
     },
     "execution_count": 42,
     "metadata": {},
     "output_type": "execute_result"
    }
   ],
   "source": [
    "#segment_image.segmentAsPascalvoc(\"path_to_image\", output_image_name = \"path_to_output_image\")\n",
    "#segment_image.segmentAsPascalvoc(\"sample1.jpeg\", output_image_name = \"image_new.jpg\")\n",
    "segment_image.segmentAsPascalvoc(\"/Users/reejungkim/Documents/Git/SemanticSeg/imgs/livingroom.jpeg\", \n",
    "                                 output_image_name = \"/Users/reejungkim/Documents/Git/SemanticSeg/imgs/livingroom_masked.jpeg\", overlay = True)"
   ]
  },
  {
   "cell_type": "code",
   "execution_count": null,
   "metadata": {},
   "outputs": [],
   "source": []
  }
 ],
 "metadata": {
  "interpreter": {
   "hash": "e47b1a34c05c1e3b83a62d7885c9d1b5ef8a0522d3be0182d0a008ec409b2b3d"
  },
  "kernelspec": {
   "display_name": "Python 3.7.13 ('myenv')",
   "language": "python",
   "name": "python3"
  },
  "language_info": {
   "codemirror_mode": {
    "name": "ipython",
    "version": 3
   },
   "file_extension": ".py",
   "mimetype": "text/x-python",
   "name": "python",
   "nbconvert_exporter": "python",
   "pygments_lexer": "ipython3",
   "version": "3.7.13"
  },
  "orig_nbformat": 4
 },
 "nbformat": 4,
 "nbformat_minor": 2
}
