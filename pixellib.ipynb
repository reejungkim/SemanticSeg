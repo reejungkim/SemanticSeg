{
 "cells": [
  {
   "cell_type": "code",
   "execution_count": 4,
   "metadata": {},
   "outputs": [],
   "source": [
    "import pixellib\n",
    "from pixellib.semantic import semantic_segmentation\n",
    "\n",
    "segment_image = semantic_segmentation()\n",
    "\n",
    "#load he xception model trained on pascal voc for segmenting objects\n",
    "segment_image.load_pascalvoc_model(\"/Users/reejungkim/Documents/Git/SemanticSeg/deeplabv3_xception_tf_dim_ordering_tf_kernels.h5\") \n",
    "\n",
    "\n"
   ]
  },
  {
   "cell_type": "code",
   "execution_count": 43,
   "metadata": {},
   "outputs": [
    {
     "name": "stdout",
     "output_type": "stream",
     "text": [
      "Processed Image saved successfully in your current working directory.\n"
     ]
    },
    {
     "data": {
      "text/plain": [
       "({'class_ids': array([ 0,  2, 12, 15]),\n",
       "  'masks': array([[False, False, False, ..., False, False, False],\n",
       "         [False, False, False, ..., False, False, False],\n",
       "         [False, False, False, ..., False, False, False],\n",
       "         ...,\n",
       "         [False, False, False, ..., False, False, False],\n",
       "         [False, False, False, ..., False, False, False],\n",
       "         [False, False, False, ..., False, False, False]])},\n",
       " array([[[53, 57, 65],\n",
       "         [54, 58, 66],\n",
       "         [54, 58, 66],\n",
       "         ...,\n",
       "         [36, 22, 12],\n",
       "         [37, 22, 11],\n",
       "         [37, 22, 11]],\n",
       " \n",
       "        [[54, 58, 66],\n",
       "         [54, 58, 66],\n",
       "         [54, 58, 66],\n",
       "         ...,\n",
       "         [37, 23, 12],\n",
       "         [37, 22, 12],\n",
       "         [36, 22, 11]],\n",
       " \n",
       "        [[55, 59, 67],\n",
       "         [54, 58, 66],\n",
       "         [53, 58, 65],\n",
       "         ...,\n",
       "         [38, 24, 13],\n",
       "         [37, 23, 12],\n",
       "         [36, 22, 11]],\n",
       " \n",
       "        ...,\n",
       " \n",
       "        [[48, 53, 60],\n",
       "         [48, 53, 60],\n",
       "         [48, 53, 61],\n",
       "         ...,\n",
       "         [50, 55, 62],\n",
       "         [50, 55, 62],\n",
       "         [50, 55, 62]],\n",
       " \n",
       "        [[47, 52, 60],\n",
       "         [48, 53, 60],\n",
       "         [48, 53, 61],\n",
       "         ...,\n",
       "         [50, 54, 61],\n",
       "         [50, 54, 61],\n",
       "         [50, 54, 61]],\n",
       " \n",
       "        [[47, 52, 59],\n",
       "         [47, 52, 59],\n",
       "         [48, 53, 60],\n",
       "         ...,\n",
       "         [49, 54, 61],\n",
       "         [49, 53, 60],\n",
       "         [48, 53, 60]]], dtype=uint8))"
      ]
     },
     "execution_count": 43,
     "metadata": {},
     "output_type": "execute_result"
    }
   ],
   "source": [
    "#segment_image.segmentAsPascalvoc(\"path_to_image\", output_image_name = \"path_to_output_image\")\n",
    "#segment_image.segmentAsPascalvoc(\"sample1.jpeg\", output_image_name = \"image_new.jpg\")\n",
    "segment_image.segmentAsPascalvoc(\"/Users/reejungkim/Documents/Git/SemanticSeg/imgs/people-street-city.jpg\", \n",
    "                                 output_image_name = \"/Users/reejungkim/Documents/Git/SemanticSeg/imgs/people-street-city_masked.jpg\", overlay = True)"
   ]
  },
  {
   "cell_type": "code",
   "execution_count": null,
   "metadata": {},
   "outputs": [],
   "source": []
  }
 ],
 "metadata": {
  "interpreter": {
   "hash": "e47b1a34c05c1e3b83a62d7885c9d1b5ef8a0522d3be0182d0a008ec409b2b3d"
  },
  "kernelspec": {
   "display_name": "Python 3.7.13 ('myenv')",
   "language": "python",
   "name": "python3"
  },
  "language_info": {
   "codemirror_mode": {
    "name": "ipython",
    "version": 3
   },
   "file_extension": ".py",
   "mimetype": "text/x-python",
   "name": "python",
   "nbconvert_exporter": "python",
   "pygments_lexer": "ipython3",
   "version": "3.7.13"
  },
  "orig_nbformat": 4
 },
 "nbformat": 4,
 "nbformat_minor": 2
}
