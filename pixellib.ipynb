{
 "cells": [
  {
   "cell_type": "markdown",
   "metadata": {},
   "source": [
    "# Semantic Segmentation"
   ]
  },
  {
   "cell_type": "code",
   "execution_count": 47,
   "metadata": {},
   "outputs": [],
   "source": [
    "\n",
    "import pixellib\n",
    "from pixellib.semantic import semantic_segmentation\n",
    "\n",
    "segment_image = semantic_segmentation()\n",
    "\n",
    "#load he xception model trained on pascal voc for segmenting objects\n",
    "segment_image.load_pascalvoc_model(\"/Users/reejungkim/Desktop/deeplabv3_xception_tf_dim_ordering_tf_kernels.h5\") \n",
    "\n",
    "\n",
    "\n"
   ]
  },
  {
   "cell_type": "code",
   "execution_count": 48,
   "metadata": {},
   "outputs": [
    {
     "name": "stdout",
     "output_type": "stream",
     "text": [
      "(853, 1280, 3)\n"
     ]
    }
   ],
   "source": [
    "#segment_image.segmentAsPascalvoc(\"path_to_image\", output_image_name = \"path_to_output_image\")\n",
    "#segment_image.segmentAsPascalvoc(\"sample1.jpeg\", output_image_name = \"image_new.jpg\")\n",
    "#segment_image.segmentAsPascalvoc(\"/Users/reejungkim/Documents/Git/SemanticSeg/imgs/people-street-city.jpg\", \n",
    "#                                 output_image_name = \"/Users/reejungkim/Documents/Git/SemanticSeg/imgs/people-street-city_masked.jpg\", overlay = True)\n",
    "\n",
    "segmap, segoverlay = segment_image.segmentAsPascalvoc(\"/Users/reejungkim/Documents/Git/SemanticSeg/imgs/people-street-city.jpg\", overlay= True)\n",
    "cv2.imwrite(\"/Users/reejungkim/Documents/Git/SemanticSeg/imgs/people-street-city_masked.jpg\", segoverlay)\n",
    "print(segoverlay.shape)"
   ]
  },
  {
   "cell_type": "markdown",
   "metadata": {},
   "source": [
    "# Instance Segmentation"
   ]
  },
  {
   "cell_type": "code",
   "execution_count": 56,
   "metadata": {},
   "outputs": [
    {
     "name": "stdout",
     "output_type": "stream",
     "text": [
      "WARNING:tensorflow:Entity <bound method BatchNorm.call of <pixellib.instance.mask_rcnn.BatchNorm object at 0x7f7a88803ed0>> could not be transformed and will be executed as-is. Please report this to the AutgoGraph team. When filing the bug, set the verbosity to 10 (on Linux, `export AUTOGRAPH_VERBOSITY=10`) and attach the full output. Cause: converting <bound method BatchNorm.call of <pixellib.instance.mask_rcnn.BatchNorm object at 0x7f7a88803ed0>>: AttributeError: module 'gast' has no attribute 'Str'\n"
     ]
    },
    {
     "name": "stderr",
     "output_type": "stream",
     "text": [
      "11/27/2022 23:41:15 - WARNING - tensorflow -   Entity <bound method BatchNorm.call of <pixellib.instance.mask_rcnn.BatchNorm object at 0x7f7a88803ed0>> could not be transformed and will be executed as-is. Please report this to the AutgoGraph team. When filing the bug, set the verbosity to 10 (on Linux, `export AUTOGRAPH_VERBOSITY=10`) and attach the full output. Cause: converting <bound method BatchNorm.call of <pixellib.instance.mask_rcnn.BatchNorm object at 0x7f7a88803ed0>>: AttributeError: module 'gast' has no attribute 'Str'\n"
     ]
    },
    {
     "name": "stdout",
     "output_type": "stream",
     "text": [
      "WARNING: Entity <bound method BatchNorm.call of <pixellib.instance.mask_rcnn.BatchNorm object at 0x7f7a88803ed0>> could not be transformed and will be executed as-is. Please report this to the AutgoGraph team. When filing the bug, set the verbosity to 10 (on Linux, `export AUTOGRAPH_VERBOSITY=10`) and attach the full output. Cause: converting <bound method BatchNorm.call of <pixellib.instance.mask_rcnn.BatchNorm object at 0x7f7a88803ed0>>: AttributeError: module 'gast' has no attribute 'Str'\n",
      "WARNING:tensorflow:Entity <bound method BatchNorm.call of <pixellib.instance.mask_rcnn.BatchNorm object at 0x7f79b45d6c50>> could not be transformed and will be executed as-is. Please report this to the AutgoGraph team. When filing the bug, set the verbosity to 10 (on Linux, `export AUTOGRAPH_VERBOSITY=10`) and attach the full output. Cause: converting <bound method BatchNorm.call of <pixellib.instance.mask_rcnn.BatchNorm object at 0x7f79b45d6c50>>: AttributeError: module 'gast' has no attribute 'Str'\n"
     ]
    },
    {
     "name": "stderr",
     "output_type": "stream",
     "text": [
      "11/27/2022 23:41:15 - WARNING - tensorflow -   Entity <bound method BatchNorm.call of <pixellib.instance.mask_rcnn.BatchNorm object at 0x7f79b45d6c50>> could not be transformed and will be executed as-is. Please report this to the AutgoGraph team. When filing the bug, set the verbosity to 10 (on Linux, `export AUTOGRAPH_VERBOSITY=10`) and attach the full output. Cause: converting <bound method BatchNorm.call of <pixellib.instance.mask_rcnn.BatchNorm object at 0x7f79b45d6c50>>: AttributeError: module 'gast' has no attribute 'Str'\n"
     ]
    },
    {
     "name": "stdout",
     "output_type": "stream",
     "text": [
      "WARNING: Entity <bound method BatchNorm.call of <pixellib.instance.mask_rcnn.BatchNorm object at 0x7f79b45d6c50>> could not be transformed and will be executed as-is. Please report this to the AutgoGraph team. When filing the bug, set the verbosity to 10 (on Linux, `export AUTOGRAPH_VERBOSITY=10`) and attach the full output. Cause: converting <bound method BatchNorm.call of <pixellib.instance.mask_rcnn.BatchNorm object at 0x7f79b45d6c50>>: AttributeError: module 'gast' has no attribute 'Str'\n",
      "WARNING:tensorflow:Entity <bound method BatchNorm.call of <pixellib.instance.mask_rcnn.BatchNorm object at 0x7f79b4562e10>> could not be transformed and will be executed as-is. Please report this to the AutgoGraph team. When filing the bug, set the verbosity to 10 (on Linux, `export AUTOGRAPH_VERBOSITY=10`) and attach the full output. Cause: converting <bound method BatchNorm.call of <pixellib.instance.mask_rcnn.BatchNorm object at 0x7f79b4562e10>>: AttributeError: module 'gast' has no attribute 'Str'\n"
     ]
    },
    {
     "name": "stderr",
     "output_type": "stream",
     "text": [
      "11/27/2022 23:41:16 - WARNING - tensorflow -   Entity <bound method BatchNorm.call of <pixellib.instance.mask_rcnn.BatchNorm object at 0x7f79b4562e10>> could not be transformed and will be executed as-is. Please report this to the AutgoGraph team. When filing the bug, set the verbosity to 10 (on Linux, `export AUTOGRAPH_VERBOSITY=10`) and attach the full output. Cause: converting <bound method BatchNorm.call of <pixellib.instance.mask_rcnn.BatchNorm object at 0x7f79b4562e10>>: AttributeError: module 'gast' has no attribute 'Str'\n"
     ]
    },
    {
     "name": "stdout",
     "output_type": "stream",
     "text": [
      "WARNING: Entity <bound method BatchNorm.call of <pixellib.instance.mask_rcnn.BatchNorm object at 0x7f79b4562e10>> could not be transformed and will be executed as-is. Please report this to the AutgoGraph team. When filing the bug, set the verbosity to 10 (on Linux, `export AUTOGRAPH_VERBOSITY=10`) and attach the full output. Cause: converting <bound method BatchNorm.call of <pixellib.instance.mask_rcnn.BatchNorm object at 0x7f79b4562e10>>: AttributeError: module 'gast' has no attribute 'Str'\n",
      "WARNING:tensorflow:Entity <bound method BatchNorm.call of <pixellib.instance.mask_rcnn.BatchNorm object at 0x7f79b440ac50>> could not be transformed and will be executed as-is. Please report this to the AutgoGraph team. When filing the bug, set the verbosity to 10 (on Linux, `export AUTOGRAPH_VERBOSITY=10`) and attach the full output. Cause: converting <bound method BatchNorm.call of <pixellib.instance.mask_rcnn.BatchNorm object at 0x7f79b440ac50>>: AttributeError: module 'gast' has no attribute 'Str'\n"
     ]
    },
    {
     "name": "stderr",
     "output_type": "stream",
     "text": [
      "11/27/2022 23:41:16 - WARNING - tensorflow -   Entity <bound method BatchNorm.call of <pixellib.instance.mask_rcnn.BatchNorm object at 0x7f79b440ac50>> could not be transformed and will be executed as-is. Please report this to the AutgoGraph team. When filing the bug, set the verbosity to 10 (on Linux, `export AUTOGRAPH_VERBOSITY=10`) and attach the full output. Cause: converting <bound method BatchNorm.call of <pixellib.instance.mask_rcnn.BatchNorm object at 0x7f79b440ac50>>: AttributeError: module 'gast' has no attribute 'Str'\n"
     ]
    },
    {
     "name": "stdout",
     "output_type": "stream",
     "text": [
      "WARNING: Entity <bound method BatchNorm.call of <pixellib.instance.mask_rcnn.BatchNorm object at 0x7f79b440ac50>> could not be transformed and will be executed as-is. Please report this to the AutgoGraph team. When filing the bug, set the verbosity to 10 (on Linux, `export AUTOGRAPH_VERBOSITY=10`) and attach the full output. Cause: converting <bound method BatchNorm.call of <pixellib.instance.mask_rcnn.BatchNorm object at 0x7f79b440ac50>>: AttributeError: module 'gast' has no attribute 'Str'\n",
      "WARNING:tensorflow:Entity <bound method BatchNorm.call of <pixellib.instance.mask_rcnn.BatchNorm object at 0x7f79b4252fd0>> could not be transformed and will be executed as-is. Please report this to the AutgoGraph team. When filing the bug, set the verbosity to 10 (on Linux, `export AUTOGRAPH_VERBOSITY=10`) and attach the full output. Cause: converting <bound method BatchNorm.call of <pixellib.instance.mask_rcnn.BatchNorm object at 0x7f79b4252fd0>>: AttributeError: module 'gast' has no attribute 'Str'\n"
     ]
    },
    {
     "name": "stderr",
     "output_type": "stream",
     "text": [
      "11/27/2022 23:41:16 - WARNING - tensorflow -   Entity <bound method BatchNorm.call of <pixellib.instance.mask_rcnn.BatchNorm object at 0x7f79b4252fd0>> could not be transformed and will be executed as-is. Please report this to the AutgoGraph team. When filing the bug, set the verbosity to 10 (on Linux, `export AUTOGRAPH_VERBOSITY=10`) and attach the full output. Cause: converting <bound method BatchNorm.call of <pixellib.instance.mask_rcnn.BatchNorm object at 0x7f79b4252fd0>>: AttributeError: module 'gast' has no attribute 'Str'\n"
     ]
    },
    {
     "name": "stdout",
     "output_type": "stream",
     "text": [
      "WARNING: Entity <bound method BatchNorm.call of <pixellib.instance.mask_rcnn.BatchNorm object at 0x7f79b4252fd0>> could not be transformed and will be executed as-is. Please report this to the AutgoGraph team. When filing the bug, set the verbosity to 10 (on Linux, `export AUTOGRAPH_VERBOSITY=10`) and attach the full output. Cause: converting <bound method BatchNorm.call of <pixellib.instance.mask_rcnn.BatchNorm object at 0x7f79b4252fd0>>: AttributeError: module 'gast' has no attribute 'Str'\n",
      "WARNING:tensorflow:Entity <bound method BatchNorm.call of <pixellib.instance.mask_rcnn.BatchNorm object at 0x7f79b878c550>> could not be transformed and will be executed as-is. Please report this to the AutgoGraph team. When filing the bug, set the verbosity to 10 (on Linux, `export AUTOGRAPH_VERBOSITY=10`) and attach the full output. Cause: converting <bound method BatchNorm.call of <pixellib.instance.mask_rcnn.BatchNorm object at 0x7f79b878c550>>: AttributeError: module 'gast' has no attribute 'Str'\n"
     ]
    },
    {
     "name": "stderr",
     "output_type": "stream",
     "text": [
      "11/27/2022 23:41:16 - WARNING - tensorflow -   Entity <bound method BatchNorm.call of <pixellib.instance.mask_rcnn.BatchNorm object at 0x7f79b878c550>> could not be transformed and will be executed as-is. Please report this to the AutgoGraph team. When filing the bug, set the verbosity to 10 (on Linux, `export AUTOGRAPH_VERBOSITY=10`) and attach the full output. Cause: converting <bound method BatchNorm.call of <pixellib.instance.mask_rcnn.BatchNorm object at 0x7f79b878c550>>: AttributeError: module 'gast' has no attribute 'Str'\n"
     ]
    },
    {
     "name": "stdout",
     "output_type": "stream",
     "text": [
      "WARNING: Entity <bound method BatchNorm.call of <pixellib.instance.mask_rcnn.BatchNorm object at 0x7f79b878c550>> could not be transformed and will be executed as-is. Please report this to the AutgoGraph team. When filing the bug, set the verbosity to 10 (on Linux, `export AUTOGRAPH_VERBOSITY=10`) and attach the full output. Cause: converting <bound method BatchNorm.call of <pixellib.instance.mask_rcnn.BatchNorm object at 0x7f79b878c550>>: AttributeError: module 'gast' has no attribute 'Str'\n",
      "WARNING:tensorflow:Entity <bound method BatchNorm.call of <pixellib.instance.mask_rcnn.BatchNorm object at 0x7f79b4ea1bd0>> could not be transformed and will be executed as-is. Please report this to the AutgoGraph team. When filing the bug, set the verbosity to 10 (on Linux, `export AUTOGRAPH_VERBOSITY=10`) and attach the full output. Cause: converting <bound method BatchNorm.call of <pixellib.instance.mask_rcnn.BatchNorm object at 0x7f79b4ea1bd0>>: AttributeError: module 'gast' has no attribute 'Str'\n"
     ]
    },
    {
     "name": "stderr",
     "output_type": "stream",
     "text": [
      "11/27/2022 23:41:16 - WARNING - tensorflow -   Entity <bound method BatchNorm.call of <pixellib.instance.mask_rcnn.BatchNorm object at 0x7f79b4ea1bd0>> could not be transformed and will be executed as-is. Please report this to the AutgoGraph team. When filing the bug, set the verbosity to 10 (on Linux, `export AUTOGRAPH_VERBOSITY=10`) and attach the full output. Cause: converting <bound method BatchNorm.call of <pixellib.instance.mask_rcnn.BatchNorm object at 0x7f79b4ea1bd0>>: AttributeError: module 'gast' has no attribute 'Str'\n"
     ]
    },
    {
     "name": "stdout",
     "output_type": "stream",
     "text": [
      "WARNING: Entity <bound method BatchNorm.call of <pixellib.instance.mask_rcnn.BatchNorm object at 0x7f79b4ea1bd0>> could not be transformed and will be executed as-is. Please report this to the AutgoGraph team. When filing the bug, set the verbosity to 10 (on Linux, `export AUTOGRAPH_VERBOSITY=10`) and attach the full output. Cause: converting <bound method BatchNorm.call of <pixellib.instance.mask_rcnn.BatchNorm object at 0x7f79b4ea1bd0>>: AttributeError: module 'gast' has no attribute 'Str'\n",
      "WARNING:tensorflow:Entity <bound method BatchNorm.call of <pixellib.instance.mask_rcnn.BatchNorm object at 0x7f79b4fcbd10>> could not be transformed and will be executed as-is. Please report this to the AutgoGraph team. When filing the bug, set the verbosity to 10 (on Linux, `export AUTOGRAPH_VERBOSITY=10`) and attach the full output. Cause: converting <bound method BatchNorm.call of <pixellib.instance.mask_rcnn.BatchNorm object at 0x7f79b4fcbd10>>: AttributeError: module 'gast' has no attribute 'Str'\n"
     ]
    },
    {
     "name": "stderr",
     "output_type": "stream",
     "text": [
      "11/27/2022 23:41:16 - WARNING - tensorflow -   Entity <bound method BatchNorm.call of <pixellib.instance.mask_rcnn.BatchNorm object at 0x7f79b4fcbd10>> could not be transformed and will be executed as-is. Please report this to the AutgoGraph team. When filing the bug, set the verbosity to 10 (on Linux, `export AUTOGRAPH_VERBOSITY=10`) and attach the full output. Cause: converting <bound method BatchNorm.call of <pixellib.instance.mask_rcnn.BatchNorm object at 0x7f79b4fcbd10>>: AttributeError: module 'gast' has no attribute 'Str'\n"
     ]
    },
    {
     "name": "stdout",
     "output_type": "stream",
     "text": [
      "WARNING: Entity <bound method BatchNorm.call of <pixellib.instance.mask_rcnn.BatchNorm object at 0x7f79b4fcbd10>> could not be transformed and will be executed as-is. Please report this to the AutgoGraph team. When filing the bug, set the verbosity to 10 (on Linux, `export AUTOGRAPH_VERBOSITY=10`) and attach the full output. Cause: converting <bound method BatchNorm.call of <pixellib.instance.mask_rcnn.BatchNorm object at 0x7f79b4fcbd10>>: AttributeError: module 'gast' has no attribute 'Str'\n",
      "WARNING:tensorflow:Entity <bound method BatchNorm.call of <pixellib.instance.mask_rcnn.BatchNorm object at 0x7f79b501be90>> could not be transformed and will be executed as-is. Please report this to the AutgoGraph team. When filing the bug, set the verbosity to 10 (on Linux, `export AUTOGRAPH_VERBOSITY=10`) and attach the full output. Cause: converting <bound method BatchNorm.call of <pixellib.instance.mask_rcnn.BatchNorm object at 0x7f79b501be90>>: AttributeError: module 'gast' has no attribute 'Str'\n"
     ]
    },
    {
     "name": "stderr",
     "output_type": "stream",
     "text": [
      "11/27/2022 23:41:16 - WARNING - tensorflow -   Entity <bound method BatchNorm.call of <pixellib.instance.mask_rcnn.BatchNorm object at 0x7f79b501be90>> could not be transformed and will be executed as-is. Please report this to the AutgoGraph team. When filing the bug, set the verbosity to 10 (on Linux, `export AUTOGRAPH_VERBOSITY=10`) and attach the full output. Cause: converting <bound method BatchNorm.call of <pixellib.instance.mask_rcnn.BatchNorm object at 0x7f79b501be90>>: AttributeError: module 'gast' has no attribute 'Str'\n"
     ]
    },
    {
     "name": "stdout",
     "output_type": "stream",
     "text": [
      "WARNING: Entity <bound method BatchNorm.call of <pixellib.instance.mask_rcnn.BatchNorm object at 0x7f79b501be90>> could not be transformed and will be executed as-is. Please report this to the AutgoGraph team. When filing the bug, set the verbosity to 10 (on Linux, `export AUTOGRAPH_VERBOSITY=10`) and attach the full output. Cause: converting <bound method BatchNorm.call of <pixellib.instance.mask_rcnn.BatchNorm object at 0x7f79b501be90>>: AttributeError: module 'gast' has no attribute 'Str'\n",
      "WARNING:tensorflow:Entity <bound method BatchNorm.call of <pixellib.instance.mask_rcnn.BatchNorm object at 0x7f79b50b8e10>> could not be transformed and will be executed as-is. Please report this to the AutgoGraph team. When filing the bug, set the verbosity to 10 (on Linux, `export AUTOGRAPH_VERBOSITY=10`) and attach the full output. Cause: converting <bound method BatchNorm.call of <pixellib.instance.mask_rcnn.BatchNorm object at 0x7f79b50b8e10>>: AttributeError: module 'gast' has no attribute 'Str'\n"
     ]
    },
    {
     "name": "stderr",
     "output_type": "stream",
     "text": [
      "11/27/2022 23:41:16 - WARNING - tensorflow -   Entity <bound method BatchNorm.call of <pixellib.instance.mask_rcnn.BatchNorm object at 0x7f79b50b8e10>> could not be transformed and will be executed as-is. Please report this to the AutgoGraph team. When filing the bug, set the verbosity to 10 (on Linux, `export AUTOGRAPH_VERBOSITY=10`) and attach the full output. Cause: converting <bound method BatchNorm.call of <pixellib.instance.mask_rcnn.BatchNorm object at 0x7f79b50b8e10>>: AttributeError: module 'gast' has no attribute 'Str'\n"
     ]
    },
    {
     "name": "stdout",
     "output_type": "stream",
     "text": [
      "WARNING: Entity <bound method BatchNorm.call of <pixellib.instance.mask_rcnn.BatchNorm object at 0x7f79b50b8e10>> could not be transformed and will be executed as-is. Please report this to the AutgoGraph team. When filing the bug, set the verbosity to 10 (on Linux, `export AUTOGRAPH_VERBOSITY=10`) and attach the full output. Cause: converting <bound method BatchNorm.call of <pixellib.instance.mask_rcnn.BatchNorm object at 0x7f79b50b8e10>>: AttributeError: module 'gast' has no attribute 'Str'\n",
      "WARNING:tensorflow:Entity <bound method BatchNorm.call of <pixellib.instance.mask_rcnn.BatchNorm object at 0x7f79b5131d90>> could not be transformed and will be executed as-is. Please report this to the AutgoGraph team. When filing the bug, set the verbosity to 10 (on Linux, `export AUTOGRAPH_VERBOSITY=10`) and attach the full output. Cause: converting <bound method BatchNorm.call of <pixellib.instance.mask_rcnn.BatchNorm object at 0x7f79b5131d90>>: AttributeError: module 'gast' has no attribute 'Str'\n"
     ]
    },
    {
     "name": "stderr",
     "output_type": "stream",
     "text": [
      "11/27/2022 23:41:16 - WARNING - tensorflow -   Entity <bound method BatchNorm.call of <pixellib.instance.mask_rcnn.BatchNorm object at 0x7f79b5131d90>> could not be transformed and will be executed as-is. Please report this to the AutgoGraph team. When filing the bug, set the verbosity to 10 (on Linux, `export AUTOGRAPH_VERBOSITY=10`) and attach the full output. Cause: converting <bound method BatchNorm.call of <pixellib.instance.mask_rcnn.BatchNorm object at 0x7f79b5131d90>>: AttributeError: module 'gast' has no attribute 'Str'\n"
     ]
    },
    {
     "name": "stdout",
     "output_type": "stream",
     "text": [
      "WARNING: Entity <bound method BatchNorm.call of <pixellib.instance.mask_rcnn.BatchNorm object at 0x7f79b5131d90>> could not be transformed and will be executed as-is. Please report this to the AutgoGraph team. When filing the bug, set the verbosity to 10 (on Linux, `export AUTOGRAPH_VERBOSITY=10`) and attach the full output. Cause: converting <bound method BatchNorm.call of <pixellib.instance.mask_rcnn.BatchNorm object at 0x7f79b5131d90>>: AttributeError: module 'gast' has no attribute 'Str'\n",
      "WARNING:tensorflow:Entity <bound method BatchNorm.call of <pixellib.instance.mask_rcnn.BatchNorm object at 0x7f79b51cf5d0>> could not be transformed and will be executed as-is. Please report this to the AutgoGraph team. When filing the bug, set the verbosity to 10 (on Linux, `export AUTOGRAPH_VERBOSITY=10`) and attach the full output. Cause: converting <bound method BatchNorm.call of <pixellib.instance.mask_rcnn.BatchNorm object at 0x7f79b51cf5d0>>: AttributeError: module 'gast' has no attribute 'Str'\n"
     ]
    },
    {
     "name": "stderr",
     "output_type": "stream",
     "text": [
      "11/27/2022 23:41:16 - WARNING - tensorflow -   Entity <bound method BatchNorm.call of <pixellib.instance.mask_rcnn.BatchNorm object at 0x7f79b51cf5d0>> could not be transformed and will be executed as-is. Please report this to the AutgoGraph team. When filing the bug, set the verbosity to 10 (on Linux, `export AUTOGRAPH_VERBOSITY=10`) and attach the full output. Cause: converting <bound method BatchNorm.call of <pixellib.instance.mask_rcnn.BatchNorm object at 0x7f79b51cf5d0>>: AttributeError: module 'gast' has no attribute 'Str'\n"
     ]
    },
    {
     "name": "stdout",
     "output_type": "stream",
     "text": [
      "WARNING: Entity <bound method BatchNorm.call of <pixellib.instance.mask_rcnn.BatchNorm object at 0x7f79b51cf5d0>> could not be transformed and will be executed as-is. Please report this to the AutgoGraph team. When filing the bug, set the verbosity to 10 (on Linux, `export AUTOGRAPH_VERBOSITY=10`) and attach the full output. Cause: converting <bound method BatchNorm.call of <pixellib.instance.mask_rcnn.BatchNorm object at 0x7f79b51cf5d0>>: AttributeError: module 'gast' has no attribute 'Str'\n",
      "WARNING:tensorflow:Entity <bound method BatchNorm.call of <pixellib.instance.mask_rcnn.BatchNorm object at 0x7f79b524f890>> could not be transformed and will be executed as-is. Please report this to the AutgoGraph team. When filing the bug, set the verbosity to 10 (on Linux, `export AUTOGRAPH_VERBOSITY=10`) and attach the full output. Cause: converting <bound method BatchNorm.call of <pixellib.instance.mask_rcnn.BatchNorm object at 0x7f79b524f890>>: AttributeError: module 'gast' has no attribute 'Str'\n"
     ]
    },
    {
     "name": "stderr",
     "output_type": "stream",
     "text": [
      "11/27/2022 23:41:16 - WARNING - tensorflow -   Entity <bound method BatchNorm.call of <pixellib.instance.mask_rcnn.BatchNorm object at 0x7f79b524f890>> could not be transformed and will be executed as-is. Please report this to the AutgoGraph team. When filing the bug, set the verbosity to 10 (on Linux, `export AUTOGRAPH_VERBOSITY=10`) and attach the full output. Cause: converting <bound method BatchNorm.call of <pixellib.instance.mask_rcnn.BatchNorm object at 0x7f79b524f890>>: AttributeError: module 'gast' has no attribute 'Str'\n"
     ]
    },
    {
     "name": "stdout",
     "output_type": "stream",
     "text": [
      "WARNING: Entity <bound method BatchNorm.call of <pixellib.instance.mask_rcnn.BatchNorm object at 0x7f79b524f890>> could not be transformed and will be executed as-is. Please report this to the AutgoGraph team. When filing the bug, set the verbosity to 10 (on Linux, `export AUTOGRAPH_VERBOSITY=10`) and attach the full output. Cause: converting <bound method BatchNorm.call of <pixellib.instance.mask_rcnn.BatchNorm object at 0x7f79b524f890>>: AttributeError: module 'gast' has no attribute 'Str'\n",
      "WARNING:tensorflow:Entity <bound method BatchNorm.call of <pixellib.instance.mask_rcnn.BatchNorm object at 0x7f79b51cfd50>> could not be transformed and will be executed as-is. Please report this to the AutgoGraph team. When filing the bug, set the verbosity to 10 (on Linux, `export AUTOGRAPH_VERBOSITY=10`) and attach the full output. Cause: converting <bound method BatchNorm.call of <pixellib.instance.mask_rcnn.BatchNorm object at 0x7f79b51cfd50>>: AttributeError: module 'gast' has no attribute 'Str'\n"
     ]
    },
    {
     "name": "stderr",
     "output_type": "stream",
     "text": [
      "11/27/2022 23:41:17 - WARNING - tensorflow -   Entity <bound method BatchNorm.call of <pixellib.instance.mask_rcnn.BatchNorm object at 0x7f79b51cfd50>> could not be transformed and will be executed as-is. Please report this to the AutgoGraph team. When filing the bug, set the verbosity to 10 (on Linux, `export AUTOGRAPH_VERBOSITY=10`) and attach the full output. Cause: converting <bound method BatchNorm.call of <pixellib.instance.mask_rcnn.BatchNorm object at 0x7f79b51cfd50>>: AttributeError: module 'gast' has no attribute 'Str'\n"
     ]
    },
    {
     "name": "stdout",
     "output_type": "stream",
     "text": [
      "WARNING: Entity <bound method BatchNorm.call of <pixellib.instance.mask_rcnn.BatchNorm object at 0x7f79b51cfd50>> could not be transformed and will be executed as-is. Please report this to the AutgoGraph team. When filing the bug, set the verbosity to 10 (on Linux, `export AUTOGRAPH_VERBOSITY=10`) and attach the full output. Cause: converting <bound method BatchNorm.call of <pixellib.instance.mask_rcnn.BatchNorm object at 0x7f79b51cfd50>>: AttributeError: module 'gast' has no attribute 'Str'\n",
      "WARNING:tensorflow:Entity <bound method BatchNorm.call of <pixellib.instance.mask_rcnn.BatchNorm object at 0x7f79b535e250>> could not be transformed and will be executed as-is. Please report this to the AutgoGraph team. When filing the bug, set the verbosity to 10 (on Linux, `export AUTOGRAPH_VERBOSITY=10`) and attach the full output. Cause: converting <bound method BatchNorm.call of <pixellib.instance.mask_rcnn.BatchNorm object at 0x7f79b535e250>>: AttributeError: module 'gast' has no attribute 'Str'\n"
     ]
    },
    {
     "name": "stderr",
     "output_type": "stream",
     "text": [
      "11/27/2022 23:41:17 - WARNING - tensorflow -   Entity <bound method BatchNorm.call of <pixellib.instance.mask_rcnn.BatchNorm object at 0x7f79b535e250>> could not be transformed and will be executed as-is. Please report this to the AutgoGraph team. When filing the bug, set the verbosity to 10 (on Linux, `export AUTOGRAPH_VERBOSITY=10`) and attach the full output. Cause: converting <bound method BatchNorm.call of <pixellib.instance.mask_rcnn.BatchNorm object at 0x7f79b535e250>>: AttributeError: module 'gast' has no attribute 'Str'\n"
     ]
    },
    {
     "name": "stdout",
     "output_type": "stream",
     "text": [
      "WARNING: Entity <bound method BatchNorm.call of <pixellib.instance.mask_rcnn.BatchNorm object at 0x7f79b535e250>> could not be transformed and will be executed as-is. Please report this to the AutgoGraph team. When filing the bug, set the verbosity to 10 (on Linux, `export AUTOGRAPH_VERBOSITY=10`) and attach the full output. Cause: converting <bound method BatchNorm.call of <pixellib.instance.mask_rcnn.BatchNorm object at 0x7f79b535e250>>: AttributeError: module 'gast' has no attribute 'Str'\n",
      "WARNING:tensorflow:Entity <bound method BatchNorm.call of <pixellib.instance.mask_rcnn.BatchNorm object at 0x7f79b51b8590>> could not be transformed and will be executed as-is. Please report this to the AutgoGraph team. When filing the bug, set the verbosity to 10 (on Linux, `export AUTOGRAPH_VERBOSITY=10`) and attach the full output. Cause: converting <bound method BatchNorm.call of <pixellib.instance.mask_rcnn.BatchNorm object at 0x7f79b51b8590>>: AttributeError: module 'gast' has no attribute 'Str'\n"
     ]
    },
    {
     "name": "stderr",
     "output_type": "stream",
     "text": [
      "11/27/2022 23:41:17 - WARNING - tensorflow -   Entity <bound method BatchNorm.call of <pixellib.instance.mask_rcnn.BatchNorm object at 0x7f79b51b8590>> could not be transformed and will be executed as-is. Please report this to the AutgoGraph team. When filing the bug, set the verbosity to 10 (on Linux, `export AUTOGRAPH_VERBOSITY=10`) and attach the full output. Cause: converting <bound method BatchNorm.call of <pixellib.instance.mask_rcnn.BatchNorm object at 0x7f79b51b8590>>: AttributeError: module 'gast' has no attribute 'Str'\n"
     ]
    },
    {
     "name": "stdout",
     "output_type": "stream",
     "text": [
      "WARNING: Entity <bound method BatchNorm.call of <pixellib.instance.mask_rcnn.BatchNorm object at 0x7f79b51b8590>> could not be transformed and will be executed as-is. Please report this to the AutgoGraph team. When filing the bug, set the verbosity to 10 (on Linux, `export AUTOGRAPH_VERBOSITY=10`) and attach the full output. Cause: converting <bound method BatchNorm.call of <pixellib.instance.mask_rcnn.BatchNorm object at 0x7f79b51b8590>>: AttributeError: module 'gast' has no attribute 'Str'\n",
      "WARNING:tensorflow:Entity <bound method BatchNorm.call of <pixellib.instance.mask_rcnn.BatchNorm object at 0x7f79b53dc490>> could not be transformed and will be executed as-is. Please report this to the AutgoGraph team. When filing the bug, set the verbosity to 10 (on Linux, `export AUTOGRAPH_VERBOSITY=10`) and attach the full output. Cause: converting <bound method BatchNorm.call of <pixellib.instance.mask_rcnn.BatchNorm object at 0x7f79b53dc490>>: AttributeError: module 'gast' has no attribute 'Str'\n"
     ]
    },
    {
     "name": "stderr",
     "output_type": "stream",
     "text": [
      "11/27/2022 23:41:17 - WARNING - tensorflow -   Entity <bound method BatchNorm.call of <pixellib.instance.mask_rcnn.BatchNorm object at 0x7f79b53dc490>> could not be transformed and will be executed as-is. Please report this to the AutgoGraph team. When filing the bug, set the verbosity to 10 (on Linux, `export AUTOGRAPH_VERBOSITY=10`) and attach the full output. Cause: converting <bound method BatchNorm.call of <pixellib.instance.mask_rcnn.BatchNorm object at 0x7f79b53dc490>>: AttributeError: module 'gast' has no attribute 'Str'\n"
     ]
    },
    {
     "name": "stdout",
     "output_type": "stream",
     "text": [
      "WARNING: Entity <bound method BatchNorm.call of <pixellib.instance.mask_rcnn.BatchNorm object at 0x7f79b53dc490>> could not be transformed and will be executed as-is. Please report this to the AutgoGraph team. When filing the bug, set the verbosity to 10 (on Linux, `export AUTOGRAPH_VERBOSITY=10`) and attach the full output. Cause: converting <bound method BatchNorm.call of <pixellib.instance.mask_rcnn.BatchNorm object at 0x7f79b53dc490>>: AttributeError: module 'gast' has no attribute 'Str'\n",
      "WARNING:tensorflow:Entity <bound method BatchNorm.call of <pixellib.instance.mask_rcnn.BatchNorm object at 0x7f79b545db50>> could not be transformed and will be executed as-is. Please report this to the AutgoGraph team. When filing the bug, set the verbosity to 10 (on Linux, `export AUTOGRAPH_VERBOSITY=10`) and attach the full output. Cause: converting <bound method BatchNorm.call of <pixellib.instance.mask_rcnn.BatchNorm object at 0x7f79b545db50>>: AttributeError: module 'gast' has no attribute 'Str'\n"
     ]
    },
    {
     "name": "stderr",
     "output_type": "stream",
     "text": [
      "11/27/2022 23:41:17 - WARNING - tensorflow -   Entity <bound method BatchNorm.call of <pixellib.instance.mask_rcnn.BatchNorm object at 0x7f79b545db50>> could not be transformed and will be executed as-is. Please report this to the AutgoGraph team. When filing the bug, set the verbosity to 10 (on Linux, `export AUTOGRAPH_VERBOSITY=10`) and attach the full output. Cause: converting <bound method BatchNorm.call of <pixellib.instance.mask_rcnn.BatchNorm object at 0x7f79b545db50>>: AttributeError: module 'gast' has no attribute 'Str'\n"
     ]
    },
    {
     "name": "stdout",
     "output_type": "stream",
     "text": [
      "WARNING: Entity <bound method BatchNorm.call of <pixellib.instance.mask_rcnn.BatchNorm object at 0x7f79b545db50>> could not be transformed and will be executed as-is. Please report this to the AutgoGraph team. When filing the bug, set the verbosity to 10 (on Linux, `export AUTOGRAPH_VERBOSITY=10`) and attach the full output. Cause: converting <bound method BatchNorm.call of <pixellib.instance.mask_rcnn.BatchNorm object at 0x7f79b545db50>>: AttributeError: module 'gast' has no attribute 'Str'\n",
      "WARNING:tensorflow:Entity <bound method BatchNorm.call of <pixellib.instance.mask_rcnn.BatchNorm object at 0x7f79b54eb510>> could not be transformed and will be executed as-is. Please report this to the AutgoGraph team. When filing the bug, set the verbosity to 10 (on Linux, `export AUTOGRAPH_VERBOSITY=10`) and attach the full output. Cause: converting <bound method BatchNorm.call of <pixellib.instance.mask_rcnn.BatchNorm object at 0x7f79b54eb510>>: AttributeError: module 'gast' has no attribute 'Str'\n"
     ]
    },
    {
     "name": "stderr",
     "output_type": "stream",
     "text": [
      "11/27/2022 23:41:17 - WARNING - tensorflow -   Entity <bound method BatchNorm.call of <pixellib.instance.mask_rcnn.BatchNorm object at 0x7f79b54eb510>> could not be transformed and will be executed as-is. Please report this to the AutgoGraph team. When filing the bug, set the verbosity to 10 (on Linux, `export AUTOGRAPH_VERBOSITY=10`) and attach the full output. Cause: converting <bound method BatchNorm.call of <pixellib.instance.mask_rcnn.BatchNorm object at 0x7f79b54eb510>>: AttributeError: module 'gast' has no attribute 'Str'\n"
     ]
    },
    {
     "name": "stdout",
     "output_type": "stream",
     "text": [
      "WARNING: Entity <bound method BatchNorm.call of <pixellib.instance.mask_rcnn.BatchNorm object at 0x7f79b54eb510>> could not be transformed and will be executed as-is. Please report this to the AutgoGraph team. When filing the bug, set the verbosity to 10 (on Linux, `export AUTOGRAPH_VERBOSITY=10`) and attach the full output. Cause: converting <bound method BatchNorm.call of <pixellib.instance.mask_rcnn.BatchNorm object at 0x7f79b54eb510>>: AttributeError: module 'gast' has no attribute 'Str'\n",
      "WARNING:tensorflow:Entity <bound method BatchNorm.call of <pixellib.instance.mask_rcnn.BatchNorm object at 0x7f79b55d6510>> could not be transformed and will be executed as-is. Please report this to the AutgoGraph team. When filing the bug, set the verbosity to 10 (on Linux, `export AUTOGRAPH_VERBOSITY=10`) and attach the full output. Cause: converting <bound method BatchNorm.call of <pixellib.instance.mask_rcnn.BatchNorm object at 0x7f79b55d6510>>: AttributeError: module 'gast' has no attribute 'Str'\n"
     ]
    },
    {
     "name": "stderr",
     "output_type": "stream",
     "text": [
      "11/27/2022 23:41:17 - WARNING - tensorflow -   Entity <bound method BatchNorm.call of <pixellib.instance.mask_rcnn.BatchNorm object at 0x7f79b55d6510>> could not be transformed and will be executed as-is. Please report this to the AutgoGraph team. When filing the bug, set the verbosity to 10 (on Linux, `export AUTOGRAPH_VERBOSITY=10`) and attach the full output. Cause: converting <bound method BatchNorm.call of <pixellib.instance.mask_rcnn.BatchNorm object at 0x7f79b55d6510>>: AttributeError: module 'gast' has no attribute 'Str'\n"
     ]
    },
    {
     "name": "stdout",
     "output_type": "stream",
     "text": [
      "WARNING: Entity <bound method BatchNorm.call of <pixellib.instance.mask_rcnn.BatchNorm object at 0x7f79b55d6510>> could not be transformed and will be executed as-is. Please report this to the AutgoGraph team. When filing the bug, set the verbosity to 10 (on Linux, `export AUTOGRAPH_VERBOSITY=10`) and attach the full output. Cause: converting <bound method BatchNorm.call of <pixellib.instance.mask_rcnn.BatchNorm object at 0x7f79b55d6510>>: AttributeError: module 'gast' has no attribute 'Str'\n",
      "WARNING:tensorflow:Entity <bound method BatchNorm.call of <pixellib.instance.mask_rcnn.BatchNorm object at 0x7f79b56517d0>> could not be transformed and will be executed as-is. Please report this to the AutgoGraph team. When filing the bug, set the verbosity to 10 (on Linux, `export AUTOGRAPH_VERBOSITY=10`) and attach the full output. Cause: converting <bound method BatchNorm.call of <pixellib.instance.mask_rcnn.BatchNorm object at 0x7f79b56517d0>>: AttributeError: module 'gast' has no attribute 'Str'\n"
     ]
    },
    {
     "name": "stderr",
     "output_type": "stream",
     "text": [
      "11/27/2022 23:41:17 - WARNING - tensorflow -   Entity <bound method BatchNorm.call of <pixellib.instance.mask_rcnn.BatchNorm object at 0x7f79b56517d0>> could not be transformed and will be executed as-is. Please report this to the AutgoGraph team. When filing the bug, set the verbosity to 10 (on Linux, `export AUTOGRAPH_VERBOSITY=10`) and attach the full output. Cause: converting <bound method BatchNorm.call of <pixellib.instance.mask_rcnn.BatchNorm object at 0x7f79b56517d0>>: AttributeError: module 'gast' has no attribute 'Str'\n"
     ]
    },
    {
     "name": "stdout",
     "output_type": "stream",
     "text": [
      "WARNING: Entity <bound method BatchNorm.call of <pixellib.instance.mask_rcnn.BatchNorm object at 0x7f79b56517d0>> could not be transformed and will be executed as-is. Please report this to the AutgoGraph team. When filing the bug, set the verbosity to 10 (on Linux, `export AUTOGRAPH_VERBOSITY=10`) and attach the full output. Cause: converting <bound method BatchNorm.call of <pixellib.instance.mask_rcnn.BatchNorm object at 0x7f79b56517d0>>: AttributeError: module 'gast' has no attribute 'Str'\n",
      "WARNING:tensorflow:Entity <bound method BatchNorm.call of <pixellib.instance.mask_rcnn.BatchNorm object at 0x7f79b56ede50>> could not be transformed and will be executed as-is. Please report this to the AutgoGraph team. When filing the bug, set the verbosity to 10 (on Linux, `export AUTOGRAPH_VERBOSITY=10`) and attach the full output. Cause: converting <bound method BatchNorm.call of <pixellib.instance.mask_rcnn.BatchNorm object at 0x7f79b56ede50>>: AttributeError: module 'gast' has no attribute 'Str'\n"
     ]
    },
    {
     "name": "stderr",
     "output_type": "stream",
     "text": [
      "11/27/2022 23:41:17 - WARNING - tensorflow -   Entity <bound method BatchNorm.call of <pixellib.instance.mask_rcnn.BatchNorm object at 0x7f79b56ede50>> could not be transformed and will be executed as-is. Please report this to the AutgoGraph team. When filing the bug, set the verbosity to 10 (on Linux, `export AUTOGRAPH_VERBOSITY=10`) and attach the full output. Cause: converting <bound method BatchNorm.call of <pixellib.instance.mask_rcnn.BatchNorm object at 0x7f79b56ede50>>: AttributeError: module 'gast' has no attribute 'Str'\n"
     ]
    },
    {
     "name": "stdout",
     "output_type": "stream",
     "text": [
      "WARNING: Entity <bound method BatchNorm.call of <pixellib.instance.mask_rcnn.BatchNorm object at 0x7f79b56ede50>> could not be transformed and will be executed as-is. Please report this to the AutgoGraph team. When filing the bug, set the verbosity to 10 (on Linux, `export AUTOGRAPH_VERBOSITY=10`) and attach the full output. Cause: converting <bound method BatchNorm.call of <pixellib.instance.mask_rcnn.BatchNorm object at 0x7f79b56ede50>>: AttributeError: module 'gast' has no attribute 'Str'\n",
      "WARNING:tensorflow:Entity <bound method BatchNorm.call of <pixellib.instance.mask_rcnn.BatchNorm object at 0x7f79b5753c10>> could not be transformed and will be executed as-is. Please report this to the AutgoGraph team. When filing the bug, set the verbosity to 10 (on Linux, `export AUTOGRAPH_VERBOSITY=10`) and attach the full output. Cause: converting <bound method BatchNorm.call of <pixellib.instance.mask_rcnn.BatchNorm object at 0x7f79b5753c10>>: AttributeError: module 'gast' has no attribute 'Str'\n"
     ]
    },
    {
     "name": "stderr",
     "output_type": "stream",
     "text": [
      "11/27/2022 23:41:17 - WARNING - tensorflow -   Entity <bound method BatchNorm.call of <pixellib.instance.mask_rcnn.BatchNorm object at 0x7f79b5753c10>> could not be transformed and will be executed as-is. Please report this to the AutgoGraph team. When filing the bug, set the verbosity to 10 (on Linux, `export AUTOGRAPH_VERBOSITY=10`) and attach the full output. Cause: converting <bound method BatchNorm.call of <pixellib.instance.mask_rcnn.BatchNorm object at 0x7f79b5753c10>>: AttributeError: module 'gast' has no attribute 'Str'\n"
     ]
    },
    {
     "name": "stdout",
     "output_type": "stream",
     "text": [
      "WARNING: Entity <bound method BatchNorm.call of <pixellib.instance.mask_rcnn.BatchNorm object at 0x7f79b5753c10>> could not be transformed and will be executed as-is. Please report this to the AutgoGraph team. When filing the bug, set the verbosity to 10 (on Linux, `export AUTOGRAPH_VERBOSITY=10`) and attach the full output. Cause: converting <bound method BatchNorm.call of <pixellib.instance.mask_rcnn.BatchNorm object at 0x7f79b5753c10>>: AttributeError: module 'gast' has no attribute 'Str'\n",
      "WARNING:tensorflow:Entity <bound method BatchNorm.call of <pixellib.instance.mask_rcnn.BatchNorm object at 0x7f79b566af10>> could not be transformed and will be executed as-is. Please report this to the AutgoGraph team. When filing the bug, set the verbosity to 10 (on Linux, `export AUTOGRAPH_VERBOSITY=10`) and attach the full output. Cause: converting <bound method BatchNorm.call of <pixellib.instance.mask_rcnn.BatchNorm object at 0x7f79b566af10>>: AttributeError: module 'gast' has no attribute 'Str'\n"
     ]
    },
    {
     "name": "stderr",
     "output_type": "stream",
     "text": [
      "11/27/2022 23:41:17 - WARNING - tensorflow -   Entity <bound method BatchNorm.call of <pixellib.instance.mask_rcnn.BatchNorm object at 0x7f79b566af10>> could not be transformed and will be executed as-is. Please report this to the AutgoGraph team. When filing the bug, set the verbosity to 10 (on Linux, `export AUTOGRAPH_VERBOSITY=10`) and attach the full output. Cause: converting <bound method BatchNorm.call of <pixellib.instance.mask_rcnn.BatchNorm object at 0x7f79b566af10>>: AttributeError: module 'gast' has no attribute 'Str'\n"
     ]
    },
    {
     "name": "stdout",
     "output_type": "stream",
     "text": [
      "WARNING: Entity <bound method BatchNorm.call of <pixellib.instance.mask_rcnn.BatchNorm object at 0x7f79b566af10>> could not be transformed and will be executed as-is. Please report this to the AutgoGraph team. When filing the bug, set the verbosity to 10 (on Linux, `export AUTOGRAPH_VERBOSITY=10`) and attach the full output. Cause: converting <bound method BatchNorm.call of <pixellib.instance.mask_rcnn.BatchNorm object at 0x7f79b566af10>>: AttributeError: module 'gast' has no attribute 'Str'\n",
      "WARNING:tensorflow:Entity <bound method BatchNorm.call of <pixellib.instance.mask_rcnn.BatchNorm object at 0x7f79b5886550>> could not be transformed and will be executed as-is. Please report this to the AutgoGraph team. When filing the bug, set the verbosity to 10 (on Linux, `export AUTOGRAPH_VERBOSITY=10`) and attach the full output. Cause: converting <bound method BatchNorm.call of <pixellib.instance.mask_rcnn.BatchNorm object at 0x7f79b5886550>>: AttributeError: module 'gast' has no attribute 'Str'\n"
     ]
    },
    {
     "name": "stderr",
     "output_type": "stream",
     "text": [
      "11/27/2022 23:41:17 - WARNING - tensorflow -   Entity <bound method BatchNorm.call of <pixellib.instance.mask_rcnn.BatchNorm object at 0x7f79b5886550>> could not be transformed and will be executed as-is. Please report this to the AutgoGraph team. When filing the bug, set the verbosity to 10 (on Linux, `export AUTOGRAPH_VERBOSITY=10`) and attach the full output. Cause: converting <bound method BatchNorm.call of <pixellib.instance.mask_rcnn.BatchNorm object at 0x7f79b5886550>>: AttributeError: module 'gast' has no attribute 'Str'\n"
     ]
    },
    {
     "name": "stdout",
     "output_type": "stream",
     "text": [
      "WARNING: Entity <bound method BatchNorm.call of <pixellib.instance.mask_rcnn.BatchNorm object at 0x7f79b5886550>> could not be transformed and will be executed as-is. Please report this to the AutgoGraph team. When filing the bug, set the verbosity to 10 (on Linux, `export AUTOGRAPH_VERBOSITY=10`) and attach the full output. Cause: converting <bound method BatchNorm.call of <pixellib.instance.mask_rcnn.BatchNorm object at 0x7f79b5886550>>: AttributeError: module 'gast' has no attribute 'Str'\n",
      "WARNING:tensorflow:Entity <bound method BatchNorm.call of <pixellib.instance.mask_rcnn.BatchNorm object at 0x7f79b5878f50>> could not be transformed and will be executed as-is. Please report this to the AutgoGraph team. When filing the bug, set the verbosity to 10 (on Linux, `export AUTOGRAPH_VERBOSITY=10`) and attach the full output. Cause: converting <bound method BatchNorm.call of <pixellib.instance.mask_rcnn.BatchNorm object at 0x7f79b5878f50>>: AttributeError: module 'gast' has no attribute 'Str'\n"
     ]
    },
    {
     "name": "stderr",
     "output_type": "stream",
     "text": [
      "11/27/2022 23:41:17 - WARNING - tensorflow -   Entity <bound method BatchNorm.call of <pixellib.instance.mask_rcnn.BatchNorm object at 0x7f79b5878f50>> could not be transformed and will be executed as-is. Please report this to the AutgoGraph team. When filing the bug, set the verbosity to 10 (on Linux, `export AUTOGRAPH_VERBOSITY=10`) and attach the full output. Cause: converting <bound method BatchNorm.call of <pixellib.instance.mask_rcnn.BatchNorm object at 0x7f79b5878f50>>: AttributeError: module 'gast' has no attribute 'Str'\n"
     ]
    },
    {
     "name": "stdout",
     "output_type": "stream",
     "text": [
      "WARNING: Entity <bound method BatchNorm.call of <pixellib.instance.mask_rcnn.BatchNorm object at 0x7f79b5878f50>> could not be transformed and will be executed as-is. Please report this to the AutgoGraph team. When filing the bug, set the verbosity to 10 (on Linux, `export AUTOGRAPH_VERBOSITY=10`) and attach the full output. Cause: converting <bound method BatchNorm.call of <pixellib.instance.mask_rcnn.BatchNorm object at 0x7f79b5878f50>>: AttributeError: module 'gast' has no attribute 'Str'\n",
      "WARNING:tensorflow:Entity <bound method BatchNorm.call of <pixellib.instance.mask_rcnn.BatchNorm object at 0x7f79b590b390>> could not be transformed and will be executed as-is. Please report this to the AutgoGraph team. When filing the bug, set the verbosity to 10 (on Linux, `export AUTOGRAPH_VERBOSITY=10`) and attach the full output. Cause: converting <bound method BatchNorm.call of <pixellib.instance.mask_rcnn.BatchNorm object at 0x7f79b590b390>>: AttributeError: module 'gast' has no attribute 'Str'\n"
     ]
    },
    {
     "name": "stderr",
     "output_type": "stream",
     "text": [
      "11/27/2022 23:41:18 - WARNING - tensorflow -   Entity <bound method BatchNorm.call of <pixellib.instance.mask_rcnn.BatchNorm object at 0x7f79b590b390>> could not be transformed and will be executed as-is. Please report this to the AutgoGraph team. When filing the bug, set the verbosity to 10 (on Linux, `export AUTOGRAPH_VERBOSITY=10`) and attach the full output. Cause: converting <bound method BatchNorm.call of <pixellib.instance.mask_rcnn.BatchNorm object at 0x7f79b590b390>>: AttributeError: module 'gast' has no attribute 'Str'\n"
     ]
    },
    {
     "name": "stdout",
     "output_type": "stream",
     "text": [
      "WARNING: Entity <bound method BatchNorm.call of <pixellib.instance.mask_rcnn.BatchNorm object at 0x7f79b590b390>> could not be transformed and will be executed as-is. Please report this to the AutgoGraph team. When filing the bug, set the verbosity to 10 (on Linux, `export AUTOGRAPH_VERBOSITY=10`) and attach the full output. Cause: converting <bound method BatchNorm.call of <pixellib.instance.mask_rcnn.BatchNorm object at 0x7f79b590b390>>: AttributeError: module 'gast' has no attribute 'Str'\n",
      "WARNING:tensorflow:Entity <bound method BatchNorm.call of <pixellib.instance.mask_rcnn.BatchNorm object at 0x7f79b598ec50>> could not be transformed and will be executed as-is. Please report this to the AutgoGraph team. When filing the bug, set the verbosity to 10 (on Linux, `export AUTOGRAPH_VERBOSITY=10`) and attach the full output. Cause: converting <bound method BatchNorm.call of <pixellib.instance.mask_rcnn.BatchNorm object at 0x7f79b598ec50>>: AttributeError: module 'gast' has no attribute 'Str'\n"
     ]
    },
    {
     "name": "stderr",
     "output_type": "stream",
     "text": [
      "11/27/2022 23:41:18 - WARNING - tensorflow -   Entity <bound method BatchNorm.call of <pixellib.instance.mask_rcnn.BatchNorm object at 0x7f79b598ec50>> could not be transformed and will be executed as-is. Please report this to the AutgoGraph team. When filing the bug, set the verbosity to 10 (on Linux, `export AUTOGRAPH_VERBOSITY=10`) and attach the full output. Cause: converting <bound method BatchNorm.call of <pixellib.instance.mask_rcnn.BatchNorm object at 0x7f79b598ec50>>: AttributeError: module 'gast' has no attribute 'Str'\n"
     ]
    },
    {
     "name": "stdout",
     "output_type": "stream",
     "text": [
      "WARNING: Entity <bound method BatchNorm.call of <pixellib.instance.mask_rcnn.BatchNorm object at 0x7f79b598ec50>> could not be transformed and will be executed as-is. Please report this to the AutgoGraph team. When filing the bug, set the verbosity to 10 (on Linux, `export AUTOGRAPH_VERBOSITY=10`) and attach the full output. Cause: converting <bound method BatchNorm.call of <pixellib.instance.mask_rcnn.BatchNorm object at 0x7f79b598ec50>>: AttributeError: module 'gast' has no attribute 'Str'\n",
      "WARNING:tensorflow:Entity <bound method BatchNorm.call of <pixellib.instance.mask_rcnn.BatchNorm object at 0x7f79b5a2ca50>> could not be transformed and will be executed as-is. Please report this to the AutgoGraph team. When filing the bug, set the verbosity to 10 (on Linux, `export AUTOGRAPH_VERBOSITY=10`) and attach the full output. Cause: converting <bound method BatchNorm.call of <pixellib.instance.mask_rcnn.BatchNorm object at 0x7f79b5a2ca50>>: AttributeError: module 'gast' has no attribute 'Str'\n"
     ]
    },
    {
     "name": "stderr",
     "output_type": "stream",
     "text": [
      "11/27/2022 23:41:18 - WARNING - tensorflow -   Entity <bound method BatchNorm.call of <pixellib.instance.mask_rcnn.BatchNorm object at 0x7f79b5a2ca50>> could not be transformed and will be executed as-is. Please report this to the AutgoGraph team. When filing the bug, set the verbosity to 10 (on Linux, `export AUTOGRAPH_VERBOSITY=10`) and attach the full output. Cause: converting <bound method BatchNorm.call of <pixellib.instance.mask_rcnn.BatchNorm object at 0x7f79b5a2ca50>>: AttributeError: module 'gast' has no attribute 'Str'\n"
     ]
    },
    {
     "name": "stdout",
     "output_type": "stream",
     "text": [
      "WARNING: Entity <bound method BatchNorm.call of <pixellib.instance.mask_rcnn.BatchNorm object at 0x7f79b5a2ca50>> could not be transformed and will be executed as-is. Please report this to the AutgoGraph team. When filing the bug, set the verbosity to 10 (on Linux, `export AUTOGRAPH_VERBOSITY=10`) and attach the full output. Cause: converting <bound method BatchNorm.call of <pixellib.instance.mask_rcnn.BatchNorm object at 0x7f79b5a2ca50>>: AttributeError: module 'gast' has no attribute 'Str'\n",
      "WARNING:tensorflow:Entity <bound method BatchNorm.call of <pixellib.instance.mask_rcnn.BatchNorm object at 0x7f79b5ada410>> could not be transformed and will be executed as-is. Please report this to the AutgoGraph team. When filing the bug, set the verbosity to 10 (on Linux, `export AUTOGRAPH_VERBOSITY=10`) and attach the full output. Cause: converting <bound method BatchNorm.call of <pixellib.instance.mask_rcnn.BatchNorm object at 0x7f79b5ada410>>: AttributeError: module 'gast' has no attribute 'Str'\n"
     ]
    },
    {
     "name": "stderr",
     "output_type": "stream",
     "text": [
      "11/27/2022 23:41:18 - WARNING - tensorflow -   Entity <bound method BatchNorm.call of <pixellib.instance.mask_rcnn.BatchNorm object at 0x7f79b5ada410>> could not be transformed and will be executed as-is. Please report this to the AutgoGraph team. When filing the bug, set the verbosity to 10 (on Linux, `export AUTOGRAPH_VERBOSITY=10`) and attach the full output. Cause: converting <bound method BatchNorm.call of <pixellib.instance.mask_rcnn.BatchNorm object at 0x7f79b5ada410>>: AttributeError: module 'gast' has no attribute 'Str'\n"
     ]
    },
    {
     "name": "stdout",
     "output_type": "stream",
     "text": [
      "WARNING: Entity <bound method BatchNorm.call of <pixellib.instance.mask_rcnn.BatchNorm object at 0x7f79b5ada410>> could not be transformed and will be executed as-is. Please report this to the AutgoGraph team. When filing the bug, set the verbosity to 10 (on Linux, `export AUTOGRAPH_VERBOSITY=10`) and attach the full output. Cause: converting <bound method BatchNorm.call of <pixellib.instance.mask_rcnn.BatchNorm object at 0x7f79b5ada410>>: AttributeError: module 'gast' has no attribute 'Str'\n",
      "WARNING:tensorflow:Entity <bound method BatchNorm.call of <pixellib.instance.mask_rcnn.BatchNorm object at 0x7f79b5bd5490>> could not be transformed and will be executed as-is. Please report this to the AutgoGraph team. When filing the bug, set the verbosity to 10 (on Linux, `export AUTOGRAPH_VERBOSITY=10`) and attach the full output. Cause: converting <bound method BatchNorm.call of <pixellib.instance.mask_rcnn.BatchNorm object at 0x7f79b5bd5490>>: AttributeError: module 'gast' has no attribute 'Str'\n"
     ]
    },
    {
     "name": "stderr",
     "output_type": "stream",
     "text": [
      "11/27/2022 23:41:18 - WARNING - tensorflow -   Entity <bound method BatchNorm.call of <pixellib.instance.mask_rcnn.BatchNorm object at 0x7f79b5bd5490>> could not be transformed and will be executed as-is. Please report this to the AutgoGraph team. When filing the bug, set the verbosity to 10 (on Linux, `export AUTOGRAPH_VERBOSITY=10`) and attach the full output. Cause: converting <bound method BatchNorm.call of <pixellib.instance.mask_rcnn.BatchNorm object at 0x7f79b5bd5490>>: AttributeError: module 'gast' has no attribute 'Str'\n"
     ]
    },
    {
     "name": "stdout",
     "output_type": "stream",
     "text": [
      "WARNING: Entity <bound method BatchNorm.call of <pixellib.instance.mask_rcnn.BatchNorm object at 0x7f79b5bd5490>> could not be transformed and will be executed as-is. Please report this to the AutgoGraph team. When filing the bug, set the verbosity to 10 (on Linux, `export AUTOGRAPH_VERBOSITY=10`) and attach the full output. Cause: converting <bound method BatchNorm.call of <pixellib.instance.mask_rcnn.BatchNorm object at 0x7f79b5bd5490>>: AttributeError: module 'gast' has no attribute 'Str'\n",
      "WARNING:tensorflow:Entity <bound method BatchNorm.call of <pixellib.instance.mask_rcnn.BatchNorm object at 0x7f79b5c5ba10>> could not be transformed and will be executed as-is. Please report this to the AutgoGraph team. When filing the bug, set the verbosity to 10 (on Linux, `export AUTOGRAPH_VERBOSITY=10`) and attach the full output. Cause: converting <bound method BatchNorm.call of <pixellib.instance.mask_rcnn.BatchNorm object at 0x7f79b5c5ba10>>: AttributeError: module 'gast' has no attribute 'Str'\n"
     ]
    },
    {
     "name": "stderr",
     "output_type": "stream",
     "text": [
      "11/27/2022 23:41:18 - WARNING - tensorflow -   Entity <bound method BatchNorm.call of <pixellib.instance.mask_rcnn.BatchNorm object at 0x7f79b5c5ba10>> could not be transformed and will be executed as-is. Please report this to the AutgoGraph team. When filing the bug, set the verbosity to 10 (on Linux, `export AUTOGRAPH_VERBOSITY=10`) and attach the full output. Cause: converting <bound method BatchNorm.call of <pixellib.instance.mask_rcnn.BatchNorm object at 0x7f79b5c5ba10>>: AttributeError: module 'gast' has no attribute 'Str'\n"
     ]
    },
    {
     "name": "stdout",
     "output_type": "stream",
     "text": [
      "WARNING: Entity <bound method BatchNorm.call of <pixellib.instance.mask_rcnn.BatchNorm object at 0x7f79b5c5ba10>> could not be transformed and will be executed as-is. Please report this to the AutgoGraph team. When filing the bug, set the verbosity to 10 (on Linux, `export AUTOGRAPH_VERBOSITY=10`) and attach the full output. Cause: converting <bound method BatchNorm.call of <pixellib.instance.mask_rcnn.BatchNorm object at 0x7f79b5c5ba10>>: AttributeError: module 'gast' has no attribute 'Str'\n",
      "WARNING:tensorflow:Entity <bound method BatchNorm.call of <pixellib.instance.mask_rcnn.BatchNorm object at 0x7f79b5c74150>> could not be transformed and will be executed as-is. Please report this to the AutgoGraph team. When filing the bug, set the verbosity to 10 (on Linux, `export AUTOGRAPH_VERBOSITY=10`) and attach the full output. Cause: converting <bound method BatchNorm.call of <pixellib.instance.mask_rcnn.BatchNorm object at 0x7f79b5c74150>>: AttributeError: module 'gast' has no attribute 'Str'\n"
     ]
    },
    {
     "name": "stderr",
     "output_type": "stream",
     "text": [
      "11/27/2022 23:41:18 - WARNING - tensorflow -   Entity <bound method BatchNorm.call of <pixellib.instance.mask_rcnn.BatchNorm object at 0x7f79b5c74150>> could not be transformed and will be executed as-is. Please report this to the AutgoGraph team. When filing the bug, set the verbosity to 10 (on Linux, `export AUTOGRAPH_VERBOSITY=10`) and attach the full output. Cause: converting <bound method BatchNorm.call of <pixellib.instance.mask_rcnn.BatchNorm object at 0x7f79b5c74150>>: AttributeError: module 'gast' has no attribute 'Str'\n"
     ]
    },
    {
     "name": "stdout",
     "output_type": "stream",
     "text": [
      "WARNING: Entity <bound method BatchNorm.call of <pixellib.instance.mask_rcnn.BatchNorm object at 0x7f79b5c74150>> could not be transformed and will be executed as-is. Please report this to the AutgoGraph team. When filing the bug, set the verbosity to 10 (on Linux, `export AUTOGRAPH_VERBOSITY=10`) and attach the full output. Cause: converting <bound method BatchNorm.call of <pixellib.instance.mask_rcnn.BatchNorm object at 0x7f79b5c74150>>: AttributeError: module 'gast' has no attribute 'Str'\n",
      "WARNING:tensorflow:Entity <bound method BatchNorm.call of <pixellib.instance.mask_rcnn.BatchNorm object at 0x7f79b5cf6210>> could not be transformed and will be executed as-is. Please report this to the AutgoGraph team. When filing the bug, set the verbosity to 10 (on Linux, `export AUTOGRAPH_VERBOSITY=10`) and attach the full output. Cause: converting <bound method BatchNorm.call of <pixellib.instance.mask_rcnn.BatchNorm object at 0x7f79b5cf6210>>: AttributeError: module 'gast' has no attribute 'Str'\n"
     ]
    },
    {
     "name": "stderr",
     "output_type": "stream",
     "text": [
      "11/27/2022 23:41:18 - WARNING - tensorflow -   Entity <bound method BatchNorm.call of <pixellib.instance.mask_rcnn.BatchNorm object at 0x7f79b5cf6210>> could not be transformed and will be executed as-is. Please report this to the AutgoGraph team. When filing the bug, set the verbosity to 10 (on Linux, `export AUTOGRAPH_VERBOSITY=10`) and attach the full output. Cause: converting <bound method BatchNorm.call of <pixellib.instance.mask_rcnn.BatchNorm object at 0x7f79b5cf6210>>: AttributeError: module 'gast' has no attribute 'Str'\n"
     ]
    },
    {
     "name": "stdout",
     "output_type": "stream",
     "text": [
      "WARNING: Entity <bound method BatchNorm.call of <pixellib.instance.mask_rcnn.BatchNorm object at 0x7f79b5cf6210>> could not be transformed and will be executed as-is. Please report this to the AutgoGraph team. When filing the bug, set the verbosity to 10 (on Linux, `export AUTOGRAPH_VERBOSITY=10`) and attach the full output. Cause: converting <bound method BatchNorm.call of <pixellib.instance.mask_rcnn.BatchNorm object at 0x7f79b5cf6210>>: AttributeError: module 'gast' has no attribute 'Str'\n",
      "WARNING:tensorflow:Entity <bound method BatchNorm.call of <pixellib.instance.mask_rcnn.BatchNorm object at 0x7f79b5d84710>> could not be transformed and will be executed as-is. Please report this to the AutgoGraph team. When filing the bug, set the verbosity to 10 (on Linux, `export AUTOGRAPH_VERBOSITY=10`) and attach the full output. Cause: converting <bound method BatchNorm.call of <pixellib.instance.mask_rcnn.BatchNorm object at 0x7f79b5d84710>>: AttributeError: module 'gast' has no attribute 'Str'\n"
     ]
    },
    {
     "name": "stderr",
     "output_type": "stream",
     "text": [
      "11/27/2022 23:41:18 - WARNING - tensorflow -   Entity <bound method BatchNorm.call of <pixellib.instance.mask_rcnn.BatchNorm object at 0x7f79b5d84710>> could not be transformed and will be executed as-is. Please report this to the AutgoGraph team. When filing the bug, set the verbosity to 10 (on Linux, `export AUTOGRAPH_VERBOSITY=10`) and attach the full output. Cause: converting <bound method BatchNorm.call of <pixellib.instance.mask_rcnn.BatchNorm object at 0x7f79b5d84710>>: AttributeError: module 'gast' has no attribute 'Str'\n"
     ]
    },
    {
     "name": "stdout",
     "output_type": "stream",
     "text": [
      "WARNING: Entity <bound method BatchNorm.call of <pixellib.instance.mask_rcnn.BatchNorm object at 0x7f79b5d84710>> could not be transformed and will be executed as-is. Please report this to the AutgoGraph team. When filing the bug, set the verbosity to 10 (on Linux, `export AUTOGRAPH_VERBOSITY=10`) and attach the full output. Cause: converting <bound method BatchNorm.call of <pixellib.instance.mask_rcnn.BatchNorm object at 0x7f79b5d84710>>: AttributeError: module 'gast' has no attribute 'Str'\n",
      "WARNING:tensorflow:Entity <bound method BatchNorm.call of <pixellib.instance.mask_rcnn.BatchNorm object at 0x7f79b5dcd290>> could not be transformed and will be executed as-is. Please report this to the AutgoGraph team. When filing the bug, set the verbosity to 10 (on Linux, `export AUTOGRAPH_VERBOSITY=10`) and attach the full output. Cause: converting <bound method BatchNorm.call of <pixellib.instance.mask_rcnn.BatchNorm object at 0x7f79b5dcd290>>: AttributeError: module 'gast' has no attribute 'Str'\n"
     ]
    },
    {
     "name": "stderr",
     "output_type": "stream",
     "text": [
      "11/27/2022 23:41:18 - WARNING - tensorflow -   Entity <bound method BatchNorm.call of <pixellib.instance.mask_rcnn.BatchNorm object at 0x7f79b5dcd290>> could not be transformed and will be executed as-is. Please report this to the AutgoGraph team. When filing the bug, set the verbosity to 10 (on Linux, `export AUTOGRAPH_VERBOSITY=10`) and attach the full output. Cause: converting <bound method BatchNorm.call of <pixellib.instance.mask_rcnn.BatchNorm object at 0x7f79b5dcd290>>: AttributeError: module 'gast' has no attribute 'Str'\n"
     ]
    },
    {
     "name": "stdout",
     "output_type": "stream",
     "text": [
      "WARNING: Entity <bound method BatchNorm.call of <pixellib.instance.mask_rcnn.BatchNorm object at 0x7f79b5dcd290>> could not be transformed and will be executed as-is. Please report this to the AutgoGraph team. When filing the bug, set the verbosity to 10 (on Linux, `export AUTOGRAPH_VERBOSITY=10`) and attach the full output. Cause: converting <bound method BatchNorm.call of <pixellib.instance.mask_rcnn.BatchNorm object at 0x7f79b5dcd290>>: AttributeError: module 'gast' has no attribute 'Str'\n",
      "WARNING:tensorflow:Entity <bound method BatchNorm.call of <pixellib.instance.mask_rcnn.BatchNorm object at 0x7f79b6056c10>> could not be transformed and will be executed as-is. Please report this to the AutgoGraph team. When filing the bug, set the verbosity to 10 (on Linux, `export AUTOGRAPH_VERBOSITY=10`) and attach the full output. Cause: converting <bound method BatchNorm.call of <pixellib.instance.mask_rcnn.BatchNorm object at 0x7f79b6056c10>>: AttributeError: module 'gast' has no attribute 'Str'\n"
     ]
    },
    {
     "name": "stderr",
     "output_type": "stream",
     "text": [
      "11/27/2022 23:41:18 - WARNING - tensorflow -   Entity <bound method BatchNorm.call of <pixellib.instance.mask_rcnn.BatchNorm object at 0x7f79b6056c10>> could not be transformed and will be executed as-is. Please report this to the AutgoGraph team. When filing the bug, set the verbosity to 10 (on Linux, `export AUTOGRAPH_VERBOSITY=10`) and attach the full output. Cause: converting <bound method BatchNorm.call of <pixellib.instance.mask_rcnn.BatchNorm object at 0x7f79b6056c10>>: AttributeError: module 'gast' has no attribute 'Str'\n"
     ]
    },
    {
     "name": "stdout",
     "output_type": "stream",
     "text": [
      "WARNING: Entity <bound method BatchNorm.call of <pixellib.instance.mask_rcnn.BatchNorm object at 0x7f79b6056c10>> could not be transformed and will be executed as-is. Please report this to the AutgoGraph team. When filing the bug, set the verbosity to 10 (on Linux, `export AUTOGRAPH_VERBOSITY=10`) and attach the full output. Cause: converting <bound method BatchNorm.call of <pixellib.instance.mask_rcnn.BatchNorm object at 0x7f79b6056c10>>: AttributeError: module 'gast' has no attribute 'Str'\n",
      "WARNING:tensorflow:Entity <bound method BatchNorm.call of <pixellib.instance.mask_rcnn.BatchNorm object at 0x7f79b60f5250>> could not be transformed and will be executed as-is. Please report this to the AutgoGraph team. When filing the bug, set the verbosity to 10 (on Linux, `export AUTOGRAPH_VERBOSITY=10`) and attach the full output. Cause: converting <bound method BatchNorm.call of <pixellib.instance.mask_rcnn.BatchNorm object at 0x7f79b60f5250>>: AttributeError: module 'gast' has no attribute 'Str'\n"
     ]
    },
    {
     "name": "stderr",
     "output_type": "stream",
     "text": [
      "11/27/2022 23:41:19 - WARNING - tensorflow -   Entity <bound method BatchNorm.call of <pixellib.instance.mask_rcnn.BatchNorm object at 0x7f79b60f5250>> could not be transformed and will be executed as-is. Please report this to the AutgoGraph team. When filing the bug, set the verbosity to 10 (on Linux, `export AUTOGRAPH_VERBOSITY=10`) and attach the full output. Cause: converting <bound method BatchNorm.call of <pixellib.instance.mask_rcnn.BatchNorm object at 0x7f79b60f5250>>: AttributeError: module 'gast' has no attribute 'Str'\n"
     ]
    },
    {
     "name": "stdout",
     "output_type": "stream",
     "text": [
      "WARNING: Entity <bound method BatchNorm.call of <pixellib.instance.mask_rcnn.BatchNorm object at 0x7f79b60f5250>> could not be transformed and will be executed as-is. Please report this to the AutgoGraph team. When filing the bug, set the verbosity to 10 (on Linux, `export AUTOGRAPH_VERBOSITY=10`) and attach the full output. Cause: converting <bound method BatchNorm.call of <pixellib.instance.mask_rcnn.BatchNorm object at 0x7f79b60f5250>>: AttributeError: module 'gast' has no attribute 'Str'\n",
      "WARNING:tensorflow:Entity <bound method BatchNorm.call of <pixellib.instance.mask_rcnn.BatchNorm object at 0x7f79b60fd950>> could not be transformed and will be executed as-is. Please report this to the AutgoGraph team. When filing the bug, set the verbosity to 10 (on Linux, `export AUTOGRAPH_VERBOSITY=10`) and attach the full output. Cause: converting <bound method BatchNorm.call of <pixellib.instance.mask_rcnn.BatchNorm object at 0x7f79b60fd950>>: AttributeError: module 'gast' has no attribute 'Str'\n"
     ]
    },
    {
     "name": "stderr",
     "output_type": "stream",
     "text": [
      "11/27/2022 23:41:19 - WARNING - tensorflow -   Entity <bound method BatchNorm.call of <pixellib.instance.mask_rcnn.BatchNorm object at 0x7f79b60fd950>> could not be transformed and will be executed as-is. Please report this to the AutgoGraph team. When filing the bug, set the verbosity to 10 (on Linux, `export AUTOGRAPH_VERBOSITY=10`) and attach the full output. Cause: converting <bound method BatchNorm.call of <pixellib.instance.mask_rcnn.BatchNorm object at 0x7f79b60fd950>>: AttributeError: module 'gast' has no attribute 'Str'\n"
     ]
    },
    {
     "name": "stdout",
     "output_type": "stream",
     "text": [
      "WARNING: Entity <bound method BatchNorm.call of <pixellib.instance.mask_rcnn.BatchNorm object at 0x7f79b60fd950>> could not be transformed and will be executed as-is. Please report this to the AutgoGraph team. When filing the bug, set the verbosity to 10 (on Linux, `export AUTOGRAPH_VERBOSITY=10`) and attach the full output. Cause: converting <bound method BatchNorm.call of <pixellib.instance.mask_rcnn.BatchNorm object at 0x7f79b60fd950>>: AttributeError: module 'gast' has no attribute 'Str'\n",
      "WARNING:tensorflow:Entity <bound method BatchNorm.call of <pixellib.instance.mask_rcnn.BatchNorm object at 0x7f79b61d1f50>> could not be transformed and will be executed as-is. Please report this to the AutgoGraph team. When filing the bug, set the verbosity to 10 (on Linux, `export AUTOGRAPH_VERBOSITY=10`) and attach the full output. Cause: converting <bound method BatchNorm.call of <pixellib.instance.mask_rcnn.BatchNorm object at 0x7f79b61d1f50>>: AttributeError: module 'gast' has no attribute 'Str'\n"
     ]
    },
    {
     "name": "stderr",
     "output_type": "stream",
     "text": [
      "11/27/2022 23:41:19 - WARNING - tensorflow -   Entity <bound method BatchNorm.call of <pixellib.instance.mask_rcnn.BatchNorm object at 0x7f79b61d1f50>> could not be transformed and will be executed as-is. Please report this to the AutgoGraph team. When filing the bug, set the verbosity to 10 (on Linux, `export AUTOGRAPH_VERBOSITY=10`) and attach the full output. Cause: converting <bound method BatchNorm.call of <pixellib.instance.mask_rcnn.BatchNorm object at 0x7f79b61d1f50>>: AttributeError: module 'gast' has no attribute 'Str'\n"
     ]
    },
    {
     "name": "stdout",
     "output_type": "stream",
     "text": [
      "WARNING: Entity <bound method BatchNorm.call of <pixellib.instance.mask_rcnn.BatchNorm object at 0x7f79b61d1f50>> could not be transformed and will be executed as-is. Please report this to the AutgoGraph team. When filing the bug, set the verbosity to 10 (on Linux, `export AUTOGRAPH_VERBOSITY=10`) and attach the full output. Cause: converting <bound method BatchNorm.call of <pixellib.instance.mask_rcnn.BatchNorm object at 0x7f79b61d1f50>>: AttributeError: module 'gast' has no attribute 'Str'\n",
      "WARNING:tensorflow:Entity <bound method BatchNorm.call of <pixellib.instance.mask_rcnn.BatchNorm object at 0x7f79b6294890>> could not be transformed and will be executed as-is. Please report this to the AutgoGraph team. When filing the bug, set the verbosity to 10 (on Linux, `export AUTOGRAPH_VERBOSITY=10`) and attach the full output. Cause: converting <bound method BatchNorm.call of <pixellib.instance.mask_rcnn.BatchNorm object at 0x7f79b6294890>>: AttributeError: module 'gast' has no attribute 'Str'\n"
     ]
    },
    {
     "name": "stderr",
     "output_type": "stream",
     "text": [
      "11/27/2022 23:41:19 - WARNING - tensorflow -   Entity <bound method BatchNorm.call of <pixellib.instance.mask_rcnn.BatchNorm object at 0x7f79b6294890>> could not be transformed and will be executed as-is. Please report this to the AutgoGraph team. When filing the bug, set the verbosity to 10 (on Linux, `export AUTOGRAPH_VERBOSITY=10`) and attach the full output. Cause: converting <bound method BatchNorm.call of <pixellib.instance.mask_rcnn.BatchNorm object at 0x7f79b6294890>>: AttributeError: module 'gast' has no attribute 'Str'\n"
     ]
    },
    {
     "name": "stdout",
     "output_type": "stream",
     "text": [
      "WARNING: Entity <bound method BatchNorm.call of <pixellib.instance.mask_rcnn.BatchNorm object at 0x7f79b6294890>> could not be transformed and will be executed as-is. Please report this to the AutgoGraph team. When filing the bug, set the verbosity to 10 (on Linux, `export AUTOGRAPH_VERBOSITY=10`) and attach the full output. Cause: converting <bound method BatchNorm.call of <pixellib.instance.mask_rcnn.BatchNorm object at 0x7f79b6294890>>: AttributeError: module 'gast' has no attribute 'Str'\n",
      "WARNING:tensorflow:Entity <bound method BatchNorm.call of <pixellib.instance.mask_rcnn.BatchNorm object at 0x7f79b6294e90>> could not be transformed and will be executed as-is. Please report this to the AutgoGraph team. When filing the bug, set the verbosity to 10 (on Linux, `export AUTOGRAPH_VERBOSITY=10`) and attach the full output. Cause: converting <bound method BatchNorm.call of <pixellib.instance.mask_rcnn.BatchNorm object at 0x7f79b6294e90>>: AttributeError: module 'gast' has no attribute 'Str'\n"
     ]
    },
    {
     "name": "stderr",
     "output_type": "stream",
     "text": [
      "11/27/2022 23:41:19 - WARNING - tensorflow -   Entity <bound method BatchNorm.call of <pixellib.instance.mask_rcnn.BatchNorm object at 0x7f79b6294e90>> could not be transformed and will be executed as-is. Please report this to the AutgoGraph team. When filing the bug, set the verbosity to 10 (on Linux, `export AUTOGRAPH_VERBOSITY=10`) and attach the full output. Cause: converting <bound method BatchNorm.call of <pixellib.instance.mask_rcnn.BatchNorm object at 0x7f79b6294e90>>: AttributeError: module 'gast' has no attribute 'Str'\n"
     ]
    },
    {
     "name": "stdout",
     "output_type": "stream",
     "text": [
      "WARNING: Entity <bound method BatchNorm.call of <pixellib.instance.mask_rcnn.BatchNorm object at 0x7f79b6294e90>> could not be transformed and will be executed as-is. Please report this to the AutgoGraph team. When filing the bug, set the verbosity to 10 (on Linux, `export AUTOGRAPH_VERBOSITY=10`) and attach the full output. Cause: converting <bound method BatchNorm.call of <pixellib.instance.mask_rcnn.BatchNorm object at 0x7f79b6294e90>>: AttributeError: module 'gast' has no attribute 'Str'\n",
      "WARNING:tensorflow:Entity <bound method BatchNorm.call of <pixellib.instance.mask_rcnn.BatchNorm object at 0x7f79b63afb50>> could not be transformed and will be executed as-is. Please report this to the AutgoGraph team. When filing the bug, set the verbosity to 10 (on Linux, `export AUTOGRAPH_VERBOSITY=10`) and attach the full output. Cause: converting <bound method BatchNorm.call of <pixellib.instance.mask_rcnn.BatchNorm object at 0x7f79b63afb50>>: AttributeError: module 'gast' has no attribute 'Str'\n"
     ]
    },
    {
     "name": "stderr",
     "output_type": "stream",
     "text": [
      "11/27/2022 23:41:19 - WARNING - tensorflow -   Entity <bound method BatchNorm.call of <pixellib.instance.mask_rcnn.BatchNorm object at 0x7f79b63afb50>> could not be transformed and will be executed as-is. Please report this to the AutgoGraph team. When filing the bug, set the verbosity to 10 (on Linux, `export AUTOGRAPH_VERBOSITY=10`) and attach the full output. Cause: converting <bound method BatchNorm.call of <pixellib.instance.mask_rcnn.BatchNorm object at 0x7f79b63afb50>>: AttributeError: module 'gast' has no attribute 'Str'\n"
     ]
    },
    {
     "name": "stdout",
     "output_type": "stream",
     "text": [
      "WARNING: Entity <bound method BatchNorm.call of <pixellib.instance.mask_rcnn.BatchNorm object at 0x7f79b63afb50>> could not be transformed and will be executed as-is. Please report this to the AutgoGraph team. When filing the bug, set the verbosity to 10 (on Linux, `export AUTOGRAPH_VERBOSITY=10`) and attach the full output. Cause: converting <bound method BatchNorm.call of <pixellib.instance.mask_rcnn.BatchNorm object at 0x7f79b63afb50>>: AttributeError: module 'gast' has no attribute 'Str'\n",
      "WARNING:tensorflow:Entity <bound method BatchNorm.call of <pixellib.instance.mask_rcnn.BatchNorm object at 0x7f79b6458bd0>> could not be transformed and will be executed as-is. Please report this to the AutgoGraph team. When filing the bug, set the verbosity to 10 (on Linux, `export AUTOGRAPH_VERBOSITY=10`) and attach the full output. Cause: converting <bound method BatchNorm.call of <pixellib.instance.mask_rcnn.BatchNorm object at 0x7f79b6458bd0>>: AttributeError: module 'gast' has no attribute 'Str'\n"
     ]
    },
    {
     "name": "stderr",
     "output_type": "stream",
     "text": [
      "11/27/2022 23:41:19 - WARNING - tensorflow -   Entity <bound method BatchNorm.call of <pixellib.instance.mask_rcnn.BatchNorm object at 0x7f79b6458bd0>> could not be transformed and will be executed as-is. Please report this to the AutgoGraph team. When filing the bug, set the verbosity to 10 (on Linux, `export AUTOGRAPH_VERBOSITY=10`) and attach the full output. Cause: converting <bound method BatchNorm.call of <pixellib.instance.mask_rcnn.BatchNorm object at 0x7f79b6458bd0>>: AttributeError: module 'gast' has no attribute 'Str'\n"
     ]
    },
    {
     "name": "stdout",
     "output_type": "stream",
     "text": [
      "WARNING: Entity <bound method BatchNorm.call of <pixellib.instance.mask_rcnn.BatchNorm object at 0x7f79b6458bd0>> could not be transformed and will be executed as-is. Please report this to the AutgoGraph team. When filing the bug, set the verbosity to 10 (on Linux, `export AUTOGRAPH_VERBOSITY=10`) and attach the full output. Cause: converting <bound method BatchNorm.call of <pixellib.instance.mask_rcnn.BatchNorm object at 0x7f79b6458bd0>>: AttributeError: module 'gast' has no attribute 'Str'\n",
      "WARNING:tensorflow:Entity <bound method BatchNorm.call of <pixellib.instance.mask_rcnn.BatchNorm object at 0x7f79b64d4950>> could not be transformed and will be executed as-is. Please report this to the AutgoGraph team. When filing the bug, set the verbosity to 10 (on Linux, `export AUTOGRAPH_VERBOSITY=10`) and attach the full output. Cause: converting <bound method BatchNorm.call of <pixellib.instance.mask_rcnn.BatchNorm object at 0x7f79b64d4950>>: AttributeError: module 'gast' has no attribute 'Str'\n"
     ]
    },
    {
     "name": "stderr",
     "output_type": "stream",
     "text": [
      "11/27/2022 23:41:19 - WARNING - tensorflow -   Entity <bound method BatchNorm.call of <pixellib.instance.mask_rcnn.BatchNorm object at 0x7f79b64d4950>> could not be transformed and will be executed as-is. Please report this to the AutgoGraph team. When filing the bug, set the verbosity to 10 (on Linux, `export AUTOGRAPH_VERBOSITY=10`) and attach the full output. Cause: converting <bound method BatchNorm.call of <pixellib.instance.mask_rcnn.BatchNorm object at 0x7f79b64d4950>>: AttributeError: module 'gast' has no attribute 'Str'\n"
     ]
    },
    {
     "name": "stdout",
     "output_type": "stream",
     "text": [
      "WARNING: Entity <bound method BatchNorm.call of <pixellib.instance.mask_rcnn.BatchNorm object at 0x7f79b64d4950>> could not be transformed and will be executed as-is. Please report this to the AutgoGraph team. When filing the bug, set the verbosity to 10 (on Linux, `export AUTOGRAPH_VERBOSITY=10`) and attach the full output. Cause: converting <bound method BatchNorm.call of <pixellib.instance.mask_rcnn.BatchNorm object at 0x7f79b64d4950>>: AttributeError: module 'gast' has no attribute 'Str'\n",
      "WARNING:tensorflow:Entity <bound method BatchNorm.call of <pixellib.instance.mask_rcnn.BatchNorm object at 0x7f79b6555850>> could not be transformed and will be executed as-is. Please report this to the AutgoGraph team. When filing the bug, set the verbosity to 10 (on Linux, `export AUTOGRAPH_VERBOSITY=10`) and attach the full output. Cause: converting <bound method BatchNorm.call of <pixellib.instance.mask_rcnn.BatchNorm object at 0x7f79b6555850>>: AttributeError: module 'gast' has no attribute 'Str'\n"
     ]
    },
    {
     "name": "stderr",
     "output_type": "stream",
     "text": [
      "11/27/2022 23:41:19 - WARNING - tensorflow -   Entity <bound method BatchNorm.call of <pixellib.instance.mask_rcnn.BatchNorm object at 0x7f79b6555850>> could not be transformed and will be executed as-is. Please report this to the AutgoGraph team. When filing the bug, set the verbosity to 10 (on Linux, `export AUTOGRAPH_VERBOSITY=10`) and attach the full output. Cause: converting <bound method BatchNorm.call of <pixellib.instance.mask_rcnn.BatchNorm object at 0x7f79b6555850>>: AttributeError: module 'gast' has no attribute 'Str'\n"
     ]
    },
    {
     "name": "stdout",
     "output_type": "stream",
     "text": [
      "WARNING: Entity <bound method BatchNorm.call of <pixellib.instance.mask_rcnn.BatchNorm object at 0x7f79b6555850>> could not be transformed and will be executed as-is. Please report this to the AutgoGraph team. When filing the bug, set the verbosity to 10 (on Linux, `export AUTOGRAPH_VERBOSITY=10`) and attach the full output. Cause: converting <bound method BatchNorm.call of <pixellib.instance.mask_rcnn.BatchNorm object at 0x7f79b6555850>>: AttributeError: module 'gast' has no attribute 'Str'\n",
      "WARNING:tensorflow:Entity <bound method BatchNorm.call of <pixellib.instance.mask_rcnn.BatchNorm object at 0x7f79b65eee10>> could not be transformed and will be executed as-is. Please report this to the AutgoGraph team. When filing the bug, set the verbosity to 10 (on Linux, `export AUTOGRAPH_VERBOSITY=10`) and attach the full output. Cause: converting <bound method BatchNorm.call of <pixellib.instance.mask_rcnn.BatchNorm object at 0x7f79b65eee10>>: AttributeError: module 'gast' has no attribute 'Str'\n"
     ]
    },
    {
     "name": "stderr",
     "output_type": "stream",
     "text": [
      "11/27/2022 23:41:19 - WARNING - tensorflow -   Entity <bound method BatchNorm.call of <pixellib.instance.mask_rcnn.BatchNorm object at 0x7f79b65eee10>> could not be transformed and will be executed as-is. Please report this to the AutgoGraph team. When filing the bug, set the verbosity to 10 (on Linux, `export AUTOGRAPH_VERBOSITY=10`) and attach the full output. Cause: converting <bound method BatchNorm.call of <pixellib.instance.mask_rcnn.BatchNorm object at 0x7f79b65eee10>>: AttributeError: module 'gast' has no attribute 'Str'\n"
     ]
    },
    {
     "name": "stdout",
     "output_type": "stream",
     "text": [
      "WARNING: Entity <bound method BatchNorm.call of <pixellib.instance.mask_rcnn.BatchNorm object at 0x7f79b65eee10>> could not be transformed and will be executed as-is. Please report this to the AutgoGraph team. When filing the bug, set the verbosity to 10 (on Linux, `export AUTOGRAPH_VERBOSITY=10`) and attach the full output. Cause: converting <bound method BatchNorm.call of <pixellib.instance.mask_rcnn.BatchNorm object at 0x7f79b65eee10>>: AttributeError: module 'gast' has no attribute 'Str'\n",
      "WARNING:tensorflow:Entity <bound method BatchNorm.call of <pixellib.instance.mask_rcnn.BatchNorm object at 0x7f79b6687050>> could not be transformed and will be executed as-is. Please report this to the AutgoGraph team. When filing the bug, set the verbosity to 10 (on Linux, `export AUTOGRAPH_VERBOSITY=10`) and attach the full output. Cause: converting <bound method BatchNorm.call of <pixellib.instance.mask_rcnn.BatchNorm object at 0x7f79b6687050>>: AttributeError: module 'gast' has no attribute 'Str'\n"
     ]
    },
    {
     "name": "stderr",
     "output_type": "stream",
     "text": [
      "11/27/2022 23:41:19 - WARNING - tensorflow -   Entity <bound method BatchNorm.call of <pixellib.instance.mask_rcnn.BatchNorm object at 0x7f79b6687050>> could not be transformed and will be executed as-is. Please report this to the AutgoGraph team. When filing the bug, set the verbosity to 10 (on Linux, `export AUTOGRAPH_VERBOSITY=10`) and attach the full output. Cause: converting <bound method BatchNorm.call of <pixellib.instance.mask_rcnn.BatchNorm object at 0x7f79b6687050>>: AttributeError: module 'gast' has no attribute 'Str'\n"
     ]
    },
    {
     "name": "stdout",
     "output_type": "stream",
     "text": [
      "WARNING: Entity <bound method BatchNorm.call of <pixellib.instance.mask_rcnn.BatchNorm object at 0x7f79b6687050>> could not be transformed and will be executed as-is. Please report this to the AutgoGraph team. When filing the bug, set the verbosity to 10 (on Linux, `export AUTOGRAPH_VERBOSITY=10`) and attach the full output. Cause: converting <bound method BatchNorm.call of <pixellib.instance.mask_rcnn.BatchNorm object at 0x7f79b6687050>>: AttributeError: module 'gast' has no attribute 'Str'\n",
      "WARNING:tensorflow:Entity <bound method BatchNorm.call of <pixellib.instance.mask_rcnn.BatchNorm object at 0x7f79b6610e10>> could not be transformed and will be executed as-is. Please report this to the AutgoGraph team. When filing the bug, set the verbosity to 10 (on Linux, `export AUTOGRAPH_VERBOSITY=10`) and attach the full output. Cause: converting <bound method BatchNorm.call of <pixellib.instance.mask_rcnn.BatchNorm object at 0x7f79b6610e10>>: AttributeError: module 'gast' has no attribute 'Str'\n"
     ]
    },
    {
     "name": "stderr",
     "output_type": "stream",
     "text": [
      "11/27/2022 23:41:19 - WARNING - tensorflow -   Entity <bound method BatchNorm.call of <pixellib.instance.mask_rcnn.BatchNorm object at 0x7f79b6610e10>> could not be transformed and will be executed as-is. Please report this to the AutgoGraph team. When filing the bug, set the verbosity to 10 (on Linux, `export AUTOGRAPH_VERBOSITY=10`) and attach the full output. Cause: converting <bound method BatchNorm.call of <pixellib.instance.mask_rcnn.BatchNorm object at 0x7f79b6610e10>>: AttributeError: module 'gast' has no attribute 'Str'\n"
     ]
    },
    {
     "name": "stdout",
     "output_type": "stream",
     "text": [
      "WARNING: Entity <bound method BatchNorm.call of <pixellib.instance.mask_rcnn.BatchNorm object at 0x7f79b6610e10>> could not be transformed and will be executed as-is. Please report this to the AutgoGraph team. When filing the bug, set the verbosity to 10 (on Linux, `export AUTOGRAPH_VERBOSITY=10`) and attach the full output. Cause: converting <bound method BatchNorm.call of <pixellib.instance.mask_rcnn.BatchNorm object at 0x7f79b6610e10>>: AttributeError: module 'gast' has no attribute 'Str'\n",
      "WARNING:tensorflow:Entity <bound method BatchNorm.call of <pixellib.instance.mask_rcnn.BatchNorm object at 0x7f79b679a2d0>> could not be transformed and will be executed as-is. Please report this to the AutgoGraph team. When filing the bug, set the verbosity to 10 (on Linux, `export AUTOGRAPH_VERBOSITY=10`) and attach the full output. Cause: converting <bound method BatchNorm.call of <pixellib.instance.mask_rcnn.BatchNorm object at 0x7f79b679a2d0>>: AttributeError: module 'gast' has no attribute 'Str'\n"
     ]
    },
    {
     "name": "stderr",
     "output_type": "stream",
     "text": [
      "11/27/2022 23:41:20 - WARNING - tensorflow -   Entity <bound method BatchNorm.call of <pixellib.instance.mask_rcnn.BatchNorm object at 0x7f79b679a2d0>> could not be transformed and will be executed as-is. Please report this to the AutgoGraph team. When filing the bug, set the verbosity to 10 (on Linux, `export AUTOGRAPH_VERBOSITY=10`) and attach the full output. Cause: converting <bound method BatchNorm.call of <pixellib.instance.mask_rcnn.BatchNorm object at 0x7f79b679a2d0>>: AttributeError: module 'gast' has no attribute 'Str'\n"
     ]
    },
    {
     "name": "stdout",
     "output_type": "stream",
     "text": [
      "WARNING: Entity <bound method BatchNorm.call of <pixellib.instance.mask_rcnn.BatchNorm object at 0x7f79b679a2d0>> could not be transformed and will be executed as-is. Please report this to the AutgoGraph team. When filing the bug, set the verbosity to 10 (on Linux, `export AUTOGRAPH_VERBOSITY=10`) and attach the full output. Cause: converting <bound method BatchNorm.call of <pixellib.instance.mask_rcnn.BatchNorm object at 0x7f79b679a2d0>>: AttributeError: module 'gast' has no attribute 'Str'\n",
      "WARNING:tensorflow:Entity <bound method BatchNorm.call of <pixellib.instance.mask_rcnn.BatchNorm object at 0x7f79b679a350>> could not be transformed and will be executed as-is. Please report this to the AutgoGraph team. When filing the bug, set the verbosity to 10 (on Linux, `export AUTOGRAPH_VERBOSITY=10`) and attach the full output. Cause: converting <bound method BatchNorm.call of <pixellib.instance.mask_rcnn.BatchNorm object at 0x7f79b679a350>>: AttributeError: module 'gast' has no attribute 'Str'\n"
     ]
    },
    {
     "name": "stderr",
     "output_type": "stream",
     "text": [
      "11/27/2022 23:41:20 - WARNING - tensorflow -   Entity <bound method BatchNorm.call of <pixellib.instance.mask_rcnn.BatchNorm object at 0x7f79b679a350>> could not be transformed and will be executed as-is. Please report this to the AutgoGraph team. When filing the bug, set the verbosity to 10 (on Linux, `export AUTOGRAPH_VERBOSITY=10`) and attach the full output. Cause: converting <bound method BatchNorm.call of <pixellib.instance.mask_rcnn.BatchNorm object at 0x7f79b679a350>>: AttributeError: module 'gast' has no attribute 'Str'\n"
     ]
    },
    {
     "name": "stdout",
     "output_type": "stream",
     "text": [
      "WARNING: Entity <bound method BatchNorm.call of <pixellib.instance.mask_rcnn.BatchNorm object at 0x7f79b679a350>> could not be transformed and will be executed as-is. Please report this to the AutgoGraph team. When filing the bug, set the verbosity to 10 (on Linux, `export AUTOGRAPH_VERBOSITY=10`) and attach the full output. Cause: converting <bound method BatchNorm.call of <pixellib.instance.mask_rcnn.BatchNorm object at 0x7f79b679a350>>: AttributeError: module 'gast' has no attribute 'Str'\n",
      "WARNING:tensorflow:Entity <bound method BatchNorm.call of <pixellib.instance.mask_rcnn.BatchNorm object at 0x7f79b68b74d0>> could not be transformed and will be executed as-is. Please report this to the AutgoGraph team. When filing the bug, set the verbosity to 10 (on Linux, `export AUTOGRAPH_VERBOSITY=10`) and attach the full output. Cause: converting <bound method BatchNorm.call of <pixellib.instance.mask_rcnn.BatchNorm object at 0x7f79b68b74d0>>: AttributeError: module 'gast' has no attribute 'Str'\n"
     ]
    },
    {
     "name": "stderr",
     "output_type": "stream",
     "text": [
      "11/27/2022 23:41:20 - WARNING - tensorflow -   Entity <bound method BatchNorm.call of <pixellib.instance.mask_rcnn.BatchNorm object at 0x7f79b68b74d0>> could not be transformed and will be executed as-is. Please report this to the AutgoGraph team. When filing the bug, set the verbosity to 10 (on Linux, `export AUTOGRAPH_VERBOSITY=10`) and attach the full output. Cause: converting <bound method BatchNorm.call of <pixellib.instance.mask_rcnn.BatchNorm object at 0x7f79b68b74d0>>: AttributeError: module 'gast' has no attribute 'Str'\n"
     ]
    },
    {
     "name": "stdout",
     "output_type": "stream",
     "text": [
      "WARNING: Entity <bound method BatchNorm.call of <pixellib.instance.mask_rcnn.BatchNorm object at 0x7f79b68b74d0>> could not be transformed and will be executed as-is. Please report this to the AutgoGraph team. When filing the bug, set the verbosity to 10 (on Linux, `export AUTOGRAPH_VERBOSITY=10`) and attach the full output. Cause: converting <bound method BatchNorm.call of <pixellib.instance.mask_rcnn.BatchNorm object at 0x7f79b68b74d0>>: AttributeError: module 'gast' has no attribute 'Str'\n",
      "WARNING:tensorflow:Entity <bound method BatchNorm.call of <pixellib.instance.mask_rcnn.BatchNorm object at 0x7f79b695a750>> could not be transformed and will be executed as-is. Please report this to the AutgoGraph team. When filing the bug, set the verbosity to 10 (on Linux, `export AUTOGRAPH_VERBOSITY=10`) and attach the full output. Cause: converting <bound method BatchNorm.call of <pixellib.instance.mask_rcnn.BatchNorm object at 0x7f79b695a750>>: AttributeError: module 'gast' has no attribute 'Str'\n"
     ]
    },
    {
     "name": "stderr",
     "output_type": "stream",
     "text": [
      "11/27/2022 23:41:20 - WARNING - tensorflow -   Entity <bound method BatchNorm.call of <pixellib.instance.mask_rcnn.BatchNorm object at 0x7f79b695a750>> could not be transformed and will be executed as-is. Please report this to the AutgoGraph team. When filing the bug, set the verbosity to 10 (on Linux, `export AUTOGRAPH_VERBOSITY=10`) and attach the full output. Cause: converting <bound method BatchNorm.call of <pixellib.instance.mask_rcnn.BatchNorm object at 0x7f79b695a750>>: AttributeError: module 'gast' has no attribute 'Str'\n"
     ]
    },
    {
     "name": "stdout",
     "output_type": "stream",
     "text": [
      "WARNING: Entity <bound method BatchNorm.call of <pixellib.instance.mask_rcnn.BatchNorm object at 0x7f79b695a750>> could not be transformed and will be executed as-is. Please report this to the AutgoGraph team. When filing the bug, set the verbosity to 10 (on Linux, `export AUTOGRAPH_VERBOSITY=10`) and attach the full output. Cause: converting <bound method BatchNorm.call of <pixellib.instance.mask_rcnn.BatchNorm object at 0x7f79b695a750>>: AttributeError: module 'gast' has no attribute 'Str'\n",
      "WARNING:tensorflow:Entity <bound method BatchNorm.call of <pixellib.instance.mask_rcnn.BatchNorm object at 0x7f79b699f890>> could not be transformed and will be executed as-is. Please report this to the AutgoGraph team. When filing the bug, set the verbosity to 10 (on Linux, `export AUTOGRAPH_VERBOSITY=10`) and attach the full output. Cause: converting <bound method BatchNorm.call of <pixellib.instance.mask_rcnn.BatchNorm object at 0x7f79b699f890>>: AttributeError: module 'gast' has no attribute 'Str'\n"
     ]
    },
    {
     "name": "stderr",
     "output_type": "stream",
     "text": [
      "11/27/2022 23:41:20 - WARNING - tensorflow -   Entity <bound method BatchNorm.call of <pixellib.instance.mask_rcnn.BatchNorm object at 0x7f79b699f890>> could not be transformed and will be executed as-is. Please report this to the AutgoGraph team. When filing the bug, set the verbosity to 10 (on Linux, `export AUTOGRAPH_VERBOSITY=10`) and attach the full output. Cause: converting <bound method BatchNorm.call of <pixellib.instance.mask_rcnn.BatchNorm object at 0x7f79b699f890>>: AttributeError: module 'gast' has no attribute 'Str'\n"
     ]
    },
    {
     "name": "stdout",
     "output_type": "stream",
     "text": [
      "WARNING: Entity <bound method BatchNorm.call of <pixellib.instance.mask_rcnn.BatchNorm object at 0x7f79b699f890>> could not be transformed and will be executed as-is. Please report this to the AutgoGraph team. When filing the bug, set the verbosity to 10 (on Linux, `export AUTOGRAPH_VERBOSITY=10`) and attach the full output. Cause: converting <bound method BatchNorm.call of <pixellib.instance.mask_rcnn.BatchNorm object at 0x7f79b699f890>>: AttributeError: module 'gast' has no attribute 'Str'\n",
      "WARNING:tensorflow:Entity <bound method BatchNorm.call of <pixellib.instance.mask_rcnn.BatchNorm object at 0x7f79b7069e10>> could not be transformed and will be executed as-is. Please report this to the AutgoGraph team. When filing the bug, set the verbosity to 10 (on Linux, `export AUTOGRAPH_VERBOSITY=10`) and attach the full output. Cause: converting <bound method BatchNorm.call of <pixellib.instance.mask_rcnn.BatchNorm object at 0x7f79b7069e10>>: AttributeError: module 'gast' has no attribute 'Str'\n"
     ]
    },
    {
     "name": "stderr",
     "output_type": "stream",
     "text": [
      "11/27/2022 23:41:20 - WARNING - tensorflow -   Entity <bound method BatchNorm.call of <pixellib.instance.mask_rcnn.BatchNorm object at 0x7f79b7069e10>> could not be transformed and will be executed as-is. Please report this to the AutgoGraph team. When filing the bug, set the verbosity to 10 (on Linux, `export AUTOGRAPH_VERBOSITY=10`) and attach the full output. Cause: converting <bound method BatchNorm.call of <pixellib.instance.mask_rcnn.BatchNorm object at 0x7f79b7069e10>>: AttributeError: module 'gast' has no attribute 'Str'\n"
     ]
    },
    {
     "name": "stdout",
     "output_type": "stream",
     "text": [
      "WARNING: Entity <bound method BatchNorm.call of <pixellib.instance.mask_rcnn.BatchNorm object at 0x7f79b7069e10>> could not be transformed and will be executed as-is. Please report this to the AutgoGraph team. When filing the bug, set the verbosity to 10 (on Linux, `export AUTOGRAPH_VERBOSITY=10`) and attach the full output. Cause: converting <bound method BatchNorm.call of <pixellib.instance.mask_rcnn.BatchNorm object at 0x7f79b7069e10>>: AttributeError: module 'gast' has no attribute 'Str'\n",
      "WARNING:tensorflow:Entity <bound method BatchNorm.call of <pixellib.instance.mask_rcnn.BatchNorm object at 0x7f79b710cf50>> could not be transformed and will be executed as-is. Please report this to the AutgoGraph team. When filing the bug, set the verbosity to 10 (on Linux, `export AUTOGRAPH_VERBOSITY=10`) and attach the full output. Cause: converting <bound method BatchNorm.call of <pixellib.instance.mask_rcnn.BatchNorm object at 0x7f79b710cf50>>: AttributeError: module 'gast' has no attribute 'Str'\n"
     ]
    },
    {
     "name": "stderr",
     "output_type": "stream",
     "text": [
      "11/27/2022 23:41:20 - WARNING - tensorflow -   Entity <bound method BatchNorm.call of <pixellib.instance.mask_rcnn.BatchNorm object at 0x7f79b710cf50>> could not be transformed and will be executed as-is. Please report this to the AutgoGraph team. When filing the bug, set the verbosity to 10 (on Linux, `export AUTOGRAPH_VERBOSITY=10`) and attach the full output. Cause: converting <bound method BatchNorm.call of <pixellib.instance.mask_rcnn.BatchNorm object at 0x7f79b710cf50>>: AttributeError: module 'gast' has no attribute 'Str'\n"
     ]
    },
    {
     "name": "stdout",
     "output_type": "stream",
     "text": [
      "WARNING: Entity <bound method BatchNorm.call of <pixellib.instance.mask_rcnn.BatchNorm object at 0x7f79b710cf50>> could not be transformed and will be executed as-is. Please report this to the AutgoGraph team. When filing the bug, set the verbosity to 10 (on Linux, `export AUTOGRAPH_VERBOSITY=10`) and attach the full output. Cause: converting <bound method BatchNorm.call of <pixellib.instance.mask_rcnn.BatchNorm object at 0x7f79b710cf50>>: AttributeError: module 'gast' has no attribute 'Str'\n",
      "WARNING:tensorflow:Entity <bound method BatchNorm.call of <pixellib.instance.mask_rcnn.BatchNorm object at 0x7f79b7178950>> could not be transformed and will be executed as-is. Please report this to the AutgoGraph team. When filing the bug, set the verbosity to 10 (on Linux, `export AUTOGRAPH_VERBOSITY=10`) and attach the full output. Cause: converting <bound method BatchNorm.call of <pixellib.instance.mask_rcnn.BatchNorm object at 0x7f79b7178950>>: AttributeError: module 'gast' has no attribute 'Str'\n"
     ]
    },
    {
     "name": "stderr",
     "output_type": "stream",
     "text": [
      "11/27/2022 23:41:20 - WARNING - tensorflow -   Entity <bound method BatchNorm.call of <pixellib.instance.mask_rcnn.BatchNorm object at 0x7f79b7178950>> could not be transformed and will be executed as-is. Please report this to the AutgoGraph team. When filing the bug, set the verbosity to 10 (on Linux, `export AUTOGRAPH_VERBOSITY=10`) and attach the full output. Cause: converting <bound method BatchNorm.call of <pixellib.instance.mask_rcnn.BatchNorm object at 0x7f79b7178950>>: AttributeError: module 'gast' has no attribute 'Str'\n"
     ]
    },
    {
     "name": "stdout",
     "output_type": "stream",
     "text": [
      "WARNING: Entity <bound method BatchNorm.call of <pixellib.instance.mask_rcnn.BatchNorm object at 0x7f79b7178950>> could not be transformed and will be executed as-is. Please report this to the AutgoGraph team. When filing the bug, set the verbosity to 10 (on Linux, `export AUTOGRAPH_VERBOSITY=10`) and attach the full output. Cause: converting <bound method BatchNorm.call of <pixellib.instance.mask_rcnn.BatchNorm object at 0x7f79b7178950>>: AttributeError: module 'gast' has no attribute 'Str'\n",
      "WARNING:tensorflow:Entity <bound method BatchNorm.call of <pixellib.instance.mask_rcnn.BatchNorm object at 0x7f79b71f4e10>> could not be transformed and will be executed as-is. Please report this to the AutgoGraph team. When filing the bug, set the verbosity to 10 (on Linux, `export AUTOGRAPH_VERBOSITY=10`) and attach the full output. Cause: converting <bound method BatchNorm.call of <pixellib.instance.mask_rcnn.BatchNorm object at 0x7f79b71f4e10>>: AttributeError: module 'gast' has no attribute 'Str'\n"
     ]
    },
    {
     "name": "stderr",
     "output_type": "stream",
     "text": [
      "11/27/2022 23:41:20 - WARNING - tensorflow -   Entity <bound method BatchNorm.call of <pixellib.instance.mask_rcnn.BatchNorm object at 0x7f79b71f4e10>> could not be transformed and will be executed as-is. Please report this to the AutgoGraph team. When filing the bug, set the verbosity to 10 (on Linux, `export AUTOGRAPH_VERBOSITY=10`) and attach the full output. Cause: converting <bound method BatchNorm.call of <pixellib.instance.mask_rcnn.BatchNorm object at 0x7f79b71f4e10>>: AttributeError: module 'gast' has no attribute 'Str'\n"
     ]
    },
    {
     "name": "stdout",
     "output_type": "stream",
     "text": [
      "WARNING: Entity <bound method BatchNorm.call of <pixellib.instance.mask_rcnn.BatchNorm object at 0x7f79b71f4e10>> could not be transformed and will be executed as-is. Please report this to the AutgoGraph team. When filing the bug, set the verbosity to 10 (on Linux, `export AUTOGRAPH_VERBOSITY=10`) and attach the full output. Cause: converting <bound method BatchNorm.call of <pixellib.instance.mask_rcnn.BatchNorm object at 0x7f79b71f4e10>>: AttributeError: module 'gast' has no attribute 'Str'\n",
      "WARNING:tensorflow:Entity <bound method BatchNorm.call of <pixellib.instance.mask_rcnn.BatchNorm object at 0x7f79b7297950>> could not be transformed and will be executed as-is. Please report this to the AutgoGraph team. When filing the bug, set the verbosity to 10 (on Linux, `export AUTOGRAPH_VERBOSITY=10`) and attach the full output. Cause: converting <bound method BatchNorm.call of <pixellib.instance.mask_rcnn.BatchNorm object at 0x7f79b7297950>>: AttributeError: module 'gast' has no attribute 'Str'\n"
     ]
    },
    {
     "name": "stderr",
     "output_type": "stream",
     "text": [
      "11/27/2022 23:41:20 - WARNING - tensorflow -   Entity <bound method BatchNorm.call of <pixellib.instance.mask_rcnn.BatchNorm object at 0x7f79b7297950>> could not be transformed and will be executed as-is. Please report this to the AutgoGraph team. When filing the bug, set the verbosity to 10 (on Linux, `export AUTOGRAPH_VERBOSITY=10`) and attach the full output. Cause: converting <bound method BatchNorm.call of <pixellib.instance.mask_rcnn.BatchNorm object at 0x7f79b7297950>>: AttributeError: module 'gast' has no attribute 'Str'\n"
     ]
    },
    {
     "name": "stdout",
     "output_type": "stream",
     "text": [
      "WARNING: Entity <bound method BatchNorm.call of <pixellib.instance.mask_rcnn.BatchNorm object at 0x7f79b7297950>> could not be transformed and will be executed as-is. Please report this to the AutgoGraph team. When filing the bug, set the verbosity to 10 (on Linux, `export AUTOGRAPH_VERBOSITY=10`) and attach the full output. Cause: converting <bound method BatchNorm.call of <pixellib.instance.mask_rcnn.BatchNorm object at 0x7f79b7297950>>: AttributeError: module 'gast' has no attribute 'Str'\n",
      "WARNING:tensorflow:Entity <bound method BatchNorm.call of <pixellib.instance.mask_rcnn.BatchNorm object at 0x7f79b72b6410>> could not be transformed and will be executed as-is. Please report this to the AutgoGraph team. When filing the bug, set the verbosity to 10 (on Linux, `export AUTOGRAPH_VERBOSITY=10`) and attach the full output. Cause: converting <bound method BatchNorm.call of <pixellib.instance.mask_rcnn.BatchNorm object at 0x7f79b72b6410>>: AttributeError: module 'gast' has no attribute 'Str'\n"
     ]
    },
    {
     "name": "stderr",
     "output_type": "stream",
     "text": [
      "11/27/2022 23:41:20 - WARNING - tensorflow -   Entity <bound method BatchNorm.call of <pixellib.instance.mask_rcnn.BatchNorm object at 0x7f79b72b6410>> could not be transformed and will be executed as-is. Please report this to the AutgoGraph team. When filing the bug, set the verbosity to 10 (on Linux, `export AUTOGRAPH_VERBOSITY=10`) and attach the full output. Cause: converting <bound method BatchNorm.call of <pixellib.instance.mask_rcnn.BatchNorm object at 0x7f79b72b6410>>: AttributeError: module 'gast' has no attribute 'Str'\n"
     ]
    },
    {
     "name": "stdout",
     "output_type": "stream",
     "text": [
      "WARNING: Entity <bound method BatchNorm.call of <pixellib.instance.mask_rcnn.BatchNorm object at 0x7f79b72b6410>> could not be transformed and will be executed as-is. Please report this to the AutgoGraph team. When filing the bug, set the verbosity to 10 (on Linux, `export AUTOGRAPH_VERBOSITY=10`) and attach the full output. Cause: converting <bound method BatchNorm.call of <pixellib.instance.mask_rcnn.BatchNorm object at 0x7f79b72b6410>>: AttributeError: module 'gast' has no attribute 'Str'\n",
      "WARNING:tensorflow:Entity <bound method BatchNorm.call of <pixellib.instance.mask_rcnn.BatchNorm object at 0x7f79b7396690>> could not be transformed and will be executed as-is. Please report this to the AutgoGraph team. When filing the bug, set the verbosity to 10 (on Linux, `export AUTOGRAPH_VERBOSITY=10`) and attach the full output. Cause: converting <bound method BatchNorm.call of <pixellib.instance.mask_rcnn.BatchNorm object at 0x7f79b7396690>>: AttributeError: module 'gast' has no attribute 'Str'\n"
     ]
    },
    {
     "name": "stderr",
     "output_type": "stream",
     "text": [
      "11/27/2022 23:41:21 - WARNING - tensorflow -   Entity <bound method BatchNorm.call of <pixellib.instance.mask_rcnn.BatchNorm object at 0x7f79b7396690>> could not be transformed and will be executed as-is. Please report this to the AutgoGraph team. When filing the bug, set the verbosity to 10 (on Linux, `export AUTOGRAPH_VERBOSITY=10`) and attach the full output. Cause: converting <bound method BatchNorm.call of <pixellib.instance.mask_rcnn.BatchNorm object at 0x7f79b7396690>>: AttributeError: module 'gast' has no attribute 'Str'\n"
     ]
    },
    {
     "name": "stdout",
     "output_type": "stream",
     "text": [
      "WARNING: Entity <bound method BatchNorm.call of <pixellib.instance.mask_rcnn.BatchNorm object at 0x7f79b7396690>> could not be transformed and will be executed as-is. Please report this to the AutgoGraph team. When filing the bug, set the verbosity to 10 (on Linux, `export AUTOGRAPH_VERBOSITY=10`) and attach the full output. Cause: converting <bound method BatchNorm.call of <pixellib.instance.mask_rcnn.BatchNorm object at 0x7f79b7396690>>: AttributeError: module 'gast' has no attribute 'Str'\n",
      "WARNING:tensorflow:Entity <bound method BatchNorm.call of <pixellib.instance.mask_rcnn.BatchNorm object at 0x7f79b7634850>> could not be transformed and will be executed as-is. Please report this to the AutgoGraph team. When filing the bug, set the verbosity to 10 (on Linux, `export AUTOGRAPH_VERBOSITY=10`) and attach the full output. Cause: converting <bound method BatchNorm.call of <pixellib.instance.mask_rcnn.BatchNorm object at 0x7f79b7634850>>: AttributeError: module 'gast' has no attribute 'Str'\n"
     ]
    },
    {
     "name": "stderr",
     "output_type": "stream",
     "text": [
      "11/27/2022 23:41:21 - WARNING - tensorflow -   Entity <bound method BatchNorm.call of <pixellib.instance.mask_rcnn.BatchNorm object at 0x7f79b7634850>> could not be transformed and will be executed as-is. Please report this to the AutgoGraph team. When filing the bug, set the verbosity to 10 (on Linux, `export AUTOGRAPH_VERBOSITY=10`) and attach the full output. Cause: converting <bound method BatchNorm.call of <pixellib.instance.mask_rcnn.BatchNorm object at 0x7f79b7634850>>: AttributeError: module 'gast' has no attribute 'Str'\n"
     ]
    },
    {
     "name": "stdout",
     "output_type": "stream",
     "text": [
      "WARNING: Entity <bound method BatchNorm.call of <pixellib.instance.mask_rcnn.BatchNorm object at 0x7f79b7634850>> could not be transformed and will be executed as-is. Please report this to the AutgoGraph team. When filing the bug, set the verbosity to 10 (on Linux, `export AUTOGRAPH_VERBOSITY=10`) and attach the full output. Cause: converting <bound method BatchNorm.call of <pixellib.instance.mask_rcnn.BatchNorm object at 0x7f79b7634850>>: AttributeError: module 'gast' has no attribute 'Str'\n",
      "WARNING:tensorflow:Entity <bound method BatchNorm.call of <pixellib.instance.mask_rcnn.BatchNorm object at 0x7f79b7653910>> could not be transformed and will be executed as-is. Please report this to the AutgoGraph team. When filing the bug, set the verbosity to 10 (on Linux, `export AUTOGRAPH_VERBOSITY=10`) and attach the full output. Cause: converting <bound method BatchNorm.call of <pixellib.instance.mask_rcnn.BatchNorm object at 0x7f79b7653910>>: AttributeError: module 'gast' has no attribute 'Str'\n"
     ]
    },
    {
     "name": "stderr",
     "output_type": "stream",
     "text": [
      "11/27/2022 23:41:21 - WARNING - tensorflow -   Entity <bound method BatchNorm.call of <pixellib.instance.mask_rcnn.BatchNorm object at 0x7f79b7653910>> could not be transformed and will be executed as-is. Please report this to the AutgoGraph team. When filing the bug, set the verbosity to 10 (on Linux, `export AUTOGRAPH_VERBOSITY=10`) and attach the full output. Cause: converting <bound method BatchNorm.call of <pixellib.instance.mask_rcnn.BatchNorm object at 0x7f79b7653910>>: AttributeError: module 'gast' has no attribute 'Str'\n"
     ]
    },
    {
     "name": "stdout",
     "output_type": "stream",
     "text": [
      "WARNING: Entity <bound method BatchNorm.call of <pixellib.instance.mask_rcnn.BatchNorm object at 0x7f79b7653910>> could not be transformed and will be executed as-is. Please report this to the AutgoGraph team. When filing the bug, set the verbosity to 10 (on Linux, `export AUTOGRAPH_VERBOSITY=10`) and attach the full output. Cause: converting <bound method BatchNorm.call of <pixellib.instance.mask_rcnn.BatchNorm object at 0x7f79b7653910>>: AttributeError: module 'gast' has no attribute 'Str'\n",
      "WARNING:tensorflow:Entity <bound method BatchNorm.call of <pixellib.instance.mask_rcnn.BatchNorm object at 0x7f79b773fed0>> could not be transformed and will be executed as-is. Please report this to the AutgoGraph team. When filing the bug, set the verbosity to 10 (on Linux, `export AUTOGRAPH_VERBOSITY=10`) and attach the full output. Cause: converting <bound method BatchNorm.call of <pixellib.instance.mask_rcnn.BatchNorm object at 0x7f79b773fed0>>: AttributeError: module 'gast' has no attribute 'Str'\n"
     ]
    },
    {
     "name": "stderr",
     "output_type": "stream",
     "text": [
      "11/27/2022 23:41:21 - WARNING - tensorflow -   Entity <bound method BatchNorm.call of <pixellib.instance.mask_rcnn.BatchNorm object at 0x7f79b773fed0>> could not be transformed and will be executed as-is. Please report this to the AutgoGraph team. When filing the bug, set the verbosity to 10 (on Linux, `export AUTOGRAPH_VERBOSITY=10`) and attach the full output. Cause: converting <bound method BatchNorm.call of <pixellib.instance.mask_rcnn.BatchNorm object at 0x7f79b773fed0>>: AttributeError: module 'gast' has no attribute 'Str'\n"
     ]
    },
    {
     "name": "stdout",
     "output_type": "stream",
     "text": [
      "WARNING: Entity <bound method BatchNorm.call of <pixellib.instance.mask_rcnn.BatchNorm object at 0x7f79b773fed0>> could not be transformed and will be executed as-is. Please report this to the AutgoGraph team. When filing the bug, set the verbosity to 10 (on Linux, `export AUTOGRAPH_VERBOSITY=10`) and attach the full output. Cause: converting <bound method BatchNorm.call of <pixellib.instance.mask_rcnn.BatchNorm object at 0x7f79b773fed0>>: AttributeError: module 'gast' has no attribute 'Str'\n",
      "WARNING:tensorflow:Entity <bound method BatchNorm.call of <pixellib.instance.mask_rcnn.BatchNorm object at 0x7f79b77dee90>> could not be transformed and will be executed as-is. Please report this to the AutgoGraph team. When filing the bug, set the verbosity to 10 (on Linux, `export AUTOGRAPH_VERBOSITY=10`) and attach the full output. Cause: converting <bound method BatchNorm.call of <pixellib.instance.mask_rcnn.BatchNorm object at 0x7f79b77dee90>>: AttributeError: module 'gast' has no attribute 'Str'\n"
     ]
    },
    {
     "name": "stderr",
     "output_type": "stream",
     "text": [
      "11/27/2022 23:41:21 - WARNING - tensorflow -   Entity <bound method BatchNorm.call of <pixellib.instance.mask_rcnn.BatchNorm object at 0x7f79b77dee90>> could not be transformed and will be executed as-is. Please report this to the AutgoGraph team. When filing the bug, set the verbosity to 10 (on Linux, `export AUTOGRAPH_VERBOSITY=10`) and attach the full output. Cause: converting <bound method BatchNorm.call of <pixellib.instance.mask_rcnn.BatchNorm object at 0x7f79b77dee90>>: AttributeError: module 'gast' has no attribute 'Str'\n"
     ]
    },
    {
     "name": "stdout",
     "output_type": "stream",
     "text": [
      "WARNING: Entity <bound method BatchNorm.call of <pixellib.instance.mask_rcnn.BatchNorm object at 0x7f79b77dee90>> could not be transformed and will be executed as-is. Please report this to the AutgoGraph team. When filing the bug, set the verbosity to 10 (on Linux, `export AUTOGRAPH_VERBOSITY=10`) and attach the full output. Cause: converting <bound method BatchNorm.call of <pixellib.instance.mask_rcnn.BatchNorm object at 0x7f79b77dee90>>: AttributeError: module 'gast' has no attribute 'Str'\n",
      "WARNING:tensorflow:Entity <bound method BatchNorm.call of <pixellib.instance.mask_rcnn.BatchNorm object at 0x7f79b7976410>> could not be transformed and will be executed as-is. Please report this to the AutgoGraph team. When filing the bug, set the verbosity to 10 (on Linux, `export AUTOGRAPH_VERBOSITY=10`) and attach the full output. Cause: converting <bound method BatchNorm.call of <pixellib.instance.mask_rcnn.BatchNorm object at 0x7f79b7976410>>: AttributeError: module 'gast' has no attribute 'Str'\n"
     ]
    },
    {
     "name": "stderr",
     "output_type": "stream",
     "text": [
      "11/27/2022 23:41:21 - WARNING - tensorflow -   Entity <bound method BatchNorm.call of <pixellib.instance.mask_rcnn.BatchNorm object at 0x7f79b7976410>> could not be transformed and will be executed as-is. Please report this to the AutgoGraph team. When filing the bug, set the verbosity to 10 (on Linux, `export AUTOGRAPH_VERBOSITY=10`) and attach the full output. Cause: converting <bound method BatchNorm.call of <pixellib.instance.mask_rcnn.BatchNorm object at 0x7f79b7976410>>: AttributeError: module 'gast' has no attribute 'Str'\n"
     ]
    },
    {
     "name": "stdout",
     "output_type": "stream",
     "text": [
      "WARNING: Entity <bound method BatchNorm.call of <pixellib.instance.mask_rcnn.BatchNorm object at 0x7f79b7976410>> could not be transformed and will be executed as-is. Please report this to the AutgoGraph team. When filing the bug, set the verbosity to 10 (on Linux, `export AUTOGRAPH_VERBOSITY=10`) and attach the full output. Cause: converting <bound method BatchNorm.call of <pixellib.instance.mask_rcnn.BatchNorm object at 0x7f79b7976410>>: AttributeError: module 'gast' has no attribute 'Str'\n",
      "WARNING:tensorflow:Entity <bound method BatchNorm.call of <pixellib.instance.mask_rcnn.BatchNorm object at 0x7f79b798b3d0>> could not be transformed and will be executed as-is. Please report this to the AutgoGraph team. When filing the bug, set the verbosity to 10 (on Linux, `export AUTOGRAPH_VERBOSITY=10`) and attach the full output. Cause: converting <bound method BatchNorm.call of <pixellib.instance.mask_rcnn.BatchNorm object at 0x7f79b798b3d0>>: AttributeError: module 'gast' has no attribute 'Str'\n"
     ]
    },
    {
     "name": "stderr",
     "output_type": "stream",
     "text": [
      "11/27/2022 23:41:21 - WARNING - tensorflow -   Entity <bound method BatchNorm.call of <pixellib.instance.mask_rcnn.BatchNorm object at 0x7f79b798b3d0>> could not be transformed and will be executed as-is. Please report this to the AutgoGraph team. When filing the bug, set the verbosity to 10 (on Linux, `export AUTOGRAPH_VERBOSITY=10`) and attach the full output. Cause: converting <bound method BatchNorm.call of <pixellib.instance.mask_rcnn.BatchNorm object at 0x7f79b798b3d0>>: AttributeError: module 'gast' has no attribute 'Str'\n"
     ]
    },
    {
     "name": "stdout",
     "output_type": "stream",
     "text": [
      "WARNING: Entity <bound method BatchNorm.call of <pixellib.instance.mask_rcnn.BatchNorm object at 0x7f79b798b3d0>> could not be transformed and will be executed as-is. Please report this to the AutgoGraph team. When filing the bug, set the verbosity to 10 (on Linux, `export AUTOGRAPH_VERBOSITY=10`) and attach the full output. Cause: converting <bound method BatchNorm.call of <pixellib.instance.mask_rcnn.BatchNorm object at 0x7f79b798b3d0>>: AttributeError: module 'gast' has no attribute 'Str'\n",
      "WARNING:tensorflow:Entity <bound method BatchNorm.call of <pixellib.instance.mask_rcnn.BatchNorm object at 0x7f79b7a96b10>> could not be transformed and will be executed as-is. Please report this to the AutgoGraph team. When filing the bug, set the verbosity to 10 (on Linux, `export AUTOGRAPH_VERBOSITY=10`) and attach the full output. Cause: converting <bound method BatchNorm.call of <pixellib.instance.mask_rcnn.BatchNorm object at 0x7f79b7a96b10>>: AttributeError: module 'gast' has no attribute 'Str'\n"
     ]
    },
    {
     "name": "stderr",
     "output_type": "stream",
     "text": [
      "11/27/2022 23:41:21 - WARNING - tensorflow -   Entity <bound method BatchNorm.call of <pixellib.instance.mask_rcnn.BatchNorm object at 0x7f79b7a96b10>> could not be transformed and will be executed as-is. Please report this to the AutgoGraph team. When filing the bug, set the verbosity to 10 (on Linux, `export AUTOGRAPH_VERBOSITY=10`) and attach the full output. Cause: converting <bound method BatchNorm.call of <pixellib.instance.mask_rcnn.BatchNorm object at 0x7f79b7a96b10>>: AttributeError: module 'gast' has no attribute 'Str'\n"
     ]
    },
    {
     "name": "stdout",
     "output_type": "stream",
     "text": [
      "WARNING: Entity <bound method BatchNorm.call of <pixellib.instance.mask_rcnn.BatchNorm object at 0x7f79b7a96b10>> could not be transformed and will be executed as-is. Please report this to the AutgoGraph team. When filing the bug, set the verbosity to 10 (on Linux, `export AUTOGRAPH_VERBOSITY=10`) and attach the full output. Cause: converting <bound method BatchNorm.call of <pixellib.instance.mask_rcnn.BatchNorm object at 0x7f79b7a96b10>>: AttributeError: module 'gast' has no attribute 'Str'\n",
      "WARNING:tensorflow:Entity <bound method BatchNorm.call of <pixellib.instance.mask_rcnn.BatchNorm object at 0x7f79b7b3d510>> could not be transformed and will be executed as-is. Please report this to the AutgoGraph team. When filing the bug, set the verbosity to 10 (on Linux, `export AUTOGRAPH_VERBOSITY=10`) and attach the full output. Cause: converting <bound method BatchNorm.call of <pixellib.instance.mask_rcnn.BatchNorm object at 0x7f79b7b3d510>>: AttributeError: module 'gast' has no attribute 'Str'\n"
     ]
    },
    {
     "name": "stderr",
     "output_type": "stream",
     "text": [
      "11/27/2022 23:41:21 - WARNING - tensorflow -   Entity <bound method BatchNorm.call of <pixellib.instance.mask_rcnn.BatchNorm object at 0x7f79b7b3d510>> could not be transformed and will be executed as-is. Please report this to the AutgoGraph team. When filing the bug, set the verbosity to 10 (on Linux, `export AUTOGRAPH_VERBOSITY=10`) and attach the full output. Cause: converting <bound method BatchNorm.call of <pixellib.instance.mask_rcnn.BatchNorm object at 0x7f79b7b3d510>>: AttributeError: module 'gast' has no attribute 'Str'\n"
     ]
    },
    {
     "name": "stdout",
     "output_type": "stream",
     "text": [
      "WARNING: Entity <bound method BatchNorm.call of <pixellib.instance.mask_rcnn.BatchNorm object at 0x7f79b7b3d510>> could not be transformed and will be executed as-is. Please report this to the AutgoGraph team. When filing the bug, set the verbosity to 10 (on Linux, `export AUTOGRAPH_VERBOSITY=10`) and attach the full output. Cause: converting <bound method BatchNorm.call of <pixellib.instance.mask_rcnn.BatchNorm object at 0x7f79b7b3d510>>: AttributeError: module 'gast' has no attribute 'Str'\n",
      "WARNING:tensorflow:Entity <bound method BatchNorm.call of <pixellib.instance.mask_rcnn.BatchNorm object at 0x7f79b7b9c650>> could not be transformed and will be executed as-is. Please report this to the AutgoGraph team. When filing the bug, set the verbosity to 10 (on Linux, `export AUTOGRAPH_VERBOSITY=10`) and attach the full output. Cause: converting <bound method BatchNorm.call of <pixellib.instance.mask_rcnn.BatchNorm object at 0x7f79b7b9c650>>: AttributeError: module 'gast' has no attribute 'Str'\n"
     ]
    },
    {
     "name": "stderr",
     "output_type": "stream",
     "text": [
      "11/27/2022 23:41:21 - WARNING - tensorflow -   Entity <bound method BatchNorm.call of <pixellib.instance.mask_rcnn.BatchNorm object at 0x7f79b7b9c650>> could not be transformed and will be executed as-is. Please report this to the AutgoGraph team. When filing the bug, set the verbosity to 10 (on Linux, `export AUTOGRAPH_VERBOSITY=10`) and attach the full output. Cause: converting <bound method BatchNorm.call of <pixellib.instance.mask_rcnn.BatchNorm object at 0x7f79b7b9c650>>: AttributeError: module 'gast' has no attribute 'Str'\n"
     ]
    },
    {
     "name": "stdout",
     "output_type": "stream",
     "text": [
      "WARNING: Entity <bound method BatchNorm.call of <pixellib.instance.mask_rcnn.BatchNorm object at 0x7f79b7b9c650>> could not be transformed and will be executed as-is. Please report this to the AutgoGraph team. When filing the bug, set the verbosity to 10 (on Linux, `export AUTOGRAPH_VERBOSITY=10`) and attach the full output. Cause: converting <bound method BatchNorm.call of <pixellib.instance.mask_rcnn.BatchNorm object at 0x7f79b7b9c650>>: AttributeError: module 'gast' has no attribute 'Str'\n",
      "WARNING:tensorflow:Entity <bound method BatchNorm.call of <pixellib.instance.mask_rcnn.BatchNorm object at 0x7f79b7fa0390>> could not be transformed and will be executed as-is. Please report this to the AutgoGraph team. When filing the bug, set the verbosity to 10 (on Linux, `export AUTOGRAPH_VERBOSITY=10`) and attach the full output. Cause: converting <bound method BatchNorm.call of <pixellib.instance.mask_rcnn.BatchNorm object at 0x7f79b7fa0390>>: AttributeError: module 'gast' has no attribute 'Str'\n"
     ]
    },
    {
     "name": "stderr",
     "output_type": "stream",
     "text": [
      "11/27/2022 23:41:21 - WARNING - tensorflow -   Entity <bound method BatchNorm.call of <pixellib.instance.mask_rcnn.BatchNorm object at 0x7f79b7fa0390>> could not be transformed and will be executed as-is. Please report this to the AutgoGraph team. When filing the bug, set the verbosity to 10 (on Linux, `export AUTOGRAPH_VERBOSITY=10`) and attach the full output. Cause: converting <bound method BatchNorm.call of <pixellib.instance.mask_rcnn.BatchNorm object at 0x7f79b7fa0390>>: AttributeError: module 'gast' has no attribute 'Str'\n"
     ]
    },
    {
     "name": "stdout",
     "output_type": "stream",
     "text": [
      "WARNING: Entity <bound method BatchNorm.call of <pixellib.instance.mask_rcnn.BatchNorm object at 0x7f79b7fa0390>> could not be transformed and will be executed as-is. Please report this to the AutgoGraph team. When filing the bug, set the verbosity to 10 (on Linux, `export AUTOGRAPH_VERBOSITY=10`) and attach the full output. Cause: converting <bound method BatchNorm.call of <pixellib.instance.mask_rcnn.BatchNorm object at 0x7f79b7fa0390>>: AttributeError: module 'gast' has no attribute 'Str'\n",
      "WARNING:tensorflow:Entity <bound method BatchNorm.call of <pixellib.instance.mask_rcnn.BatchNorm object at 0x7f79b825db10>> could not be transformed and will be executed as-is. Please report this to the AutgoGraph team. When filing the bug, set the verbosity to 10 (on Linux, `export AUTOGRAPH_VERBOSITY=10`) and attach the full output. Cause: converting <bound method BatchNorm.call of <pixellib.instance.mask_rcnn.BatchNorm object at 0x7f79b825db10>>: AttributeError: module 'gast' has no attribute 'Str'\n"
     ]
    },
    {
     "name": "stderr",
     "output_type": "stream",
     "text": [
      "11/27/2022 23:41:21 - WARNING - tensorflow -   Entity <bound method BatchNorm.call of <pixellib.instance.mask_rcnn.BatchNorm object at 0x7f79b825db10>> could not be transformed and will be executed as-is. Please report this to the AutgoGraph team. When filing the bug, set the verbosity to 10 (on Linux, `export AUTOGRAPH_VERBOSITY=10`) and attach the full output. Cause: converting <bound method BatchNorm.call of <pixellib.instance.mask_rcnn.BatchNorm object at 0x7f79b825db10>>: AttributeError: module 'gast' has no attribute 'Str'\n"
     ]
    },
    {
     "name": "stdout",
     "output_type": "stream",
     "text": [
      "WARNING: Entity <bound method BatchNorm.call of <pixellib.instance.mask_rcnn.BatchNorm object at 0x7f79b825db10>> could not be transformed and will be executed as-is. Please report this to the AutgoGraph team. When filing the bug, set the verbosity to 10 (on Linux, `export AUTOGRAPH_VERBOSITY=10`) and attach the full output. Cause: converting <bound method BatchNorm.call of <pixellib.instance.mask_rcnn.BatchNorm object at 0x7f79b825db10>>: AttributeError: module 'gast' has no attribute 'Str'\n",
      "WARNING:tensorflow:Entity <bound method BatchNorm.call of <pixellib.instance.mask_rcnn.BatchNorm object at 0x7f79b7fe2750>> could not be transformed and will be executed as-is. Please report this to the AutgoGraph team. When filing the bug, set the verbosity to 10 (on Linux, `export AUTOGRAPH_VERBOSITY=10`) and attach the full output. Cause: converting <bound method BatchNorm.call of <pixellib.instance.mask_rcnn.BatchNorm object at 0x7f79b7fe2750>>: AttributeError: module 'gast' has no attribute 'Str'\n"
     ]
    },
    {
     "name": "stderr",
     "output_type": "stream",
     "text": [
      "11/27/2022 23:41:22 - WARNING - tensorflow -   Entity <bound method BatchNorm.call of <pixellib.instance.mask_rcnn.BatchNorm object at 0x7f79b7fe2750>> could not be transformed and will be executed as-is. Please report this to the AutgoGraph team. When filing the bug, set the verbosity to 10 (on Linux, `export AUTOGRAPH_VERBOSITY=10`) and attach the full output. Cause: converting <bound method BatchNorm.call of <pixellib.instance.mask_rcnn.BatchNorm object at 0x7f79b7fe2750>>: AttributeError: module 'gast' has no attribute 'Str'\n"
     ]
    },
    {
     "name": "stdout",
     "output_type": "stream",
     "text": [
      "WARNING: Entity <bound method BatchNorm.call of <pixellib.instance.mask_rcnn.BatchNorm object at 0x7f79b7fe2750>> could not be transformed and will be executed as-is. Please report this to the AutgoGraph team. When filing the bug, set the verbosity to 10 (on Linux, `export AUTOGRAPH_VERBOSITY=10`) and attach the full output. Cause: converting <bound method BatchNorm.call of <pixellib.instance.mask_rcnn.BatchNorm object at 0x7f79b7fe2750>>: AttributeError: module 'gast' has no attribute 'Str'\n",
      "WARNING:tensorflow:Entity <bound method BatchNorm.call of <pixellib.instance.mask_rcnn.BatchNorm object at 0x7f79b837ef10>> could not be transformed and will be executed as-is. Please report this to the AutgoGraph team. When filing the bug, set the verbosity to 10 (on Linux, `export AUTOGRAPH_VERBOSITY=10`) and attach the full output. Cause: converting <bound method BatchNorm.call of <pixellib.instance.mask_rcnn.BatchNorm object at 0x7f79b837ef10>>: AttributeError: module 'gast' has no attribute 'Str'\n"
     ]
    },
    {
     "name": "stderr",
     "output_type": "stream",
     "text": [
      "11/27/2022 23:41:22 - WARNING - tensorflow -   Entity <bound method BatchNorm.call of <pixellib.instance.mask_rcnn.BatchNorm object at 0x7f79b837ef10>> could not be transformed and will be executed as-is. Please report this to the AutgoGraph team. When filing the bug, set the verbosity to 10 (on Linux, `export AUTOGRAPH_VERBOSITY=10`) and attach the full output. Cause: converting <bound method BatchNorm.call of <pixellib.instance.mask_rcnn.BatchNorm object at 0x7f79b837ef10>>: AttributeError: module 'gast' has no attribute 'Str'\n"
     ]
    },
    {
     "name": "stdout",
     "output_type": "stream",
     "text": [
      "WARNING: Entity <bound method BatchNorm.call of <pixellib.instance.mask_rcnn.BatchNorm object at 0x7f79b837ef10>> could not be transformed and will be executed as-is. Please report this to the AutgoGraph team. When filing the bug, set the verbosity to 10 (on Linux, `export AUTOGRAPH_VERBOSITY=10`) and attach the full output. Cause: converting <bound method BatchNorm.call of <pixellib.instance.mask_rcnn.BatchNorm object at 0x7f79b837ef10>>: AttributeError: module 'gast' has no attribute 'Str'\n",
      "WARNING:tensorflow:Entity <bound method BatchNorm.call of <pixellib.instance.mask_rcnn.BatchNorm object at 0x7f79b839bb90>> could not be transformed and will be executed as-is. Please report this to the AutgoGraph team. When filing the bug, set the verbosity to 10 (on Linux, `export AUTOGRAPH_VERBOSITY=10`) and attach the full output. Cause: converting <bound method BatchNorm.call of <pixellib.instance.mask_rcnn.BatchNorm object at 0x7f79b839bb90>>: AttributeError: module 'gast' has no attribute 'Str'\n"
     ]
    },
    {
     "name": "stderr",
     "output_type": "stream",
     "text": [
      "11/27/2022 23:41:22 - WARNING - tensorflow -   Entity <bound method BatchNorm.call of <pixellib.instance.mask_rcnn.BatchNorm object at 0x7f79b839bb90>> could not be transformed and will be executed as-is. Please report this to the AutgoGraph team. When filing the bug, set the verbosity to 10 (on Linux, `export AUTOGRAPH_VERBOSITY=10`) and attach the full output. Cause: converting <bound method BatchNorm.call of <pixellib.instance.mask_rcnn.BatchNorm object at 0x7f79b839bb90>>: AttributeError: module 'gast' has no attribute 'Str'\n"
     ]
    },
    {
     "name": "stdout",
     "output_type": "stream",
     "text": [
      "WARNING: Entity <bound method BatchNorm.call of <pixellib.instance.mask_rcnn.BatchNorm object at 0x7f79b839bb90>> could not be transformed and will be executed as-is. Please report this to the AutgoGraph team. When filing the bug, set the verbosity to 10 (on Linux, `export AUTOGRAPH_VERBOSITY=10`) and attach the full output. Cause: converting <bound method BatchNorm.call of <pixellib.instance.mask_rcnn.BatchNorm object at 0x7f79b839bb90>>: AttributeError: module 'gast' has no attribute 'Str'\n",
      "WARNING:tensorflow:Entity <bound method BatchNorm.call of <pixellib.instance.mask_rcnn.BatchNorm object at 0x7f79b845a950>> could not be transformed and will be executed as-is. Please report this to the AutgoGraph team. When filing the bug, set the verbosity to 10 (on Linux, `export AUTOGRAPH_VERBOSITY=10`) and attach the full output. Cause: converting <bound method BatchNorm.call of <pixellib.instance.mask_rcnn.BatchNorm object at 0x7f79b845a950>>: AttributeError: module 'gast' has no attribute 'Str'\n"
     ]
    },
    {
     "name": "stderr",
     "output_type": "stream",
     "text": [
      "11/27/2022 23:41:22 - WARNING - tensorflow -   Entity <bound method BatchNorm.call of <pixellib.instance.mask_rcnn.BatchNorm object at 0x7f79b845a950>> could not be transformed and will be executed as-is. Please report this to the AutgoGraph team. When filing the bug, set the verbosity to 10 (on Linux, `export AUTOGRAPH_VERBOSITY=10`) and attach the full output. Cause: converting <bound method BatchNorm.call of <pixellib.instance.mask_rcnn.BatchNorm object at 0x7f79b845a950>>: AttributeError: module 'gast' has no attribute 'Str'\n"
     ]
    },
    {
     "name": "stdout",
     "output_type": "stream",
     "text": [
      "WARNING: Entity <bound method BatchNorm.call of <pixellib.instance.mask_rcnn.BatchNorm object at 0x7f79b845a950>> could not be transformed and will be executed as-is. Please report this to the AutgoGraph team. When filing the bug, set the verbosity to 10 (on Linux, `export AUTOGRAPH_VERBOSITY=10`) and attach the full output. Cause: converting <bound method BatchNorm.call of <pixellib.instance.mask_rcnn.BatchNorm object at 0x7f79b845a950>>: AttributeError: module 'gast' has no attribute 'Str'\n",
      "WARNING:tensorflow:Entity <bound method BatchNorm.call of <pixellib.instance.mask_rcnn.BatchNorm object at 0x7f79b8522850>> could not be transformed and will be executed as-is. Please report this to the AutgoGraph team. When filing the bug, set the verbosity to 10 (on Linux, `export AUTOGRAPH_VERBOSITY=10`) and attach the full output. Cause: converting <bound method BatchNorm.call of <pixellib.instance.mask_rcnn.BatchNorm object at 0x7f79b8522850>>: AttributeError: module 'gast' has no attribute 'Str'\n"
     ]
    },
    {
     "name": "stderr",
     "output_type": "stream",
     "text": [
      "11/27/2022 23:41:22 - WARNING - tensorflow -   Entity <bound method BatchNorm.call of <pixellib.instance.mask_rcnn.BatchNorm object at 0x7f79b8522850>> could not be transformed and will be executed as-is. Please report this to the AutgoGraph team. When filing the bug, set the verbosity to 10 (on Linux, `export AUTOGRAPH_VERBOSITY=10`) and attach the full output. Cause: converting <bound method BatchNorm.call of <pixellib.instance.mask_rcnn.BatchNorm object at 0x7f79b8522850>>: AttributeError: module 'gast' has no attribute 'Str'\n"
     ]
    },
    {
     "name": "stdout",
     "output_type": "stream",
     "text": [
      "WARNING: Entity <bound method BatchNorm.call of <pixellib.instance.mask_rcnn.BatchNorm object at 0x7f79b8522850>> could not be transformed and will be executed as-is. Please report this to the AutgoGraph team. When filing the bug, set the verbosity to 10 (on Linux, `export AUTOGRAPH_VERBOSITY=10`) and attach the full output. Cause: converting <bound method BatchNorm.call of <pixellib.instance.mask_rcnn.BatchNorm object at 0x7f79b8522850>>: AttributeError: module 'gast' has no attribute 'Str'\n",
      "WARNING:tensorflow:Entity <bound method BatchNorm.call of <pixellib.instance.mask_rcnn.BatchNorm object at 0x7f79b853ff10>> could not be transformed and will be executed as-is. Please report this to the AutgoGraph team. When filing the bug, set the verbosity to 10 (on Linux, `export AUTOGRAPH_VERBOSITY=10`) and attach the full output. Cause: converting <bound method BatchNorm.call of <pixellib.instance.mask_rcnn.BatchNorm object at 0x7f79b853ff10>>: AttributeError: module 'gast' has no attribute 'Str'\n"
     ]
    },
    {
     "name": "stderr",
     "output_type": "stream",
     "text": [
      "11/27/2022 23:41:22 - WARNING - tensorflow -   Entity <bound method BatchNorm.call of <pixellib.instance.mask_rcnn.BatchNorm object at 0x7f79b853ff10>> could not be transformed and will be executed as-is. Please report this to the AutgoGraph team. When filing the bug, set the verbosity to 10 (on Linux, `export AUTOGRAPH_VERBOSITY=10`) and attach the full output. Cause: converting <bound method BatchNorm.call of <pixellib.instance.mask_rcnn.BatchNorm object at 0x7f79b853ff10>>: AttributeError: module 'gast' has no attribute 'Str'\n"
     ]
    },
    {
     "name": "stdout",
     "output_type": "stream",
     "text": [
      "WARNING: Entity <bound method BatchNorm.call of <pixellib.instance.mask_rcnn.BatchNorm object at 0x7f79b853ff10>> could not be transformed and will be executed as-is. Please report this to the AutgoGraph team. When filing the bug, set the verbosity to 10 (on Linux, `export AUTOGRAPH_VERBOSITY=10`) and attach the full output. Cause: converting <bound method BatchNorm.call of <pixellib.instance.mask_rcnn.BatchNorm object at 0x7f79b853ff10>>: AttributeError: module 'gast' has no attribute 'Str'\n",
      "WARNING:tensorflow:Entity <bound method BatchNorm.call of <pixellib.instance.mask_rcnn.BatchNorm object at 0x7f79b861e990>> could not be transformed and will be executed as-is. Please report this to the AutgoGraph team. When filing the bug, set the verbosity to 10 (on Linux, `export AUTOGRAPH_VERBOSITY=10`) and attach the full output. Cause: converting <bound method BatchNorm.call of <pixellib.instance.mask_rcnn.BatchNorm object at 0x7f79b861e990>>: AttributeError: module 'gast' has no attribute 'Str'\n"
     ]
    },
    {
     "name": "stderr",
     "output_type": "stream",
     "text": [
      "11/27/2022 23:41:22 - WARNING - tensorflow -   Entity <bound method BatchNorm.call of <pixellib.instance.mask_rcnn.BatchNorm object at 0x7f79b861e990>> could not be transformed and will be executed as-is. Please report this to the AutgoGraph team. When filing the bug, set the verbosity to 10 (on Linux, `export AUTOGRAPH_VERBOSITY=10`) and attach the full output. Cause: converting <bound method BatchNorm.call of <pixellib.instance.mask_rcnn.BatchNorm object at 0x7f79b861e990>>: AttributeError: module 'gast' has no attribute 'Str'\n"
     ]
    },
    {
     "name": "stdout",
     "output_type": "stream",
     "text": [
      "WARNING: Entity <bound method BatchNorm.call of <pixellib.instance.mask_rcnn.BatchNorm object at 0x7f79b861e990>> could not be transformed and will be executed as-is. Please report this to the AutgoGraph team. When filing the bug, set the verbosity to 10 (on Linux, `export AUTOGRAPH_VERBOSITY=10`) and attach the full output. Cause: converting <bound method BatchNorm.call of <pixellib.instance.mask_rcnn.BatchNorm object at 0x7f79b861e990>>: AttributeError: module 'gast' has no attribute 'Str'\n",
      "WARNING:tensorflow:Entity <bound method BatchNorm.call of <pixellib.instance.mask_rcnn.BatchNorm object at 0x7f79b86dc910>> could not be transformed and will be executed as-is. Please report this to the AutgoGraph team. When filing the bug, set the verbosity to 10 (on Linux, `export AUTOGRAPH_VERBOSITY=10`) and attach the full output. Cause: converting <bound method BatchNorm.call of <pixellib.instance.mask_rcnn.BatchNorm object at 0x7f79b86dc910>>: AttributeError: module 'gast' has no attribute 'Str'\n"
     ]
    },
    {
     "name": "stderr",
     "output_type": "stream",
     "text": [
      "11/27/2022 23:41:22 - WARNING - tensorflow -   Entity <bound method BatchNorm.call of <pixellib.instance.mask_rcnn.BatchNorm object at 0x7f79b86dc910>> could not be transformed and will be executed as-is. Please report this to the AutgoGraph team. When filing the bug, set the verbosity to 10 (on Linux, `export AUTOGRAPH_VERBOSITY=10`) and attach the full output. Cause: converting <bound method BatchNorm.call of <pixellib.instance.mask_rcnn.BatchNorm object at 0x7f79b86dc910>>: AttributeError: module 'gast' has no attribute 'Str'\n"
     ]
    },
    {
     "name": "stdout",
     "output_type": "stream",
     "text": [
      "WARNING: Entity <bound method BatchNorm.call of <pixellib.instance.mask_rcnn.BatchNorm object at 0x7f79b86dc910>> could not be transformed and will be executed as-is. Please report this to the AutgoGraph team. When filing the bug, set the verbosity to 10 (on Linux, `export AUTOGRAPH_VERBOSITY=10`) and attach the full output. Cause: converting <bound method BatchNorm.call of <pixellib.instance.mask_rcnn.BatchNorm object at 0x7f79b86dc910>>: AttributeError: module 'gast' has no attribute 'Str'\n",
      "WARNING:tensorflow:Entity <bound method BatchNorm.call of <pixellib.instance.mask_rcnn.BatchNorm object at 0x7f79b86e6490>> could not be transformed and will be executed as-is. Please report this to the AutgoGraph team. When filing the bug, set the verbosity to 10 (on Linux, `export AUTOGRAPH_VERBOSITY=10`) and attach the full output. Cause: converting <bound method BatchNorm.call of <pixellib.instance.mask_rcnn.BatchNorm object at 0x7f79b86e6490>>: AttributeError: module 'gast' has no attribute 'Str'\n"
     ]
    },
    {
     "name": "stderr",
     "output_type": "stream",
     "text": [
      "11/27/2022 23:41:22 - WARNING - tensorflow -   Entity <bound method BatchNorm.call of <pixellib.instance.mask_rcnn.BatchNorm object at 0x7f79b86e6490>> could not be transformed and will be executed as-is. Please report this to the AutgoGraph team. When filing the bug, set the verbosity to 10 (on Linux, `export AUTOGRAPH_VERBOSITY=10`) and attach the full output. Cause: converting <bound method BatchNorm.call of <pixellib.instance.mask_rcnn.BatchNorm object at 0x7f79b86e6490>>: AttributeError: module 'gast' has no attribute 'Str'\n"
     ]
    },
    {
     "name": "stdout",
     "output_type": "stream",
     "text": [
      "WARNING: Entity <bound method BatchNorm.call of <pixellib.instance.mask_rcnn.BatchNorm object at 0x7f79b86e6490>> could not be transformed and will be executed as-is. Please report this to the AutgoGraph team. When filing the bug, set the verbosity to 10 (on Linux, `export AUTOGRAPH_VERBOSITY=10`) and attach the full output. Cause: converting <bound method BatchNorm.call of <pixellib.instance.mask_rcnn.BatchNorm object at 0x7f79b86e6490>>: AttributeError: module 'gast' has no attribute 'Str'\n",
      "WARNING:tensorflow:Entity <bound method BatchNorm.call of <pixellib.instance.mask_rcnn.BatchNorm object at 0x7f79b86dcdd0>> could not be transformed and will be executed as-is. Please report this to the AutgoGraph team. When filing the bug, set the verbosity to 10 (on Linux, `export AUTOGRAPH_VERBOSITY=10`) and attach the full output. Cause: converting <bound method BatchNorm.call of <pixellib.instance.mask_rcnn.BatchNorm object at 0x7f79b86dcdd0>>: AttributeError: module 'gast' has no attribute 'Str'\n"
     ]
    },
    {
     "name": "stderr",
     "output_type": "stream",
     "text": [
      "11/27/2022 23:41:22 - WARNING - tensorflow -   Entity <bound method BatchNorm.call of <pixellib.instance.mask_rcnn.BatchNorm object at 0x7f79b86dcdd0>> could not be transformed and will be executed as-is. Please report this to the AutgoGraph team. When filing the bug, set the verbosity to 10 (on Linux, `export AUTOGRAPH_VERBOSITY=10`) and attach the full output. Cause: converting <bound method BatchNorm.call of <pixellib.instance.mask_rcnn.BatchNorm object at 0x7f79b86dcdd0>>: AttributeError: module 'gast' has no attribute 'Str'\n"
     ]
    },
    {
     "name": "stdout",
     "output_type": "stream",
     "text": [
      "WARNING: Entity <bound method BatchNorm.call of <pixellib.instance.mask_rcnn.BatchNorm object at 0x7f79b86dcdd0>> could not be transformed and will be executed as-is. Please report this to the AutgoGraph team. When filing the bug, set the verbosity to 10 (on Linux, `export AUTOGRAPH_VERBOSITY=10`) and attach the full output. Cause: converting <bound method BatchNorm.call of <pixellib.instance.mask_rcnn.BatchNorm object at 0x7f79b86dcdd0>>: AttributeError: module 'gast' has no attribute 'Str'\n",
      "WARNING:tensorflow:Entity <bound method BatchNorm.call of <pixellib.instance.mask_rcnn.BatchNorm object at 0x7f79b9079f90>> could not be transformed and will be executed as-is. Please report this to the AutgoGraph team. When filing the bug, set the verbosity to 10 (on Linux, `export AUTOGRAPH_VERBOSITY=10`) and attach the full output. Cause: converting <bound method BatchNorm.call of <pixellib.instance.mask_rcnn.BatchNorm object at 0x7f79b9079f90>>: AttributeError: module 'gast' has no attribute 'Str'\n"
     ]
    },
    {
     "name": "stderr",
     "output_type": "stream",
     "text": [
      "11/27/2022 23:41:22 - WARNING - tensorflow -   Entity <bound method BatchNorm.call of <pixellib.instance.mask_rcnn.BatchNorm object at 0x7f79b9079f90>> could not be transformed and will be executed as-is. Please report this to the AutgoGraph team. When filing the bug, set the verbosity to 10 (on Linux, `export AUTOGRAPH_VERBOSITY=10`) and attach the full output. Cause: converting <bound method BatchNorm.call of <pixellib.instance.mask_rcnn.BatchNorm object at 0x7f79b9079f90>>: AttributeError: module 'gast' has no attribute 'Str'\n"
     ]
    },
    {
     "name": "stdout",
     "output_type": "stream",
     "text": [
      "WARNING: Entity <bound method BatchNorm.call of <pixellib.instance.mask_rcnn.BatchNorm object at 0x7f79b9079f90>> could not be transformed and will be executed as-is. Please report this to the AutgoGraph team. When filing the bug, set the verbosity to 10 (on Linux, `export AUTOGRAPH_VERBOSITY=10`) and attach the full output. Cause: converting <bound method BatchNorm.call of <pixellib.instance.mask_rcnn.BatchNorm object at 0x7f79b9079f90>>: AttributeError: module 'gast' has no attribute 'Str'\n",
      "WARNING:tensorflow:Entity <bound method BatchNorm.call of <pixellib.instance.mask_rcnn.BatchNorm object at 0x7f79b9183810>> could not be transformed and will be executed as-is. Please report this to the AutgoGraph team. When filing the bug, set the verbosity to 10 (on Linux, `export AUTOGRAPH_VERBOSITY=10`) and attach the full output. Cause: converting <bound method BatchNorm.call of <pixellib.instance.mask_rcnn.BatchNorm object at 0x7f79b9183810>>: AttributeError: module 'gast' has no attribute 'Str'\n"
     ]
    },
    {
     "name": "stderr",
     "output_type": "stream",
     "text": [
      "11/27/2022 23:41:23 - WARNING - tensorflow -   Entity <bound method BatchNorm.call of <pixellib.instance.mask_rcnn.BatchNorm object at 0x7f79b9183810>> could not be transformed and will be executed as-is. Please report this to the AutgoGraph team. When filing the bug, set the verbosity to 10 (on Linux, `export AUTOGRAPH_VERBOSITY=10`) and attach the full output. Cause: converting <bound method BatchNorm.call of <pixellib.instance.mask_rcnn.BatchNorm object at 0x7f79b9183810>>: AttributeError: module 'gast' has no attribute 'Str'\n"
     ]
    },
    {
     "name": "stdout",
     "output_type": "stream",
     "text": [
      "WARNING: Entity <bound method BatchNorm.call of <pixellib.instance.mask_rcnn.BatchNorm object at 0x7f79b9183810>> could not be transformed and will be executed as-is. Please report this to the AutgoGraph team. When filing the bug, set the verbosity to 10 (on Linux, `export AUTOGRAPH_VERBOSITY=10`) and attach the full output. Cause: converting <bound method BatchNorm.call of <pixellib.instance.mask_rcnn.BatchNorm object at 0x7f79b9183810>>: AttributeError: module 'gast' has no attribute 'Str'\n",
      "WARNING:tensorflow:Entity <bound method BatchNorm.call of <pixellib.instance.mask_rcnn.BatchNorm object at 0x7f79b911a7d0>> could not be transformed and will be executed as-is. Please report this to the AutgoGraph team. When filing the bug, set the verbosity to 10 (on Linux, `export AUTOGRAPH_VERBOSITY=10`) and attach the full output. Cause: converting <bound method BatchNorm.call of <pixellib.instance.mask_rcnn.BatchNorm object at 0x7f79b911a7d0>>: AttributeError: module 'gast' has no attribute 'Str'\n"
     ]
    },
    {
     "name": "stderr",
     "output_type": "stream",
     "text": [
      "11/27/2022 23:41:23 - WARNING - tensorflow -   Entity <bound method BatchNorm.call of <pixellib.instance.mask_rcnn.BatchNorm object at 0x7f79b911a7d0>> could not be transformed and will be executed as-is. Please report this to the AutgoGraph team. When filing the bug, set the verbosity to 10 (on Linux, `export AUTOGRAPH_VERBOSITY=10`) and attach the full output. Cause: converting <bound method BatchNorm.call of <pixellib.instance.mask_rcnn.BatchNorm object at 0x7f79b911a7d0>>: AttributeError: module 'gast' has no attribute 'Str'\n"
     ]
    },
    {
     "name": "stdout",
     "output_type": "stream",
     "text": [
      "WARNING: Entity <bound method BatchNorm.call of <pixellib.instance.mask_rcnn.BatchNorm object at 0x7f79b911a7d0>> could not be transformed and will be executed as-is. Please report this to the AutgoGraph team. When filing the bug, set the verbosity to 10 (on Linux, `export AUTOGRAPH_VERBOSITY=10`) and attach the full output. Cause: converting <bound method BatchNorm.call of <pixellib.instance.mask_rcnn.BatchNorm object at 0x7f79b911a7d0>>: AttributeError: module 'gast' has no attribute 'Str'\n",
      "WARNING:tensorflow:Entity <bound method BatchNorm.call of <pixellib.instance.mask_rcnn.BatchNorm object at 0x7f79b9215f90>> could not be transformed and will be executed as-is. Please report this to the AutgoGraph team. When filing the bug, set the verbosity to 10 (on Linux, `export AUTOGRAPH_VERBOSITY=10`) and attach the full output. Cause: converting <bound method BatchNorm.call of <pixellib.instance.mask_rcnn.BatchNorm object at 0x7f79b9215f90>>: AttributeError: module 'gast' has no attribute 'Str'\n"
     ]
    },
    {
     "name": "stderr",
     "output_type": "stream",
     "text": [
      "11/27/2022 23:41:23 - WARNING - tensorflow -   Entity <bound method BatchNorm.call of <pixellib.instance.mask_rcnn.BatchNorm object at 0x7f79b9215f90>> could not be transformed and will be executed as-is. Please report this to the AutgoGraph team. When filing the bug, set the verbosity to 10 (on Linux, `export AUTOGRAPH_VERBOSITY=10`) and attach the full output. Cause: converting <bound method BatchNorm.call of <pixellib.instance.mask_rcnn.BatchNorm object at 0x7f79b9215f90>>: AttributeError: module 'gast' has no attribute 'Str'\n"
     ]
    },
    {
     "name": "stdout",
     "output_type": "stream",
     "text": [
      "WARNING: Entity <bound method BatchNorm.call of <pixellib.instance.mask_rcnn.BatchNorm object at 0x7f79b9215f90>> could not be transformed and will be executed as-is. Please report this to the AutgoGraph team. When filing the bug, set the verbosity to 10 (on Linux, `export AUTOGRAPH_VERBOSITY=10`) and attach the full output. Cause: converting <bound method BatchNorm.call of <pixellib.instance.mask_rcnn.BatchNorm object at 0x7f79b9215f90>>: AttributeError: module 'gast' has no attribute 'Str'\n",
      "WARNING:tensorflow:Entity <bound method BatchNorm.call of <pixellib.instance.mask_rcnn.BatchNorm object at 0x7f79b92b6090>> could not be transformed and will be executed as-is. Please report this to the AutgoGraph team. When filing the bug, set the verbosity to 10 (on Linux, `export AUTOGRAPH_VERBOSITY=10`) and attach the full output. Cause: converting <bound method BatchNorm.call of <pixellib.instance.mask_rcnn.BatchNorm object at 0x7f79b92b6090>>: AttributeError: module 'gast' has no attribute 'Str'\n"
     ]
    },
    {
     "name": "stderr",
     "output_type": "stream",
     "text": [
      "11/27/2022 23:41:23 - WARNING - tensorflow -   Entity <bound method BatchNorm.call of <pixellib.instance.mask_rcnn.BatchNorm object at 0x7f79b92b6090>> could not be transformed and will be executed as-is. Please report this to the AutgoGraph team. When filing the bug, set the verbosity to 10 (on Linux, `export AUTOGRAPH_VERBOSITY=10`) and attach the full output. Cause: converting <bound method BatchNorm.call of <pixellib.instance.mask_rcnn.BatchNorm object at 0x7f79b92b6090>>: AttributeError: module 'gast' has no attribute 'Str'\n"
     ]
    },
    {
     "name": "stdout",
     "output_type": "stream",
     "text": [
      "WARNING: Entity <bound method BatchNorm.call of <pixellib.instance.mask_rcnn.BatchNorm object at 0x7f79b92b6090>> could not be transformed and will be executed as-is. Please report this to the AutgoGraph team. When filing the bug, set the verbosity to 10 (on Linux, `export AUTOGRAPH_VERBOSITY=10`) and attach the full output. Cause: converting <bound method BatchNorm.call of <pixellib.instance.mask_rcnn.BatchNorm object at 0x7f79b92b6090>>: AttributeError: module 'gast' has no attribute 'Str'\n",
      "WARNING:tensorflow:Entity <bound method BatchNorm.call of <pixellib.instance.mask_rcnn.BatchNorm object at 0x7f79b93426d0>> could not be transformed and will be executed as-is. Please report this to the AutgoGraph team. When filing the bug, set the verbosity to 10 (on Linux, `export AUTOGRAPH_VERBOSITY=10`) and attach the full output. Cause: converting <bound method BatchNorm.call of <pixellib.instance.mask_rcnn.BatchNorm object at 0x7f79b93426d0>>: AttributeError: module 'gast' has no attribute 'Str'\n"
     ]
    },
    {
     "name": "stderr",
     "output_type": "stream",
     "text": [
      "11/27/2022 23:41:23 - WARNING - tensorflow -   Entity <bound method BatchNorm.call of <pixellib.instance.mask_rcnn.BatchNorm object at 0x7f79b93426d0>> could not be transformed and will be executed as-is. Please report this to the AutgoGraph team. When filing the bug, set the verbosity to 10 (on Linux, `export AUTOGRAPH_VERBOSITY=10`) and attach the full output. Cause: converting <bound method BatchNorm.call of <pixellib.instance.mask_rcnn.BatchNorm object at 0x7f79b93426d0>>: AttributeError: module 'gast' has no attribute 'Str'\n"
     ]
    },
    {
     "name": "stdout",
     "output_type": "stream",
     "text": [
      "WARNING: Entity <bound method BatchNorm.call of <pixellib.instance.mask_rcnn.BatchNorm object at 0x7f79b93426d0>> could not be transformed and will be executed as-is. Please report this to the AutgoGraph team. When filing the bug, set the verbosity to 10 (on Linux, `export AUTOGRAPH_VERBOSITY=10`) and attach the full output. Cause: converting <bound method BatchNorm.call of <pixellib.instance.mask_rcnn.BatchNorm object at 0x7f79b93426d0>>: AttributeError: module 'gast' has no attribute 'Str'\n",
      "WARNING:tensorflow:Entity <bound method BatchNorm.call of <pixellib.instance.mask_rcnn.BatchNorm object at 0x7f79b9467650>> could not be transformed and will be executed as-is. Please report this to the AutgoGraph team. When filing the bug, set the verbosity to 10 (on Linux, `export AUTOGRAPH_VERBOSITY=10`) and attach the full output. Cause: converting <bound method BatchNorm.call of <pixellib.instance.mask_rcnn.BatchNorm object at 0x7f79b9467650>>: AttributeError: module 'gast' has no attribute 'Str'\n"
     ]
    },
    {
     "name": "stderr",
     "output_type": "stream",
     "text": [
      "11/27/2022 23:41:23 - WARNING - tensorflow -   Entity <bound method BatchNorm.call of <pixellib.instance.mask_rcnn.BatchNorm object at 0x7f79b9467650>> could not be transformed and will be executed as-is. Please report this to the AutgoGraph team. When filing the bug, set the verbosity to 10 (on Linux, `export AUTOGRAPH_VERBOSITY=10`) and attach the full output. Cause: converting <bound method BatchNorm.call of <pixellib.instance.mask_rcnn.BatchNorm object at 0x7f79b9467650>>: AttributeError: module 'gast' has no attribute 'Str'\n"
     ]
    },
    {
     "name": "stdout",
     "output_type": "stream",
     "text": [
      "WARNING: Entity <bound method BatchNorm.call of <pixellib.instance.mask_rcnn.BatchNorm object at 0x7f79b9467650>> could not be transformed and will be executed as-is. Please report this to the AutgoGraph team. When filing the bug, set the verbosity to 10 (on Linux, `export AUTOGRAPH_VERBOSITY=10`) and attach the full output. Cause: converting <bound method BatchNorm.call of <pixellib.instance.mask_rcnn.BatchNorm object at 0x7f79b9467650>>: AttributeError: module 'gast' has no attribute 'Str'\n",
      "WARNING:tensorflow:Entity <bound method BatchNorm.call of <pixellib.instance.mask_rcnn.BatchNorm object at 0x7f79b93ba510>> could not be transformed and will be executed as-is. Please report this to the AutgoGraph team. When filing the bug, set the verbosity to 10 (on Linux, `export AUTOGRAPH_VERBOSITY=10`) and attach the full output. Cause: converting <bound method BatchNorm.call of <pixellib.instance.mask_rcnn.BatchNorm object at 0x7f79b93ba510>>: AttributeError: module 'gast' has no attribute 'Str'\n"
     ]
    },
    {
     "name": "stderr",
     "output_type": "stream",
     "text": [
      "11/27/2022 23:41:23 - WARNING - tensorflow -   Entity <bound method BatchNorm.call of <pixellib.instance.mask_rcnn.BatchNorm object at 0x7f79b93ba510>> could not be transformed and will be executed as-is. Please report this to the AutgoGraph team. When filing the bug, set the verbosity to 10 (on Linux, `export AUTOGRAPH_VERBOSITY=10`) and attach the full output. Cause: converting <bound method BatchNorm.call of <pixellib.instance.mask_rcnn.BatchNorm object at 0x7f79b93ba510>>: AttributeError: module 'gast' has no attribute 'Str'\n"
     ]
    },
    {
     "name": "stdout",
     "output_type": "stream",
     "text": [
      "WARNING: Entity <bound method BatchNorm.call of <pixellib.instance.mask_rcnn.BatchNorm object at 0x7f79b93ba510>> could not be transformed and will be executed as-is. Please report this to the AutgoGraph team. When filing the bug, set the verbosity to 10 (on Linux, `export AUTOGRAPH_VERBOSITY=10`) and attach the full output. Cause: converting <bound method BatchNorm.call of <pixellib.instance.mask_rcnn.BatchNorm object at 0x7f79b93ba510>>: AttributeError: module 'gast' has no attribute 'Str'\n",
      "WARNING:tensorflow:Entity <bound method BatchNorm.call of <pixellib.instance.mask_rcnn.BatchNorm object at 0x7f79b9561b90>> could not be transformed and will be executed as-is. Please report this to the AutgoGraph team. When filing the bug, set the verbosity to 10 (on Linux, `export AUTOGRAPH_VERBOSITY=10`) and attach the full output. Cause: converting <bound method BatchNorm.call of <pixellib.instance.mask_rcnn.BatchNorm object at 0x7f79b9561b90>>: AttributeError: module 'gast' has no attribute 'Str'\n"
     ]
    },
    {
     "name": "stderr",
     "output_type": "stream",
     "text": [
      "11/27/2022 23:41:23 - WARNING - tensorflow -   Entity <bound method BatchNorm.call of <pixellib.instance.mask_rcnn.BatchNorm object at 0x7f79b9561b90>> could not be transformed and will be executed as-is. Please report this to the AutgoGraph team. When filing the bug, set the verbosity to 10 (on Linux, `export AUTOGRAPH_VERBOSITY=10`) and attach the full output. Cause: converting <bound method BatchNorm.call of <pixellib.instance.mask_rcnn.BatchNorm object at 0x7f79b9561b90>>: AttributeError: module 'gast' has no attribute 'Str'\n"
     ]
    },
    {
     "name": "stdout",
     "output_type": "stream",
     "text": [
      "WARNING: Entity <bound method BatchNorm.call of <pixellib.instance.mask_rcnn.BatchNorm object at 0x7f79b9561b90>> could not be transformed and will be executed as-is. Please report this to the AutgoGraph team. When filing the bug, set the verbosity to 10 (on Linux, `export AUTOGRAPH_VERBOSITY=10`) and attach the full output. Cause: converting <bound method BatchNorm.call of <pixellib.instance.mask_rcnn.BatchNorm object at 0x7f79b9561b90>>: AttributeError: module 'gast' has no attribute 'Str'\n",
      "WARNING:tensorflow:Entity <bound method BatchNorm.call of <pixellib.instance.mask_rcnn.BatchNorm object at 0x7f79b9570850>> could not be transformed and will be executed as-is. Please report this to the AutgoGraph team. When filing the bug, set the verbosity to 10 (on Linux, `export AUTOGRAPH_VERBOSITY=10`) and attach the full output. Cause: converting <bound method BatchNorm.call of <pixellib.instance.mask_rcnn.BatchNorm object at 0x7f79b9570850>>: AttributeError: module 'gast' has no attribute 'Str'\n"
     ]
    },
    {
     "name": "stderr",
     "output_type": "stream",
     "text": [
      "11/27/2022 23:41:23 - WARNING - tensorflow -   Entity <bound method BatchNorm.call of <pixellib.instance.mask_rcnn.BatchNorm object at 0x7f79b9570850>> could not be transformed and will be executed as-is. Please report this to the AutgoGraph team. When filing the bug, set the verbosity to 10 (on Linux, `export AUTOGRAPH_VERBOSITY=10`) and attach the full output. Cause: converting <bound method BatchNorm.call of <pixellib.instance.mask_rcnn.BatchNorm object at 0x7f79b9570850>>: AttributeError: module 'gast' has no attribute 'Str'\n"
     ]
    },
    {
     "name": "stdout",
     "output_type": "stream",
     "text": [
      "WARNING: Entity <bound method BatchNorm.call of <pixellib.instance.mask_rcnn.BatchNorm object at 0x7f79b9570850>> could not be transformed and will be executed as-is. Please report this to the AutgoGraph team. When filing the bug, set the verbosity to 10 (on Linux, `export AUTOGRAPH_VERBOSITY=10`) and attach the full output. Cause: converting <bound method BatchNorm.call of <pixellib.instance.mask_rcnn.BatchNorm object at 0x7f79b9570850>>: AttributeError: module 'gast' has no attribute 'Str'\n",
      "WARNING:tensorflow:Entity <bound method BatchNorm.call of <pixellib.instance.mask_rcnn.BatchNorm object at 0x7f79b961d310>> could not be transformed and will be executed as-is. Please report this to the AutgoGraph team. When filing the bug, set the verbosity to 10 (on Linux, `export AUTOGRAPH_VERBOSITY=10`) and attach the full output. Cause: converting <bound method BatchNorm.call of <pixellib.instance.mask_rcnn.BatchNorm object at 0x7f79b961d310>>: AttributeError: module 'gast' has no attribute 'Str'\n"
     ]
    },
    {
     "name": "stderr",
     "output_type": "stream",
     "text": [
      "11/27/2022 23:41:23 - WARNING - tensorflow -   Entity <bound method BatchNorm.call of <pixellib.instance.mask_rcnn.BatchNorm object at 0x7f79b961d310>> could not be transformed and will be executed as-is. Please report this to the AutgoGraph team. When filing the bug, set the verbosity to 10 (on Linux, `export AUTOGRAPH_VERBOSITY=10`) and attach the full output. Cause: converting <bound method BatchNorm.call of <pixellib.instance.mask_rcnn.BatchNorm object at 0x7f79b961d310>>: AttributeError: module 'gast' has no attribute 'Str'\n"
     ]
    },
    {
     "name": "stdout",
     "output_type": "stream",
     "text": [
      "WARNING: Entity <bound method BatchNorm.call of <pixellib.instance.mask_rcnn.BatchNorm object at 0x7f79b961d310>> could not be transformed and will be executed as-is. Please report this to the AutgoGraph team. When filing the bug, set the verbosity to 10 (on Linux, `export AUTOGRAPH_VERBOSITY=10`) and attach the full output. Cause: converting <bound method BatchNorm.call of <pixellib.instance.mask_rcnn.BatchNorm object at 0x7f79b961d310>>: AttributeError: module 'gast' has no attribute 'Str'\n",
      "WARNING:tensorflow:Entity <bound method BatchNorm.call of <pixellib.instance.mask_rcnn.BatchNorm object at 0x7f79b9700910>> could not be transformed and will be executed as-is. Please report this to the AutgoGraph team. When filing the bug, set the verbosity to 10 (on Linux, `export AUTOGRAPH_VERBOSITY=10`) and attach the full output. Cause: converting <bound method BatchNorm.call of <pixellib.instance.mask_rcnn.BatchNorm object at 0x7f79b9700910>>: AttributeError: module 'gast' has no attribute 'Str'\n"
     ]
    },
    {
     "name": "stderr",
     "output_type": "stream",
     "text": [
      "11/27/2022 23:41:23 - WARNING - tensorflow -   Entity <bound method BatchNorm.call of <pixellib.instance.mask_rcnn.BatchNorm object at 0x7f79b9700910>> could not be transformed and will be executed as-is. Please report this to the AutgoGraph team. When filing the bug, set the verbosity to 10 (on Linux, `export AUTOGRAPH_VERBOSITY=10`) and attach the full output. Cause: converting <bound method BatchNorm.call of <pixellib.instance.mask_rcnn.BatchNorm object at 0x7f79b9700910>>: AttributeError: module 'gast' has no attribute 'Str'\n"
     ]
    },
    {
     "name": "stdout",
     "output_type": "stream",
     "text": [
      "WARNING: Entity <bound method BatchNorm.call of <pixellib.instance.mask_rcnn.BatchNorm object at 0x7f79b9700910>> could not be transformed and will be executed as-is. Please report this to the AutgoGraph team. When filing the bug, set the verbosity to 10 (on Linux, `export AUTOGRAPH_VERBOSITY=10`) and attach the full output. Cause: converting <bound method BatchNorm.call of <pixellib.instance.mask_rcnn.BatchNorm object at 0x7f79b9700910>>: AttributeError: module 'gast' has no attribute 'Str'\n",
      "WARNING:tensorflow:Entity <bound method BatchNorm.call of <pixellib.instance.mask_rcnn.BatchNorm object at 0x7f79b97bc810>> could not be transformed and will be executed as-is. Please report this to the AutgoGraph team. When filing the bug, set the verbosity to 10 (on Linux, `export AUTOGRAPH_VERBOSITY=10`) and attach the full output. Cause: converting <bound method BatchNorm.call of <pixellib.instance.mask_rcnn.BatchNorm object at 0x7f79b97bc810>>: AttributeError: module 'gast' has no attribute 'Str'\n"
     ]
    },
    {
     "name": "stderr",
     "output_type": "stream",
     "text": [
      "11/27/2022 23:41:24 - WARNING - tensorflow -   Entity <bound method BatchNorm.call of <pixellib.instance.mask_rcnn.BatchNorm object at 0x7f79b97bc810>> could not be transformed and will be executed as-is. Please report this to the AutgoGraph team. When filing the bug, set the verbosity to 10 (on Linux, `export AUTOGRAPH_VERBOSITY=10`) and attach the full output. Cause: converting <bound method BatchNorm.call of <pixellib.instance.mask_rcnn.BatchNorm object at 0x7f79b97bc810>>: AttributeError: module 'gast' has no attribute 'Str'\n"
     ]
    },
    {
     "name": "stdout",
     "output_type": "stream",
     "text": [
      "WARNING: Entity <bound method BatchNorm.call of <pixellib.instance.mask_rcnn.BatchNorm object at 0x7f79b97bc810>> could not be transformed and will be executed as-is. Please report this to the AutgoGraph team. When filing the bug, set the verbosity to 10 (on Linux, `export AUTOGRAPH_VERBOSITY=10`) and attach the full output. Cause: converting <bound method BatchNorm.call of <pixellib.instance.mask_rcnn.BatchNorm object at 0x7f79b97bc810>>: AttributeError: module 'gast' has no attribute 'Str'\n",
      "WARNING:tensorflow:Entity <bound method BatchNorm.call of <pixellib.instance.mask_rcnn.BatchNorm object at 0x7f79b981ef50>> could not be transformed and will be executed as-is. Please report this to the AutgoGraph team. When filing the bug, set the verbosity to 10 (on Linux, `export AUTOGRAPH_VERBOSITY=10`) and attach the full output. Cause: converting <bound method BatchNorm.call of <pixellib.instance.mask_rcnn.BatchNorm object at 0x7f79b981ef50>>: AttributeError: module 'gast' has no attribute 'Str'\n"
     ]
    },
    {
     "name": "stderr",
     "output_type": "stream",
     "text": [
      "11/27/2022 23:41:24 - WARNING - tensorflow -   Entity <bound method BatchNorm.call of <pixellib.instance.mask_rcnn.BatchNorm object at 0x7f79b981ef50>> could not be transformed and will be executed as-is. Please report this to the AutgoGraph team. When filing the bug, set the verbosity to 10 (on Linux, `export AUTOGRAPH_VERBOSITY=10`) and attach the full output. Cause: converting <bound method BatchNorm.call of <pixellib.instance.mask_rcnn.BatchNorm object at 0x7f79b981ef50>>: AttributeError: module 'gast' has no attribute 'Str'\n"
     ]
    },
    {
     "name": "stdout",
     "output_type": "stream",
     "text": [
      "WARNING: Entity <bound method BatchNorm.call of <pixellib.instance.mask_rcnn.BatchNorm object at 0x7f79b981ef50>> could not be transformed and will be executed as-is. Please report this to the AutgoGraph team. When filing the bug, set the verbosity to 10 (on Linux, `export AUTOGRAPH_VERBOSITY=10`) and attach the full output. Cause: converting <bound method BatchNorm.call of <pixellib.instance.mask_rcnn.BatchNorm object at 0x7f79b981ef50>>: AttributeError: module 'gast' has no attribute 'Str'\n",
      "WARNING:tensorflow:Entity <bound method BatchNorm.call of <pixellib.instance.mask_rcnn.BatchNorm object at 0x7f79b9844690>> could not be transformed and will be executed as-is. Please report this to the AutgoGraph team. When filing the bug, set the verbosity to 10 (on Linux, `export AUTOGRAPH_VERBOSITY=10`) and attach the full output. Cause: converting <bound method BatchNorm.call of <pixellib.instance.mask_rcnn.BatchNorm object at 0x7f79b9844690>>: AttributeError: module 'gast' has no attribute 'Str'\n"
     ]
    },
    {
     "name": "stderr",
     "output_type": "stream",
     "text": [
      "11/27/2022 23:41:24 - WARNING - tensorflow -   Entity <bound method BatchNorm.call of <pixellib.instance.mask_rcnn.BatchNorm object at 0x7f79b9844690>> could not be transformed and will be executed as-is. Please report this to the AutgoGraph team. When filing the bug, set the verbosity to 10 (on Linux, `export AUTOGRAPH_VERBOSITY=10`) and attach the full output. Cause: converting <bound method BatchNorm.call of <pixellib.instance.mask_rcnn.BatchNorm object at 0x7f79b9844690>>: AttributeError: module 'gast' has no attribute 'Str'\n"
     ]
    },
    {
     "name": "stdout",
     "output_type": "stream",
     "text": [
      "WARNING: Entity <bound method BatchNorm.call of <pixellib.instance.mask_rcnn.BatchNorm object at 0x7f79b9844690>> could not be transformed and will be executed as-is. Please report this to the AutgoGraph team. When filing the bug, set the verbosity to 10 (on Linux, `export AUTOGRAPH_VERBOSITY=10`) and attach the full output. Cause: converting <bound method BatchNorm.call of <pixellib.instance.mask_rcnn.BatchNorm object at 0x7f79b9844690>>: AttributeError: module 'gast' has no attribute 'Str'\n",
      "WARNING:tensorflow:Entity <bound method BatchNorm.call of <pixellib.instance.mask_rcnn.BatchNorm object at 0x7f79b98befd0>> could not be transformed and will be executed as-is. Please report this to the AutgoGraph team. When filing the bug, set the verbosity to 10 (on Linux, `export AUTOGRAPH_VERBOSITY=10`) and attach the full output. Cause: converting <bound method BatchNorm.call of <pixellib.instance.mask_rcnn.BatchNorm object at 0x7f79b98befd0>>: AttributeError: module 'gast' has no attribute 'Str'\n"
     ]
    },
    {
     "name": "stderr",
     "output_type": "stream",
     "text": [
      "11/27/2022 23:41:24 - WARNING - tensorflow -   Entity <bound method BatchNorm.call of <pixellib.instance.mask_rcnn.BatchNorm object at 0x7f79b98befd0>> could not be transformed and will be executed as-is. Please report this to the AutgoGraph team. When filing the bug, set the verbosity to 10 (on Linux, `export AUTOGRAPH_VERBOSITY=10`) and attach the full output. Cause: converting <bound method BatchNorm.call of <pixellib.instance.mask_rcnn.BatchNorm object at 0x7f79b98befd0>>: AttributeError: module 'gast' has no attribute 'Str'\n"
     ]
    },
    {
     "name": "stdout",
     "output_type": "stream",
     "text": [
      "WARNING: Entity <bound method BatchNorm.call of <pixellib.instance.mask_rcnn.BatchNorm object at 0x7f79b98befd0>> could not be transformed and will be executed as-is. Please report this to the AutgoGraph team. When filing the bug, set the verbosity to 10 (on Linux, `export AUTOGRAPH_VERBOSITY=10`) and attach the full output. Cause: converting <bound method BatchNorm.call of <pixellib.instance.mask_rcnn.BatchNorm object at 0x7f79b98befd0>>: AttributeError: module 'gast' has no attribute 'Str'\n",
      "WARNING:tensorflow:Entity <bound method BatchNorm.call of <pixellib.instance.mask_rcnn.BatchNorm object at 0x7f79b99ebb50>> could not be transformed and will be executed as-is. Please report this to the AutgoGraph team. When filing the bug, set the verbosity to 10 (on Linux, `export AUTOGRAPH_VERBOSITY=10`) and attach the full output. Cause: converting <bound method BatchNorm.call of <pixellib.instance.mask_rcnn.BatchNorm object at 0x7f79b99ebb50>>: AttributeError: module 'gast' has no attribute 'Str'\n"
     ]
    },
    {
     "name": "stderr",
     "output_type": "stream",
     "text": [
      "11/27/2022 23:41:24 - WARNING - tensorflow -   Entity <bound method BatchNorm.call of <pixellib.instance.mask_rcnn.BatchNorm object at 0x7f79b99ebb50>> could not be transformed and will be executed as-is. Please report this to the AutgoGraph team. When filing the bug, set the verbosity to 10 (on Linux, `export AUTOGRAPH_VERBOSITY=10`) and attach the full output. Cause: converting <bound method BatchNorm.call of <pixellib.instance.mask_rcnn.BatchNorm object at 0x7f79b99ebb50>>: AttributeError: module 'gast' has no attribute 'Str'\n"
     ]
    },
    {
     "name": "stdout",
     "output_type": "stream",
     "text": [
      "WARNING: Entity <bound method BatchNorm.call of <pixellib.instance.mask_rcnn.BatchNorm object at 0x7f79b99ebb50>> could not be transformed and will be executed as-is. Please report this to the AutgoGraph team. When filing the bug, set the verbosity to 10 (on Linux, `export AUTOGRAPH_VERBOSITY=10`) and attach the full output. Cause: converting <bound method BatchNorm.call of <pixellib.instance.mask_rcnn.BatchNorm object at 0x7f79b99ebb50>>: AttributeError: module 'gast' has no attribute 'Str'\n",
      "WARNING:tensorflow:Entity <bound method BatchNorm.call of <pixellib.instance.mask_rcnn.BatchNorm object at 0x7f79b9c64fd0>> could not be transformed and will be executed as-is. Please report this to the AutgoGraph team. When filing the bug, set the verbosity to 10 (on Linux, `export AUTOGRAPH_VERBOSITY=10`) and attach the full output. Cause: converting <bound method BatchNorm.call of <pixellib.instance.mask_rcnn.BatchNorm object at 0x7f79b9c64fd0>>: AttributeError: module 'gast' has no attribute 'Str'\n"
     ]
    },
    {
     "name": "stderr",
     "output_type": "stream",
     "text": [
      "11/27/2022 23:41:24 - WARNING - tensorflow -   Entity <bound method BatchNorm.call of <pixellib.instance.mask_rcnn.BatchNorm object at 0x7f79b9c64fd0>> could not be transformed and will be executed as-is. Please report this to the AutgoGraph team. When filing the bug, set the verbosity to 10 (on Linux, `export AUTOGRAPH_VERBOSITY=10`) and attach the full output. Cause: converting <bound method BatchNorm.call of <pixellib.instance.mask_rcnn.BatchNorm object at 0x7f79b9c64fd0>>: AttributeError: module 'gast' has no attribute 'Str'\n"
     ]
    },
    {
     "name": "stdout",
     "output_type": "stream",
     "text": [
      "WARNING: Entity <bound method BatchNorm.call of <pixellib.instance.mask_rcnn.BatchNorm object at 0x7f79b9c64fd0>> could not be transformed and will be executed as-is. Please report this to the AutgoGraph team. When filing the bug, set the verbosity to 10 (on Linux, `export AUTOGRAPH_VERBOSITY=10`) and attach the full output. Cause: converting <bound method BatchNorm.call of <pixellib.instance.mask_rcnn.BatchNorm object at 0x7f79b9c64fd0>>: AttributeError: module 'gast' has no attribute 'Str'\n",
      "WARNING:tensorflow:Entity <bound method BatchNorm.call of <pixellib.instance.mask_rcnn.BatchNorm object at 0x7f79b9d06750>> could not be transformed and will be executed as-is. Please report this to the AutgoGraph team. When filing the bug, set the verbosity to 10 (on Linux, `export AUTOGRAPH_VERBOSITY=10`) and attach the full output. Cause: converting <bound method BatchNorm.call of <pixellib.instance.mask_rcnn.BatchNorm object at 0x7f79b9d06750>>: AttributeError: module 'gast' has no attribute 'Str'\n"
     ]
    },
    {
     "name": "stderr",
     "output_type": "stream",
     "text": [
      "11/27/2022 23:41:24 - WARNING - tensorflow -   Entity <bound method BatchNorm.call of <pixellib.instance.mask_rcnn.BatchNorm object at 0x7f79b9d06750>> could not be transformed and will be executed as-is. Please report this to the AutgoGraph team. When filing the bug, set the verbosity to 10 (on Linux, `export AUTOGRAPH_VERBOSITY=10`) and attach the full output. Cause: converting <bound method BatchNorm.call of <pixellib.instance.mask_rcnn.BatchNorm object at 0x7f79b9d06750>>: AttributeError: module 'gast' has no attribute 'Str'\n"
     ]
    },
    {
     "name": "stdout",
     "output_type": "stream",
     "text": [
      "WARNING: Entity <bound method BatchNorm.call of <pixellib.instance.mask_rcnn.BatchNorm object at 0x7f79b9d06750>> could not be transformed and will be executed as-is. Please report this to the AutgoGraph team. When filing the bug, set the verbosity to 10 (on Linux, `export AUTOGRAPH_VERBOSITY=10`) and attach the full output. Cause: converting <bound method BatchNorm.call of <pixellib.instance.mask_rcnn.BatchNorm object at 0x7f79b9d06750>>: AttributeError: module 'gast' has no attribute 'Str'\n",
      "WARNING:tensorflow:Entity <bound method BatchNorm.call of <pixellib.instance.mask_rcnn.BatchNorm object at 0x7f79b9d56f10>> could not be transformed and will be executed as-is. Please report this to the AutgoGraph team. When filing the bug, set the verbosity to 10 (on Linux, `export AUTOGRAPH_VERBOSITY=10`) and attach the full output. Cause: converting <bound method BatchNorm.call of <pixellib.instance.mask_rcnn.BatchNorm object at 0x7f79b9d56f10>>: AttributeError: module 'gast' has no attribute 'Str'\n"
     ]
    },
    {
     "name": "stderr",
     "output_type": "stream",
     "text": [
      "11/27/2022 23:41:24 - WARNING - tensorflow -   Entity <bound method BatchNorm.call of <pixellib.instance.mask_rcnn.BatchNorm object at 0x7f79b9d56f10>> could not be transformed and will be executed as-is. Please report this to the AutgoGraph team. When filing the bug, set the verbosity to 10 (on Linux, `export AUTOGRAPH_VERBOSITY=10`) and attach the full output. Cause: converting <bound method BatchNorm.call of <pixellib.instance.mask_rcnn.BatchNorm object at 0x7f79b9d56f10>>: AttributeError: module 'gast' has no attribute 'Str'\n"
     ]
    },
    {
     "name": "stdout",
     "output_type": "stream",
     "text": [
      "WARNING: Entity <bound method BatchNorm.call of <pixellib.instance.mask_rcnn.BatchNorm object at 0x7f79b9d56f10>> could not be transformed and will be executed as-is. Please report this to the AutgoGraph team. When filing the bug, set the verbosity to 10 (on Linux, `export AUTOGRAPH_VERBOSITY=10`) and attach the full output. Cause: converting <bound method BatchNorm.call of <pixellib.instance.mask_rcnn.BatchNorm object at 0x7f79b9d56f10>>: AttributeError: module 'gast' has no attribute 'Str'\n",
      "WARNING:tensorflow:Entity <bound method BatchNorm.call of <pixellib.instance.mask_rcnn.BatchNorm object at 0x7f79b9de7810>> could not be transformed and will be executed as-is. Please report this to the AutgoGraph team. When filing the bug, set the verbosity to 10 (on Linux, `export AUTOGRAPH_VERBOSITY=10`) and attach the full output. Cause: converting <bound method BatchNorm.call of <pixellib.instance.mask_rcnn.BatchNorm object at 0x7f79b9de7810>>: AttributeError: module 'gast' has no attribute 'Str'\n"
     ]
    },
    {
     "name": "stderr",
     "output_type": "stream",
     "text": [
      "11/27/2022 23:41:24 - WARNING - tensorflow -   Entity <bound method BatchNorm.call of <pixellib.instance.mask_rcnn.BatchNorm object at 0x7f79b9de7810>> could not be transformed and will be executed as-is. Please report this to the AutgoGraph team. When filing the bug, set the verbosity to 10 (on Linux, `export AUTOGRAPH_VERBOSITY=10`) and attach the full output. Cause: converting <bound method BatchNorm.call of <pixellib.instance.mask_rcnn.BatchNorm object at 0x7f79b9de7810>>: AttributeError: module 'gast' has no attribute 'Str'\n"
     ]
    },
    {
     "name": "stdout",
     "output_type": "stream",
     "text": [
      "WARNING: Entity <bound method BatchNorm.call of <pixellib.instance.mask_rcnn.BatchNorm object at 0x7f79b9de7810>> could not be transformed and will be executed as-is. Please report this to the AutgoGraph team. When filing the bug, set the verbosity to 10 (on Linux, `export AUTOGRAPH_VERBOSITY=10`) and attach the full output. Cause: converting <bound method BatchNorm.call of <pixellib.instance.mask_rcnn.BatchNorm object at 0x7f79b9de7810>>: AttributeError: module 'gast' has no attribute 'Str'\n",
      "WARNING:tensorflow:Entity <bound method BatchNorm.call of <pixellib.instance.mask_rcnn.BatchNorm object at 0x7f79b9eabad0>> could not be transformed and will be executed as-is. Please report this to the AutgoGraph team. When filing the bug, set the verbosity to 10 (on Linux, `export AUTOGRAPH_VERBOSITY=10`) and attach the full output. Cause: converting <bound method BatchNorm.call of <pixellib.instance.mask_rcnn.BatchNorm object at 0x7f79b9eabad0>>: AttributeError: module 'gast' has no attribute 'Str'\n"
     ]
    },
    {
     "name": "stderr",
     "output_type": "stream",
     "text": [
      "11/27/2022 23:41:24 - WARNING - tensorflow -   Entity <bound method BatchNorm.call of <pixellib.instance.mask_rcnn.BatchNorm object at 0x7f79b9eabad0>> could not be transformed and will be executed as-is. Please report this to the AutgoGraph team. When filing the bug, set the verbosity to 10 (on Linux, `export AUTOGRAPH_VERBOSITY=10`) and attach the full output. Cause: converting <bound method BatchNorm.call of <pixellib.instance.mask_rcnn.BatchNorm object at 0x7f79b9eabad0>>: AttributeError: module 'gast' has no attribute 'Str'\n"
     ]
    },
    {
     "name": "stdout",
     "output_type": "stream",
     "text": [
      "WARNING: Entity <bound method BatchNorm.call of <pixellib.instance.mask_rcnn.BatchNorm object at 0x7f79b9eabad0>> could not be transformed and will be executed as-is. Please report this to the AutgoGraph team. When filing the bug, set the verbosity to 10 (on Linux, `export AUTOGRAPH_VERBOSITY=10`) and attach the full output. Cause: converting <bound method BatchNorm.call of <pixellib.instance.mask_rcnn.BatchNorm object at 0x7f79b9eabad0>>: AttributeError: module 'gast' has no attribute 'Str'\n",
      "WARNING:tensorflow:Entity <bound method ProposalLayer.call of <pixellib.instance.mask_rcnn.ProposalLayer object at 0x7f79ba20ef10>> could not be transformed and will be executed as-is. Please report this to the AutgoGraph team. When filing the bug, set the verbosity to 10 (on Linux, `export AUTOGRAPH_VERBOSITY=10`) and attach the full output. Cause: converting <bound method ProposalLayer.call of <pixellib.instance.mask_rcnn.ProposalLayer object at 0x7f79ba20ef10>>: AttributeError: module 'gast' has no attribute 'Index'\n"
     ]
    },
    {
     "name": "stderr",
     "output_type": "stream",
     "text": [
      "11/27/2022 23:41:25 - WARNING - tensorflow -   Entity <bound method ProposalLayer.call of <pixellib.instance.mask_rcnn.ProposalLayer object at 0x7f79ba20ef10>> could not be transformed and will be executed as-is. Please report this to the AutgoGraph team. When filing the bug, set the verbosity to 10 (on Linux, `export AUTOGRAPH_VERBOSITY=10`) and attach the full output. Cause: converting <bound method ProposalLayer.call of <pixellib.instance.mask_rcnn.ProposalLayer object at 0x7f79ba20ef10>>: AttributeError: module 'gast' has no attribute 'Index'\n"
     ]
    },
    {
     "name": "stdout",
     "output_type": "stream",
     "text": [
      "WARNING: Entity <bound method ProposalLayer.call of <pixellib.instance.mask_rcnn.ProposalLayer object at 0x7f79ba20ef10>> could not be transformed and will be executed as-is. Please report this to the AutgoGraph team. When filing the bug, set the verbosity to 10 (on Linux, `export AUTOGRAPH_VERBOSITY=10`) and attach the full output. Cause: converting <bound method ProposalLayer.call of <pixellib.instance.mask_rcnn.ProposalLayer object at 0x7f79ba20ef10>>: AttributeError: module 'gast' has no attribute 'Index'\n",
      "WARNING:tensorflow:Entity <bound method PyramidROIAlign.call of <pixellib.instance.mask_rcnn.PyramidROIAlign object at 0x7f79ba421850>> could not be transformed and will be executed as-is. Please report this to the AutgoGraph team. When filing the bug, set the verbosity to 10 (on Linux, `export AUTOGRAPH_VERBOSITY=10`) and attach the full output. Cause: converting <bound method PyramidROIAlign.call of <pixellib.instance.mask_rcnn.PyramidROIAlign object at 0x7f79ba421850>>: AttributeError: module 'gast' has no attribute 'Index'\n"
     ]
    },
    {
     "name": "stderr",
     "output_type": "stream",
     "text": [
      "11/27/2022 23:41:25 - WARNING - tensorflow -   Entity <bound method PyramidROIAlign.call of <pixellib.instance.mask_rcnn.PyramidROIAlign object at 0x7f79ba421850>> could not be transformed and will be executed as-is. Please report this to the AutgoGraph team. When filing the bug, set the verbosity to 10 (on Linux, `export AUTOGRAPH_VERBOSITY=10`) and attach the full output. Cause: converting <bound method PyramidROIAlign.call of <pixellib.instance.mask_rcnn.PyramidROIAlign object at 0x7f79ba421850>>: AttributeError: module 'gast' has no attribute 'Index'\n"
     ]
    },
    {
     "name": "stdout",
     "output_type": "stream",
     "text": [
      "WARNING: Entity <bound method PyramidROIAlign.call of <pixellib.instance.mask_rcnn.PyramidROIAlign object at 0x7f79ba421850>> could not be transformed and will be executed as-is. Please report this to the AutgoGraph team. When filing the bug, set the verbosity to 10 (on Linux, `export AUTOGRAPH_VERBOSITY=10`) and attach the full output. Cause: converting <bound method PyramidROIAlign.call of <pixellib.instance.mask_rcnn.PyramidROIAlign object at 0x7f79ba421850>>: AttributeError: module 'gast' has no attribute 'Index'\n",
      "WARNING:tensorflow:Entity <bound method DetectionLayer.call of <pixellib.instance.mask_rcnn.DetectionLayer object at 0x7f7a889ec110>> could not be transformed and will be executed as-is. Please report this to the AutgoGraph team. When filing the bug, set the verbosity to 10 (on Linux, `export AUTOGRAPH_VERBOSITY=10`) and attach the full output. Cause: converting <bound method DetectionLayer.call of <pixellib.instance.mask_rcnn.DetectionLayer object at 0x7f7a889ec110>>: AttributeError: module 'gast' has no attribute 'Index'\n"
     ]
    },
    {
     "name": "stderr",
     "output_type": "stream",
     "text": [
      "11/27/2022 23:41:31 - WARNING - tensorflow -   Entity <bound method DetectionLayer.call of <pixellib.instance.mask_rcnn.DetectionLayer object at 0x7f7a889ec110>> could not be transformed and will be executed as-is. Please report this to the AutgoGraph team. When filing the bug, set the verbosity to 10 (on Linux, `export AUTOGRAPH_VERBOSITY=10`) and attach the full output. Cause: converting <bound method DetectionLayer.call of <pixellib.instance.mask_rcnn.DetectionLayer object at 0x7f7a889ec110>>: AttributeError: module 'gast' has no attribute 'Index'\n"
     ]
    },
    {
     "name": "stdout",
     "output_type": "stream",
     "text": [
      "WARNING: Entity <bound method DetectionLayer.call of <pixellib.instance.mask_rcnn.DetectionLayer object at 0x7f7a889ec110>> could not be transformed and will be executed as-is. Please report this to the AutgoGraph team. When filing the bug, set the verbosity to 10 (on Linux, `export AUTOGRAPH_VERBOSITY=10`) and attach the full output. Cause: converting <bound method DetectionLayer.call of <pixellib.instance.mask_rcnn.DetectionLayer object at 0x7f7a889ec110>>: AttributeError: module 'gast' has no attribute 'Index'\n",
      "WARNING:tensorflow:Entity <bound method PyramidROIAlign.call of <pixellib.instance.mask_rcnn.PyramidROIAlign object at 0x7f7a88cea350>> could not be transformed and will be executed as-is. Please report this to the AutgoGraph team. When filing the bug, set the verbosity to 10 (on Linux, `export AUTOGRAPH_VERBOSITY=10`) and attach the full output. Cause: converting <bound method PyramidROIAlign.call of <pixellib.instance.mask_rcnn.PyramidROIAlign object at 0x7f7a88cea350>>: AttributeError: module 'gast' has no attribute 'Index'\n"
     ]
    },
    {
     "name": "stderr",
     "output_type": "stream",
     "text": [
      "11/27/2022 23:41:32 - WARNING - tensorflow -   Entity <bound method PyramidROIAlign.call of <pixellib.instance.mask_rcnn.PyramidROIAlign object at 0x7f7a88cea350>> could not be transformed and will be executed as-is. Please report this to the AutgoGraph team. When filing the bug, set the verbosity to 10 (on Linux, `export AUTOGRAPH_VERBOSITY=10`) and attach the full output. Cause: converting <bound method PyramidROIAlign.call of <pixellib.instance.mask_rcnn.PyramidROIAlign object at 0x7f7a88cea350>>: AttributeError: module 'gast' has no attribute 'Index'\n"
     ]
    },
    {
     "name": "stdout",
     "output_type": "stream",
     "text": [
      "WARNING: Entity <bound method PyramidROIAlign.call of <pixellib.instance.mask_rcnn.PyramidROIAlign object at 0x7f7a88cea350>> could not be transformed and will be executed as-is. Please report this to the AutgoGraph team. When filing the bug, set the verbosity to 10 (on Linux, `export AUTOGRAPH_VERBOSITY=10`) and attach the full output. Cause: converting <bound method PyramidROIAlign.call of <pixellib.instance.mask_rcnn.PyramidROIAlign object at 0x7f7a88cea350>>: AttributeError: module 'gast' has no attribute 'Index'\n",
      "(853, 1280, 3)\n"
     ]
    }
   ],
   "source": [
    "from pixellib.instance import instance_segmentation\n",
    "import cv2\n",
    "\n",
    "instance_seg = instance_segmentation()\n",
    "instance_seg.load_model(\"/Users/reejungkim/Desktop/mask_rcnn_coco.h5\")\n",
    "segmask, output = instance_seg.segmentImage(\"/Users/reejungkim/Documents/Git/SemanticSeg/imgs/people-street-city.jpg\", show_bboxes= True)\n",
    "cv2.imwrite(\"/Users/reejungkim/Documents/Git/SemanticSeg/imgs/people-street-city_masked_coco.jpg\", output)\n",
    "print(output.shape)"
   ]
  },
  {
   "cell_type": "markdown",
   "metadata": {},
   "source": [
    "# Custom data set"
   ]
  },
  {
   "cell_type": "code",
   "execution_count": 52,
   "metadata": {},
   "outputs": [],
   "source": [
    "from pixellib.custom_train import instance_custom_training\n",
    "\n",
    "vis_img = instance_custom_training()\n"
   ]
  },
  {
   "cell_type": "code",
   "execution_count": 55,
   "metadata": {},
   "outputs": [
    {
     "name": "stdout",
     "output_type": "stream",
     "text": [
      "Using resnet101 as network backbone For Mask R-CNN model\n",
      "WARNING:tensorflow:Entity <bound method BatchNorm.call of <pixellib.instance.mask_rcnn.BatchNorm object at 0x7f7a88b8e5d0>> could not be transformed and will be executed as-is. Please report this to the AutgoGraph team. When filing the bug, set the verbosity to 10 (on Linux, `export AUTOGRAPH_VERBOSITY=10`) and attach the full output. Cause: converting <bound method BatchNorm.call of <pixellib.instance.mask_rcnn.BatchNorm object at 0x7f7a88b8e5d0>>: AttributeError: module 'gast' has no attribute 'Str'\n"
     ]
    },
    {
     "name": "stderr",
     "output_type": "stream",
     "text": [
      "11/27/2022 23:37:09 - WARNING - tensorflow -   Entity <bound method BatchNorm.call of <pixellib.instance.mask_rcnn.BatchNorm object at 0x7f7a88b8e5d0>> could not be transformed and will be executed as-is. Please report this to the AutgoGraph team. When filing the bug, set the verbosity to 10 (on Linux, `export AUTOGRAPH_VERBOSITY=10`) and attach the full output. Cause: converting <bound method BatchNorm.call of <pixellib.instance.mask_rcnn.BatchNorm object at 0x7f7a88b8e5d0>>: AttributeError: module 'gast' has no attribute 'Str'\n"
     ]
    },
    {
     "name": "stdout",
     "output_type": "stream",
     "text": [
      "WARNING: Entity <bound method BatchNorm.call of <pixellib.instance.mask_rcnn.BatchNorm object at 0x7f7a88b8e5d0>> could not be transformed and will be executed as-is. Please report this to the AutgoGraph team. When filing the bug, set the verbosity to 10 (on Linux, `export AUTOGRAPH_VERBOSITY=10`) and attach the full output. Cause: converting <bound method BatchNorm.call of <pixellib.instance.mask_rcnn.BatchNorm object at 0x7f7a88b8e5d0>>: AttributeError: module 'gast' has no attribute 'Str'\n",
      "WARNING:tensorflow:Entity <bound method BatchNorm.call of <pixellib.instance.mask_rcnn.BatchNorm object at 0x7f7a885ed610>> could not be transformed and will be executed as-is. Please report this to the AutgoGraph team. When filing the bug, set the verbosity to 10 (on Linux, `export AUTOGRAPH_VERBOSITY=10`) and attach the full output. Cause: converting <bound method BatchNorm.call of <pixellib.instance.mask_rcnn.BatchNorm object at 0x7f7a885ed610>>: AttributeError: module 'gast' has no attribute 'Str'\n"
     ]
    },
    {
     "name": "stderr",
     "output_type": "stream",
     "text": [
      "11/27/2022 23:37:09 - WARNING - tensorflow -   Entity <bound method BatchNorm.call of <pixellib.instance.mask_rcnn.BatchNorm object at 0x7f7a885ed610>> could not be transformed and will be executed as-is. Please report this to the AutgoGraph team. When filing the bug, set the verbosity to 10 (on Linux, `export AUTOGRAPH_VERBOSITY=10`) and attach the full output. Cause: converting <bound method BatchNorm.call of <pixellib.instance.mask_rcnn.BatchNorm object at 0x7f7a885ed610>>: AttributeError: module 'gast' has no attribute 'Str'\n"
     ]
    },
    {
     "name": "stdout",
     "output_type": "stream",
     "text": [
      "WARNING: Entity <bound method BatchNorm.call of <pixellib.instance.mask_rcnn.BatchNorm object at 0x7f7a885ed610>> could not be transformed and will be executed as-is. Please report this to the AutgoGraph team. When filing the bug, set the verbosity to 10 (on Linux, `export AUTOGRAPH_VERBOSITY=10`) and attach the full output. Cause: converting <bound method BatchNorm.call of <pixellib.instance.mask_rcnn.BatchNorm object at 0x7f7a885ed610>>: AttributeError: module 'gast' has no attribute 'Str'\n",
      "WARNING:tensorflow:Entity <bound method BatchNorm.call of <pixellib.instance.mask_rcnn.BatchNorm object at 0x7f7a89079fd0>> could not be transformed and will be executed as-is. Please report this to the AutgoGraph team. When filing the bug, set the verbosity to 10 (on Linux, `export AUTOGRAPH_VERBOSITY=10`) and attach the full output. Cause: converting <bound method BatchNorm.call of <pixellib.instance.mask_rcnn.BatchNorm object at 0x7f7a89079fd0>>: AttributeError: module 'gast' has no attribute 'Str'\n"
     ]
    },
    {
     "name": "stderr",
     "output_type": "stream",
     "text": [
      "11/27/2022 23:37:09 - WARNING - tensorflow -   Entity <bound method BatchNorm.call of <pixellib.instance.mask_rcnn.BatchNorm object at 0x7f7a89079fd0>> could not be transformed and will be executed as-is. Please report this to the AutgoGraph team. When filing the bug, set the verbosity to 10 (on Linux, `export AUTOGRAPH_VERBOSITY=10`) and attach the full output. Cause: converting <bound method BatchNorm.call of <pixellib.instance.mask_rcnn.BatchNorm object at 0x7f7a89079fd0>>: AttributeError: module 'gast' has no attribute 'Str'\n"
     ]
    },
    {
     "name": "stdout",
     "output_type": "stream",
     "text": [
      "WARNING: Entity <bound method BatchNorm.call of <pixellib.instance.mask_rcnn.BatchNorm object at 0x7f7a89079fd0>> could not be transformed and will be executed as-is. Please report this to the AutgoGraph team. When filing the bug, set the verbosity to 10 (on Linux, `export AUTOGRAPH_VERBOSITY=10`) and attach the full output. Cause: converting <bound method BatchNorm.call of <pixellib.instance.mask_rcnn.BatchNorm object at 0x7f7a89079fd0>>: AttributeError: module 'gast' has no attribute 'Str'\n",
      "WARNING:tensorflow:Entity <bound method BatchNorm.call of <pixellib.instance.mask_rcnn.BatchNorm object at 0x7f7a88b14450>> could not be transformed and will be executed as-is. Please report this to the AutgoGraph team. When filing the bug, set the verbosity to 10 (on Linux, `export AUTOGRAPH_VERBOSITY=10`) and attach the full output. Cause: converting <bound method BatchNorm.call of <pixellib.instance.mask_rcnn.BatchNorm object at 0x7f7a88b14450>>: AttributeError: module 'gast' has no attribute 'Str'\n"
     ]
    },
    {
     "name": "stderr",
     "output_type": "stream",
     "text": [
      "11/27/2022 23:37:09 - WARNING - tensorflow -   Entity <bound method BatchNorm.call of <pixellib.instance.mask_rcnn.BatchNorm object at 0x7f7a88b14450>> could not be transformed and will be executed as-is. Please report this to the AutgoGraph team. When filing the bug, set the verbosity to 10 (on Linux, `export AUTOGRAPH_VERBOSITY=10`) and attach the full output. Cause: converting <bound method BatchNorm.call of <pixellib.instance.mask_rcnn.BatchNorm object at 0x7f7a88b14450>>: AttributeError: module 'gast' has no attribute 'Str'\n"
     ]
    },
    {
     "name": "stdout",
     "output_type": "stream",
     "text": [
      "WARNING: Entity <bound method BatchNorm.call of <pixellib.instance.mask_rcnn.BatchNorm object at 0x7f7a88b14450>> could not be transformed and will be executed as-is. Please report this to the AutgoGraph team. When filing the bug, set the verbosity to 10 (on Linux, `export AUTOGRAPH_VERBOSITY=10`) and attach the full output. Cause: converting <bound method BatchNorm.call of <pixellib.instance.mask_rcnn.BatchNorm object at 0x7f7a88b14450>>: AttributeError: module 'gast' has no attribute 'Str'\n",
      "WARNING:tensorflow:Entity <bound method BatchNorm.call of <pixellib.instance.mask_rcnn.BatchNorm object at 0x7f7a892b2910>> could not be transformed and will be executed as-is. Please report this to the AutgoGraph team. When filing the bug, set the verbosity to 10 (on Linux, `export AUTOGRAPH_VERBOSITY=10`) and attach the full output. Cause: converting <bound method BatchNorm.call of <pixellib.instance.mask_rcnn.BatchNorm object at 0x7f7a892b2910>>: AttributeError: module 'gast' has no attribute 'Str'\n"
     ]
    },
    {
     "name": "stderr",
     "output_type": "stream",
     "text": [
      "11/27/2022 23:37:09 - WARNING - tensorflow -   Entity <bound method BatchNorm.call of <pixellib.instance.mask_rcnn.BatchNorm object at 0x7f7a892b2910>> could not be transformed and will be executed as-is. Please report this to the AutgoGraph team. When filing the bug, set the verbosity to 10 (on Linux, `export AUTOGRAPH_VERBOSITY=10`) and attach the full output. Cause: converting <bound method BatchNorm.call of <pixellib.instance.mask_rcnn.BatchNorm object at 0x7f7a892b2910>>: AttributeError: module 'gast' has no attribute 'Str'\n"
     ]
    },
    {
     "name": "stdout",
     "output_type": "stream",
     "text": [
      "WARNING: Entity <bound method BatchNorm.call of <pixellib.instance.mask_rcnn.BatchNorm object at 0x7f7a892b2910>> could not be transformed and will be executed as-is. Please report this to the AutgoGraph team. When filing the bug, set the verbosity to 10 (on Linux, `export AUTOGRAPH_VERBOSITY=10`) and attach the full output. Cause: converting <bound method BatchNorm.call of <pixellib.instance.mask_rcnn.BatchNorm object at 0x7f7a892b2910>>: AttributeError: module 'gast' has no attribute 'Str'\n",
      "WARNING:tensorflow:Entity <bound method BatchNorm.call of <pixellib.instance.mask_rcnn.BatchNorm object at 0x7f7a89580190>> could not be transformed and will be executed as-is. Please report this to the AutgoGraph team. When filing the bug, set the verbosity to 10 (on Linux, `export AUTOGRAPH_VERBOSITY=10`) and attach the full output. Cause: converting <bound method BatchNorm.call of <pixellib.instance.mask_rcnn.BatchNorm object at 0x7f7a89580190>>: AttributeError: module 'gast' has no attribute 'Str'\n"
     ]
    },
    {
     "name": "stderr",
     "output_type": "stream",
     "text": [
      "11/27/2022 23:37:09 - WARNING - tensorflow -   Entity <bound method BatchNorm.call of <pixellib.instance.mask_rcnn.BatchNorm object at 0x7f7a89580190>> could not be transformed and will be executed as-is. Please report this to the AutgoGraph team. When filing the bug, set the verbosity to 10 (on Linux, `export AUTOGRAPH_VERBOSITY=10`) and attach the full output. Cause: converting <bound method BatchNorm.call of <pixellib.instance.mask_rcnn.BatchNorm object at 0x7f7a89580190>>: AttributeError: module 'gast' has no attribute 'Str'\n"
     ]
    },
    {
     "name": "stdout",
     "output_type": "stream",
     "text": [
      "WARNING: Entity <bound method BatchNorm.call of <pixellib.instance.mask_rcnn.BatchNorm object at 0x7f7a89580190>> could not be transformed and will be executed as-is. Please report this to the AutgoGraph team. When filing the bug, set the verbosity to 10 (on Linux, `export AUTOGRAPH_VERBOSITY=10`) and attach the full output. Cause: converting <bound method BatchNorm.call of <pixellib.instance.mask_rcnn.BatchNorm object at 0x7f7a89580190>>: AttributeError: module 'gast' has no attribute 'Str'\n",
      "WARNING:tensorflow:Entity <bound method BatchNorm.call of <pixellib.instance.mask_rcnn.BatchNorm object at 0x7f7a89580990>> could not be transformed and will be executed as-is. Please report this to the AutgoGraph team. When filing the bug, set the verbosity to 10 (on Linux, `export AUTOGRAPH_VERBOSITY=10`) and attach the full output. Cause: converting <bound method BatchNorm.call of <pixellib.instance.mask_rcnn.BatchNorm object at 0x7f7a89580990>>: AttributeError: module 'gast' has no attribute 'Str'\n"
     ]
    },
    {
     "name": "stderr",
     "output_type": "stream",
     "text": [
      "11/27/2022 23:37:09 - WARNING - tensorflow -   Entity <bound method BatchNorm.call of <pixellib.instance.mask_rcnn.BatchNorm object at 0x7f7a89580990>> could not be transformed and will be executed as-is. Please report this to the AutgoGraph team. When filing the bug, set the verbosity to 10 (on Linux, `export AUTOGRAPH_VERBOSITY=10`) and attach the full output. Cause: converting <bound method BatchNorm.call of <pixellib.instance.mask_rcnn.BatchNorm object at 0x7f7a89580990>>: AttributeError: module 'gast' has no attribute 'Str'\n"
     ]
    },
    {
     "name": "stdout",
     "output_type": "stream",
     "text": [
      "WARNING: Entity <bound method BatchNorm.call of <pixellib.instance.mask_rcnn.BatchNorm object at 0x7f7a89580990>> could not be transformed and will be executed as-is. Please report this to the AutgoGraph team. When filing the bug, set the verbosity to 10 (on Linux, `export AUTOGRAPH_VERBOSITY=10`) and attach the full output. Cause: converting <bound method BatchNorm.call of <pixellib.instance.mask_rcnn.BatchNorm object at 0x7f7a89580990>>: AttributeError: module 'gast' has no attribute 'Str'\n",
      "WARNING:tensorflow:Entity <bound method BatchNorm.call of <pixellib.instance.mask_rcnn.BatchNorm object at 0x7f7a8c6b3990>> could not be transformed and will be executed as-is. Please report this to the AutgoGraph team. When filing the bug, set the verbosity to 10 (on Linux, `export AUTOGRAPH_VERBOSITY=10`) and attach the full output. Cause: converting <bound method BatchNorm.call of <pixellib.instance.mask_rcnn.BatchNorm object at 0x7f7a8c6b3990>>: AttributeError: module 'gast' has no attribute 'Str'\n"
     ]
    },
    {
     "name": "stderr",
     "output_type": "stream",
     "text": [
      "11/27/2022 23:37:09 - WARNING - tensorflow -   Entity <bound method BatchNorm.call of <pixellib.instance.mask_rcnn.BatchNorm object at 0x7f7a8c6b3990>> could not be transformed and will be executed as-is. Please report this to the AutgoGraph team. When filing the bug, set the verbosity to 10 (on Linux, `export AUTOGRAPH_VERBOSITY=10`) and attach the full output. Cause: converting <bound method BatchNorm.call of <pixellib.instance.mask_rcnn.BatchNorm object at 0x7f7a8c6b3990>>: AttributeError: module 'gast' has no attribute 'Str'\n"
     ]
    },
    {
     "name": "stdout",
     "output_type": "stream",
     "text": [
      "WARNING: Entity <bound method BatchNorm.call of <pixellib.instance.mask_rcnn.BatchNorm object at 0x7f7a8c6b3990>> could not be transformed and will be executed as-is. Please report this to the AutgoGraph team. When filing the bug, set the verbosity to 10 (on Linux, `export AUTOGRAPH_VERBOSITY=10`) and attach the full output. Cause: converting <bound method BatchNorm.call of <pixellib.instance.mask_rcnn.BatchNorm object at 0x7f7a8c6b3990>>: AttributeError: module 'gast' has no attribute 'Str'\n",
      "WARNING:tensorflow:Entity <bound method BatchNorm.call of <pixellib.instance.mask_rcnn.BatchNorm object at 0x7f7a94276650>> could not be transformed and will be executed as-is. Please report this to the AutgoGraph team. When filing the bug, set the verbosity to 10 (on Linux, `export AUTOGRAPH_VERBOSITY=10`) and attach the full output. Cause: converting <bound method BatchNorm.call of <pixellib.instance.mask_rcnn.BatchNorm object at 0x7f7a94276650>>: AttributeError: module 'gast' has no attribute 'Str'\n"
     ]
    },
    {
     "name": "stderr",
     "output_type": "stream",
     "text": [
      "11/27/2022 23:37:10 - WARNING - tensorflow -   Entity <bound method BatchNorm.call of <pixellib.instance.mask_rcnn.BatchNorm object at 0x7f7a94276650>> could not be transformed and will be executed as-is. Please report this to the AutgoGraph team. When filing the bug, set the verbosity to 10 (on Linux, `export AUTOGRAPH_VERBOSITY=10`) and attach the full output. Cause: converting <bound method BatchNorm.call of <pixellib.instance.mask_rcnn.BatchNorm object at 0x7f7a94276650>>: AttributeError: module 'gast' has no attribute 'Str'\n"
     ]
    },
    {
     "name": "stdout",
     "output_type": "stream",
     "text": [
      "WARNING: Entity <bound method BatchNorm.call of <pixellib.instance.mask_rcnn.BatchNorm object at 0x7f7a94276650>> could not be transformed and will be executed as-is. Please report this to the AutgoGraph team. When filing the bug, set the verbosity to 10 (on Linux, `export AUTOGRAPH_VERBOSITY=10`) and attach the full output. Cause: converting <bound method BatchNorm.call of <pixellib.instance.mask_rcnn.BatchNorm object at 0x7f7a94276650>>: AttributeError: module 'gast' has no attribute 'Str'\n",
      "WARNING:tensorflow:Entity <bound method BatchNorm.call of <pixellib.instance.mask_rcnn.BatchNorm object at 0x7f7a97312e50>> could not be transformed and will be executed as-is. Please report this to the AutgoGraph team. When filing the bug, set the verbosity to 10 (on Linux, `export AUTOGRAPH_VERBOSITY=10`) and attach the full output. Cause: converting <bound method BatchNorm.call of <pixellib.instance.mask_rcnn.BatchNorm object at 0x7f7a97312e50>>: AttributeError: module 'gast' has no attribute 'Str'\n"
     ]
    },
    {
     "name": "stderr",
     "output_type": "stream",
     "text": [
      "11/27/2022 23:37:10 - WARNING - tensorflow -   Entity <bound method BatchNorm.call of <pixellib.instance.mask_rcnn.BatchNorm object at 0x7f7a97312e50>> could not be transformed and will be executed as-is. Please report this to the AutgoGraph team. When filing the bug, set the verbosity to 10 (on Linux, `export AUTOGRAPH_VERBOSITY=10`) and attach the full output. Cause: converting <bound method BatchNorm.call of <pixellib.instance.mask_rcnn.BatchNorm object at 0x7f7a97312e50>>: AttributeError: module 'gast' has no attribute 'Str'\n"
     ]
    },
    {
     "name": "stdout",
     "output_type": "stream",
     "text": [
      "WARNING: Entity <bound method BatchNorm.call of <pixellib.instance.mask_rcnn.BatchNorm object at 0x7f7a97312e50>> could not be transformed and will be executed as-is. Please report this to the AutgoGraph team. When filing the bug, set the verbosity to 10 (on Linux, `export AUTOGRAPH_VERBOSITY=10`) and attach the full output. Cause: converting <bound method BatchNorm.call of <pixellib.instance.mask_rcnn.BatchNorm object at 0x7f7a97312e50>>: AttributeError: module 'gast' has no attribute 'Str'\n",
      "WARNING:tensorflow:Entity <bound method BatchNorm.call of <pixellib.instance.mask_rcnn.BatchNorm object at 0x7f7a942b3a90>> could not be transformed and will be executed as-is. Please report this to the AutgoGraph team. When filing the bug, set the verbosity to 10 (on Linux, `export AUTOGRAPH_VERBOSITY=10`) and attach the full output. Cause: converting <bound method BatchNorm.call of <pixellib.instance.mask_rcnn.BatchNorm object at 0x7f7a942b3a90>>: AttributeError: module 'gast' has no attribute 'Str'\n"
     ]
    },
    {
     "name": "stderr",
     "output_type": "stream",
     "text": [
      "11/27/2022 23:37:10 - WARNING - tensorflow -   Entity <bound method BatchNorm.call of <pixellib.instance.mask_rcnn.BatchNorm object at 0x7f7a942b3a90>> could not be transformed and will be executed as-is. Please report this to the AutgoGraph team. When filing the bug, set the verbosity to 10 (on Linux, `export AUTOGRAPH_VERBOSITY=10`) and attach the full output. Cause: converting <bound method BatchNorm.call of <pixellib.instance.mask_rcnn.BatchNorm object at 0x7f7a942b3a90>>: AttributeError: module 'gast' has no attribute 'Str'\n"
     ]
    },
    {
     "name": "stdout",
     "output_type": "stream",
     "text": [
      "WARNING: Entity <bound method BatchNorm.call of <pixellib.instance.mask_rcnn.BatchNorm object at 0x7f7a942b3a90>> could not be transformed and will be executed as-is. Please report this to the AutgoGraph team. When filing the bug, set the verbosity to 10 (on Linux, `export AUTOGRAPH_VERBOSITY=10`) and attach the full output. Cause: converting <bound method BatchNorm.call of <pixellib.instance.mask_rcnn.BatchNorm object at 0x7f7a942b3a90>>: AttributeError: module 'gast' has no attribute 'Str'\n",
      "WARNING:tensorflow:Entity <bound method BatchNorm.call of <pixellib.instance.mask_rcnn.BatchNorm object at 0x7f7a976e5710>> could not be transformed and will be executed as-is. Please report this to the AutgoGraph team. When filing the bug, set the verbosity to 10 (on Linux, `export AUTOGRAPH_VERBOSITY=10`) and attach the full output. Cause: converting <bound method BatchNorm.call of <pixellib.instance.mask_rcnn.BatchNorm object at 0x7f7a976e5710>>: AttributeError: module 'gast' has no attribute 'Str'\n"
     ]
    },
    {
     "name": "stderr",
     "output_type": "stream",
     "text": [
      "11/27/2022 23:37:10 - WARNING - tensorflow -   Entity <bound method BatchNorm.call of <pixellib.instance.mask_rcnn.BatchNorm object at 0x7f7a976e5710>> could not be transformed and will be executed as-is. Please report this to the AutgoGraph team. When filing the bug, set the verbosity to 10 (on Linux, `export AUTOGRAPH_VERBOSITY=10`) and attach the full output. Cause: converting <bound method BatchNorm.call of <pixellib.instance.mask_rcnn.BatchNorm object at 0x7f7a976e5710>>: AttributeError: module 'gast' has no attribute 'Str'\n"
     ]
    },
    {
     "name": "stdout",
     "output_type": "stream",
     "text": [
      "WARNING: Entity <bound method BatchNorm.call of <pixellib.instance.mask_rcnn.BatchNorm object at 0x7f7a976e5710>> could not be transformed and will be executed as-is. Please report this to the AutgoGraph team. When filing the bug, set the verbosity to 10 (on Linux, `export AUTOGRAPH_VERBOSITY=10`) and attach the full output. Cause: converting <bound method BatchNorm.call of <pixellib.instance.mask_rcnn.BatchNorm object at 0x7f7a976e5710>>: AttributeError: module 'gast' has no attribute 'Str'\n",
      "WARNING:tensorflow:Entity <bound method BatchNorm.call of <pixellib.instance.mask_rcnn.BatchNorm object at 0x7f7a977db050>> could not be transformed and will be executed as-is. Please report this to the AutgoGraph team. When filing the bug, set the verbosity to 10 (on Linux, `export AUTOGRAPH_VERBOSITY=10`) and attach the full output. Cause: converting <bound method BatchNorm.call of <pixellib.instance.mask_rcnn.BatchNorm object at 0x7f7a977db050>>: AttributeError: module 'gast' has no attribute 'Str'\n"
     ]
    },
    {
     "name": "stderr",
     "output_type": "stream",
     "text": [
      "11/27/2022 23:37:10 - WARNING - tensorflow -   Entity <bound method BatchNorm.call of <pixellib.instance.mask_rcnn.BatchNorm object at 0x7f7a977db050>> could not be transformed and will be executed as-is. Please report this to the AutgoGraph team. When filing the bug, set the verbosity to 10 (on Linux, `export AUTOGRAPH_VERBOSITY=10`) and attach the full output. Cause: converting <bound method BatchNorm.call of <pixellib.instance.mask_rcnn.BatchNorm object at 0x7f7a977db050>>: AttributeError: module 'gast' has no attribute 'Str'\n"
     ]
    },
    {
     "name": "stdout",
     "output_type": "stream",
     "text": [
      "WARNING: Entity <bound method BatchNorm.call of <pixellib.instance.mask_rcnn.BatchNorm object at 0x7f7a977db050>> could not be transformed and will be executed as-is. Please report this to the AutgoGraph team. When filing the bug, set the verbosity to 10 (on Linux, `export AUTOGRAPH_VERBOSITY=10`) and attach the full output. Cause: converting <bound method BatchNorm.call of <pixellib.instance.mask_rcnn.BatchNorm object at 0x7f7a977db050>>: AttributeError: module 'gast' has no attribute 'Str'\n",
      "WARNING:tensorflow:Entity <bound method BatchNorm.call of <pixellib.instance.mask_rcnn.BatchNorm object at 0x7f7a98112fd0>> could not be transformed and will be executed as-is. Please report this to the AutgoGraph team. When filing the bug, set the verbosity to 10 (on Linux, `export AUTOGRAPH_VERBOSITY=10`) and attach the full output. Cause: converting <bound method BatchNorm.call of <pixellib.instance.mask_rcnn.BatchNorm object at 0x7f7a98112fd0>>: AttributeError: module 'gast' has no attribute 'Str'\n"
     ]
    },
    {
     "name": "stderr",
     "output_type": "stream",
     "text": [
      "11/27/2022 23:37:10 - WARNING - tensorflow -   Entity <bound method BatchNorm.call of <pixellib.instance.mask_rcnn.BatchNorm object at 0x7f7a98112fd0>> could not be transformed and will be executed as-is. Please report this to the AutgoGraph team. When filing the bug, set the verbosity to 10 (on Linux, `export AUTOGRAPH_VERBOSITY=10`) and attach the full output. Cause: converting <bound method BatchNorm.call of <pixellib.instance.mask_rcnn.BatchNorm object at 0x7f7a98112fd0>>: AttributeError: module 'gast' has no attribute 'Str'\n"
     ]
    },
    {
     "name": "stdout",
     "output_type": "stream",
     "text": [
      "WARNING: Entity <bound method BatchNorm.call of <pixellib.instance.mask_rcnn.BatchNorm object at 0x7f7a98112fd0>> could not be transformed and will be executed as-is. Please report this to the AutgoGraph team. When filing the bug, set the verbosity to 10 (on Linux, `export AUTOGRAPH_VERBOSITY=10`) and attach the full output. Cause: converting <bound method BatchNorm.call of <pixellib.instance.mask_rcnn.BatchNorm object at 0x7f7a98112fd0>>: AttributeError: module 'gast' has no attribute 'Str'\n",
      "WARNING:tensorflow:Entity <bound method BatchNorm.call of <pixellib.instance.mask_rcnn.BatchNorm object at 0x7f7a974466d0>> could not be transformed and will be executed as-is. Please report this to the AutgoGraph team. When filing the bug, set the verbosity to 10 (on Linux, `export AUTOGRAPH_VERBOSITY=10`) and attach the full output. Cause: converting <bound method BatchNorm.call of <pixellib.instance.mask_rcnn.BatchNorm object at 0x7f7a974466d0>>: AttributeError: module 'gast' has no attribute 'Str'\n"
     ]
    },
    {
     "name": "stderr",
     "output_type": "stream",
     "text": [
      "11/27/2022 23:37:10 - WARNING - tensorflow -   Entity <bound method BatchNorm.call of <pixellib.instance.mask_rcnn.BatchNorm object at 0x7f7a974466d0>> could not be transformed and will be executed as-is. Please report this to the AutgoGraph team. When filing the bug, set the verbosity to 10 (on Linux, `export AUTOGRAPH_VERBOSITY=10`) and attach the full output. Cause: converting <bound method BatchNorm.call of <pixellib.instance.mask_rcnn.BatchNorm object at 0x7f7a974466d0>>: AttributeError: module 'gast' has no attribute 'Str'\n"
     ]
    },
    {
     "name": "stdout",
     "output_type": "stream",
     "text": [
      "WARNING: Entity <bound method BatchNorm.call of <pixellib.instance.mask_rcnn.BatchNorm object at 0x7f7a974466d0>> could not be transformed and will be executed as-is. Please report this to the AutgoGraph team. When filing the bug, set the verbosity to 10 (on Linux, `export AUTOGRAPH_VERBOSITY=10`) and attach the full output. Cause: converting <bound method BatchNorm.call of <pixellib.instance.mask_rcnn.BatchNorm object at 0x7f7a974466d0>>: AttributeError: module 'gast' has no attribute 'Str'\n",
      "WARNING:tensorflow:Entity <bound method BatchNorm.call of <pixellib.instance.mask_rcnn.BatchNorm object at 0x7f7a98638150>> could not be transformed and will be executed as-is. Please report this to the AutgoGraph team. When filing the bug, set the verbosity to 10 (on Linux, `export AUTOGRAPH_VERBOSITY=10`) and attach the full output. Cause: converting <bound method BatchNorm.call of <pixellib.instance.mask_rcnn.BatchNorm object at 0x7f7a98638150>>: AttributeError: module 'gast' has no attribute 'Str'\n"
     ]
    },
    {
     "name": "stderr",
     "output_type": "stream",
     "text": [
      "11/27/2022 23:37:10 - WARNING - tensorflow -   Entity <bound method BatchNorm.call of <pixellib.instance.mask_rcnn.BatchNorm object at 0x7f7a98638150>> could not be transformed and will be executed as-is. Please report this to the AutgoGraph team. When filing the bug, set the verbosity to 10 (on Linux, `export AUTOGRAPH_VERBOSITY=10`) and attach the full output. Cause: converting <bound method BatchNorm.call of <pixellib.instance.mask_rcnn.BatchNorm object at 0x7f7a98638150>>: AttributeError: module 'gast' has no attribute 'Str'\n"
     ]
    },
    {
     "name": "stdout",
     "output_type": "stream",
     "text": [
      "WARNING: Entity <bound method BatchNorm.call of <pixellib.instance.mask_rcnn.BatchNorm object at 0x7f7a98638150>> could not be transformed and will be executed as-is. Please report this to the AutgoGraph team. When filing the bug, set the verbosity to 10 (on Linux, `export AUTOGRAPH_VERBOSITY=10`) and attach the full output. Cause: converting <bound method BatchNorm.call of <pixellib.instance.mask_rcnn.BatchNorm object at 0x7f7a98638150>>: AttributeError: module 'gast' has no attribute 'Str'\n",
      "WARNING:tensorflow:Entity <bound method BatchNorm.call of <pixellib.instance.mask_rcnn.BatchNorm object at 0x7f7a986dc9d0>> could not be transformed and will be executed as-is. Please report this to the AutgoGraph team. When filing the bug, set the verbosity to 10 (on Linux, `export AUTOGRAPH_VERBOSITY=10`) and attach the full output. Cause: converting <bound method BatchNorm.call of <pixellib.instance.mask_rcnn.BatchNorm object at 0x7f7a986dc9d0>>: AttributeError: module 'gast' has no attribute 'Str'\n"
     ]
    },
    {
     "name": "stderr",
     "output_type": "stream",
     "text": [
      "11/27/2022 23:37:10 - WARNING - tensorflow -   Entity <bound method BatchNorm.call of <pixellib.instance.mask_rcnn.BatchNorm object at 0x7f7a986dc9d0>> could not be transformed and will be executed as-is. Please report this to the AutgoGraph team. When filing the bug, set the verbosity to 10 (on Linux, `export AUTOGRAPH_VERBOSITY=10`) and attach the full output. Cause: converting <bound method BatchNorm.call of <pixellib.instance.mask_rcnn.BatchNorm object at 0x7f7a986dc9d0>>: AttributeError: module 'gast' has no attribute 'Str'\n"
     ]
    },
    {
     "name": "stdout",
     "output_type": "stream",
     "text": [
      "WARNING: Entity <bound method BatchNorm.call of <pixellib.instance.mask_rcnn.BatchNorm object at 0x7f7a986dc9d0>> could not be transformed and will be executed as-is. Please report this to the AutgoGraph team. When filing the bug, set the verbosity to 10 (on Linux, `export AUTOGRAPH_VERBOSITY=10`) and attach the full output. Cause: converting <bound method BatchNorm.call of <pixellib.instance.mask_rcnn.BatchNorm object at 0x7f7a986dc9d0>>: AttributeError: module 'gast' has no attribute 'Str'\n",
      "WARNING:tensorflow:Entity <bound method BatchNorm.call of <pixellib.instance.mask_rcnn.BatchNorm object at 0x7f7a977db990>> could not be transformed and will be executed as-is. Please report this to the AutgoGraph team. When filing the bug, set the verbosity to 10 (on Linux, `export AUTOGRAPH_VERBOSITY=10`) and attach the full output. Cause: converting <bound method BatchNorm.call of <pixellib.instance.mask_rcnn.BatchNorm object at 0x7f7a977db990>>: AttributeError: module 'gast' has no attribute 'Str'\n"
     ]
    },
    {
     "name": "stderr",
     "output_type": "stream",
     "text": [
      "11/27/2022 23:37:10 - WARNING - tensorflow -   Entity <bound method BatchNorm.call of <pixellib.instance.mask_rcnn.BatchNorm object at 0x7f7a977db990>> could not be transformed and will be executed as-is. Please report this to the AutgoGraph team. When filing the bug, set the verbosity to 10 (on Linux, `export AUTOGRAPH_VERBOSITY=10`) and attach the full output. Cause: converting <bound method BatchNorm.call of <pixellib.instance.mask_rcnn.BatchNorm object at 0x7f7a977db990>>: AttributeError: module 'gast' has no attribute 'Str'\n"
     ]
    },
    {
     "name": "stdout",
     "output_type": "stream",
     "text": [
      "WARNING: Entity <bound method BatchNorm.call of <pixellib.instance.mask_rcnn.BatchNorm object at 0x7f7a977db990>> could not be transformed and will be executed as-is. Please report this to the AutgoGraph team. When filing the bug, set the verbosity to 10 (on Linux, `export AUTOGRAPH_VERBOSITY=10`) and attach the full output. Cause: converting <bound method BatchNorm.call of <pixellib.instance.mask_rcnn.BatchNorm object at 0x7f7a977db990>>: AttributeError: module 'gast' has no attribute 'Str'\n",
      "WARNING:tensorflow:Entity <bound method BatchNorm.call of <pixellib.instance.mask_rcnn.BatchNorm object at 0x7f7a98b6ba10>> could not be transformed and will be executed as-is. Please report this to the AutgoGraph team. When filing the bug, set the verbosity to 10 (on Linux, `export AUTOGRAPH_VERBOSITY=10`) and attach the full output. Cause: converting <bound method BatchNorm.call of <pixellib.instance.mask_rcnn.BatchNorm object at 0x7f7a98b6ba10>>: AttributeError: module 'gast' has no attribute 'Str'\n"
     ]
    },
    {
     "name": "stderr",
     "output_type": "stream",
     "text": [
      "11/27/2022 23:37:10 - WARNING - tensorflow -   Entity <bound method BatchNorm.call of <pixellib.instance.mask_rcnn.BatchNorm object at 0x7f7a98b6ba10>> could not be transformed and will be executed as-is. Please report this to the AutgoGraph team. When filing the bug, set the verbosity to 10 (on Linux, `export AUTOGRAPH_VERBOSITY=10`) and attach the full output. Cause: converting <bound method BatchNorm.call of <pixellib.instance.mask_rcnn.BatchNorm object at 0x7f7a98b6ba10>>: AttributeError: module 'gast' has no attribute 'Str'\n"
     ]
    },
    {
     "name": "stdout",
     "output_type": "stream",
     "text": [
      "WARNING: Entity <bound method BatchNorm.call of <pixellib.instance.mask_rcnn.BatchNorm object at 0x7f7a98b6ba10>> could not be transformed and will be executed as-is. Please report this to the AutgoGraph team. When filing the bug, set the verbosity to 10 (on Linux, `export AUTOGRAPH_VERBOSITY=10`) and attach the full output. Cause: converting <bound method BatchNorm.call of <pixellib.instance.mask_rcnn.BatchNorm object at 0x7f7a98b6ba10>>: AttributeError: module 'gast' has no attribute 'Str'\n",
      "WARNING:tensorflow:Entity <bound method BatchNorm.call of <pixellib.instance.mask_rcnn.BatchNorm object at 0x7f7a98c5fc50>> could not be transformed and will be executed as-is. Please report this to the AutgoGraph team. When filing the bug, set the verbosity to 10 (on Linux, `export AUTOGRAPH_VERBOSITY=10`) and attach the full output. Cause: converting <bound method BatchNorm.call of <pixellib.instance.mask_rcnn.BatchNorm object at 0x7f7a98c5fc50>>: AttributeError: module 'gast' has no attribute 'Str'\n"
     ]
    },
    {
     "name": "stderr",
     "output_type": "stream",
     "text": [
      "11/27/2022 23:37:11 - WARNING - tensorflow -   Entity <bound method BatchNorm.call of <pixellib.instance.mask_rcnn.BatchNorm object at 0x7f7a98c5fc50>> could not be transformed and will be executed as-is. Please report this to the AutgoGraph team. When filing the bug, set the verbosity to 10 (on Linux, `export AUTOGRAPH_VERBOSITY=10`) and attach the full output. Cause: converting <bound method BatchNorm.call of <pixellib.instance.mask_rcnn.BatchNorm object at 0x7f7a98c5fc50>>: AttributeError: module 'gast' has no attribute 'Str'\n"
     ]
    },
    {
     "name": "stdout",
     "output_type": "stream",
     "text": [
      "WARNING: Entity <bound method BatchNorm.call of <pixellib.instance.mask_rcnn.BatchNorm object at 0x7f7a98c5fc50>> could not be transformed and will be executed as-is. Please report this to the AutgoGraph team. When filing the bug, set the verbosity to 10 (on Linux, `export AUTOGRAPH_VERBOSITY=10`) and attach the full output. Cause: converting <bound method BatchNorm.call of <pixellib.instance.mask_rcnn.BatchNorm object at 0x7f7a98c5fc50>>: AttributeError: module 'gast' has no attribute 'Str'\n",
      "WARNING:tensorflow:Entity <bound method BatchNorm.call of <pixellib.instance.mask_rcnn.BatchNorm object at 0x7f7a98d7f1d0>> could not be transformed and will be executed as-is. Please report this to the AutgoGraph team. When filing the bug, set the verbosity to 10 (on Linux, `export AUTOGRAPH_VERBOSITY=10`) and attach the full output. Cause: converting <bound method BatchNorm.call of <pixellib.instance.mask_rcnn.BatchNorm object at 0x7f7a98d7f1d0>>: AttributeError: module 'gast' has no attribute 'Str'\n"
     ]
    },
    {
     "name": "stderr",
     "output_type": "stream",
     "text": [
      "11/27/2022 23:37:11 - WARNING - tensorflow -   Entity <bound method BatchNorm.call of <pixellib.instance.mask_rcnn.BatchNorm object at 0x7f7a98d7f1d0>> could not be transformed and will be executed as-is. Please report this to the AutgoGraph team. When filing the bug, set the verbosity to 10 (on Linux, `export AUTOGRAPH_VERBOSITY=10`) and attach the full output. Cause: converting <bound method BatchNorm.call of <pixellib.instance.mask_rcnn.BatchNorm object at 0x7f7a98d7f1d0>>: AttributeError: module 'gast' has no attribute 'Str'\n"
     ]
    },
    {
     "name": "stdout",
     "output_type": "stream",
     "text": [
      "WARNING: Entity <bound method BatchNorm.call of <pixellib.instance.mask_rcnn.BatchNorm object at 0x7f7a98d7f1d0>> could not be transformed and will be executed as-is. Please report this to the AutgoGraph team. When filing the bug, set the verbosity to 10 (on Linux, `export AUTOGRAPH_VERBOSITY=10`) and attach the full output. Cause: converting <bound method BatchNorm.call of <pixellib.instance.mask_rcnn.BatchNorm object at 0x7f7a98d7f1d0>>: AttributeError: module 'gast' has no attribute 'Str'\n",
      "WARNING:tensorflow:Entity <bound method BatchNorm.call of <pixellib.instance.mask_rcnn.BatchNorm object at 0x7f7a98f73ed0>> could not be transformed and will be executed as-is. Please report this to the AutgoGraph team. When filing the bug, set the verbosity to 10 (on Linux, `export AUTOGRAPH_VERBOSITY=10`) and attach the full output. Cause: converting <bound method BatchNorm.call of <pixellib.instance.mask_rcnn.BatchNorm object at 0x7f7a98f73ed0>>: AttributeError: module 'gast' has no attribute 'Str'\n"
     ]
    },
    {
     "name": "stderr",
     "output_type": "stream",
     "text": [
      "11/27/2022 23:37:11 - WARNING - tensorflow -   Entity <bound method BatchNorm.call of <pixellib.instance.mask_rcnn.BatchNorm object at 0x7f7a98f73ed0>> could not be transformed and will be executed as-is. Please report this to the AutgoGraph team. When filing the bug, set the verbosity to 10 (on Linux, `export AUTOGRAPH_VERBOSITY=10`) and attach the full output. Cause: converting <bound method BatchNorm.call of <pixellib.instance.mask_rcnn.BatchNorm object at 0x7f7a98f73ed0>>: AttributeError: module 'gast' has no attribute 'Str'\n"
     ]
    },
    {
     "name": "stdout",
     "output_type": "stream",
     "text": [
      "WARNING: Entity <bound method BatchNorm.call of <pixellib.instance.mask_rcnn.BatchNorm object at 0x7f7a98f73ed0>> could not be transformed and will be executed as-is. Please report this to the AutgoGraph team. When filing the bug, set the verbosity to 10 (on Linux, `export AUTOGRAPH_VERBOSITY=10`) and attach the full output. Cause: converting <bound method BatchNorm.call of <pixellib.instance.mask_rcnn.BatchNorm object at 0x7f7a98f73ed0>>: AttributeError: module 'gast' has no attribute 'Str'\n",
      "WARNING:tensorflow:Entity <bound method BatchNorm.call of <pixellib.instance.mask_rcnn.BatchNorm object at 0x7f7a99002490>> could not be transformed and will be executed as-is. Please report this to the AutgoGraph team. When filing the bug, set the verbosity to 10 (on Linux, `export AUTOGRAPH_VERBOSITY=10`) and attach the full output. Cause: converting <bound method BatchNorm.call of <pixellib.instance.mask_rcnn.BatchNorm object at 0x7f7a99002490>>: AttributeError: module 'gast' has no attribute 'Str'\n"
     ]
    },
    {
     "name": "stderr",
     "output_type": "stream",
     "text": [
      "11/27/2022 23:37:11 - WARNING - tensorflow -   Entity <bound method BatchNorm.call of <pixellib.instance.mask_rcnn.BatchNorm object at 0x7f7a99002490>> could not be transformed and will be executed as-is. Please report this to the AutgoGraph team. When filing the bug, set the verbosity to 10 (on Linux, `export AUTOGRAPH_VERBOSITY=10`) and attach the full output. Cause: converting <bound method BatchNorm.call of <pixellib.instance.mask_rcnn.BatchNorm object at 0x7f7a99002490>>: AttributeError: module 'gast' has no attribute 'Str'\n"
     ]
    },
    {
     "name": "stdout",
     "output_type": "stream",
     "text": [
      "WARNING: Entity <bound method BatchNorm.call of <pixellib.instance.mask_rcnn.BatchNorm object at 0x7f7a99002490>> could not be transformed and will be executed as-is. Please report this to the AutgoGraph team. When filing the bug, set the verbosity to 10 (on Linux, `export AUTOGRAPH_VERBOSITY=10`) and attach the full output. Cause: converting <bound method BatchNorm.call of <pixellib.instance.mask_rcnn.BatchNorm object at 0x7f7a99002490>>: AttributeError: module 'gast' has no attribute 'Str'\n",
      "WARNING:tensorflow:Entity <bound method BatchNorm.call of <pixellib.instance.mask_rcnn.BatchNorm object at 0x7f7a99133510>> could not be transformed and will be executed as-is. Please report this to the AutgoGraph team. When filing the bug, set the verbosity to 10 (on Linux, `export AUTOGRAPH_VERBOSITY=10`) and attach the full output. Cause: converting <bound method BatchNorm.call of <pixellib.instance.mask_rcnn.BatchNorm object at 0x7f7a99133510>>: AttributeError: module 'gast' has no attribute 'Str'\n"
     ]
    },
    {
     "name": "stderr",
     "output_type": "stream",
     "text": [
      "11/27/2022 23:37:11 - WARNING - tensorflow -   Entity <bound method BatchNorm.call of <pixellib.instance.mask_rcnn.BatchNorm object at 0x7f7a99133510>> could not be transformed and will be executed as-is. Please report this to the AutgoGraph team. When filing the bug, set the verbosity to 10 (on Linux, `export AUTOGRAPH_VERBOSITY=10`) and attach the full output. Cause: converting <bound method BatchNorm.call of <pixellib.instance.mask_rcnn.BatchNorm object at 0x7f7a99133510>>: AttributeError: module 'gast' has no attribute 'Str'\n"
     ]
    },
    {
     "name": "stdout",
     "output_type": "stream",
     "text": [
      "WARNING: Entity <bound method BatchNorm.call of <pixellib.instance.mask_rcnn.BatchNorm object at 0x7f7a99133510>> could not be transformed and will be executed as-is. Please report this to the AutgoGraph team. When filing the bug, set the verbosity to 10 (on Linux, `export AUTOGRAPH_VERBOSITY=10`) and attach the full output. Cause: converting <bound method BatchNorm.call of <pixellib.instance.mask_rcnn.BatchNorm object at 0x7f7a99133510>>: AttributeError: module 'gast' has no attribute 'Str'\n",
      "WARNING:tensorflow:Entity <bound method BatchNorm.call of <pixellib.instance.mask_rcnn.BatchNorm object at 0x7f7a9940c210>> could not be transformed and will be executed as-is. Please report this to the AutgoGraph team. When filing the bug, set the verbosity to 10 (on Linux, `export AUTOGRAPH_VERBOSITY=10`) and attach the full output. Cause: converting <bound method BatchNorm.call of <pixellib.instance.mask_rcnn.BatchNorm object at 0x7f7a9940c210>>: AttributeError: module 'gast' has no attribute 'Str'\n"
     ]
    },
    {
     "name": "stderr",
     "output_type": "stream",
     "text": [
      "11/27/2022 23:37:11 - WARNING - tensorflow -   Entity <bound method BatchNorm.call of <pixellib.instance.mask_rcnn.BatchNorm object at 0x7f7a9940c210>> could not be transformed and will be executed as-is. Please report this to the AutgoGraph team. When filing the bug, set the verbosity to 10 (on Linux, `export AUTOGRAPH_VERBOSITY=10`) and attach the full output. Cause: converting <bound method BatchNorm.call of <pixellib.instance.mask_rcnn.BatchNorm object at 0x7f7a9940c210>>: AttributeError: module 'gast' has no attribute 'Str'\n"
     ]
    },
    {
     "name": "stdout",
     "output_type": "stream",
     "text": [
      "WARNING: Entity <bound method BatchNorm.call of <pixellib.instance.mask_rcnn.BatchNorm object at 0x7f7a9940c210>> could not be transformed and will be executed as-is. Please report this to the AutgoGraph team. When filing the bug, set the verbosity to 10 (on Linux, `export AUTOGRAPH_VERBOSITY=10`) and attach the full output. Cause: converting <bound method BatchNorm.call of <pixellib.instance.mask_rcnn.BatchNorm object at 0x7f7a9940c210>>: AttributeError: module 'gast' has no attribute 'Str'\n",
      "WARNING:tensorflow:Entity <bound method BatchNorm.call of <pixellib.instance.mask_rcnn.BatchNorm object at 0x7f7a994496d0>> could not be transformed and will be executed as-is. Please report this to the AutgoGraph team. When filing the bug, set the verbosity to 10 (on Linux, `export AUTOGRAPH_VERBOSITY=10`) and attach the full output. Cause: converting <bound method BatchNorm.call of <pixellib.instance.mask_rcnn.BatchNorm object at 0x7f7a994496d0>>: AttributeError: module 'gast' has no attribute 'Str'\n"
     ]
    },
    {
     "name": "stderr",
     "output_type": "stream",
     "text": [
      "11/27/2022 23:37:11 - WARNING - tensorflow -   Entity <bound method BatchNorm.call of <pixellib.instance.mask_rcnn.BatchNorm object at 0x7f7a994496d0>> could not be transformed and will be executed as-is. Please report this to the AutgoGraph team. When filing the bug, set the verbosity to 10 (on Linux, `export AUTOGRAPH_VERBOSITY=10`) and attach the full output. Cause: converting <bound method BatchNorm.call of <pixellib.instance.mask_rcnn.BatchNorm object at 0x7f7a994496d0>>: AttributeError: module 'gast' has no attribute 'Str'\n"
     ]
    },
    {
     "name": "stdout",
     "output_type": "stream",
     "text": [
      "WARNING: Entity <bound method BatchNorm.call of <pixellib.instance.mask_rcnn.BatchNorm object at 0x7f7a994496d0>> could not be transformed and will be executed as-is. Please report this to the AutgoGraph team. When filing the bug, set the verbosity to 10 (on Linux, `export AUTOGRAPH_VERBOSITY=10`) and attach the full output. Cause: converting <bound method BatchNorm.call of <pixellib.instance.mask_rcnn.BatchNorm object at 0x7f7a994496d0>>: AttributeError: module 'gast' has no attribute 'Str'\n",
      "WARNING:tensorflow:Entity <bound method BatchNorm.call of <pixellib.instance.mask_rcnn.BatchNorm object at 0x7f7a99632350>> could not be transformed and will be executed as-is. Please report this to the AutgoGraph team. When filing the bug, set the verbosity to 10 (on Linux, `export AUTOGRAPH_VERBOSITY=10`) and attach the full output. Cause: converting <bound method BatchNorm.call of <pixellib.instance.mask_rcnn.BatchNorm object at 0x7f7a99632350>>: AttributeError: module 'gast' has no attribute 'Str'\n"
     ]
    },
    {
     "name": "stderr",
     "output_type": "stream",
     "text": [
      "11/27/2022 23:37:11 - WARNING - tensorflow -   Entity <bound method BatchNorm.call of <pixellib.instance.mask_rcnn.BatchNorm object at 0x7f7a99632350>> could not be transformed and will be executed as-is. Please report this to the AutgoGraph team. When filing the bug, set the verbosity to 10 (on Linux, `export AUTOGRAPH_VERBOSITY=10`) and attach the full output. Cause: converting <bound method BatchNorm.call of <pixellib.instance.mask_rcnn.BatchNorm object at 0x7f7a99632350>>: AttributeError: module 'gast' has no attribute 'Str'\n"
     ]
    },
    {
     "name": "stdout",
     "output_type": "stream",
     "text": [
      "WARNING: Entity <bound method BatchNorm.call of <pixellib.instance.mask_rcnn.BatchNorm object at 0x7f7a99632350>> could not be transformed and will be executed as-is. Please report this to the AutgoGraph team. When filing the bug, set the verbosity to 10 (on Linux, `export AUTOGRAPH_VERBOSITY=10`) and attach the full output. Cause: converting <bound method BatchNorm.call of <pixellib.instance.mask_rcnn.BatchNorm object at 0x7f7a99632350>>: AttributeError: module 'gast' has no attribute 'Str'\n",
      "WARNING:tensorflow:Entity <bound method BatchNorm.call of <pixellib.instance.mask_rcnn.BatchNorm object at 0x7f7a99765490>> could not be transformed and will be executed as-is. Please report this to the AutgoGraph team. When filing the bug, set the verbosity to 10 (on Linux, `export AUTOGRAPH_VERBOSITY=10`) and attach the full output. Cause: converting <bound method BatchNorm.call of <pixellib.instance.mask_rcnn.BatchNorm object at 0x7f7a99765490>>: AttributeError: module 'gast' has no attribute 'Str'\n"
     ]
    },
    {
     "name": "stderr",
     "output_type": "stream",
     "text": [
      "11/27/2022 23:37:11 - WARNING - tensorflow -   Entity <bound method BatchNorm.call of <pixellib.instance.mask_rcnn.BatchNorm object at 0x7f7a99765490>> could not be transformed and will be executed as-is. Please report this to the AutgoGraph team. When filing the bug, set the verbosity to 10 (on Linux, `export AUTOGRAPH_VERBOSITY=10`) and attach the full output. Cause: converting <bound method BatchNorm.call of <pixellib.instance.mask_rcnn.BatchNorm object at 0x7f7a99765490>>: AttributeError: module 'gast' has no attribute 'Str'\n"
     ]
    },
    {
     "name": "stdout",
     "output_type": "stream",
     "text": [
      "WARNING: Entity <bound method BatchNorm.call of <pixellib.instance.mask_rcnn.BatchNorm object at 0x7f7a99765490>> could not be transformed and will be executed as-is. Please report this to the AutgoGraph team. When filing the bug, set the verbosity to 10 (on Linux, `export AUTOGRAPH_VERBOSITY=10`) and attach the full output. Cause: converting <bound method BatchNorm.call of <pixellib.instance.mask_rcnn.BatchNorm object at 0x7f7a99765490>>: AttributeError: module 'gast' has no attribute 'Str'\n",
      "WARNING:tensorflow:Entity <bound method BatchNorm.call of <pixellib.instance.mask_rcnn.BatchNorm object at 0x7f7a999fff10>> could not be transformed and will be executed as-is. Please report this to the AutgoGraph team. When filing the bug, set the verbosity to 10 (on Linux, `export AUTOGRAPH_VERBOSITY=10`) and attach the full output. Cause: converting <bound method BatchNorm.call of <pixellib.instance.mask_rcnn.BatchNorm object at 0x7f7a999fff10>>: AttributeError: module 'gast' has no attribute 'Str'\n"
     ]
    },
    {
     "name": "stderr",
     "output_type": "stream",
     "text": [
      "11/27/2022 23:37:11 - WARNING - tensorflow -   Entity <bound method BatchNorm.call of <pixellib.instance.mask_rcnn.BatchNorm object at 0x7f7a999fff10>> could not be transformed and will be executed as-is. Please report this to the AutgoGraph team. When filing the bug, set the verbosity to 10 (on Linux, `export AUTOGRAPH_VERBOSITY=10`) and attach the full output. Cause: converting <bound method BatchNorm.call of <pixellib.instance.mask_rcnn.BatchNorm object at 0x7f7a999fff10>>: AttributeError: module 'gast' has no attribute 'Str'\n"
     ]
    },
    {
     "name": "stdout",
     "output_type": "stream",
     "text": [
      "WARNING: Entity <bound method BatchNorm.call of <pixellib.instance.mask_rcnn.BatchNorm object at 0x7f7a999fff10>> could not be transformed and will be executed as-is. Please report this to the AutgoGraph team. When filing the bug, set the verbosity to 10 (on Linux, `export AUTOGRAPH_VERBOSITY=10`) and attach the full output. Cause: converting <bound method BatchNorm.call of <pixellib.instance.mask_rcnn.BatchNorm object at 0x7f7a999fff10>>: AttributeError: module 'gast' has no attribute 'Str'\n",
      "WARNING:tensorflow:Entity <bound method BatchNorm.call of <pixellib.instance.mask_rcnn.BatchNorm object at 0x7f7a99a7a9d0>> could not be transformed and will be executed as-is. Please report this to the AutgoGraph team. When filing the bug, set the verbosity to 10 (on Linux, `export AUTOGRAPH_VERBOSITY=10`) and attach the full output. Cause: converting <bound method BatchNorm.call of <pixellib.instance.mask_rcnn.BatchNorm object at 0x7f7a99a7a9d0>>: AttributeError: module 'gast' has no attribute 'Str'\n"
     ]
    },
    {
     "name": "stderr",
     "output_type": "stream",
     "text": [
      "11/27/2022 23:37:11 - WARNING - tensorflow -   Entity <bound method BatchNorm.call of <pixellib.instance.mask_rcnn.BatchNorm object at 0x7f7a99a7a9d0>> could not be transformed and will be executed as-is. Please report this to the AutgoGraph team. When filing the bug, set the verbosity to 10 (on Linux, `export AUTOGRAPH_VERBOSITY=10`) and attach the full output. Cause: converting <bound method BatchNorm.call of <pixellib.instance.mask_rcnn.BatchNorm object at 0x7f7a99a7a9d0>>: AttributeError: module 'gast' has no attribute 'Str'\n"
     ]
    },
    {
     "name": "stdout",
     "output_type": "stream",
     "text": [
      "WARNING: Entity <bound method BatchNorm.call of <pixellib.instance.mask_rcnn.BatchNorm object at 0x7f7a99a7a9d0>> could not be transformed and will be executed as-is. Please report this to the AutgoGraph team. When filing the bug, set the verbosity to 10 (on Linux, `export AUTOGRAPH_VERBOSITY=10`) and attach the full output. Cause: converting <bound method BatchNorm.call of <pixellib.instance.mask_rcnn.BatchNorm object at 0x7f7a99a7a9d0>>: AttributeError: module 'gast' has no attribute 'Str'\n",
      "WARNING:tensorflow:Entity <bound method BatchNorm.call of <pixellib.instance.mask_rcnn.BatchNorm object at 0x7f7a997b8d90>> could not be transformed and will be executed as-is. Please report this to the AutgoGraph team. When filing the bug, set the verbosity to 10 (on Linux, `export AUTOGRAPH_VERBOSITY=10`) and attach the full output. Cause: converting <bound method BatchNorm.call of <pixellib.instance.mask_rcnn.BatchNorm object at 0x7f7a997b8d90>>: AttributeError: module 'gast' has no attribute 'Str'\n"
     ]
    },
    {
     "name": "stderr",
     "output_type": "stream",
     "text": [
      "11/27/2022 23:37:11 - WARNING - tensorflow -   Entity <bound method BatchNorm.call of <pixellib.instance.mask_rcnn.BatchNorm object at 0x7f7a997b8d90>> could not be transformed and will be executed as-is. Please report this to the AutgoGraph team. When filing the bug, set the verbosity to 10 (on Linux, `export AUTOGRAPH_VERBOSITY=10`) and attach the full output. Cause: converting <bound method BatchNorm.call of <pixellib.instance.mask_rcnn.BatchNorm object at 0x7f7a997b8d90>>: AttributeError: module 'gast' has no attribute 'Str'\n"
     ]
    },
    {
     "name": "stdout",
     "output_type": "stream",
     "text": [
      "WARNING: Entity <bound method BatchNorm.call of <pixellib.instance.mask_rcnn.BatchNorm object at 0x7f7a997b8d90>> could not be transformed and will be executed as-is. Please report this to the AutgoGraph team. When filing the bug, set the verbosity to 10 (on Linux, `export AUTOGRAPH_VERBOSITY=10`) and attach the full output. Cause: converting <bound method BatchNorm.call of <pixellib.instance.mask_rcnn.BatchNorm object at 0x7f7a997b8d90>>: AttributeError: module 'gast' has no attribute 'Str'\n",
      "WARNING:tensorflow:Entity <bound method BatchNorm.call of <pixellib.instance.mask_rcnn.BatchNorm object at 0x7f799db8add0>> could not be transformed and will be executed as-is. Please report this to the AutgoGraph team. When filing the bug, set the verbosity to 10 (on Linux, `export AUTOGRAPH_VERBOSITY=10`) and attach the full output. Cause: converting <bound method BatchNorm.call of <pixellib.instance.mask_rcnn.BatchNorm object at 0x7f799db8add0>>: AttributeError: module 'gast' has no attribute 'Str'\n"
     ]
    },
    {
     "name": "stderr",
     "output_type": "stream",
     "text": [
      "11/27/2022 23:37:11 - WARNING - tensorflow -   Entity <bound method BatchNorm.call of <pixellib.instance.mask_rcnn.BatchNorm object at 0x7f799db8add0>> could not be transformed and will be executed as-is. Please report this to the AutgoGraph team. When filing the bug, set the verbosity to 10 (on Linux, `export AUTOGRAPH_VERBOSITY=10`) and attach the full output. Cause: converting <bound method BatchNorm.call of <pixellib.instance.mask_rcnn.BatchNorm object at 0x7f799db8add0>>: AttributeError: module 'gast' has no attribute 'Str'\n"
     ]
    },
    {
     "name": "stdout",
     "output_type": "stream",
     "text": [
      "WARNING: Entity <bound method BatchNorm.call of <pixellib.instance.mask_rcnn.BatchNorm object at 0x7f799db8add0>> could not be transformed and will be executed as-is. Please report this to the AutgoGraph team. When filing the bug, set the verbosity to 10 (on Linux, `export AUTOGRAPH_VERBOSITY=10`) and attach the full output. Cause: converting <bound method BatchNorm.call of <pixellib.instance.mask_rcnn.BatchNorm object at 0x7f799db8add0>>: AttributeError: module 'gast' has no attribute 'Str'\n",
      "WARNING:tensorflow:Entity <bound method BatchNorm.call of <pixellib.instance.mask_rcnn.BatchNorm object at 0x7f799dc57410>> could not be transformed and will be executed as-is. Please report this to the AutgoGraph team. When filing the bug, set the verbosity to 10 (on Linux, `export AUTOGRAPH_VERBOSITY=10`) and attach the full output. Cause: converting <bound method BatchNorm.call of <pixellib.instance.mask_rcnn.BatchNorm object at 0x7f799dc57410>>: AttributeError: module 'gast' has no attribute 'Str'\n"
     ]
    },
    {
     "name": "stderr",
     "output_type": "stream",
     "text": [
      "11/27/2022 23:37:12 - WARNING - tensorflow -   Entity <bound method BatchNorm.call of <pixellib.instance.mask_rcnn.BatchNorm object at 0x7f799dc57410>> could not be transformed and will be executed as-is. Please report this to the AutgoGraph team. When filing the bug, set the verbosity to 10 (on Linux, `export AUTOGRAPH_VERBOSITY=10`) and attach the full output. Cause: converting <bound method BatchNorm.call of <pixellib.instance.mask_rcnn.BatchNorm object at 0x7f799dc57410>>: AttributeError: module 'gast' has no attribute 'Str'\n"
     ]
    },
    {
     "name": "stdout",
     "output_type": "stream",
     "text": [
      "WARNING: Entity <bound method BatchNorm.call of <pixellib.instance.mask_rcnn.BatchNorm object at 0x7f799dc57410>> could not be transformed and will be executed as-is. Please report this to the AutgoGraph team. When filing the bug, set the verbosity to 10 (on Linux, `export AUTOGRAPH_VERBOSITY=10`) and attach the full output. Cause: converting <bound method BatchNorm.call of <pixellib.instance.mask_rcnn.BatchNorm object at 0x7f799dc57410>>: AttributeError: module 'gast' has no attribute 'Str'\n",
      "WARNING:tensorflow:Entity <bound method BatchNorm.call of <pixellib.instance.mask_rcnn.BatchNorm object at 0x7f799dcd4c90>> could not be transformed and will be executed as-is. Please report this to the AutgoGraph team. When filing the bug, set the verbosity to 10 (on Linux, `export AUTOGRAPH_VERBOSITY=10`) and attach the full output. Cause: converting <bound method BatchNorm.call of <pixellib.instance.mask_rcnn.BatchNorm object at 0x7f799dcd4c90>>: AttributeError: module 'gast' has no attribute 'Str'\n"
     ]
    },
    {
     "name": "stderr",
     "output_type": "stream",
     "text": [
      "11/27/2022 23:37:12 - WARNING - tensorflow -   Entity <bound method BatchNorm.call of <pixellib.instance.mask_rcnn.BatchNorm object at 0x7f799dcd4c90>> could not be transformed and will be executed as-is. Please report this to the AutgoGraph team. When filing the bug, set the verbosity to 10 (on Linux, `export AUTOGRAPH_VERBOSITY=10`) and attach the full output. Cause: converting <bound method BatchNorm.call of <pixellib.instance.mask_rcnn.BatchNorm object at 0x7f799dcd4c90>>: AttributeError: module 'gast' has no attribute 'Str'\n"
     ]
    },
    {
     "name": "stdout",
     "output_type": "stream",
     "text": [
      "WARNING: Entity <bound method BatchNorm.call of <pixellib.instance.mask_rcnn.BatchNorm object at 0x7f799dcd4c90>> could not be transformed and will be executed as-is. Please report this to the AutgoGraph team. When filing the bug, set the verbosity to 10 (on Linux, `export AUTOGRAPH_VERBOSITY=10`) and attach the full output. Cause: converting <bound method BatchNorm.call of <pixellib.instance.mask_rcnn.BatchNorm object at 0x7f799dcd4c90>>: AttributeError: module 'gast' has no attribute 'Str'\n",
      "WARNING:tensorflow:Entity <bound method BatchNorm.call of <pixellib.instance.mask_rcnn.BatchNorm object at 0x7f799dd7fc90>> could not be transformed and will be executed as-is. Please report this to the AutgoGraph team. When filing the bug, set the verbosity to 10 (on Linux, `export AUTOGRAPH_VERBOSITY=10`) and attach the full output. Cause: converting <bound method BatchNorm.call of <pixellib.instance.mask_rcnn.BatchNorm object at 0x7f799dd7fc90>>: AttributeError: module 'gast' has no attribute 'Str'\n"
     ]
    },
    {
     "name": "stderr",
     "output_type": "stream",
     "text": [
      "11/27/2022 23:37:12 - WARNING - tensorflow -   Entity <bound method BatchNorm.call of <pixellib.instance.mask_rcnn.BatchNorm object at 0x7f799dd7fc90>> could not be transformed and will be executed as-is. Please report this to the AutgoGraph team. When filing the bug, set the verbosity to 10 (on Linux, `export AUTOGRAPH_VERBOSITY=10`) and attach the full output. Cause: converting <bound method BatchNorm.call of <pixellib.instance.mask_rcnn.BatchNorm object at 0x7f799dd7fc90>>: AttributeError: module 'gast' has no attribute 'Str'\n"
     ]
    },
    {
     "name": "stdout",
     "output_type": "stream",
     "text": [
      "WARNING: Entity <bound method BatchNorm.call of <pixellib.instance.mask_rcnn.BatchNorm object at 0x7f799dd7fc90>> could not be transformed and will be executed as-is. Please report this to the AutgoGraph team. When filing the bug, set the verbosity to 10 (on Linux, `export AUTOGRAPH_VERBOSITY=10`) and attach the full output. Cause: converting <bound method BatchNorm.call of <pixellib.instance.mask_rcnn.BatchNorm object at 0x7f799dd7fc90>>: AttributeError: module 'gast' has no attribute 'Str'\n",
      "WARNING:tensorflow:Entity <bound method BatchNorm.call of <pixellib.instance.mask_rcnn.BatchNorm object at 0x7f799de00e10>> could not be transformed and will be executed as-is. Please report this to the AutgoGraph team. When filing the bug, set the verbosity to 10 (on Linux, `export AUTOGRAPH_VERBOSITY=10`) and attach the full output. Cause: converting <bound method BatchNorm.call of <pixellib.instance.mask_rcnn.BatchNorm object at 0x7f799de00e10>>: AttributeError: module 'gast' has no attribute 'Str'\n"
     ]
    },
    {
     "name": "stderr",
     "output_type": "stream",
     "text": [
      "11/27/2022 23:37:12 - WARNING - tensorflow -   Entity <bound method BatchNorm.call of <pixellib.instance.mask_rcnn.BatchNorm object at 0x7f799de00e10>> could not be transformed and will be executed as-is. Please report this to the AutgoGraph team. When filing the bug, set the verbosity to 10 (on Linux, `export AUTOGRAPH_VERBOSITY=10`) and attach the full output. Cause: converting <bound method BatchNorm.call of <pixellib.instance.mask_rcnn.BatchNorm object at 0x7f799de00e10>>: AttributeError: module 'gast' has no attribute 'Str'\n"
     ]
    },
    {
     "name": "stdout",
     "output_type": "stream",
     "text": [
      "WARNING: Entity <bound method BatchNorm.call of <pixellib.instance.mask_rcnn.BatchNorm object at 0x7f799de00e10>> could not be transformed and will be executed as-is. Please report this to the AutgoGraph team. When filing the bug, set the verbosity to 10 (on Linux, `export AUTOGRAPH_VERBOSITY=10`) and attach the full output. Cause: converting <bound method BatchNorm.call of <pixellib.instance.mask_rcnn.BatchNorm object at 0x7f799de00e10>>: AttributeError: module 'gast' has no attribute 'Str'\n",
      "WARNING:tensorflow:Entity <bound method BatchNorm.call of <pixellib.instance.mask_rcnn.BatchNorm object at 0x7f799de08510>> could not be transformed and will be executed as-is. Please report this to the AutgoGraph team. When filing the bug, set the verbosity to 10 (on Linux, `export AUTOGRAPH_VERBOSITY=10`) and attach the full output. Cause: converting <bound method BatchNorm.call of <pixellib.instance.mask_rcnn.BatchNorm object at 0x7f799de08510>>: AttributeError: module 'gast' has no attribute 'Str'\n"
     ]
    },
    {
     "name": "stderr",
     "output_type": "stream",
     "text": [
      "11/27/2022 23:37:12 - WARNING - tensorflow -   Entity <bound method BatchNorm.call of <pixellib.instance.mask_rcnn.BatchNorm object at 0x7f799de08510>> could not be transformed and will be executed as-is. Please report this to the AutgoGraph team. When filing the bug, set the verbosity to 10 (on Linux, `export AUTOGRAPH_VERBOSITY=10`) and attach the full output. Cause: converting <bound method BatchNorm.call of <pixellib.instance.mask_rcnn.BatchNorm object at 0x7f799de08510>>: AttributeError: module 'gast' has no attribute 'Str'\n"
     ]
    },
    {
     "name": "stdout",
     "output_type": "stream",
     "text": [
      "WARNING: Entity <bound method BatchNorm.call of <pixellib.instance.mask_rcnn.BatchNorm object at 0x7f799de08510>> could not be transformed and will be executed as-is. Please report this to the AutgoGraph team. When filing the bug, set the verbosity to 10 (on Linux, `export AUTOGRAPH_VERBOSITY=10`) and attach the full output. Cause: converting <bound method BatchNorm.call of <pixellib.instance.mask_rcnn.BatchNorm object at 0x7f799de08510>>: AttributeError: module 'gast' has no attribute 'Str'\n",
      "WARNING:tensorflow:Entity <bound method BatchNorm.call of <pixellib.instance.mask_rcnn.BatchNorm object at 0x7f799ddeac10>> could not be transformed and will be executed as-is. Please report this to the AutgoGraph team. When filing the bug, set the verbosity to 10 (on Linux, `export AUTOGRAPH_VERBOSITY=10`) and attach the full output. Cause: converting <bound method BatchNorm.call of <pixellib.instance.mask_rcnn.BatchNorm object at 0x7f799ddeac10>>: AttributeError: module 'gast' has no attribute 'Str'\n"
     ]
    },
    {
     "name": "stderr",
     "output_type": "stream",
     "text": [
      "11/27/2022 23:37:12 - WARNING - tensorflow -   Entity <bound method BatchNorm.call of <pixellib.instance.mask_rcnn.BatchNorm object at 0x7f799ddeac10>> could not be transformed and will be executed as-is. Please report this to the AutgoGraph team. When filing the bug, set the verbosity to 10 (on Linux, `export AUTOGRAPH_VERBOSITY=10`) and attach the full output. Cause: converting <bound method BatchNorm.call of <pixellib.instance.mask_rcnn.BatchNorm object at 0x7f799ddeac10>>: AttributeError: module 'gast' has no attribute 'Str'\n"
     ]
    },
    {
     "name": "stdout",
     "output_type": "stream",
     "text": [
      "WARNING: Entity <bound method BatchNorm.call of <pixellib.instance.mask_rcnn.BatchNorm object at 0x7f799ddeac10>> could not be transformed and will be executed as-is. Please report this to the AutgoGraph team. When filing the bug, set the verbosity to 10 (on Linux, `export AUTOGRAPH_VERBOSITY=10`) and attach the full output. Cause: converting <bound method BatchNorm.call of <pixellib.instance.mask_rcnn.BatchNorm object at 0x7f799ddeac10>>: AttributeError: module 'gast' has no attribute 'Str'\n",
      "WARNING:tensorflow:Entity <bound method BatchNorm.call of <pixellib.instance.mask_rcnn.BatchNorm object at 0x7f799df7e890>> could not be transformed and will be executed as-is. Please report this to the AutgoGraph team. When filing the bug, set the verbosity to 10 (on Linux, `export AUTOGRAPH_VERBOSITY=10`) and attach the full output. Cause: converting <bound method BatchNorm.call of <pixellib.instance.mask_rcnn.BatchNorm object at 0x7f799df7e890>>: AttributeError: module 'gast' has no attribute 'Str'\n"
     ]
    },
    {
     "name": "stderr",
     "output_type": "stream",
     "text": [
      "11/27/2022 23:37:12 - WARNING - tensorflow -   Entity <bound method BatchNorm.call of <pixellib.instance.mask_rcnn.BatchNorm object at 0x7f799df7e890>> could not be transformed and will be executed as-is. Please report this to the AutgoGraph team. When filing the bug, set the verbosity to 10 (on Linux, `export AUTOGRAPH_VERBOSITY=10`) and attach the full output. Cause: converting <bound method BatchNorm.call of <pixellib.instance.mask_rcnn.BatchNorm object at 0x7f799df7e890>>: AttributeError: module 'gast' has no attribute 'Str'\n"
     ]
    },
    {
     "name": "stdout",
     "output_type": "stream",
     "text": [
      "WARNING: Entity <bound method BatchNorm.call of <pixellib.instance.mask_rcnn.BatchNorm object at 0x7f799df7e890>> could not be transformed and will be executed as-is. Please report this to the AutgoGraph team. When filing the bug, set the verbosity to 10 (on Linux, `export AUTOGRAPH_VERBOSITY=10`) and attach the full output. Cause: converting <bound method BatchNorm.call of <pixellib.instance.mask_rcnn.BatchNorm object at 0x7f799df7e890>>: AttributeError: module 'gast' has no attribute 'Str'\n",
      "WARNING:tensorflow:Entity <bound method BatchNorm.call of <pixellib.instance.mask_rcnn.BatchNorm object at 0x7f799db48fd0>> could not be transformed and will be executed as-is. Please report this to the AutgoGraph team. When filing the bug, set the verbosity to 10 (on Linux, `export AUTOGRAPH_VERBOSITY=10`) and attach the full output. Cause: converting <bound method BatchNorm.call of <pixellib.instance.mask_rcnn.BatchNorm object at 0x7f799db48fd0>>: AttributeError: module 'gast' has no attribute 'Str'\n"
     ]
    },
    {
     "name": "stderr",
     "output_type": "stream",
     "text": [
      "11/27/2022 23:37:12 - WARNING - tensorflow -   Entity <bound method BatchNorm.call of <pixellib.instance.mask_rcnn.BatchNorm object at 0x7f799db48fd0>> could not be transformed and will be executed as-is. Please report this to the AutgoGraph team. When filing the bug, set the verbosity to 10 (on Linux, `export AUTOGRAPH_VERBOSITY=10`) and attach the full output. Cause: converting <bound method BatchNorm.call of <pixellib.instance.mask_rcnn.BatchNorm object at 0x7f799db48fd0>>: AttributeError: module 'gast' has no attribute 'Str'\n"
     ]
    },
    {
     "name": "stdout",
     "output_type": "stream",
     "text": [
      "WARNING: Entity <bound method BatchNorm.call of <pixellib.instance.mask_rcnn.BatchNorm object at 0x7f799db48fd0>> could not be transformed and will be executed as-is. Please report this to the AutgoGraph team. When filing the bug, set the verbosity to 10 (on Linux, `export AUTOGRAPH_VERBOSITY=10`) and attach the full output. Cause: converting <bound method BatchNorm.call of <pixellib.instance.mask_rcnn.BatchNorm object at 0x7f799db48fd0>>: AttributeError: module 'gast' has no attribute 'Str'\n",
      "WARNING:tensorflow:Entity <bound method BatchNorm.call of <pixellib.instance.mask_rcnn.BatchNorm object at 0x7f799daca8d0>> could not be transformed and will be executed as-is. Please report this to the AutgoGraph team. When filing the bug, set the verbosity to 10 (on Linux, `export AUTOGRAPH_VERBOSITY=10`) and attach the full output. Cause: converting <bound method BatchNorm.call of <pixellib.instance.mask_rcnn.BatchNorm object at 0x7f799daca8d0>>: AttributeError: module 'gast' has no attribute 'Str'\n"
     ]
    },
    {
     "name": "stderr",
     "output_type": "stream",
     "text": [
      "11/27/2022 23:37:12 - WARNING - tensorflow -   Entity <bound method BatchNorm.call of <pixellib.instance.mask_rcnn.BatchNorm object at 0x7f799daca8d0>> could not be transformed and will be executed as-is. Please report this to the AutgoGraph team. When filing the bug, set the verbosity to 10 (on Linux, `export AUTOGRAPH_VERBOSITY=10`) and attach the full output. Cause: converting <bound method BatchNorm.call of <pixellib.instance.mask_rcnn.BatchNorm object at 0x7f799daca8d0>>: AttributeError: module 'gast' has no attribute 'Str'\n"
     ]
    },
    {
     "name": "stdout",
     "output_type": "stream",
     "text": [
      "WARNING: Entity <bound method BatchNorm.call of <pixellib.instance.mask_rcnn.BatchNorm object at 0x7f799daca8d0>> could not be transformed and will be executed as-is. Please report this to the AutgoGraph team. When filing the bug, set the verbosity to 10 (on Linux, `export AUTOGRAPH_VERBOSITY=10`) and attach the full output. Cause: converting <bound method BatchNorm.call of <pixellib.instance.mask_rcnn.BatchNorm object at 0x7f799daca8d0>>: AttributeError: module 'gast' has no attribute 'Str'\n",
      "WARNING:tensorflow:Entity <bound method BatchNorm.call of <pixellib.instance.mask_rcnn.BatchNorm object at 0x7f799e134750>> could not be transformed and will be executed as-is. Please report this to the AutgoGraph team. When filing the bug, set the verbosity to 10 (on Linux, `export AUTOGRAPH_VERBOSITY=10`) and attach the full output. Cause: converting <bound method BatchNorm.call of <pixellib.instance.mask_rcnn.BatchNorm object at 0x7f799e134750>>: AttributeError: module 'gast' has no attribute 'Str'\n"
     ]
    },
    {
     "name": "stderr",
     "output_type": "stream",
     "text": [
      "11/27/2022 23:37:12 - WARNING - tensorflow -   Entity <bound method BatchNorm.call of <pixellib.instance.mask_rcnn.BatchNorm object at 0x7f799e134750>> could not be transformed and will be executed as-is. Please report this to the AutgoGraph team. When filing the bug, set the verbosity to 10 (on Linux, `export AUTOGRAPH_VERBOSITY=10`) and attach the full output. Cause: converting <bound method BatchNorm.call of <pixellib.instance.mask_rcnn.BatchNorm object at 0x7f799e134750>>: AttributeError: module 'gast' has no attribute 'Str'\n"
     ]
    },
    {
     "name": "stdout",
     "output_type": "stream",
     "text": [
      "WARNING: Entity <bound method BatchNorm.call of <pixellib.instance.mask_rcnn.BatchNorm object at 0x7f799e134750>> could not be transformed and will be executed as-is. Please report this to the AutgoGraph team. When filing the bug, set the verbosity to 10 (on Linux, `export AUTOGRAPH_VERBOSITY=10`) and attach the full output. Cause: converting <bound method BatchNorm.call of <pixellib.instance.mask_rcnn.BatchNorm object at 0x7f799e134750>>: AttributeError: module 'gast' has no attribute 'Str'\n",
      "WARNING:tensorflow:Entity <bound method BatchNorm.call of <pixellib.instance.mask_rcnn.BatchNorm object at 0x7f799e1b0f50>> could not be transformed and will be executed as-is. Please report this to the AutgoGraph team. When filing the bug, set the verbosity to 10 (on Linux, `export AUTOGRAPH_VERBOSITY=10`) and attach the full output. Cause: converting <bound method BatchNorm.call of <pixellib.instance.mask_rcnn.BatchNorm object at 0x7f799e1b0f50>>: AttributeError: module 'gast' has no attribute 'Str'\n"
     ]
    },
    {
     "name": "stderr",
     "output_type": "stream",
     "text": [
      "11/27/2022 23:37:12 - WARNING - tensorflow -   Entity <bound method BatchNorm.call of <pixellib.instance.mask_rcnn.BatchNorm object at 0x7f799e1b0f50>> could not be transformed and will be executed as-is. Please report this to the AutgoGraph team. When filing the bug, set the verbosity to 10 (on Linux, `export AUTOGRAPH_VERBOSITY=10`) and attach the full output. Cause: converting <bound method BatchNorm.call of <pixellib.instance.mask_rcnn.BatchNorm object at 0x7f799e1b0f50>>: AttributeError: module 'gast' has no attribute 'Str'\n"
     ]
    },
    {
     "name": "stdout",
     "output_type": "stream",
     "text": [
      "WARNING: Entity <bound method BatchNorm.call of <pixellib.instance.mask_rcnn.BatchNorm object at 0x7f799e1b0f50>> could not be transformed and will be executed as-is. Please report this to the AutgoGraph team. When filing the bug, set the verbosity to 10 (on Linux, `export AUTOGRAPH_VERBOSITY=10`) and attach the full output. Cause: converting <bound method BatchNorm.call of <pixellib.instance.mask_rcnn.BatchNorm object at 0x7f799e1b0f50>>: AttributeError: module 'gast' has no attribute 'Str'\n",
      "WARNING:tensorflow:Entity <bound method BatchNorm.call of <pixellib.instance.mask_rcnn.BatchNorm object at 0x7f799e25e5d0>> could not be transformed and will be executed as-is. Please report this to the AutgoGraph team. When filing the bug, set the verbosity to 10 (on Linux, `export AUTOGRAPH_VERBOSITY=10`) and attach the full output. Cause: converting <bound method BatchNorm.call of <pixellib.instance.mask_rcnn.BatchNorm object at 0x7f799e25e5d0>>: AttributeError: module 'gast' has no attribute 'Str'\n"
     ]
    },
    {
     "name": "stderr",
     "output_type": "stream",
     "text": [
      "11/27/2022 23:37:12 - WARNING - tensorflow -   Entity <bound method BatchNorm.call of <pixellib.instance.mask_rcnn.BatchNorm object at 0x7f799e25e5d0>> could not be transformed and will be executed as-is. Please report this to the AutgoGraph team. When filing the bug, set the verbosity to 10 (on Linux, `export AUTOGRAPH_VERBOSITY=10`) and attach the full output. Cause: converting <bound method BatchNorm.call of <pixellib.instance.mask_rcnn.BatchNorm object at 0x7f799e25e5d0>>: AttributeError: module 'gast' has no attribute 'Str'\n"
     ]
    },
    {
     "name": "stdout",
     "output_type": "stream",
     "text": [
      "WARNING: Entity <bound method BatchNorm.call of <pixellib.instance.mask_rcnn.BatchNorm object at 0x7f799e25e5d0>> could not be transformed and will be executed as-is. Please report this to the AutgoGraph team. When filing the bug, set the verbosity to 10 (on Linux, `export AUTOGRAPH_VERBOSITY=10`) and attach the full output. Cause: converting <bound method BatchNorm.call of <pixellib.instance.mask_rcnn.BatchNorm object at 0x7f799e25e5d0>>: AttributeError: module 'gast' has no attribute 'Str'\n",
      "WARNING:tensorflow:Entity <bound method BatchNorm.call of <pixellib.instance.mask_rcnn.BatchNorm object at 0x7f799e25eed0>> could not be transformed and will be executed as-is. Please report this to the AutgoGraph team. When filing the bug, set the verbosity to 10 (on Linux, `export AUTOGRAPH_VERBOSITY=10`) and attach the full output. Cause: converting <bound method BatchNorm.call of <pixellib.instance.mask_rcnn.BatchNorm object at 0x7f799e25eed0>>: AttributeError: module 'gast' has no attribute 'Str'\n"
     ]
    },
    {
     "name": "stderr",
     "output_type": "stream",
     "text": [
      "11/27/2022 23:37:12 - WARNING - tensorflow -   Entity <bound method BatchNorm.call of <pixellib.instance.mask_rcnn.BatchNorm object at 0x7f799e25eed0>> could not be transformed and will be executed as-is. Please report this to the AutgoGraph team. When filing the bug, set the verbosity to 10 (on Linux, `export AUTOGRAPH_VERBOSITY=10`) and attach the full output. Cause: converting <bound method BatchNorm.call of <pixellib.instance.mask_rcnn.BatchNorm object at 0x7f799e25eed0>>: AttributeError: module 'gast' has no attribute 'Str'\n"
     ]
    },
    {
     "name": "stdout",
     "output_type": "stream",
     "text": [
      "WARNING: Entity <bound method BatchNorm.call of <pixellib.instance.mask_rcnn.BatchNorm object at 0x7f799e25eed0>> could not be transformed and will be executed as-is. Please report this to the AutgoGraph team. When filing the bug, set the verbosity to 10 (on Linux, `export AUTOGRAPH_VERBOSITY=10`) and attach the full output. Cause: converting <bound method BatchNorm.call of <pixellib.instance.mask_rcnn.BatchNorm object at 0x7f799e25eed0>>: AttributeError: module 'gast' has no attribute 'Str'\n",
      "WARNING:tensorflow:Entity <bound method BatchNorm.call of <pixellib.instance.mask_rcnn.BatchNorm object at 0x7f799e2eae90>> could not be transformed and will be executed as-is. Please report this to the AutgoGraph team. When filing the bug, set the verbosity to 10 (on Linux, `export AUTOGRAPH_VERBOSITY=10`) and attach the full output. Cause: converting <bound method BatchNorm.call of <pixellib.instance.mask_rcnn.BatchNorm object at 0x7f799e2eae90>>: AttributeError: module 'gast' has no attribute 'Str'\n"
     ]
    },
    {
     "name": "stderr",
     "output_type": "stream",
     "text": [
      "11/27/2022 23:37:13 - WARNING - tensorflow -   Entity <bound method BatchNorm.call of <pixellib.instance.mask_rcnn.BatchNorm object at 0x7f799e2eae90>> could not be transformed and will be executed as-is. Please report this to the AutgoGraph team. When filing the bug, set the verbosity to 10 (on Linux, `export AUTOGRAPH_VERBOSITY=10`) and attach the full output. Cause: converting <bound method BatchNorm.call of <pixellib.instance.mask_rcnn.BatchNorm object at 0x7f799e2eae90>>: AttributeError: module 'gast' has no attribute 'Str'\n"
     ]
    },
    {
     "name": "stdout",
     "output_type": "stream",
     "text": [
      "WARNING: Entity <bound method BatchNorm.call of <pixellib.instance.mask_rcnn.BatchNorm object at 0x7f799e2eae90>> could not be transformed and will be executed as-is. Please report this to the AutgoGraph team. When filing the bug, set the verbosity to 10 (on Linux, `export AUTOGRAPH_VERBOSITY=10`) and attach the full output. Cause: converting <bound method BatchNorm.call of <pixellib.instance.mask_rcnn.BatchNorm object at 0x7f799e2eae90>>: AttributeError: module 'gast' has no attribute 'Str'\n",
      "WARNING:tensorflow:Entity <bound method BatchNorm.call of <pixellib.instance.mask_rcnn.BatchNorm object at 0x7f799cab6250>> could not be transformed and will be executed as-is. Please report this to the AutgoGraph team. When filing the bug, set the verbosity to 10 (on Linux, `export AUTOGRAPH_VERBOSITY=10`) and attach the full output. Cause: converting <bound method BatchNorm.call of <pixellib.instance.mask_rcnn.BatchNorm object at 0x7f799cab6250>>: AttributeError: module 'gast' has no attribute 'Str'\n"
     ]
    },
    {
     "name": "stderr",
     "output_type": "stream",
     "text": [
      "11/27/2022 23:37:13 - WARNING - tensorflow -   Entity <bound method BatchNorm.call of <pixellib.instance.mask_rcnn.BatchNorm object at 0x7f799cab6250>> could not be transformed and will be executed as-is. Please report this to the AutgoGraph team. When filing the bug, set the verbosity to 10 (on Linux, `export AUTOGRAPH_VERBOSITY=10`) and attach the full output. Cause: converting <bound method BatchNorm.call of <pixellib.instance.mask_rcnn.BatchNorm object at 0x7f799cab6250>>: AttributeError: module 'gast' has no attribute 'Str'\n"
     ]
    },
    {
     "name": "stdout",
     "output_type": "stream",
     "text": [
      "WARNING: Entity <bound method BatchNorm.call of <pixellib.instance.mask_rcnn.BatchNorm object at 0x7f799cab6250>> could not be transformed and will be executed as-is. Please report this to the AutgoGraph team. When filing the bug, set the verbosity to 10 (on Linux, `export AUTOGRAPH_VERBOSITY=10`) and attach the full output. Cause: converting <bound method BatchNorm.call of <pixellib.instance.mask_rcnn.BatchNorm object at 0x7f799cab6250>>: AttributeError: module 'gast' has no attribute 'Str'\n",
      "WARNING:tensorflow:Entity <bound method BatchNorm.call of <pixellib.instance.mask_rcnn.BatchNorm object at 0x7f799cab6d50>> could not be transformed and will be executed as-is. Please report this to the AutgoGraph team. When filing the bug, set the verbosity to 10 (on Linux, `export AUTOGRAPH_VERBOSITY=10`) and attach the full output. Cause: converting <bound method BatchNorm.call of <pixellib.instance.mask_rcnn.BatchNorm object at 0x7f799cab6d50>>: AttributeError: module 'gast' has no attribute 'Str'\n"
     ]
    },
    {
     "name": "stderr",
     "output_type": "stream",
     "text": [
      "11/27/2022 23:37:13 - WARNING - tensorflow -   Entity <bound method BatchNorm.call of <pixellib.instance.mask_rcnn.BatchNorm object at 0x7f799cab6d50>> could not be transformed and will be executed as-is. Please report this to the AutgoGraph team. When filing the bug, set the verbosity to 10 (on Linux, `export AUTOGRAPH_VERBOSITY=10`) and attach the full output. Cause: converting <bound method BatchNorm.call of <pixellib.instance.mask_rcnn.BatchNorm object at 0x7f799cab6d50>>: AttributeError: module 'gast' has no attribute 'Str'\n"
     ]
    },
    {
     "name": "stdout",
     "output_type": "stream",
     "text": [
      "WARNING: Entity <bound method BatchNorm.call of <pixellib.instance.mask_rcnn.BatchNorm object at 0x7f799cab6d50>> could not be transformed and will be executed as-is. Please report this to the AutgoGraph team. When filing the bug, set the verbosity to 10 (on Linux, `export AUTOGRAPH_VERBOSITY=10`) and attach the full output. Cause: converting <bound method BatchNorm.call of <pixellib.instance.mask_rcnn.BatchNorm object at 0x7f799cab6d50>>: AttributeError: module 'gast' has no attribute 'Str'\n",
      "WARNING:tensorflow:Entity <bound method BatchNorm.call of <pixellib.instance.mask_rcnn.BatchNorm object at 0x7f799e4d7950>> could not be transformed and will be executed as-is. Please report this to the AutgoGraph team. When filing the bug, set the verbosity to 10 (on Linux, `export AUTOGRAPH_VERBOSITY=10`) and attach the full output. Cause: converting <bound method BatchNorm.call of <pixellib.instance.mask_rcnn.BatchNorm object at 0x7f799e4d7950>>: AttributeError: module 'gast' has no attribute 'Str'\n"
     ]
    },
    {
     "name": "stderr",
     "output_type": "stream",
     "text": [
      "11/27/2022 23:37:13 - WARNING - tensorflow -   Entity <bound method BatchNorm.call of <pixellib.instance.mask_rcnn.BatchNorm object at 0x7f799e4d7950>> could not be transformed and will be executed as-is. Please report this to the AutgoGraph team. When filing the bug, set the verbosity to 10 (on Linux, `export AUTOGRAPH_VERBOSITY=10`) and attach the full output. Cause: converting <bound method BatchNorm.call of <pixellib.instance.mask_rcnn.BatchNorm object at 0x7f799e4d7950>>: AttributeError: module 'gast' has no attribute 'Str'\n"
     ]
    },
    {
     "name": "stdout",
     "output_type": "stream",
     "text": [
      "WARNING: Entity <bound method BatchNorm.call of <pixellib.instance.mask_rcnn.BatchNorm object at 0x7f799e4d7950>> could not be transformed and will be executed as-is. Please report this to the AutgoGraph team. When filing the bug, set the verbosity to 10 (on Linux, `export AUTOGRAPH_VERBOSITY=10`) and attach the full output. Cause: converting <bound method BatchNorm.call of <pixellib.instance.mask_rcnn.BatchNorm object at 0x7f799e4d7950>>: AttributeError: module 'gast' has no attribute 'Str'\n",
      "WARNING:tensorflow:Entity <bound method BatchNorm.call of <pixellib.instance.mask_rcnn.BatchNorm object at 0x7f799e58d190>> could not be transformed and will be executed as-is. Please report this to the AutgoGraph team. When filing the bug, set the verbosity to 10 (on Linux, `export AUTOGRAPH_VERBOSITY=10`) and attach the full output. Cause: converting <bound method BatchNorm.call of <pixellib.instance.mask_rcnn.BatchNorm object at 0x7f799e58d190>>: AttributeError: module 'gast' has no attribute 'Str'\n"
     ]
    },
    {
     "name": "stderr",
     "output_type": "stream",
     "text": [
      "11/27/2022 23:37:13 - WARNING - tensorflow -   Entity <bound method BatchNorm.call of <pixellib.instance.mask_rcnn.BatchNorm object at 0x7f799e58d190>> could not be transformed and will be executed as-is. Please report this to the AutgoGraph team. When filing the bug, set the verbosity to 10 (on Linux, `export AUTOGRAPH_VERBOSITY=10`) and attach the full output. Cause: converting <bound method BatchNorm.call of <pixellib.instance.mask_rcnn.BatchNorm object at 0x7f799e58d190>>: AttributeError: module 'gast' has no attribute 'Str'\n"
     ]
    },
    {
     "name": "stdout",
     "output_type": "stream",
     "text": [
      "WARNING: Entity <bound method BatchNorm.call of <pixellib.instance.mask_rcnn.BatchNorm object at 0x7f799e58d190>> could not be transformed and will be executed as-is. Please report this to the AutgoGraph team. When filing the bug, set the verbosity to 10 (on Linux, `export AUTOGRAPH_VERBOSITY=10`) and attach the full output. Cause: converting <bound method BatchNorm.call of <pixellib.instance.mask_rcnn.BatchNorm object at 0x7f799e58d190>>: AttributeError: module 'gast' has no attribute 'Str'\n",
      "WARNING:tensorflow:Entity <bound method BatchNorm.call of <pixellib.instance.mask_rcnn.BatchNorm object at 0x7f799e7a8d10>> could not be transformed and will be executed as-is. Please report this to the AutgoGraph team. When filing the bug, set the verbosity to 10 (on Linux, `export AUTOGRAPH_VERBOSITY=10`) and attach the full output. Cause: converting <bound method BatchNorm.call of <pixellib.instance.mask_rcnn.BatchNorm object at 0x7f799e7a8d10>>: AttributeError: module 'gast' has no attribute 'Str'\n"
     ]
    },
    {
     "name": "stderr",
     "output_type": "stream",
     "text": [
      "11/27/2022 23:37:13 - WARNING - tensorflow -   Entity <bound method BatchNorm.call of <pixellib.instance.mask_rcnn.BatchNorm object at 0x7f799e7a8d10>> could not be transformed and will be executed as-is. Please report this to the AutgoGraph team. When filing the bug, set the verbosity to 10 (on Linux, `export AUTOGRAPH_VERBOSITY=10`) and attach the full output. Cause: converting <bound method BatchNorm.call of <pixellib.instance.mask_rcnn.BatchNorm object at 0x7f799e7a8d10>>: AttributeError: module 'gast' has no attribute 'Str'\n"
     ]
    },
    {
     "name": "stdout",
     "output_type": "stream",
     "text": [
      "WARNING: Entity <bound method BatchNorm.call of <pixellib.instance.mask_rcnn.BatchNorm object at 0x7f799e7a8d10>> could not be transformed and will be executed as-is. Please report this to the AutgoGraph team. When filing the bug, set the verbosity to 10 (on Linux, `export AUTOGRAPH_VERBOSITY=10`) and attach the full output. Cause: converting <bound method BatchNorm.call of <pixellib.instance.mask_rcnn.BatchNorm object at 0x7f799e7a8d10>>: AttributeError: module 'gast' has no attribute 'Str'\n",
      "WARNING:tensorflow:Entity <bound method BatchNorm.call of <pixellib.instance.mask_rcnn.BatchNorm object at 0x7f799e80c510>> could not be transformed and will be executed as-is. Please report this to the AutgoGraph team. When filing the bug, set the verbosity to 10 (on Linux, `export AUTOGRAPH_VERBOSITY=10`) and attach the full output. Cause: converting <bound method BatchNorm.call of <pixellib.instance.mask_rcnn.BatchNorm object at 0x7f799e80c510>>: AttributeError: module 'gast' has no attribute 'Str'\n"
     ]
    },
    {
     "name": "stderr",
     "output_type": "stream",
     "text": [
      "11/27/2022 23:37:13 - WARNING - tensorflow -   Entity <bound method BatchNorm.call of <pixellib.instance.mask_rcnn.BatchNorm object at 0x7f799e80c510>> could not be transformed and will be executed as-is. Please report this to the AutgoGraph team. When filing the bug, set the verbosity to 10 (on Linux, `export AUTOGRAPH_VERBOSITY=10`) and attach the full output. Cause: converting <bound method BatchNorm.call of <pixellib.instance.mask_rcnn.BatchNorm object at 0x7f799e80c510>>: AttributeError: module 'gast' has no attribute 'Str'\n"
     ]
    },
    {
     "name": "stdout",
     "output_type": "stream",
     "text": [
      "WARNING: Entity <bound method BatchNorm.call of <pixellib.instance.mask_rcnn.BatchNorm object at 0x7f799e80c510>> could not be transformed and will be executed as-is. Please report this to the AutgoGraph team. When filing the bug, set the verbosity to 10 (on Linux, `export AUTOGRAPH_VERBOSITY=10`) and attach the full output. Cause: converting <bound method BatchNorm.call of <pixellib.instance.mask_rcnn.BatchNorm object at 0x7f799e80c510>>: AttributeError: module 'gast' has no attribute 'Str'\n",
      "WARNING:tensorflow:Entity <bound method BatchNorm.call of <pixellib.instance.mask_rcnn.BatchNorm object at 0x7f799e8adad0>> could not be transformed and will be executed as-is. Please report this to the AutgoGraph team. When filing the bug, set the verbosity to 10 (on Linux, `export AUTOGRAPH_VERBOSITY=10`) and attach the full output. Cause: converting <bound method BatchNorm.call of <pixellib.instance.mask_rcnn.BatchNorm object at 0x7f799e8adad0>>: AttributeError: module 'gast' has no attribute 'Str'\n"
     ]
    },
    {
     "name": "stderr",
     "output_type": "stream",
     "text": [
      "11/27/2022 23:37:13 - WARNING - tensorflow -   Entity <bound method BatchNorm.call of <pixellib.instance.mask_rcnn.BatchNorm object at 0x7f799e8adad0>> could not be transformed and will be executed as-is. Please report this to the AutgoGraph team. When filing the bug, set the verbosity to 10 (on Linux, `export AUTOGRAPH_VERBOSITY=10`) and attach the full output. Cause: converting <bound method BatchNorm.call of <pixellib.instance.mask_rcnn.BatchNorm object at 0x7f799e8adad0>>: AttributeError: module 'gast' has no attribute 'Str'\n"
     ]
    },
    {
     "name": "stdout",
     "output_type": "stream",
     "text": [
      "WARNING: Entity <bound method BatchNorm.call of <pixellib.instance.mask_rcnn.BatchNorm object at 0x7f799e8adad0>> could not be transformed and will be executed as-is. Please report this to the AutgoGraph team. When filing the bug, set the verbosity to 10 (on Linux, `export AUTOGRAPH_VERBOSITY=10`) and attach the full output. Cause: converting <bound method BatchNorm.call of <pixellib.instance.mask_rcnn.BatchNorm object at 0x7f799e8adad0>>: AttributeError: module 'gast' has no attribute 'Str'\n",
      "WARNING:tensorflow:Entity <bound method BatchNorm.call of <pixellib.instance.mask_rcnn.BatchNorm object at 0x7f799e8ca7d0>> could not be transformed and will be executed as-is. Please report this to the AutgoGraph team. When filing the bug, set the verbosity to 10 (on Linux, `export AUTOGRAPH_VERBOSITY=10`) and attach the full output. Cause: converting <bound method BatchNorm.call of <pixellib.instance.mask_rcnn.BatchNorm object at 0x7f799e8ca7d0>>: AttributeError: module 'gast' has no attribute 'Str'\n"
     ]
    },
    {
     "name": "stderr",
     "output_type": "stream",
     "text": [
      "11/27/2022 23:37:13 - WARNING - tensorflow -   Entity <bound method BatchNorm.call of <pixellib.instance.mask_rcnn.BatchNorm object at 0x7f799e8ca7d0>> could not be transformed and will be executed as-is. Please report this to the AutgoGraph team. When filing the bug, set the verbosity to 10 (on Linux, `export AUTOGRAPH_VERBOSITY=10`) and attach the full output. Cause: converting <bound method BatchNorm.call of <pixellib.instance.mask_rcnn.BatchNorm object at 0x7f799e8ca7d0>>: AttributeError: module 'gast' has no attribute 'Str'\n"
     ]
    },
    {
     "name": "stdout",
     "output_type": "stream",
     "text": [
      "WARNING: Entity <bound method BatchNorm.call of <pixellib.instance.mask_rcnn.BatchNorm object at 0x7f799e8ca7d0>> could not be transformed and will be executed as-is. Please report this to the AutgoGraph team. When filing the bug, set the verbosity to 10 (on Linux, `export AUTOGRAPH_VERBOSITY=10`) and attach the full output. Cause: converting <bound method BatchNorm.call of <pixellib.instance.mask_rcnn.BatchNorm object at 0x7f799e8ca7d0>>: AttributeError: module 'gast' has no attribute 'Str'\n",
      "WARNING:tensorflow:Entity <bound method BatchNorm.call of <pixellib.instance.mask_rcnn.BatchNorm object at 0x7f799e407110>> could not be transformed and will be executed as-is. Please report this to the AutgoGraph team. When filing the bug, set the verbosity to 10 (on Linux, `export AUTOGRAPH_VERBOSITY=10`) and attach the full output. Cause: converting <bound method BatchNorm.call of <pixellib.instance.mask_rcnn.BatchNorm object at 0x7f799e407110>>: AttributeError: module 'gast' has no attribute 'Str'\n"
     ]
    },
    {
     "name": "stderr",
     "output_type": "stream",
     "text": [
      "11/27/2022 23:37:13 - WARNING - tensorflow -   Entity <bound method BatchNorm.call of <pixellib.instance.mask_rcnn.BatchNorm object at 0x7f799e407110>> could not be transformed and will be executed as-is. Please report this to the AutgoGraph team. When filing the bug, set the verbosity to 10 (on Linux, `export AUTOGRAPH_VERBOSITY=10`) and attach the full output. Cause: converting <bound method BatchNorm.call of <pixellib.instance.mask_rcnn.BatchNorm object at 0x7f799e407110>>: AttributeError: module 'gast' has no attribute 'Str'\n"
     ]
    },
    {
     "name": "stdout",
     "output_type": "stream",
     "text": [
      "WARNING: Entity <bound method BatchNorm.call of <pixellib.instance.mask_rcnn.BatchNorm object at 0x7f799e407110>> could not be transformed and will be executed as-is. Please report this to the AutgoGraph team. When filing the bug, set the verbosity to 10 (on Linux, `export AUTOGRAPH_VERBOSITY=10`) and attach the full output. Cause: converting <bound method BatchNorm.call of <pixellib.instance.mask_rcnn.BatchNorm object at 0x7f799e407110>>: AttributeError: module 'gast' has no attribute 'Str'\n",
      "WARNING:tensorflow:Entity <bound method BatchNorm.call of <pixellib.instance.mask_rcnn.BatchNorm object at 0x7f799e48e150>> could not be transformed and will be executed as-is. Please report this to the AutgoGraph team. When filing the bug, set the verbosity to 10 (on Linux, `export AUTOGRAPH_VERBOSITY=10`) and attach the full output. Cause: converting <bound method BatchNorm.call of <pixellib.instance.mask_rcnn.BatchNorm object at 0x7f799e48e150>>: AttributeError: module 'gast' has no attribute 'Str'\n"
     ]
    },
    {
     "name": "stderr",
     "output_type": "stream",
     "text": [
      "11/27/2022 23:37:13 - WARNING - tensorflow -   Entity <bound method BatchNorm.call of <pixellib.instance.mask_rcnn.BatchNorm object at 0x7f799e48e150>> could not be transformed and will be executed as-is. Please report this to the AutgoGraph team. When filing the bug, set the verbosity to 10 (on Linux, `export AUTOGRAPH_VERBOSITY=10`) and attach the full output. Cause: converting <bound method BatchNorm.call of <pixellib.instance.mask_rcnn.BatchNorm object at 0x7f799e48e150>>: AttributeError: module 'gast' has no attribute 'Str'\n"
     ]
    },
    {
     "name": "stdout",
     "output_type": "stream",
     "text": [
      "WARNING: Entity <bound method BatchNorm.call of <pixellib.instance.mask_rcnn.BatchNorm object at 0x7f799e48e150>> could not be transformed and will be executed as-is. Please report this to the AutgoGraph team. When filing the bug, set the verbosity to 10 (on Linux, `export AUTOGRAPH_VERBOSITY=10`) and attach the full output. Cause: converting <bound method BatchNorm.call of <pixellib.instance.mask_rcnn.BatchNorm object at 0x7f799e48e150>>: AttributeError: module 'gast' has no attribute 'Str'\n",
      "WARNING:tensorflow:Entity <bound method BatchNorm.call of <pixellib.instance.mask_rcnn.BatchNorm object at 0x7f799eb37290>> could not be transformed and will be executed as-is. Please report this to the AutgoGraph team. When filing the bug, set the verbosity to 10 (on Linux, `export AUTOGRAPH_VERBOSITY=10`) and attach the full output. Cause: converting <bound method BatchNorm.call of <pixellib.instance.mask_rcnn.BatchNorm object at 0x7f799eb37290>>: AttributeError: module 'gast' has no attribute 'Str'\n"
     ]
    },
    {
     "name": "stderr",
     "output_type": "stream",
     "text": [
      "11/27/2022 23:37:13 - WARNING - tensorflow -   Entity <bound method BatchNorm.call of <pixellib.instance.mask_rcnn.BatchNorm object at 0x7f799eb37290>> could not be transformed and will be executed as-is. Please report this to the AutgoGraph team. When filing the bug, set the verbosity to 10 (on Linux, `export AUTOGRAPH_VERBOSITY=10`) and attach the full output. Cause: converting <bound method BatchNorm.call of <pixellib.instance.mask_rcnn.BatchNorm object at 0x7f799eb37290>>: AttributeError: module 'gast' has no attribute 'Str'\n"
     ]
    },
    {
     "name": "stdout",
     "output_type": "stream",
     "text": [
      "WARNING: Entity <bound method BatchNorm.call of <pixellib.instance.mask_rcnn.BatchNorm object at 0x7f799eb37290>> could not be transformed and will be executed as-is. Please report this to the AutgoGraph team. When filing the bug, set the verbosity to 10 (on Linux, `export AUTOGRAPH_VERBOSITY=10`) and attach the full output. Cause: converting <bound method BatchNorm.call of <pixellib.instance.mask_rcnn.BatchNorm object at 0x7f799eb37290>>: AttributeError: module 'gast' has no attribute 'Str'\n",
      "WARNING:tensorflow:Entity <bound method BatchNorm.call of <pixellib.instance.mask_rcnn.BatchNorm object at 0x7f799eb4b910>> could not be transformed and will be executed as-is. Please report this to the AutgoGraph team. When filing the bug, set the verbosity to 10 (on Linux, `export AUTOGRAPH_VERBOSITY=10`) and attach the full output. Cause: converting <bound method BatchNorm.call of <pixellib.instance.mask_rcnn.BatchNorm object at 0x7f799eb4b910>>: AttributeError: module 'gast' has no attribute 'Str'\n"
     ]
    },
    {
     "name": "stderr",
     "output_type": "stream",
     "text": [
      "11/27/2022 23:37:14 - WARNING - tensorflow -   Entity <bound method BatchNorm.call of <pixellib.instance.mask_rcnn.BatchNorm object at 0x7f799eb4b910>> could not be transformed and will be executed as-is. Please report this to the AutgoGraph team. When filing the bug, set the verbosity to 10 (on Linux, `export AUTOGRAPH_VERBOSITY=10`) and attach the full output. Cause: converting <bound method BatchNorm.call of <pixellib.instance.mask_rcnn.BatchNorm object at 0x7f799eb4b910>>: AttributeError: module 'gast' has no attribute 'Str'\n"
     ]
    },
    {
     "name": "stdout",
     "output_type": "stream",
     "text": [
      "WARNING: Entity <bound method BatchNorm.call of <pixellib.instance.mask_rcnn.BatchNorm object at 0x7f799eb4b910>> could not be transformed and will be executed as-is. Please report this to the AutgoGraph team. When filing the bug, set the verbosity to 10 (on Linux, `export AUTOGRAPH_VERBOSITY=10`) and attach the full output. Cause: converting <bound method BatchNorm.call of <pixellib.instance.mask_rcnn.BatchNorm object at 0x7f799eb4b910>>: AttributeError: module 'gast' has no attribute 'Str'\n",
      "WARNING:tensorflow:Entity <bound method BatchNorm.call of <pixellib.instance.mask_rcnn.BatchNorm object at 0x7f799ec55a50>> could not be transformed and will be executed as-is. Please report this to the AutgoGraph team. When filing the bug, set the verbosity to 10 (on Linux, `export AUTOGRAPH_VERBOSITY=10`) and attach the full output. Cause: converting <bound method BatchNorm.call of <pixellib.instance.mask_rcnn.BatchNorm object at 0x7f799ec55a50>>: AttributeError: module 'gast' has no attribute 'Str'\n"
     ]
    },
    {
     "name": "stderr",
     "output_type": "stream",
     "text": [
      "11/27/2022 23:37:14 - WARNING - tensorflow -   Entity <bound method BatchNorm.call of <pixellib.instance.mask_rcnn.BatchNorm object at 0x7f799ec55a50>> could not be transformed and will be executed as-is. Please report this to the AutgoGraph team. When filing the bug, set the verbosity to 10 (on Linux, `export AUTOGRAPH_VERBOSITY=10`) and attach the full output. Cause: converting <bound method BatchNorm.call of <pixellib.instance.mask_rcnn.BatchNorm object at 0x7f799ec55a50>>: AttributeError: module 'gast' has no attribute 'Str'\n"
     ]
    },
    {
     "name": "stdout",
     "output_type": "stream",
     "text": [
      "WARNING: Entity <bound method BatchNorm.call of <pixellib.instance.mask_rcnn.BatchNorm object at 0x7f799ec55a50>> could not be transformed and will be executed as-is. Please report this to the AutgoGraph team. When filing the bug, set the verbosity to 10 (on Linux, `export AUTOGRAPH_VERBOSITY=10`) and attach the full output. Cause: converting <bound method BatchNorm.call of <pixellib.instance.mask_rcnn.BatchNorm object at 0x7f799ec55a50>>: AttributeError: module 'gast' has no attribute 'Str'\n",
      "WARNING:tensorflow:Entity <bound method BatchNorm.call of <pixellib.instance.mask_rcnn.BatchNorm object at 0x7f799ebcec10>> could not be transformed and will be executed as-is. Please report this to the AutgoGraph team. When filing the bug, set the verbosity to 10 (on Linux, `export AUTOGRAPH_VERBOSITY=10`) and attach the full output. Cause: converting <bound method BatchNorm.call of <pixellib.instance.mask_rcnn.BatchNorm object at 0x7f799ebcec10>>: AttributeError: module 'gast' has no attribute 'Str'\n"
     ]
    },
    {
     "name": "stderr",
     "output_type": "stream",
     "text": [
      "11/27/2022 23:37:14 - WARNING - tensorflow -   Entity <bound method BatchNorm.call of <pixellib.instance.mask_rcnn.BatchNorm object at 0x7f799ebcec10>> could not be transformed and will be executed as-is. Please report this to the AutgoGraph team. When filing the bug, set the verbosity to 10 (on Linux, `export AUTOGRAPH_VERBOSITY=10`) and attach the full output. Cause: converting <bound method BatchNorm.call of <pixellib.instance.mask_rcnn.BatchNorm object at 0x7f799ebcec10>>: AttributeError: module 'gast' has no attribute 'Str'\n"
     ]
    },
    {
     "name": "stdout",
     "output_type": "stream",
     "text": [
      "WARNING: Entity <bound method BatchNorm.call of <pixellib.instance.mask_rcnn.BatchNorm object at 0x7f799ebcec10>> could not be transformed and will be executed as-is. Please report this to the AutgoGraph team. When filing the bug, set the verbosity to 10 (on Linux, `export AUTOGRAPH_VERBOSITY=10`) and attach the full output. Cause: converting <bound method BatchNorm.call of <pixellib.instance.mask_rcnn.BatchNorm object at 0x7f799ebcec10>>: AttributeError: module 'gast' has no attribute 'Str'\n",
      "WARNING:tensorflow:Entity <bound method BatchNorm.call of <pixellib.instance.mask_rcnn.BatchNorm object at 0x7f799ed4d790>> could not be transformed and will be executed as-is. Please report this to the AutgoGraph team. When filing the bug, set the verbosity to 10 (on Linux, `export AUTOGRAPH_VERBOSITY=10`) and attach the full output. Cause: converting <bound method BatchNorm.call of <pixellib.instance.mask_rcnn.BatchNorm object at 0x7f799ed4d790>>: AttributeError: module 'gast' has no attribute 'Str'\n"
     ]
    },
    {
     "name": "stderr",
     "output_type": "stream",
     "text": [
      "11/27/2022 23:37:14 - WARNING - tensorflow -   Entity <bound method BatchNorm.call of <pixellib.instance.mask_rcnn.BatchNorm object at 0x7f799ed4d790>> could not be transformed and will be executed as-is. Please report this to the AutgoGraph team. When filing the bug, set the verbosity to 10 (on Linux, `export AUTOGRAPH_VERBOSITY=10`) and attach the full output. Cause: converting <bound method BatchNorm.call of <pixellib.instance.mask_rcnn.BatchNorm object at 0x7f799ed4d790>>: AttributeError: module 'gast' has no attribute 'Str'\n"
     ]
    },
    {
     "name": "stdout",
     "output_type": "stream",
     "text": [
      "WARNING: Entity <bound method BatchNorm.call of <pixellib.instance.mask_rcnn.BatchNorm object at 0x7f799ed4d790>> could not be transformed and will be executed as-is. Please report this to the AutgoGraph team. When filing the bug, set the verbosity to 10 (on Linux, `export AUTOGRAPH_VERBOSITY=10`) and attach the full output. Cause: converting <bound method BatchNorm.call of <pixellib.instance.mask_rcnn.BatchNorm object at 0x7f799ed4d790>>: AttributeError: module 'gast' has no attribute 'Str'\n",
      "WARNING:tensorflow:Entity <bound method BatchNorm.call of <pixellib.instance.mask_rcnn.BatchNorm object at 0x7f799ee0d190>> could not be transformed and will be executed as-is. Please report this to the AutgoGraph team. When filing the bug, set the verbosity to 10 (on Linux, `export AUTOGRAPH_VERBOSITY=10`) and attach the full output. Cause: converting <bound method BatchNorm.call of <pixellib.instance.mask_rcnn.BatchNorm object at 0x7f799ee0d190>>: AttributeError: module 'gast' has no attribute 'Str'\n"
     ]
    },
    {
     "name": "stderr",
     "output_type": "stream",
     "text": [
      "11/27/2022 23:37:14 - WARNING - tensorflow -   Entity <bound method BatchNorm.call of <pixellib.instance.mask_rcnn.BatchNorm object at 0x7f799ee0d190>> could not be transformed and will be executed as-is. Please report this to the AutgoGraph team. When filing the bug, set the verbosity to 10 (on Linux, `export AUTOGRAPH_VERBOSITY=10`) and attach the full output. Cause: converting <bound method BatchNorm.call of <pixellib.instance.mask_rcnn.BatchNorm object at 0x7f799ee0d190>>: AttributeError: module 'gast' has no attribute 'Str'\n"
     ]
    },
    {
     "name": "stdout",
     "output_type": "stream",
     "text": [
      "WARNING: Entity <bound method BatchNorm.call of <pixellib.instance.mask_rcnn.BatchNorm object at 0x7f799ee0d190>> could not be transformed and will be executed as-is. Please report this to the AutgoGraph team. When filing the bug, set the verbosity to 10 (on Linux, `export AUTOGRAPH_VERBOSITY=10`) and attach the full output. Cause: converting <bound method BatchNorm.call of <pixellib.instance.mask_rcnn.BatchNorm object at 0x7f799ee0d190>>: AttributeError: module 'gast' has no attribute 'Str'\n",
      "WARNING:tensorflow:Entity <bound method BatchNorm.call of <pixellib.instance.mask_rcnn.BatchNorm object at 0x7f799ee5eb10>> could not be transformed and will be executed as-is. Please report this to the AutgoGraph team. When filing the bug, set the verbosity to 10 (on Linux, `export AUTOGRAPH_VERBOSITY=10`) and attach the full output. Cause: converting <bound method BatchNorm.call of <pixellib.instance.mask_rcnn.BatchNorm object at 0x7f799ee5eb10>>: AttributeError: module 'gast' has no attribute 'Str'\n"
     ]
    },
    {
     "name": "stderr",
     "output_type": "stream",
     "text": [
      "11/27/2022 23:37:14 - WARNING - tensorflow -   Entity <bound method BatchNorm.call of <pixellib.instance.mask_rcnn.BatchNorm object at 0x7f799ee5eb10>> could not be transformed and will be executed as-is. Please report this to the AutgoGraph team. When filing the bug, set the verbosity to 10 (on Linux, `export AUTOGRAPH_VERBOSITY=10`) and attach the full output. Cause: converting <bound method BatchNorm.call of <pixellib.instance.mask_rcnn.BatchNorm object at 0x7f799ee5eb10>>: AttributeError: module 'gast' has no attribute 'Str'\n"
     ]
    },
    {
     "name": "stdout",
     "output_type": "stream",
     "text": [
      "WARNING: Entity <bound method BatchNorm.call of <pixellib.instance.mask_rcnn.BatchNorm object at 0x7f799ee5eb10>> could not be transformed and will be executed as-is. Please report this to the AutgoGraph team. When filing the bug, set the verbosity to 10 (on Linux, `export AUTOGRAPH_VERBOSITY=10`) and attach the full output. Cause: converting <bound method BatchNorm.call of <pixellib.instance.mask_rcnn.BatchNorm object at 0x7f799ee5eb10>>: AttributeError: module 'gast' has no attribute 'Str'\n",
      "WARNING:tensorflow:Entity <bound method BatchNorm.call of <pixellib.instance.mask_rcnn.BatchNorm object at 0x7f799ee81bd0>> could not be transformed and will be executed as-is. Please report this to the AutgoGraph team. When filing the bug, set the verbosity to 10 (on Linux, `export AUTOGRAPH_VERBOSITY=10`) and attach the full output. Cause: converting <bound method BatchNorm.call of <pixellib.instance.mask_rcnn.BatchNorm object at 0x7f799ee81bd0>>: AttributeError: module 'gast' has no attribute 'Str'\n"
     ]
    },
    {
     "name": "stderr",
     "output_type": "stream",
     "text": [
      "11/27/2022 23:37:14 - WARNING - tensorflow -   Entity <bound method BatchNorm.call of <pixellib.instance.mask_rcnn.BatchNorm object at 0x7f799ee81bd0>> could not be transformed and will be executed as-is. Please report this to the AutgoGraph team. When filing the bug, set the verbosity to 10 (on Linux, `export AUTOGRAPH_VERBOSITY=10`) and attach the full output. Cause: converting <bound method BatchNorm.call of <pixellib.instance.mask_rcnn.BatchNorm object at 0x7f799ee81bd0>>: AttributeError: module 'gast' has no attribute 'Str'\n"
     ]
    },
    {
     "name": "stdout",
     "output_type": "stream",
     "text": [
      "WARNING: Entity <bound method BatchNorm.call of <pixellib.instance.mask_rcnn.BatchNorm object at 0x7f799ee81bd0>> could not be transformed and will be executed as-is. Please report this to the AutgoGraph team. When filing the bug, set the verbosity to 10 (on Linux, `export AUTOGRAPH_VERBOSITY=10`) and attach the full output. Cause: converting <bound method BatchNorm.call of <pixellib.instance.mask_rcnn.BatchNorm object at 0x7f799ee81bd0>>: AttributeError: module 'gast' has no attribute 'Str'\n",
      "WARNING:tensorflow:Entity <bound method BatchNorm.call of <pixellib.instance.mask_rcnn.BatchNorm object at 0x7f799ef99a10>> could not be transformed and will be executed as-is. Please report this to the AutgoGraph team. When filing the bug, set the verbosity to 10 (on Linux, `export AUTOGRAPH_VERBOSITY=10`) and attach the full output. Cause: converting <bound method BatchNorm.call of <pixellib.instance.mask_rcnn.BatchNorm object at 0x7f799ef99a10>>: AttributeError: module 'gast' has no attribute 'Str'\n"
     ]
    },
    {
     "name": "stderr",
     "output_type": "stream",
     "text": [
      "11/27/2022 23:37:14 - WARNING - tensorflow -   Entity <bound method BatchNorm.call of <pixellib.instance.mask_rcnn.BatchNorm object at 0x7f799ef99a10>> could not be transformed and will be executed as-is. Please report this to the AutgoGraph team. When filing the bug, set the verbosity to 10 (on Linux, `export AUTOGRAPH_VERBOSITY=10`) and attach the full output. Cause: converting <bound method BatchNorm.call of <pixellib.instance.mask_rcnn.BatchNorm object at 0x7f799ef99a10>>: AttributeError: module 'gast' has no attribute 'Str'\n"
     ]
    },
    {
     "name": "stdout",
     "output_type": "stream",
     "text": [
      "WARNING: Entity <bound method BatchNorm.call of <pixellib.instance.mask_rcnn.BatchNorm object at 0x7f799ef99a10>> could not be transformed and will be executed as-is. Please report this to the AutgoGraph team. When filing the bug, set the verbosity to 10 (on Linux, `export AUTOGRAPH_VERBOSITY=10`) and attach the full output. Cause: converting <bound method BatchNorm.call of <pixellib.instance.mask_rcnn.BatchNorm object at 0x7f799ef99a10>>: AttributeError: module 'gast' has no attribute 'Str'\n",
      "WARNING:tensorflow:Entity <bound method BatchNorm.call of <pixellib.instance.mask_rcnn.BatchNorm object at 0x7f7a972adf10>> could not be transformed and will be executed as-is. Please report this to the AutgoGraph team. When filing the bug, set the verbosity to 10 (on Linux, `export AUTOGRAPH_VERBOSITY=10`) and attach the full output. Cause: converting <bound method BatchNorm.call of <pixellib.instance.mask_rcnn.BatchNorm object at 0x7f7a972adf10>>: AttributeError: module 'gast' has no attribute 'Str'\n"
     ]
    },
    {
     "name": "stderr",
     "output_type": "stream",
     "text": [
      "11/27/2022 23:37:14 - WARNING - tensorflow -   Entity <bound method BatchNorm.call of <pixellib.instance.mask_rcnn.BatchNorm object at 0x7f7a972adf10>> could not be transformed and will be executed as-is. Please report this to the AutgoGraph team. When filing the bug, set the verbosity to 10 (on Linux, `export AUTOGRAPH_VERBOSITY=10`) and attach the full output. Cause: converting <bound method BatchNorm.call of <pixellib.instance.mask_rcnn.BatchNorm object at 0x7f7a972adf10>>: AttributeError: module 'gast' has no attribute 'Str'\n"
     ]
    },
    {
     "name": "stdout",
     "output_type": "stream",
     "text": [
      "WARNING: Entity <bound method BatchNorm.call of <pixellib.instance.mask_rcnn.BatchNorm object at 0x7f7a972adf10>> could not be transformed and will be executed as-is. Please report this to the AutgoGraph team. When filing the bug, set the verbosity to 10 (on Linux, `export AUTOGRAPH_VERBOSITY=10`) and attach the full output. Cause: converting <bound method BatchNorm.call of <pixellib.instance.mask_rcnn.BatchNorm object at 0x7f7a972adf10>>: AttributeError: module 'gast' has no attribute 'Str'\n",
      "WARNING:tensorflow:Entity <bound method BatchNorm.call of <pixellib.instance.mask_rcnn.BatchNorm object at 0x7f799f074590>> could not be transformed and will be executed as-is. Please report this to the AutgoGraph team. When filing the bug, set the verbosity to 10 (on Linux, `export AUTOGRAPH_VERBOSITY=10`) and attach the full output. Cause: converting <bound method BatchNorm.call of <pixellib.instance.mask_rcnn.BatchNorm object at 0x7f799f074590>>: AttributeError: module 'gast' has no attribute 'Str'\n"
     ]
    },
    {
     "name": "stderr",
     "output_type": "stream",
     "text": [
      "11/27/2022 23:37:14 - WARNING - tensorflow -   Entity <bound method BatchNorm.call of <pixellib.instance.mask_rcnn.BatchNorm object at 0x7f799f074590>> could not be transformed and will be executed as-is. Please report this to the AutgoGraph team. When filing the bug, set the verbosity to 10 (on Linux, `export AUTOGRAPH_VERBOSITY=10`) and attach the full output. Cause: converting <bound method BatchNorm.call of <pixellib.instance.mask_rcnn.BatchNorm object at 0x7f799f074590>>: AttributeError: module 'gast' has no attribute 'Str'\n"
     ]
    },
    {
     "name": "stdout",
     "output_type": "stream",
     "text": [
      "WARNING: Entity <bound method BatchNorm.call of <pixellib.instance.mask_rcnn.BatchNorm object at 0x7f799f074590>> could not be transformed and will be executed as-is. Please report this to the AutgoGraph team. When filing the bug, set the verbosity to 10 (on Linux, `export AUTOGRAPH_VERBOSITY=10`) and attach the full output. Cause: converting <bound method BatchNorm.call of <pixellib.instance.mask_rcnn.BatchNorm object at 0x7f799f074590>>: AttributeError: module 'gast' has no attribute 'Str'\n",
      "WARNING:tensorflow:Entity <bound method BatchNorm.call of <pixellib.instance.mask_rcnn.BatchNorm object at 0x7f799f14f450>> could not be transformed and will be executed as-is. Please report this to the AutgoGraph team. When filing the bug, set the verbosity to 10 (on Linux, `export AUTOGRAPH_VERBOSITY=10`) and attach the full output. Cause: converting <bound method BatchNorm.call of <pixellib.instance.mask_rcnn.BatchNorm object at 0x7f799f14f450>>: AttributeError: module 'gast' has no attribute 'Str'\n"
     ]
    },
    {
     "name": "stderr",
     "output_type": "stream",
     "text": [
      "11/27/2022 23:37:14 - WARNING - tensorflow -   Entity <bound method BatchNorm.call of <pixellib.instance.mask_rcnn.BatchNorm object at 0x7f799f14f450>> could not be transformed and will be executed as-is. Please report this to the AutgoGraph team. When filing the bug, set the verbosity to 10 (on Linux, `export AUTOGRAPH_VERBOSITY=10`) and attach the full output. Cause: converting <bound method BatchNorm.call of <pixellib.instance.mask_rcnn.BatchNorm object at 0x7f799f14f450>>: AttributeError: module 'gast' has no attribute 'Str'\n"
     ]
    },
    {
     "name": "stdout",
     "output_type": "stream",
     "text": [
      "WARNING: Entity <bound method BatchNorm.call of <pixellib.instance.mask_rcnn.BatchNorm object at 0x7f799f14f450>> could not be transformed and will be executed as-is. Please report this to the AutgoGraph team. When filing the bug, set the verbosity to 10 (on Linux, `export AUTOGRAPH_VERBOSITY=10`) and attach the full output. Cause: converting <bound method BatchNorm.call of <pixellib.instance.mask_rcnn.BatchNorm object at 0x7f799f14f450>>: AttributeError: module 'gast' has no attribute 'Str'\n",
      "WARNING:tensorflow:Entity <bound method BatchNorm.call of <pixellib.instance.mask_rcnn.BatchNorm object at 0x7f799f1a6b50>> could not be transformed and will be executed as-is. Please report this to the AutgoGraph team. When filing the bug, set the verbosity to 10 (on Linux, `export AUTOGRAPH_VERBOSITY=10`) and attach the full output. Cause: converting <bound method BatchNorm.call of <pixellib.instance.mask_rcnn.BatchNorm object at 0x7f799f1a6b50>>: AttributeError: module 'gast' has no attribute 'Str'\n"
     ]
    },
    {
     "name": "stderr",
     "output_type": "stream",
     "text": [
      "11/27/2022 23:37:14 - WARNING - tensorflow -   Entity <bound method BatchNorm.call of <pixellib.instance.mask_rcnn.BatchNorm object at 0x7f799f1a6b50>> could not be transformed and will be executed as-is. Please report this to the AutgoGraph team. When filing the bug, set the verbosity to 10 (on Linux, `export AUTOGRAPH_VERBOSITY=10`) and attach the full output. Cause: converting <bound method BatchNorm.call of <pixellib.instance.mask_rcnn.BatchNorm object at 0x7f799f1a6b50>>: AttributeError: module 'gast' has no attribute 'Str'\n"
     ]
    },
    {
     "name": "stdout",
     "output_type": "stream",
     "text": [
      "WARNING: Entity <bound method BatchNorm.call of <pixellib.instance.mask_rcnn.BatchNorm object at 0x7f799f1a6b50>> could not be transformed and will be executed as-is. Please report this to the AutgoGraph team. When filing the bug, set the verbosity to 10 (on Linux, `export AUTOGRAPH_VERBOSITY=10`) and attach the full output. Cause: converting <bound method BatchNorm.call of <pixellib.instance.mask_rcnn.BatchNorm object at 0x7f799f1a6b50>>: AttributeError: module 'gast' has no attribute 'Str'\n",
      "WARNING:tensorflow:Entity <bound method BatchNorm.call of <pixellib.instance.mask_rcnn.BatchNorm object at 0x7f799f246e10>> could not be transformed and will be executed as-is. Please report this to the AutgoGraph team. When filing the bug, set the verbosity to 10 (on Linux, `export AUTOGRAPH_VERBOSITY=10`) and attach the full output. Cause: converting <bound method BatchNorm.call of <pixellib.instance.mask_rcnn.BatchNorm object at 0x7f799f246e10>>: AttributeError: module 'gast' has no attribute 'Str'\n"
     ]
    },
    {
     "name": "stderr",
     "output_type": "stream",
     "text": [
      "11/27/2022 23:37:15 - WARNING - tensorflow -   Entity <bound method BatchNorm.call of <pixellib.instance.mask_rcnn.BatchNorm object at 0x7f799f246e10>> could not be transformed and will be executed as-is. Please report this to the AutgoGraph team. When filing the bug, set the verbosity to 10 (on Linux, `export AUTOGRAPH_VERBOSITY=10`) and attach the full output. Cause: converting <bound method BatchNorm.call of <pixellib.instance.mask_rcnn.BatchNorm object at 0x7f799f246e10>>: AttributeError: module 'gast' has no attribute 'Str'\n"
     ]
    },
    {
     "name": "stdout",
     "output_type": "stream",
     "text": [
      "WARNING: Entity <bound method BatchNorm.call of <pixellib.instance.mask_rcnn.BatchNorm object at 0x7f799f246e10>> could not be transformed and will be executed as-is. Please report this to the AutgoGraph team. When filing the bug, set the verbosity to 10 (on Linux, `export AUTOGRAPH_VERBOSITY=10`) and attach the full output. Cause: converting <bound method BatchNorm.call of <pixellib.instance.mask_rcnn.BatchNorm object at 0x7f799f246e10>>: AttributeError: module 'gast' has no attribute 'Str'\n",
      "WARNING:tensorflow:Entity <bound method BatchNorm.call of <pixellib.instance.mask_rcnn.BatchNorm object at 0x7f799f1c77d0>> could not be transformed and will be executed as-is. Please report this to the AutgoGraph team. When filing the bug, set the verbosity to 10 (on Linux, `export AUTOGRAPH_VERBOSITY=10`) and attach the full output. Cause: converting <bound method BatchNorm.call of <pixellib.instance.mask_rcnn.BatchNorm object at 0x7f799f1c77d0>>: AttributeError: module 'gast' has no attribute 'Str'\n"
     ]
    },
    {
     "name": "stderr",
     "output_type": "stream",
     "text": [
      "11/27/2022 23:37:15 - WARNING - tensorflow -   Entity <bound method BatchNorm.call of <pixellib.instance.mask_rcnn.BatchNorm object at 0x7f799f1c77d0>> could not be transformed and will be executed as-is. Please report this to the AutgoGraph team. When filing the bug, set the verbosity to 10 (on Linux, `export AUTOGRAPH_VERBOSITY=10`) and attach the full output. Cause: converting <bound method BatchNorm.call of <pixellib.instance.mask_rcnn.BatchNorm object at 0x7f799f1c77d0>>: AttributeError: module 'gast' has no attribute 'Str'\n"
     ]
    },
    {
     "name": "stdout",
     "output_type": "stream",
     "text": [
      "WARNING: Entity <bound method BatchNorm.call of <pixellib.instance.mask_rcnn.BatchNorm object at 0x7f799f1c77d0>> could not be transformed and will be executed as-is. Please report this to the AutgoGraph team. When filing the bug, set the verbosity to 10 (on Linux, `export AUTOGRAPH_VERBOSITY=10`) and attach the full output. Cause: converting <bound method BatchNorm.call of <pixellib.instance.mask_rcnn.BatchNorm object at 0x7f799f1c77d0>>: AttributeError: module 'gast' has no attribute 'Str'\n",
      "WARNING:tensorflow:Entity <bound method BatchNorm.call of <pixellib.instance.mask_rcnn.BatchNorm object at 0x7f799f301d50>> could not be transformed and will be executed as-is. Please report this to the AutgoGraph team. When filing the bug, set the verbosity to 10 (on Linux, `export AUTOGRAPH_VERBOSITY=10`) and attach the full output. Cause: converting <bound method BatchNorm.call of <pixellib.instance.mask_rcnn.BatchNorm object at 0x7f799f301d50>>: AttributeError: module 'gast' has no attribute 'Str'\n"
     ]
    },
    {
     "name": "stderr",
     "output_type": "stream",
     "text": [
      "11/27/2022 23:37:15 - WARNING - tensorflow -   Entity <bound method BatchNorm.call of <pixellib.instance.mask_rcnn.BatchNorm object at 0x7f799f301d50>> could not be transformed and will be executed as-is. Please report this to the AutgoGraph team. When filing the bug, set the verbosity to 10 (on Linux, `export AUTOGRAPH_VERBOSITY=10`) and attach the full output. Cause: converting <bound method BatchNorm.call of <pixellib.instance.mask_rcnn.BatchNorm object at 0x7f799f301d50>>: AttributeError: module 'gast' has no attribute 'Str'\n"
     ]
    },
    {
     "name": "stdout",
     "output_type": "stream",
     "text": [
      "WARNING: Entity <bound method BatchNorm.call of <pixellib.instance.mask_rcnn.BatchNorm object at 0x7f799f301d50>> could not be transformed and will be executed as-is. Please report this to the AutgoGraph team. When filing the bug, set the verbosity to 10 (on Linux, `export AUTOGRAPH_VERBOSITY=10`) and attach the full output. Cause: converting <bound method BatchNorm.call of <pixellib.instance.mask_rcnn.BatchNorm object at 0x7f799f301d50>>: AttributeError: module 'gast' has no attribute 'Str'\n",
      "WARNING:tensorflow:Entity <bound method BatchNorm.call of <pixellib.instance.mask_rcnn.BatchNorm object at 0x7f799f3dca90>> could not be transformed and will be executed as-is. Please report this to the AutgoGraph team. When filing the bug, set the verbosity to 10 (on Linux, `export AUTOGRAPH_VERBOSITY=10`) and attach the full output. Cause: converting <bound method BatchNorm.call of <pixellib.instance.mask_rcnn.BatchNorm object at 0x7f799f3dca90>>: AttributeError: module 'gast' has no attribute 'Str'\n"
     ]
    },
    {
     "name": "stderr",
     "output_type": "stream",
     "text": [
      "11/27/2022 23:37:15 - WARNING - tensorflow -   Entity <bound method BatchNorm.call of <pixellib.instance.mask_rcnn.BatchNorm object at 0x7f799f3dca90>> could not be transformed and will be executed as-is. Please report this to the AutgoGraph team. When filing the bug, set the verbosity to 10 (on Linux, `export AUTOGRAPH_VERBOSITY=10`) and attach the full output. Cause: converting <bound method BatchNorm.call of <pixellib.instance.mask_rcnn.BatchNorm object at 0x7f799f3dca90>>: AttributeError: module 'gast' has no attribute 'Str'\n"
     ]
    },
    {
     "name": "stdout",
     "output_type": "stream",
     "text": [
      "WARNING: Entity <bound method BatchNorm.call of <pixellib.instance.mask_rcnn.BatchNorm object at 0x7f799f3dca90>> could not be transformed and will be executed as-is. Please report this to the AutgoGraph team. When filing the bug, set the verbosity to 10 (on Linux, `export AUTOGRAPH_VERBOSITY=10`) and attach the full output. Cause: converting <bound method BatchNorm.call of <pixellib.instance.mask_rcnn.BatchNorm object at 0x7f799f3dca90>>: AttributeError: module 'gast' has no attribute 'Str'\n",
      "WARNING:tensorflow:Entity <bound method BatchNorm.call of <pixellib.instance.mask_rcnn.BatchNorm object at 0x7f799f3f9c10>> could not be transformed and will be executed as-is. Please report this to the AutgoGraph team. When filing the bug, set the verbosity to 10 (on Linux, `export AUTOGRAPH_VERBOSITY=10`) and attach the full output. Cause: converting <bound method BatchNorm.call of <pixellib.instance.mask_rcnn.BatchNorm object at 0x7f799f3f9c10>>: AttributeError: module 'gast' has no attribute 'Str'\n"
     ]
    },
    {
     "name": "stderr",
     "output_type": "stream",
     "text": [
      "11/27/2022 23:37:15 - WARNING - tensorflow -   Entity <bound method BatchNorm.call of <pixellib.instance.mask_rcnn.BatchNorm object at 0x7f799f3f9c10>> could not be transformed and will be executed as-is. Please report this to the AutgoGraph team. When filing the bug, set the verbosity to 10 (on Linux, `export AUTOGRAPH_VERBOSITY=10`) and attach the full output. Cause: converting <bound method BatchNorm.call of <pixellib.instance.mask_rcnn.BatchNorm object at 0x7f799f3f9c10>>: AttributeError: module 'gast' has no attribute 'Str'\n"
     ]
    },
    {
     "name": "stdout",
     "output_type": "stream",
     "text": [
      "WARNING: Entity <bound method BatchNorm.call of <pixellib.instance.mask_rcnn.BatchNorm object at 0x7f799f3f9c10>> could not be transformed and will be executed as-is. Please report this to the AutgoGraph team. When filing the bug, set the verbosity to 10 (on Linux, `export AUTOGRAPH_VERBOSITY=10`) and attach the full output. Cause: converting <bound method BatchNorm.call of <pixellib.instance.mask_rcnn.BatchNorm object at 0x7f799f3f9c10>>: AttributeError: module 'gast' has no attribute 'Str'\n",
      "WARNING:tensorflow:Entity <bound method BatchNorm.call of <pixellib.instance.mask_rcnn.BatchNorm object at 0x7f799f37a910>> could not be transformed and will be executed as-is. Please report this to the AutgoGraph team. When filing the bug, set the verbosity to 10 (on Linux, `export AUTOGRAPH_VERBOSITY=10`) and attach the full output. Cause: converting <bound method BatchNorm.call of <pixellib.instance.mask_rcnn.BatchNorm object at 0x7f799f37a910>>: AttributeError: module 'gast' has no attribute 'Str'\n"
     ]
    },
    {
     "name": "stderr",
     "output_type": "stream",
     "text": [
      "11/27/2022 23:37:15 - WARNING - tensorflow -   Entity <bound method BatchNorm.call of <pixellib.instance.mask_rcnn.BatchNorm object at 0x7f799f37a910>> could not be transformed and will be executed as-is. Please report this to the AutgoGraph team. When filing the bug, set the verbosity to 10 (on Linux, `export AUTOGRAPH_VERBOSITY=10`) and attach the full output. Cause: converting <bound method BatchNorm.call of <pixellib.instance.mask_rcnn.BatchNorm object at 0x7f799f37a910>>: AttributeError: module 'gast' has no attribute 'Str'\n"
     ]
    },
    {
     "name": "stdout",
     "output_type": "stream",
     "text": [
      "WARNING: Entity <bound method BatchNorm.call of <pixellib.instance.mask_rcnn.BatchNorm object at 0x7f799f37a910>> could not be transformed and will be executed as-is. Please report this to the AutgoGraph team. When filing the bug, set the verbosity to 10 (on Linux, `export AUTOGRAPH_VERBOSITY=10`) and attach the full output. Cause: converting <bound method BatchNorm.call of <pixellib.instance.mask_rcnn.BatchNorm object at 0x7f799f37a910>>: AttributeError: module 'gast' has no attribute 'Str'\n",
      "WARNING:tensorflow:Entity <bound method BatchNorm.call of <pixellib.instance.mask_rcnn.BatchNorm object at 0x7f799f58cd50>> could not be transformed and will be executed as-is. Please report this to the AutgoGraph team. When filing the bug, set the verbosity to 10 (on Linux, `export AUTOGRAPH_VERBOSITY=10`) and attach the full output. Cause: converting <bound method BatchNorm.call of <pixellib.instance.mask_rcnn.BatchNorm object at 0x7f799f58cd50>>: AttributeError: module 'gast' has no attribute 'Str'\n"
     ]
    },
    {
     "name": "stderr",
     "output_type": "stream",
     "text": [
      "11/27/2022 23:37:15 - WARNING - tensorflow -   Entity <bound method BatchNorm.call of <pixellib.instance.mask_rcnn.BatchNorm object at 0x7f799f58cd50>> could not be transformed and will be executed as-is. Please report this to the AutgoGraph team. When filing the bug, set the verbosity to 10 (on Linux, `export AUTOGRAPH_VERBOSITY=10`) and attach the full output. Cause: converting <bound method BatchNorm.call of <pixellib.instance.mask_rcnn.BatchNorm object at 0x7f799f58cd50>>: AttributeError: module 'gast' has no attribute 'Str'\n"
     ]
    },
    {
     "name": "stdout",
     "output_type": "stream",
     "text": [
      "WARNING: Entity <bound method BatchNorm.call of <pixellib.instance.mask_rcnn.BatchNorm object at 0x7f799f58cd50>> could not be transformed and will be executed as-is. Please report this to the AutgoGraph team. When filing the bug, set the verbosity to 10 (on Linux, `export AUTOGRAPH_VERBOSITY=10`) and attach the full output. Cause: converting <bound method BatchNorm.call of <pixellib.instance.mask_rcnn.BatchNorm object at 0x7f799f58cd50>>: AttributeError: module 'gast' has no attribute 'Str'\n",
      "WARNING:tensorflow:Entity <bound method BatchNorm.call of <pixellib.instance.mask_rcnn.BatchNorm object at 0x7f799f567610>> could not be transformed and will be executed as-is. Please report this to the AutgoGraph team. When filing the bug, set the verbosity to 10 (on Linux, `export AUTOGRAPH_VERBOSITY=10`) and attach the full output. Cause: converting <bound method BatchNorm.call of <pixellib.instance.mask_rcnn.BatchNorm object at 0x7f799f567610>>: AttributeError: module 'gast' has no attribute 'Str'\n"
     ]
    },
    {
     "name": "stderr",
     "output_type": "stream",
     "text": [
      "11/27/2022 23:37:15 - WARNING - tensorflow -   Entity <bound method BatchNorm.call of <pixellib.instance.mask_rcnn.BatchNorm object at 0x7f799f567610>> could not be transformed and will be executed as-is. Please report this to the AutgoGraph team. When filing the bug, set the verbosity to 10 (on Linux, `export AUTOGRAPH_VERBOSITY=10`) and attach the full output. Cause: converting <bound method BatchNorm.call of <pixellib.instance.mask_rcnn.BatchNorm object at 0x7f799f567610>>: AttributeError: module 'gast' has no attribute 'Str'\n"
     ]
    },
    {
     "name": "stdout",
     "output_type": "stream",
     "text": [
      "WARNING: Entity <bound method BatchNorm.call of <pixellib.instance.mask_rcnn.BatchNorm object at 0x7f799f567610>> could not be transformed and will be executed as-is. Please report this to the AutgoGraph team. When filing the bug, set the verbosity to 10 (on Linux, `export AUTOGRAPH_VERBOSITY=10`) and attach the full output. Cause: converting <bound method BatchNorm.call of <pixellib.instance.mask_rcnn.BatchNorm object at 0x7f799f567610>>: AttributeError: module 'gast' has no attribute 'Str'\n",
      "WARNING:tensorflow:Entity <bound method BatchNorm.call of <pixellib.instance.mask_rcnn.BatchNorm object at 0x7f799f675e50>> could not be transformed and will be executed as-is. Please report this to the AutgoGraph team. When filing the bug, set the verbosity to 10 (on Linux, `export AUTOGRAPH_VERBOSITY=10`) and attach the full output. Cause: converting <bound method BatchNorm.call of <pixellib.instance.mask_rcnn.BatchNorm object at 0x7f799f675e50>>: AttributeError: module 'gast' has no attribute 'Str'\n"
     ]
    },
    {
     "name": "stderr",
     "output_type": "stream",
     "text": [
      "11/27/2022 23:37:15 - WARNING - tensorflow -   Entity <bound method BatchNorm.call of <pixellib.instance.mask_rcnn.BatchNorm object at 0x7f799f675e50>> could not be transformed and will be executed as-is. Please report this to the AutgoGraph team. When filing the bug, set the verbosity to 10 (on Linux, `export AUTOGRAPH_VERBOSITY=10`) and attach the full output. Cause: converting <bound method BatchNorm.call of <pixellib.instance.mask_rcnn.BatchNorm object at 0x7f799f675e50>>: AttributeError: module 'gast' has no attribute 'Str'\n"
     ]
    },
    {
     "name": "stdout",
     "output_type": "stream",
     "text": [
      "WARNING: Entity <bound method BatchNorm.call of <pixellib.instance.mask_rcnn.BatchNorm object at 0x7f799f675e50>> could not be transformed and will be executed as-is. Please report this to the AutgoGraph team. When filing the bug, set the verbosity to 10 (on Linux, `export AUTOGRAPH_VERBOSITY=10`) and attach the full output. Cause: converting <bound method BatchNorm.call of <pixellib.instance.mask_rcnn.BatchNorm object at 0x7f799f675e50>>: AttributeError: module 'gast' has no attribute 'Str'\n",
      "WARNING:tensorflow:Entity <bound method BatchNorm.call of <pixellib.instance.mask_rcnn.BatchNorm object at 0x7f799f7218d0>> could not be transformed and will be executed as-is. Please report this to the AutgoGraph team. When filing the bug, set the verbosity to 10 (on Linux, `export AUTOGRAPH_VERBOSITY=10`) and attach the full output. Cause: converting <bound method BatchNorm.call of <pixellib.instance.mask_rcnn.BatchNorm object at 0x7f799f7218d0>>: AttributeError: module 'gast' has no attribute 'Str'\n"
     ]
    },
    {
     "name": "stderr",
     "output_type": "stream",
     "text": [
      "11/27/2022 23:37:15 - WARNING - tensorflow -   Entity <bound method BatchNorm.call of <pixellib.instance.mask_rcnn.BatchNorm object at 0x7f799f7218d0>> could not be transformed and will be executed as-is. Please report this to the AutgoGraph team. When filing the bug, set the verbosity to 10 (on Linux, `export AUTOGRAPH_VERBOSITY=10`) and attach the full output. Cause: converting <bound method BatchNorm.call of <pixellib.instance.mask_rcnn.BatchNorm object at 0x7f799f7218d0>>: AttributeError: module 'gast' has no attribute 'Str'\n"
     ]
    },
    {
     "name": "stdout",
     "output_type": "stream",
     "text": [
      "WARNING: Entity <bound method BatchNorm.call of <pixellib.instance.mask_rcnn.BatchNorm object at 0x7f799f7218d0>> could not be transformed and will be executed as-is. Please report this to the AutgoGraph team. When filing the bug, set the verbosity to 10 (on Linux, `export AUTOGRAPH_VERBOSITY=10`) and attach the full output. Cause: converting <bound method BatchNorm.call of <pixellib.instance.mask_rcnn.BatchNorm object at 0x7f799f7218d0>>: AttributeError: module 'gast' has no attribute 'Str'\n",
      "WARNING:tensorflow:Entity <bound method BatchNorm.call of <pixellib.instance.mask_rcnn.BatchNorm object at 0x7f799f7b6d50>> could not be transformed and will be executed as-is. Please report this to the AutgoGraph team. When filing the bug, set the verbosity to 10 (on Linux, `export AUTOGRAPH_VERBOSITY=10`) and attach the full output. Cause: converting <bound method BatchNorm.call of <pixellib.instance.mask_rcnn.BatchNorm object at 0x7f799f7b6d50>>: AttributeError: module 'gast' has no attribute 'Str'\n"
     ]
    },
    {
     "name": "stderr",
     "output_type": "stream",
     "text": [
      "11/27/2022 23:37:15 - WARNING - tensorflow -   Entity <bound method BatchNorm.call of <pixellib.instance.mask_rcnn.BatchNorm object at 0x7f799f7b6d50>> could not be transformed and will be executed as-is. Please report this to the AutgoGraph team. When filing the bug, set the verbosity to 10 (on Linux, `export AUTOGRAPH_VERBOSITY=10`) and attach the full output. Cause: converting <bound method BatchNorm.call of <pixellib.instance.mask_rcnn.BatchNorm object at 0x7f799f7b6d50>>: AttributeError: module 'gast' has no attribute 'Str'\n"
     ]
    },
    {
     "name": "stdout",
     "output_type": "stream",
     "text": [
      "WARNING: Entity <bound method BatchNorm.call of <pixellib.instance.mask_rcnn.BatchNorm object at 0x7f799f7b6d50>> could not be transformed and will be executed as-is. Please report this to the AutgoGraph team. When filing the bug, set the verbosity to 10 (on Linux, `export AUTOGRAPH_VERBOSITY=10`) and attach the full output. Cause: converting <bound method BatchNorm.call of <pixellib.instance.mask_rcnn.BatchNorm object at 0x7f799f7b6d50>>: AttributeError: module 'gast' has no attribute 'Str'\n",
      "WARNING:tensorflow:Entity <bound method BatchNorm.call of <pixellib.instance.mask_rcnn.BatchNorm object at 0x7f799f7b6e90>> could not be transformed and will be executed as-is. Please report this to the AutgoGraph team. When filing the bug, set the verbosity to 10 (on Linux, `export AUTOGRAPH_VERBOSITY=10`) and attach the full output. Cause: converting <bound method BatchNorm.call of <pixellib.instance.mask_rcnn.BatchNorm object at 0x7f799f7b6e90>>: AttributeError: module 'gast' has no attribute 'Str'\n"
     ]
    },
    {
     "name": "stderr",
     "output_type": "stream",
     "text": [
      "11/27/2022 23:37:15 - WARNING - tensorflow -   Entity <bound method BatchNorm.call of <pixellib.instance.mask_rcnn.BatchNorm object at 0x7f799f7b6e90>> could not be transformed and will be executed as-is. Please report this to the AutgoGraph team. When filing the bug, set the verbosity to 10 (on Linux, `export AUTOGRAPH_VERBOSITY=10`) and attach the full output. Cause: converting <bound method BatchNorm.call of <pixellib.instance.mask_rcnn.BatchNorm object at 0x7f799f7b6e90>>: AttributeError: module 'gast' has no attribute 'Str'\n"
     ]
    },
    {
     "name": "stdout",
     "output_type": "stream",
     "text": [
      "WARNING: Entity <bound method BatchNorm.call of <pixellib.instance.mask_rcnn.BatchNorm object at 0x7f799f7b6e90>> could not be transformed and will be executed as-is. Please report this to the AutgoGraph team. When filing the bug, set the verbosity to 10 (on Linux, `export AUTOGRAPH_VERBOSITY=10`) and attach the full output. Cause: converting <bound method BatchNorm.call of <pixellib.instance.mask_rcnn.BatchNorm object at 0x7f799f7b6e90>>: AttributeError: module 'gast' has no attribute 'Str'\n",
      "WARNING:tensorflow:Entity <bound method BatchNorm.call of <pixellib.instance.mask_rcnn.BatchNorm object at 0x7f799f8d17d0>> could not be transformed and will be executed as-is. Please report this to the AutgoGraph team. When filing the bug, set the verbosity to 10 (on Linux, `export AUTOGRAPH_VERBOSITY=10`) and attach the full output. Cause: converting <bound method BatchNorm.call of <pixellib.instance.mask_rcnn.BatchNorm object at 0x7f799f8d17d0>>: AttributeError: module 'gast' has no attribute 'Str'\n"
     ]
    },
    {
     "name": "stderr",
     "output_type": "stream",
     "text": [
      "11/27/2022 23:37:16 - WARNING - tensorflow -   Entity <bound method BatchNorm.call of <pixellib.instance.mask_rcnn.BatchNorm object at 0x7f799f8d17d0>> could not be transformed and will be executed as-is. Please report this to the AutgoGraph team. When filing the bug, set the verbosity to 10 (on Linux, `export AUTOGRAPH_VERBOSITY=10`) and attach the full output. Cause: converting <bound method BatchNorm.call of <pixellib.instance.mask_rcnn.BatchNorm object at 0x7f799f8d17d0>>: AttributeError: module 'gast' has no attribute 'Str'\n"
     ]
    },
    {
     "name": "stdout",
     "output_type": "stream",
     "text": [
      "WARNING: Entity <bound method BatchNorm.call of <pixellib.instance.mask_rcnn.BatchNorm object at 0x7f799f8d17d0>> could not be transformed and will be executed as-is. Please report this to the AutgoGraph team. When filing the bug, set the verbosity to 10 (on Linux, `export AUTOGRAPH_VERBOSITY=10`) and attach the full output. Cause: converting <bound method BatchNorm.call of <pixellib.instance.mask_rcnn.BatchNorm object at 0x7f799f8d17d0>>: AttributeError: module 'gast' has no attribute 'Str'\n",
      "WARNING:tensorflow:Entity <bound method BatchNorm.call of <pixellib.instance.mask_rcnn.BatchNorm object at 0x7f799f973190>> could not be transformed and will be executed as-is. Please report this to the AutgoGraph team. When filing the bug, set the verbosity to 10 (on Linux, `export AUTOGRAPH_VERBOSITY=10`) and attach the full output. Cause: converting <bound method BatchNorm.call of <pixellib.instance.mask_rcnn.BatchNorm object at 0x7f799f973190>>: AttributeError: module 'gast' has no attribute 'Str'\n"
     ]
    },
    {
     "name": "stderr",
     "output_type": "stream",
     "text": [
      "11/27/2022 23:37:16 - WARNING - tensorflow -   Entity <bound method BatchNorm.call of <pixellib.instance.mask_rcnn.BatchNorm object at 0x7f799f973190>> could not be transformed and will be executed as-is. Please report this to the AutgoGraph team. When filing the bug, set the verbosity to 10 (on Linux, `export AUTOGRAPH_VERBOSITY=10`) and attach the full output. Cause: converting <bound method BatchNorm.call of <pixellib.instance.mask_rcnn.BatchNorm object at 0x7f799f973190>>: AttributeError: module 'gast' has no attribute 'Str'\n"
     ]
    },
    {
     "name": "stdout",
     "output_type": "stream",
     "text": [
      "WARNING: Entity <bound method BatchNorm.call of <pixellib.instance.mask_rcnn.BatchNorm object at 0x7f799f973190>> could not be transformed and will be executed as-is. Please report this to the AutgoGraph team. When filing the bug, set the verbosity to 10 (on Linux, `export AUTOGRAPH_VERBOSITY=10`) and attach the full output. Cause: converting <bound method BatchNorm.call of <pixellib.instance.mask_rcnn.BatchNorm object at 0x7f799f973190>>: AttributeError: module 'gast' has no attribute 'Str'\n",
      "WARNING:tensorflow:Entity <bound method BatchNorm.call of <pixellib.instance.mask_rcnn.BatchNorm object at 0x7f799f7b6a90>> could not be transformed and will be executed as-is. Please report this to the AutgoGraph team. When filing the bug, set the verbosity to 10 (on Linux, `export AUTOGRAPH_VERBOSITY=10`) and attach the full output. Cause: converting <bound method BatchNorm.call of <pixellib.instance.mask_rcnn.BatchNorm object at 0x7f799f7b6a90>>: AttributeError: module 'gast' has no attribute 'Str'\n"
     ]
    },
    {
     "name": "stderr",
     "output_type": "stream",
     "text": [
      "11/27/2022 23:37:16 - WARNING - tensorflow -   Entity <bound method BatchNorm.call of <pixellib.instance.mask_rcnn.BatchNorm object at 0x7f799f7b6a90>> could not be transformed and will be executed as-is. Please report this to the AutgoGraph team. When filing the bug, set the verbosity to 10 (on Linux, `export AUTOGRAPH_VERBOSITY=10`) and attach the full output. Cause: converting <bound method BatchNorm.call of <pixellib.instance.mask_rcnn.BatchNorm object at 0x7f799f7b6a90>>: AttributeError: module 'gast' has no attribute 'Str'\n"
     ]
    },
    {
     "name": "stdout",
     "output_type": "stream",
     "text": [
      "WARNING: Entity <bound method BatchNorm.call of <pixellib.instance.mask_rcnn.BatchNorm object at 0x7f799f7b6a90>> could not be transformed and will be executed as-is. Please report this to the AutgoGraph team. When filing the bug, set the verbosity to 10 (on Linux, `export AUTOGRAPH_VERBOSITY=10`) and attach the full output. Cause: converting <bound method BatchNorm.call of <pixellib.instance.mask_rcnn.BatchNorm object at 0x7f799f7b6a90>>: AttributeError: module 'gast' has no attribute 'Str'\n",
      "WARNING:tensorflow:Entity <bound method BatchNorm.call of <pixellib.instance.mask_rcnn.BatchNorm object at 0x7f799fa76990>> could not be transformed and will be executed as-is. Please report this to the AutgoGraph team. When filing the bug, set the verbosity to 10 (on Linux, `export AUTOGRAPH_VERBOSITY=10`) and attach the full output. Cause: converting <bound method BatchNorm.call of <pixellib.instance.mask_rcnn.BatchNorm object at 0x7f799fa76990>>: AttributeError: module 'gast' has no attribute 'Str'\n"
     ]
    },
    {
     "name": "stderr",
     "output_type": "stream",
     "text": [
      "11/27/2022 23:37:16 - WARNING - tensorflow -   Entity <bound method BatchNorm.call of <pixellib.instance.mask_rcnn.BatchNorm object at 0x7f799fa76990>> could not be transformed and will be executed as-is. Please report this to the AutgoGraph team. When filing the bug, set the verbosity to 10 (on Linux, `export AUTOGRAPH_VERBOSITY=10`) and attach the full output. Cause: converting <bound method BatchNorm.call of <pixellib.instance.mask_rcnn.BatchNorm object at 0x7f799fa76990>>: AttributeError: module 'gast' has no attribute 'Str'\n"
     ]
    },
    {
     "name": "stdout",
     "output_type": "stream",
     "text": [
      "WARNING: Entity <bound method BatchNorm.call of <pixellib.instance.mask_rcnn.BatchNorm object at 0x7f799fa76990>> could not be transformed and will be executed as-is. Please report this to the AutgoGraph team. When filing the bug, set the verbosity to 10 (on Linux, `export AUTOGRAPH_VERBOSITY=10`) and attach the full output. Cause: converting <bound method BatchNorm.call of <pixellib.instance.mask_rcnn.BatchNorm object at 0x7f799fa76990>>: AttributeError: module 'gast' has no attribute 'Str'\n",
      "WARNING:tensorflow:Entity <bound method BatchNorm.call of <pixellib.instance.mask_rcnn.BatchNorm object at 0x7f799fafe3d0>> could not be transformed and will be executed as-is. Please report this to the AutgoGraph team. When filing the bug, set the verbosity to 10 (on Linux, `export AUTOGRAPH_VERBOSITY=10`) and attach the full output. Cause: converting <bound method BatchNorm.call of <pixellib.instance.mask_rcnn.BatchNorm object at 0x7f799fafe3d0>>: AttributeError: module 'gast' has no attribute 'Str'\n"
     ]
    },
    {
     "name": "stderr",
     "output_type": "stream",
     "text": [
      "11/27/2022 23:37:16 - WARNING - tensorflow -   Entity <bound method BatchNorm.call of <pixellib.instance.mask_rcnn.BatchNorm object at 0x7f799fafe3d0>> could not be transformed and will be executed as-is. Please report this to the AutgoGraph team. When filing the bug, set the verbosity to 10 (on Linux, `export AUTOGRAPH_VERBOSITY=10`) and attach the full output. Cause: converting <bound method BatchNorm.call of <pixellib.instance.mask_rcnn.BatchNorm object at 0x7f799fafe3d0>>: AttributeError: module 'gast' has no attribute 'Str'\n"
     ]
    },
    {
     "name": "stdout",
     "output_type": "stream",
     "text": [
      "WARNING: Entity <bound method BatchNorm.call of <pixellib.instance.mask_rcnn.BatchNorm object at 0x7f799fafe3d0>> could not be transformed and will be executed as-is. Please report this to the AutgoGraph team. When filing the bug, set the verbosity to 10 (on Linux, `export AUTOGRAPH_VERBOSITY=10`) and attach the full output. Cause: converting <bound method BatchNorm.call of <pixellib.instance.mask_rcnn.BatchNorm object at 0x7f799fafe3d0>>: AttributeError: module 'gast' has no attribute 'Str'\n",
      "WARNING:tensorflow:Entity <bound method BatchNorm.call of <pixellib.instance.mask_rcnn.BatchNorm object at 0x7f799fb5ab50>> could not be transformed and will be executed as-is. Please report this to the AutgoGraph team. When filing the bug, set the verbosity to 10 (on Linux, `export AUTOGRAPH_VERBOSITY=10`) and attach the full output. Cause: converting <bound method BatchNorm.call of <pixellib.instance.mask_rcnn.BatchNorm object at 0x7f799fb5ab50>>: AttributeError: module 'gast' has no attribute 'Str'\n"
     ]
    },
    {
     "name": "stderr",
     "output_type": "stream",
     "text": [
      "11/27/2022 23:37:16 - WARNING - tensorflow -   Entity <bound method BatchNorm.call of <pixellib.instance.mask_rcnn.BatchNorm object at 0x7f799fb5ab50>> could not be transformed and will be executed as-is. Please report this to the AutgoGraph team. When filing the bug, set the verbosity to 10 (on Linux, `export AUTOGRAPH_VERBOSITY=10`) and attach the full output. Cause: converting <bound method BatchNorm.call of <pixellib.instance.mask_rcnn.BatchNorm object at 0x7f799fb5ab50>>: AttributeError: module 'gast' has no attribute 'Str'\n"
     ]
    },
    {
     "name": "stdout",
     "output_type": "stream",
     "text": [
      "WARNING: Entity <bound method BatchNorm.call of <pixellib.instance.mask_rcnn.BatchNorm object at 0x7f799fb5ab50>> could not be transformed and will be executed as-is. Please report this to the AutgoGraph team. When filing the bug, set the verbosity to 10 (on Linux, `export AUTOGRAPH_VERBOSITY=10`) and attach the full output. Cause: converting <bound method BatchNorm.call of <pixellib.instance.mask_rcnn.BatchNorm object at 0x7f799fb5ab50>>: AttributeError: module 'gast' has no attribute 'Str'\n",
      "WARNING:tensorflow:Entity <bound method BatchNorm.call of <pixellib.instance.mask_rcnn.BatchNorm object at 0x7f799fc005d0>> could not be transformed and will be executed as-is. Please report this to the AutgoGraph team. When filing the bug, set the verbosity to 10 (on Linux, `export AUTOGRAPH_VERBOSITY=10`) and attach the full output. Cause: converting <bound method BatchNorm.call of <pixellib.instance.mask_rcnn.BatchNorm object at 0x7f799fc005d0>>: AttributeError: module 'gast' has no attribute 'Str'\n"
     ]
    },
    {
     "name": "stderr",
     "output_type": "stream",
     "text": [
      "11/27/2022 23:37:16 - WARNING - tensorflow -   Entity <bound method BatchNorm.call of <pixellib.instance.mask_rcnn.BatchNorm object at 0x7f799fc005d0>> could not be transformed and will be executed as-is. Please report this to the AutgoGraph team. When filing the bug, set the verbosity to 10 (on Linux, `export AUTOGRAPH_VERBOSITY=10`) and attach the full output. Cause: converting <bound method BatchNorm.call of <pixellib.instance.mask_rcnn.BatchNorm object at 0x7f799fc005d0>>: AttributeError: module 'gast' has no attribute 'Str'\n"
     ]
    },
    {
     "name": "stdout",
     "output_type": "stream",
     "text": [
      "WARNING: Entity <bound method BatchNorm.call of <pixellib.instance.mask_rcnn.BatchNorm object at 0x7f799fc005d0>> could not be transformed and will be executed as-is. Please report this to the AutgoGraph team. When filing the bug, set the verbosity to 10 (on Linux, `export AUTOGRAPH_VERBOSITY=10`) and attach the full output. Cause: converting <bound method BatchNorm.call of <pixellib.instance.mask_rcnn.BatchNorm object at 0x7f799fc005d0>>: AttributeError: module 'gast' has no attribute 'Str'\n",
      "WARNING:tensorflow:Entity <bound method BatchNorm.call of <pixellib.instance.mask_rcnn.BatchNorm object at 0x7f799fcaf490>> could not be transformed and will be executed as-is. Please report this to the AutgoGraph team. When filing the bug, set the verbosity to 10 (on Linux, `export AUTOGRAPH_VERBOSITY=10`) and attach the full output. Cause: converting <bound method BatchNorm.call of <pixellib.instance.mask_rcnn.BatchNorm object at 0x7f799fcaf490>>: AttributeError: module 'gast' has no attribute 'Str'\n"
     ]
    },
    {
     "name": "stderr",
     "output_type": "stream",
     "text": [
      "11/27/2022 23:37:16 - WARNING - tensorflow -   Entity <bound method BatchNorm.call of <pixellib.instance.mask_rcnn.BatchNorm object at 0x7f799fcaf490>> could not be transformed and will be executed as-is. Please report this to the AutgoGraph team. When filing the bug, set the verbosity to 10 (on Linux, `export AUTOGRAPH_VERBOSITY=10`) and attach the full output. Cause: converting <bound method BatchNorm.call of <pixellib.instance.mask_rcnn.BatchNorm object at 0x7f799fcaf490>>: AttributeError: module 'gast' has no attribute 'Str'\n"
     ]
    },
    {
     "name": "stdout",
     "output_type": "stream",
     "text": [
      "WARNING: Entity <bound method BatchNorm.call of <pixellib.instance.mask_rcnn.BatchNorm object at 0x7f799fcaf490>> could not be transformed and will be executed as-is. Please report this to the AutgoGraph team. When filing the bug, set the verbosity to 10 (on Linux, `export AUTOGRAPH_VERBOSITY=10`) and attach the full output. Cause: converting <bound method BatchNorm.call of <pixellib.instance.mask_rcnn.BatchNorm object at 0x7f799fcaf490>>: AttributeError: module 'gast' has no attribute 'Str'\n",
      "WARNING:tensorflow:Entity <bound method BatchNorm.call of <pixellib.instance.mask_rcnn.BatchNorm object at 0x7f799fd3b050>> could not be transformed and will be executed as-is. Please report this to the AutgoGraph team. When filing the bug, set the verbosity to 10 (on Linux, `export AUTOGRAPH_VERBOSITY=10`) and attach the full output. Cause: converting <bound method BatchNorm.call of <pixellib.instance.mask_rcnn.BatchNorm object at 0x7f799fd3b050>>: AttributeError: module 'gast' has no attribute 'Str'\n"
     ]
    },
    {
     "name": "stderr",
     "output_type": "stream",
     "text": [
      "11/27/2022 23:37:16 - WARNING - tensorflow -   Entity <bound method BatchNorm.call of <pixellib.instance.mask_rcnn.BatchNorm object at 0x7f799fd3b050>> could not be transformed and will be executed as-is. Please report this to the AutgoGraph team. When filing the bug, set the verbosity to 10 (on Linux, `export AUTOGRAPH_VERBOSITY=10`) and attach the full output. Cause: converting <bound method BatchNorm.call of <pixellib.instance.mask_rcnn.BatchNorm object at 0x7f799fd3b050>>: AttributeError: module 'gast' has no attribute 'Str'\n"
     ]
    },
    {
     "name": "stdout",
     "output_type": "stream",
     "text": [
      "WARNING: Entity <bound method BatchNorm.call of <pixellib.instance.mask_rcnn.BatchNorm object at 0x7f799fd3b050>> could not be transformed and will be executed as-is. Please report this to the AutgoGraph team. When filing the bug, set the verbosity to 10 (on Linux, `export AUTOGRAPH_VERBOSITY=10`) and attach the full output. Cause: converting <bound method BatchNorm.call of <pixellib.instance.mask_rcnn.BatchNorm object at 0x7f799fd3b050>>: AttributeError: module 'gast' has no attribute 'Str'\n",
      "WARNING:tensorflow:Entity <bound method BatchNorm.call of <pixellib.instance.mask_rcnn.BatchNorm object at 0x7f799fdb9a10>> could not be transformed and will be executed as-is. Please report this to the AutgoGraph team. When filing the bug, set the verbosity to 10 (on Linux, `export AUTOGRAPH_VERBOSITY=10`) and attach the full output. Cause: converting <bound method BatchNorm.call of <pixellib.instance.mask_rcnn.BatchNorm object at 0x7f799fdb9a10>>: AttributeError: module 'gast' has no attribute 'Str'\n"
     ]
    },
    {
     "name": "stderr",
     "output_type": "stream",
     "text": [
      "11/27/2022 23:37:16 - WARNING - tensorflow -   Entity <bound method BatchNorm.call of <pixellib.instance.mask_rcnn.BatchNorm object at 0x7f799fdb9a10>> could not be transformed and will be executed as-is. Please report this to the AutgoGraph team. When filing the bug, set the verbosity to 10 (on Linux, `export AUTOGRAPH_VERBOSITY=10`) and attach the full output. Cause: converting <bound method BatchNorm.call of <pixellib.instance.mask_rcnn.BatchNorm object at 0x7f799fdb9a10>>: AttributeError: module 'gast' has no attribute 'Str'\n"
     ]
    },
    {
     "name": "stdout",
     "output_type": "stream",
     "text": [
      "WARNING: Entity <bound method BatchNorm.call of <pixellib.instance.mask_rcnn.BatchNorm object at 0x7f799fdb9a10>> could not be transformed and will be executed as-is. Please report this to the AutgoGraph team. When filing the bug, set the verbosity to 10 (on Linux, `export AUTOGRAPH_VERBOSITY=10`) and attach the full output. Cause: converting <bound method BatchNorm.call of <pixellib.instance.mask_rcnn.BatchNorm object at 0x7f799fdb9a10>>: AttributeError: module 'gast' has no attribute 'Str'\n",
      "WARNING:tensorflow:Entity <bound method BatchNorm.call of <pixellib.instance.mask_rcnn.BatchNorm object at 0x7f799fe563d0>> could not be transformed and will be executed as-is. Please report this to the AutgoGraph team. When filing the bug, set the verbosity to 10 (on Linux, `export AUTOGRAPH_VERBOSITY=10`) and attach the full output. Cause: converting <bound method BatchNorm.call of <pixellib.instance.mask_rcnn.BatchNorm object at 0x7f799fe563d0>>: AttributeError: module 'gast' has no attribute 'Str'\n"
     ]
    },
    {
     "name": "stderr",
     "output_type": "stream",
     "text": [
      "11/27/2022 23:37:16 - WARNING - tensorflow -   Entity <bound method BatchNorm.call of <pixellib.instance.mask_rcnn.BatchNorm object at 0x7f799fe563d0>> could not be transformed and will be executed as-is. Please report this to the AutgoGraph team. When filing the bug, set the verbosity to 10 (on Linux, `export AUTOGRAPH_VERBOSITY=10`) and attach the full output. Cause: converting <bound method BatchNorm.call of <pixellib.instance.mask_rcnn.BatchNorm object at 0x7f799fe563d0>>: AttributeError: module 'gast' has no attribute 'Str'\n"
     ]
    },
    {
     "name": "stdout",
     "output_type": "stream",
     "text": [
      "WARNING: Entity <bound method BatchNorm.call of <pixellib.instance.mask_rcnn.BatchNorm object at 0x7f799fe563d0>> could not be transformed and will be executed as-is. Please report this to the AutgoGraph team. When filing the bug, set the verbosity to 10 (on Linux, `export AUTOGRAPH_VERBOSITY=10`) and attach the full output. Cause: converting <bound method BatchNorm.call of <pixellib.instance.mask_rcnn.BatchNorm object at 0x7f799fe563d0>>: AttributeError: module 'gast' has no attribute 'Str'\n",
      "WARNING:tensorflow:Entity <bound method BatchNorm.call of <pixellib.instance.mask_rcnn.BatchNorm object at 0x7f799fb208d0>> could not be transformed and will be executed as-is. Please report this to the AutgoGraph team. When filing the bug, set the verbosity to 10 (on Linux, `export AUTOGRAPH_VERBOSITY=10`) and attach the full output. Cause: converting <bound method BatchNorm.call of <pixellib.instance.mask_rcnn.BatchNorm object at 0x7f799fb208d0>>: AttributeError: module 'gast' has no attribute 'Str'\n"
     ]
    },
    {
     "name": "stderr",
     "output_type": "stream",
     "text": [
      "11/27/2022 23:37:16 - WARNING - tensorflow -   Entity <bound method BatchNorm.call of <pixellib.instance.mask_rcnn.BatchNorm object at 0x7f799fb208d0>> could not be transformed and will be executed as-is. Please report this to the AutgoGraph team. When filing the bug, set the verbosity to 10 (on Linux, `export AUTOGRAPH_VERBOSITY=10`) and attach the full output. Cause: converting <bound method BatchNorm.call of <pixellib.instance.mask_rcnn.BatchNorm object at 0x7f799fb208d0>>: AttributeError: module 'gast' has no attribute 'Str'\n"
     ]
    },
    {
     "name": "stdout",
     "output_type": "stream",
     "text": [
      "WARNING: Entity <bound method BatchNorm.call of <pixellib.instance.mask_rcnn.BatchNorm object at 0x7f799fb208d0>> could not be transformed and will be executed as-is. Please report this to the AutgoGraph team. When filing the bug, set the verbosity to 10 (on Linux, `export AUTOGRAPH_VERBOSITY=10`) and attach the full output. Cause: converting <bound method BatchNorm.call of <pixellib.instance.mask_rcnn.BatchNorm object at 0x7f799fb208d0>>: AttributeError: module 'gast' has no attribute 'Str'\n",
      "WARNING:tensorflow:Entity <bound method BatchNorm.call of <pixellib.instance.mask_rcnn.BatchNorm object at 0x7f799fedc490>> could not be transformed and will be executed as-is. Please report this to the AutgoGraph team. When filing the bug, set the verbosity to 10 (on Linux, `export AUTOGRAPH_VERBOSITY=10`) and attach the full output. Cause: converting <bound method BatchNorm.call of <pixellib.instance.mask_rcnn.BatchNorm object at 0x7f799fedc490>>: AttributeError: module 'gast' has no attribute 'Str'\n"
     ]
    },
    {
     "name": "stderr",
     "output_type": "stream",
     "text": [
      "11/27/2022 23:37:17 - WARNING - tensorflow -   Entity <bound method BatchNorm.call of <pixellib.instance.mask_rcnn.BatchNorm object at 0x7f799fedc490>> could not be transformed and will be executed as-is. Please report this to the AutgoGraph team. When filing the bug, set the verbosity to 10 (on Linux, `export AUTOGRAPH_VERBOSITY=10`) and attach the full output. Cause: converting <bound method BatchNorm.call of <pixellib.instance.mask_rcnn.BatchNorm object at 0x7f799fedc490>>: AttributeError: module 'gast' has no attribute 'Str'\n"
     ]
    },
    {
     "name": "stdout",
     "output_type": "stream",
     "text": [
      "WARNING: Entity <bound method BatchNorm.call of <pixellib.instance.mask_rcnn.BatchNorm object at 0x7f799fedc490>> could not be transformed and will be executed as-is. Please report this to the AutgoGraph team. When filing the bug, set the verbosity to 10 (on Linux, `export AUTOGRAPH_VERBOSITY=10`) and attach the full output. Cause: converting <bound method BatchNorm.call of <pixellib.instance.mask_rcnn.BatchNorm object at 0x7f799fedc490>>: AttributeError: module 'gast' has no attribute 'Str'\n",
      "WARNING:tensorflow:Entity <bound method BatchNorm.call of <pixellib.instance.mask_rcnn.BatchNorm object at 0x7f799ffc0f50>> could not be transformed and will be executed as-is. Please report this to the AutgoGraph team. When filing the bug, set the verbosity to 10 (on Linux, `export AUTOGRAPH_VERBOSITY=10`) and attach the full output. Cause: converting <bound method BatchNorm.call of <pixellib.instance.mask_rcnn.BatchNorm object at 0x7f799ffc0f50>>: AttributeError: module 'gast' has no attribute 'Str'\n"
     ]
    },
    {
     "name": "stderr",
     "output_type": "stream",
     "text": [
      "11/27/2022 23:37:17 - WARNING - tensorflow -   Entity <bound method BatchNorm.call of <pixellib.instance.mask_rcnn.BatchNorm object at 0x7f799ffc0f50>> could not be transformed and will be executed as-is. Please report this to the AutgoGraph team. When filing the bug, set the verbosity to 10 (on Linux, `export AUTOGRAPH_VERBOSITY=10`) and attach the full output. Cause: converting <bound method BatchNorm.call of <pixellib.instance.mask_rcnn.BatchNorm object at 0x7f799ffc0f50>>: AttributeError: module 'gast' has no attribute 'Str'\n"
     ]
    },
    {
     "name": "stdout",
     "output_type": "stream",
     "text": [
      "WARNING: Entity <bound method BatchNorm.call of <pixellib.instance.mask_rcnn.BatchNorm object at 0x7f799ffc0f50>> could not be transformed and will be executed as-is. Please report this to the AutgoGraph team. When filing the bug, set the verbosity to 10 (on Linux, `export AUTOGRAPH_VERBOSITY=10`) and attach the full output. Cause: converting <bound method BatchNorm.call of <pixellib.instance.mask_rcnn.BatchNorm object at 0x7f799ffc0f50>>: AttributeError: module 'gast' has no attribute 'Str'\n",
      "WARNING:tensorflow:Entity <bound method BatchNorm.call of <pixellib.instance.mask_rcnn.BatchNorm object at 0x7f79a007a1d0>> could not be transformed and will be executed as-is. Please report this to the AutgoGraph team. When filing the bug, set the verbosity to 10 (on Linux, `export AUTOGRAPH_VERBOSITY=10`) and attach the full output. Cause: converting <bound method BatchNorm.call of <pixellib.instance.mask_rcnn.BatchNorm object at 0x7f79a007a1d0>>: AttributeError: module 'gast' has no attribute 'Str'\n"
     ]
    },
    {
     "name": "stderr",
     "output_type": "stream",
     "text": [
      "11/27/2022 23:37:17 - WARNING - tensorflow -   Entity <bound method BatchNorm.call of <pixellib.instance.mask_rcnn.BatchNorm object at 0x7f79a007a1d0>> could not be transformed and will be executed as-is. Please report this to the AutgoGraph team. When filing the bug, set the verbosity to 10 (on Linux, `export AUTOGRAPH_VERBOSITY=10`) and attach the full output. Cause: converting <bound method BatchNorm.call of <pixellib.instance.mask_rcnn.BatchNorm object at 0x7f79a007a1d0>>: AttributeError: module 'gast' has no attribute 'Str'\n"
     ]
    },
    {
     "name": "stdout",
     "output_type": "stream",
     "text": [
      "WARNING: Entity <bound method BatchNorm.call of <pixellib.instance.mask_rcnn.BatchNorm object at 0x7f79a007a1d0>> could not be transformed and will be executed as-is. Please report this to the AutgoGraph team. When filing the bug, set the verbosity to 10 (on Linux, `export AUTOGRAPH_VERBOSITY=10`) and attach the full output. Cause: converting <bound method BatchNorm.call of <pixellib.instance.mask_rcnn.BatchNorm object at 0x7f79a007a1d0>>: AttributeError: module 'gast' has no attribute 'Str'\n",
      "WARNING:tensorflow:Entity <bound method BatchNorm.call of <pixellib.instance.mask_rcnn.BatchNorm object at 0x7f79a00d2950>> could not be transformed and will be executed as-is. Please report this to the AutgoGraph team. When filing the bug, set the verbosity to 10 (on Linux, `export AUTOGRAPH_VERBOSITY=10`) and attach the full output. Cause: converting <bound method BatchNorm.call of <pixellib.instance.mask_rcnn.BatchNorm object at 0x7f79a00d2950>>: AttributeError: module 'gast' has no attribute 'Str'\n"
     ]
    },
    {
     "name": "stderr",
     "output_type": "stream",
     "text": [
      "11/27/2022 23:37:17 - WARNING - tensorflow -   Entity <bound method BatchNorm.call of <pixellib.instance.mask_rcnn.BatchNorm object at 0x7f79a00d2950>> could not be transformed and will be executed as-is. Please report this to the AutgoGraph team. When filing the bug, set the verbosity to 10 (on Linux, `export AUTOGRAPH_VERBOSITY=10`) and attach the full output. Cause: converting <bound method BatchNorm.call of <pixellib.instance.mask_rcnn.BatchNorm object at 0x7f79a00d2950>>: AttributeError: module 'gast' has no attribute 'Str'\n"
     ]
    },
    {
     "name": "stdout",
     "output_type": "stream",
     "text": [
      "WARNING: Entity <bound method BatchNorm.call of <pixellib.instance.mask_rcnn.BatchNorm object at 0x7f79a00d2950>> could not be transformed and will be executed as-is. Please report this to the AutgoGraph team. When filing the bug, set the verbosity to 10 (on Linux, `export AUTOGRAPH_VERBOSITY=10`) and attach the full output. Cause: converting <bound method BatchNorm.call of <pixellib.instance.mask_rcnn.BatchNorm object at 0x7f79a00d2950>>: AttributeError: module 'gast' has no attribute 'Str'\n",
      "WARNING:tensorflow:Entity <bound method BatchNorm.call of <pixellib.instance.mask_rcnn.BatchNorm object at 0x7f79a00faa50>> could not be transformed and will be executed as-is. Please report this to the AutgoGraph team. When filing the bug, set the verbosity to 10 (on Linux, `export AUTOGRAPH_VERBOSITY=10`) and attach the full output. Cause: converting <bound method BatchNorm.call of <pixellib.instance.mask_rcnn.BatchNorm object at 0x7f79a00faa50>>: AttributeError: module 'gast' has no attribute 'Str'\n"
     ]
    },
    {
     "name": "stderr",
     "output_type": "stream",
     "text": [
      "11/27/2022 23:37:17 - WARNING - tensorflow -   Entity <bound method BatchNorm.call of <pixellib.instance.mask_rcnn.BatchNorm object at 0x7f79a00faa50>> could not be transformed and will be executed as-is. Please report this to the AutgoGraph team. When filing the bug, set the verbosity to 10 (on Linux, `export AUTOGRAPH_VERBOSITY=10`) and attach the full output. Cause: converting <bound method BatchNorm.call of <pixellib.instance.mask_rcnn.BatchNorm object at 0x7f79a00faa50>>: AttributeError: module 'gast' has no attribute 'Str'\n"
     ]
    },
    {
     "name": "stdout",
     "output_type": "stream",
     "text": [
      "WARNING: Entity <bound method BatchNorm.call of <pixellib.instance.mask_rcnn.BatchNorm object at 0x7f79a00faa50>> could not be transformed and will be executed as-is. Please report this to the AutgoGraph team. When filing the bug, set the verbosity to 10 (on Linux, `export AUTOGRAPH_VERBOSITY=10`) and attach the full output. Cause: converting <bound method BatchNorm.call of <pixellib.instance.mask_rcnn.BatchNorm object at 0x7f79a00faa50>>: AttributeError: module 'gast' has no attribute 'Str'\n",
      "WARNING:tensorflow:Entity <bound method BatchNorm.call of <pixellib.instance.mask_rcnn.BatchNorm object at 0x7f79a022b710>> could not be transformed and will be executed as-is. Please report this to the AutgoGraph team. When filing the bug, set the verbosity to 10 (on Linux, `export AUTOGRAPH_VERBOSITY=10`) and attach the full output. Cause: converting <bound method BatchNorm.call of <pixellib.instance.mask_rcnn.BatchNorm object at 0x7f79a022b710>>: AttributeError: module 'gast' has no attribute 'Str'\n"
     ]
    },
    {
     "name": "stderr",
     "output_type": "stream",
     "text": [
      "11/27/2022 23:37:17 - WARNING - tensorflow -   Entity <bound method BatchNorm.call of <pixellib.instance.mask_rcnn.BatchNorm object at 0x7f79a022b710>> could not be transformed and will be executed as-is. Please report this to the AutgoGraph team. When filing the bug, set the verbosity to 10 (on Linux, `export AUTOGRAPH_VERBOSITY=10`) and attach the full output. Cause: converting <bound method BatchNorm.call of <pixellib.instance.mask_rcnn.BatchNorm object at 0x7f79a022b710>>: AttributeError: module 'gast' has no attribute 'Str'\n"
     ]
    },
    {
     "name": "stdout",
     "output_type": "stream",
     "text": [
      "WARNING: Entity <bound method BatchNorm.call of <pixellib.instance.mask_rcnn.BatchNorm object at 0x7f79a022b710>> could not be transformed and will be executed as-is. Please report this to the AutgoGraph team. When filing the bug, set the verbosity to 10 (on Linux, `export AUTOGRAPH_VERBOSITY=10`) and attach the full output. Cause: converting <bound method BatchNorm.call of <pixellib.instance.mask_rcnn.BatchNorm object at 0x7f79a022b710>>: AttributeError: module 'gast' has no attribute 'Str'\n",
      "WARNING:tensorflow:Entity <bound method BatchNorm.call of <pixellib.instance.mask_rcnn.BatchNorm object at 0x7f79a0143310>> could not be transformed and will be executed as-is. Please report this to the AutgoGraph team. When filing the bug, set the verbosity to 10 (on Linux, `export AUTOGRAPH_VERBOSITY=10`) and attach the full output. Cause: converting <bound method BatchNorm.call of <pixellib.instance.mask_rcnn.BatchNorm object at 0x7f79a0143310>>: AttributeError: module 'gast' has no attribute 'Str'\n"
     ]
    },
    {
     "name": "stderr",
     "output_type": "stream",
     "text": [
      "11/27/2022 23:37:17 - WARNING - tensorflow -   Entity <bound method BatchNorm.call of <pixellib.instance.mask_rcnn.BatchNorm object at 0x7f79a0143310>> could not be transformed and will be executed as-is. Please report this to the AutgoGraph team. When filing the bug, set the verbosity to 10 (on Linux, `export AUTOGRAPH_VERBOSITY=10`) and attach the full output. Cause: converting <bound method BatchNorm.call of <pixellib.instance.mask_rcnn.BatchNorm object at 0x7f79a0143310>>: AttributeError: module 'gast' has no attribute 'Str'\n"
     ]
    },
    {
     "name": "stdout",
     "output_type": "stream",
     "text": [
      "WARNING: Entity <bound method BatchNorm.call of <pixellib.instance.mask_rcnn.BatchNorm object at 0x7f79a0143310>> could not be transformed and will be executed as-is. Please report this to the AutgoGraph team. When filing the bug, set the verbosity to 10 (on Linux, `export AUTOGRAPH_VERBOSITY=10`) and attach the full output. Cause: converting <bound method BatchNorm.call of <pixellib.instance.mask_rcnn.BatchNorm object at 0x7f79a0143310>>: AttributeError: module 'gast' has no attribute 'Str'\n",
      "WARNING:tensorflow:Entity <bound method BatchNorm.call of <pixellib.instance.mask_rcnn.BatchNorm object at 0x7f799f7d8f50>> could not be transformed and will be executed as-is. Please report this to the AutgoGraph team. When filing the bug, set the verbosity to 10 (on Linux, `export AUTOGRAPH_VERBOSITY=10`) and attach the full output. Cause: converting <bound method BatchNorm.call of <pixellib.instance.mask_rcnn.BatchNorm object at 0x7f799f7d8f50>>: AttributeError: module 'gast' has no attribute 'Str'\n"
     ]
    },
    {
     "name": "stderr",
     "output_type": "stream",
     "text": [
      "11/27/2022 23:37:17 - WARNING - tensorflow -   Entity <bound method BatchNorm.call of <pixellib.instance.mask_rcnn.BatchNorm object at 0x7f799f7d8f50>> could not be transformed and will be executed as-is. Please report this to the AutgoGraph team. When filing the bug, set the verbosity to 10 (on Linux, `export AUTOGRAPH_VERBOSITY=10`) and attach the full output. Cause: converting <bound method BatchNorm.call of <pixellib.instance.mask_rcnn.BatchNorm object at 0x7f799f7d8f50>>: AttributeError: module 'gast' has no attribute 'Str'\n"
     ]
    },
    {
     "name": "stdout",
     "output_type": "stream",
     "text": [
      "WARNING: Entity <bound method BatchNorm.call of <pixellib.instance.mask_rcnn.BatchNorm object at 0x7f799f7d8f50>> could not be transformed and will be executed as-is. Please report this to the AutgoGraph team. When filing the bug, set the verbosity to 10 (on Linux, `export AUTOGRAPH_VERBOSITY=10`) and attach the full output. Cause: converting <bound method BatchNorm.call of <pixellib.instance.mask_rcnn.BatchNorm object at 0x7f799f7d8f50>>: AttributeError: module 'gast' has no attribute 'Str'\n",
      "WARNING:tensorflow:Entity <bound method BatchNorm.call of <pixellib.instance.mask_rcnn.BatchNorm object at 0x7f79a0387f10>> could not be transformed and will be executed as-is. Please report this to the AutgoGraph team. When filing the bug, set the verbosity to 10 (on Linux, `export AUTOGRAPH_VERBOSITY=10`) and attach the full output. Cause: converting <bound method BatchNorm.call of <pixellib.instance.mask_rcnn.BatchNorm object at 0x7f79a0387f10>>: AttributeError: module 'gast' has no attribute 'Str'\n"
     ]
    },
    {
     "name": "stderr",
     "output_type": "stream",
     "text": [
      "11/27/2022 23:37:17 - WARNING - tensorflow -   Entity <bound method BatchNorm.call of <pixellib.instance.mask_rcnn.BatchNorm object at 0x7f79a0387f10>> could not be transformed and will be executed as-is. Please report this to the AutgoGraph team. When filing the bug, set the verbosity to 10 (on Linux, `export AUTOGRAPH_VERBOSITY=10`) and attach the full output. Cause: converting <bound method BatchNorm.call of <pixellib.instance.mask_rcnn.BatchNorm object at 0x7f79a0387f10>>: AttributeError: module 'gast' has no attribute 'Str'\n"
     ]
    },
    {
     "name": "stdout",
     "output_type": "stream",
     "text": [
      "WARNING: Entity <bound method BatchNorm.call of <pixellib.instance.mask_rcnn.BatchNorm object at 0x7f79a0387f10>> could not be transformed and will be executed as-is. Please report this to the AutgoGraph team. When filing the bug, set the verbosity to 10 (on Linux, `export AUTOGRAPH_VERBOSITY=10`) and attach the full output. Cause: converting <bound method BatchNorm.call of <pixellib.instance.mask_rcnn.BatchNorm object at 0x7f79a0387f10>>: AttributeError: module 'gast' has no attribute 'Str'\n",
      "WARNING:tensorflow:Entity <bound method BatchNorm.call of <pixellib.instance.mask_rcnn.BatchNorm object at 0x7f79a041ffd0>> could not be transformed and will be executed as-is. Please report this to the AutgoGraph team. When filing the bug, set the verbosity to 10 (on Linux, `export AUTOGRAPH_VERBOSITY=10`) and attach the full output. Cause: converting <bound method BatchNorm.call of <pixellib.instance.mask_rcnn.BatchNorm object at 0x7f79a041ffd0>>: AttributeError: module 'gast' has no attribute 'Str'\n"
     ]
    },
    {
     "name": "stderr",
     "output_type": "stream",
     "text": [
      "11/27/2022 23:37:17 - WARNING - tensorflow -   Entity <bound method BatchNorm.call of <pixellib.instance.mask_rcnn.BatchNorm object at 0x7f79a041ffd0>> could not be transformed and will be executed as-is. Please report this to the AutgoGraph team. When filing the bug, set the verbosity to 10 (on Linux, `export AUTOGRAPH_VERBOSITY=10`) and attach the full output. Cause: converting <bound method BatchNorm.call of <pixellib.instance.mask_rcnn.BatchNorm object at 0x7f79a041ffd0>>: AttributeError: module 'gast' has no attribute 'Str'\n"
     ]
    },
    {
     "name": "stdout",
     "output_type": "stream",
     "text": [
      "WARNING: Entity <bound method BatchNorm.call of <pixellib.instance.mask_rcnn.BatchNorm object at 0x7f79a041ffd0>> could not be transformed and will be executed as-is. Please report this to the AutgoGraph team. When filing the bug, set the verbosity to 10 (on Linux, `export AUTOGRAPH_VERBOSITY=10`) and attach the full output. Cause: converting <bound method BatchNorm.call of <pixellib.instance.mask_rcnn.BatchNorm object at 0x7f79a041ffd0>>: AttributeError: module 'gast' has no attribute 'Str'\n",
      "WARNING:tensorflow:Entity <bound method BatchNorm.call of <pixellib.instance.mask_rcnn.BatchNorm object at 0x7f79a043cf10>> could not be transformed and will be executed as-is. Please report this to the AutgoGraph team. When filing the bug, set the verbosity to 10 (on Linux, `export AUTOGRAPH_VERBOSITY=10`) and attach the full output. Cause: converting <bound method BatchNorm.call of <pixellib.instance.mask_rcnn.BatchNorm object at 0x7f79a043cf10>>: AttributeError: module 'gast' has no attribute 'Str'\n"
     ]
    },
    {
     "name": "stderr",
     "output_type": "stream",
     "text": [
      "11/27/2022 23:37:17 - WARNING - tensorflow -   Entity <bound method BatchNorm.call of <pixellib.instance.mask_rcnn.BatchNorm object at 0x7f79a043cf10>> could not be transformed and will be executed as-is. Please report this to the AutgoGraph team. When filing the bug, set the verbosity to 10 (on Linux, `export AUTOGRAPH_VERBOSITY=10`) and attach the full output. Cause: converting <bound method BatchNorm.call of <pixellib.instance.mask_rcnn.BatchNorm object at 0x7f79a043cf10>>: AttributeError: module 'gast' has no attribute 'Str'\n"
     ]
    },
    {
     "name": "stdout",
     "output_type": "stream",
     "text": [
      "WARNING: Entity <bound method BatchNorm.call of <pixellib.instance.mask_rcnn.BatchNorm object at 0x7f79a043cf10>> could not be transformed and will be executed as-is. Please report this to the AutgoGraph team. When filing the bug, set the verbosity to 10 (on Linux, `export AUTOGRAPH_VERBOSITY=10`) and attach the full output. Cause: converting <bound method BatchNorm.call of <pixellib.instance.mask_rcnn.BatchNorm object at 0x7f79a043cf10>>: AttributeError: module 'gast' has no attribute 'Str'\n",
      "WARNING:tensorflow:Entity <bound method custom_layer.call of <pixellib.instance.mask_rcnn.custom_layer object at 0x7f79a0739750>> could not be transformed and will be executed as-is. Please report this to the AutgoGraph team. When filing the bug, set the verbosity to 10 (on Linux, `export AUTOGRAPH_VERBOSITY=10`) and attach the full output. Cause: Name constructor takes either 0 or 4 mandatory arguments\n"
     ]
    },
    {
     "name": "stderr",
     "output_type": "stream",
     "text": [
      "11/27/2022 23:37:18 - WARNING - tensorflow -   Entity <bound method custom_layer.call of <pixellib.instance.mask_rcnn.custom_layer object at 0x7f79a0739750>> could not be transformed and will be executed as-is. Please report this to the AutgoGraph team. When filing the bug, set the verbosity to 10 (on Linux, `export AUTOGRAPH_VERBOSITY=10`) and attach the full output. Cause: Name constructor takes either 0 or 4 mandatory arguments\n"
     ]
    },
    {
     "name": "stdout",
     "output_type": "stream",
     "text": [
      "WARNING: Entity <bound method custom_layer.call of <pixellib.instance.mask_rcnn.custom_layer object at 0x7f79a0739750>> could not be transformed and will be executed as-is. Please report this to the AutgoGraph team. When filing the bug, set the verbosity to 10 (on Linux, `export AUTOGRAPH_VERBOSITY=10`) and attach the full output. Cause: Name constructor takes either 0 or 4 mandatory arguments\n",
      "WARNING:tensorflow:Entity <bound method ProposalLayer.call of <pixellib.instance.mask_rcnn.ProposalLayer object at 0x7f79a0100210>> could not be transformed and will be executed as-is. Please report this to the AutgoGraph team. When filing the bug, set the verbosity to 10 (on Linux, `export AUTOGRAPH_VERBOSITY=10`) and attach the full output. Cause: converting <bound method ProposalLayer.call of <pixellib.instance.mask_rcnn.ProposalLayer object at 0x7f79a0100210>>: AttributeError: module 'gast' has no attribute 'Index'\n"
     ]
    },
    {
     "name": "stderr",
     "output_type": "stream",
     "text": [
      "11/27/2022 23:37:18 - WARNING - tensorflow -   Entity <bound method ProposalLayer.call of <pixellib.instance.mask_rcnn.ProposalLayer object at 0x7f79a0100210>> could not be transformed and will be executed as-is. Please report this to the AutgoGraph team. When filing the bug, set the verbosity to 10 (on Linux, `export AUTOGRAPH_VERBOSITY=10`) and attach the full output. Cause: converting <bound method ProposalLayer.call of <pixellib.instance.mask_rcnn.ProposalLayer object at 0x7f79a0100210>>: AttributeError: module 'gast' has no attribute 'Index'\n"
     ]
    },
    {
     "name": "stdout",
     "output_type": "stream",
     "text": [
      "WARNING: Entity <bound method ProposalLayer.call of <pixellib.instance.mask_rcnn.ProposalLayer object at 0x7f79a0100210>> could not be transformed and will be executed as-is. Please report this to the AutgoGraph team. When filing the bug, set the verbosity to 10 (on Linux, `export AUTOGRAPH_VERBOSITY=10`) and attach the full output. Cause: converting <bound method ProposalLayer.call of <pixellib.instance.mask_rcnn.ProposalLayer object at 0x7f79a0100210>>: AttributeError: module 'gast' has no attribute 'Index'\n",
      "WARNING:tensorflow:Entity <bound method DetectionTargetLayer.call of <pixellib.instance.mask_rcnn.DetectionTargetLayer object at 0x7f799e7a8c50>> could not be transformed and will be executed as-is. Please report this to the AutgoGraph team. When filing the bug, set the verbosity to 10 (on Linux, `export AUTOGRAPH_VERBOSITY=10`) and attach the full output. Cause: converting <bound method DetectionTargetLayer.call of <pixellib.instance.mask_rcnn.DetectionTargetLayer object at 0x7f799e7a8c50>>: AttributeError: module 'gast' has no attribute 'Index'\n"
     ]
    },
    {
     "name": "stderr",
     "output_type": "stream",
     "text": [
      "11/27/2022 23:37:18 - WARNING - tensorflow -   Entity <bound method DetectionTargetLayer.call of <pixellib.instance.mask_rcnn.DetectionTargetLayer object at 0x7f799e7a8c50>> could not be transformed and will be executed as-is. Please report this to the AutgoGraph team. When filing the bug, set the verbosity to 10 (on Linux, `export AUTOGRAPH_VERBOSITY=10`) and attach the full output. Cause: converting <bound method DetectionTargetLayer.call of <pixellib.instance.mask_rcnn.DetectionTargetLayer object at 0x7f799e7a8c50>>: AttributeError: module 'gast' has no attribute 'Index'\n"
     ]
    },
    {
     "name": "stdout",
     "output_type": "stream",
     "text": [
      "WARNING: Entity <bound method DetectionTargetLayer.call of <pixellib.instance.mask_rcnn.DetectionTargetLayer object at 0x7f799e7a8c50>> could not be transformed and will be executed as-is. Please report this to the AutgoGraph team. When filing the bug, set the verbosity to 10 (on Linux, `export AUTOGRAPH_VERBOSITY=10`) and attach the full output. Cause: converting <bound method DetectionTargetLayer.call of <pixellib.instance.mask_rcnn.DetectionTargetLayer object at 0x7f799e7a8c50>>: AttributeError: module 'gast' has no attribute 'Index'\n",
      "WARNING:tensorflow:From /opt/anaconda3/envs/myenv/lib/python3.7/site-packages/tensorflow/python/ops/array_ops.py:1354: add_dispatch_support.<locals>.wrapper (from tensorflow.python.ops.array_ops) is deprecated and will be removed in a future version.\n",
      "Instructions for updating:\n",
      "Use tf.where in 2.0, which has the same broadcast rule as np.where\n"
     ]
    },
    {
     "name": "stderr",
     "output_type": "stream",
     "text": [
      "11/27/2022 23:37:18 - WARNING - tensorflow -   From /opt/anaconda3/envs/myenv/lib/python3.7/site-packages/tensorflow/python/ops/array_ops.py:1354: add_dispatch_support.<locals>.wrapper (from tensorflow.python.ops.array_ops) is deprecated and will be removed in a future version.\n",
      "Instructions for updating:\n",
      "Use tf.where in 2.0, which has the same broadcast rule as np.where\n"
     ]
    },
    {
     "name": "stdout",
     "output_type": "stream",
     "text": [
      "WARNING:tensorflow:From /opt/anaconda3/envs/myenv/lib/python3.7/site-packages/pixellib/instance/mask_rcnn.py:607: calling crop_and_resize_v1 (from tensorflow.python.ops.image_ops_impl) with box_ind is deprecated and will be removed in a future version.\n",
      "Instructions for updating:\n",
      "box_ind is deprecated, use box_indices instead\n"
     ]
    },
    {
     "name": "stderr",
     "output_type": "stream",
     "text": [
      "11/27/2022 23:37:19 - WARNING - tensorflow -   From /opt/anaconda3/envs/myenv/lib/python3.7/site-packages/pixellib/instance/mask_rcnn.py:607: calling crop_and_resize_v1 (from tensorflow.python.ops.image_ops_impl) with box_ind is deprecated and will be removed in a future version.\n",
      "Instructions for updating:\n",
      "box_ind is deprecated, use box_indices instead\n"
     ]
    },
    {
     "name": "stdout",
     "output_type": "stream",
     "text": [
      "WARNING:tensorflow:Entity <bound method PyramidROIAlign.call of <pixellib.instance.mask_rcnn.PyramidROIAlign object at 0x7f799d093090>> could not be transformed and will be executed as-is. Please report this to the AutgoGraph team. When filing the bug, set the verbosity to 10 (on Linux, `export AUTOGRAPH_VERBOSITY=10`) and attach the full output. Cause: converting <bound method PyramidROIAlign.call of <pixellib.instance.mask_rcnn.PyramidROIAlign object at 0x7f799d093090>>: AttributeError: module 'gast' has no attribute 'Index'\n"
     ]
    },
    {
     "name": "stderr",
     "output_type": "stream",
     "text": [
      "11/27/2022 23:37:20 - WARNING - tensorflow -   Entity <bound method PyramidROIAlign.call of <pixellib.instance.mask_rcnn.PyramidROIAlign object at 0x7f799d093090>> could not be transformed and will be executed as-is. Please report this to the AutgoGraph team. When filing the bug, set the verbosity to 10 (on Linux, `export AUTOGRAPH_VERBOSITY=10`) and attach the full output. Cause: converting <bound method PyramidROIAlign.call of <pixellib.instance.mask_rcnn.PyramidROIAlign object at 0x7f799d093090>>: AttributeError: module 'gast' has no attribute 'Index'\n"
     ]
    },
    {
     "name": "stdout",
     "output_type": "stream",
     "text": [
      "WARNING: Entity <bound method PyramidROIAlign.call of <pixellib.instance.mask_rcnn.PyramidROIAlign object at 0x7f799d093090>> could not be transformed and will be executed as-is. Please report this to the AutgoGraph team. When filing the bug, set the verbosity to 10 (on Linux, `export AUTOGRAPH_VERBOSITY=10`) and attach the full output. Cause: converting <bound method PyramidROIAlign.call of <pixellib.instance.mask_rcnn.PyramidROIAlign object at 0x7f799d093090>>: AttributeError: module 'gast' has no attribute 'Index'\n",
      "WARNING:tensorflow:Entity <bound method PyramidROIAlign.call of <pixellib.instance.mask_rcnn.PyramidROIAlign object at 0x7f79a3670e10>> could not be transformed and will be executed as-is. Please report this to the AutgoGraph team. When filing the bug, set the verbosity to 10 (on Linux, `export AUTOGRAPH_VERBOSITY=10`) and attach the full output. Cause: converting <bound method PyramidROIAlign.call of <pixellib.instance.mask_rcnn.PyramidROIAlign object at 0x7f79a3670e10>>: AttributeError: module 'gast' has no attribute 'Index'\n"
     ]
    },
    {
     "name": "stderr",
     "output_type": "stream",
     "text": [
      "11/27/2022 23:37:20 - WARNING - tensorflow -   Entity <bound method PyramidROIAlign.call of <pixellib.instance.mask_rcnn.PyramidROIAlign object at 0x7f79a3670e10>> could not be transformed and will be executed as-is. Please report this to the AutgoGraph team. When filing the bug, set the verbosity to 10 (on Linux, `export AUTOGRAPH_VERBOSITY=10`) and attach the full output. Cause: converting <bound method PyramidROIAlign.call of <pixellib.instance.mask_rcnn.PyramidROIAlign object at 0x7f79a3670e10>>: AttributeError: module 'gast' has no attribute 'Index'\n"
     ]
    },
    {
     "name": "stdout",
     "output_type": "stream",
     "text": [
      "WARNING: Entity <bound method PyramidROIAlign.call of <pixellib.instance.mask_rcnn.PyramidROIAlign object at 0x7f79a3670e10>> could not be transformed and will be executed as-is. Please report this to the AutgoGraph team. When filing the bug, set the verbosity to 10 (on Linux, `export AUTOGRAPH_VERBOSITY=10`) and attach the full output. Cause: converting <bound method PyramidROIAlign.call of <pixellib.instance.mask_rcnn.PyramidROIAlign object at 0x7f79a3670e10>>: AttributeError: module 'gast' has no attribute 'Index'\n",
      "There are 591 listed files in folder train.\n"
     ]
    },
    {
     "name": "stderr",
     "output_type": "stream",
     "text": [
      "Converting labelme annotations to COCO format:   0%|          | 0/591 [00:00<?, ?it/s]\n"
     ]
    },
    {
     "ename": "FileNotFoundError",
     "evalue": "[Errno 2] No such file or directory: '/Users/reejungkim/Desktop/Nature/train/..\\\\butterfly (184).jpg'",
     "output_type": "error",
     "traceback": [
      "\u001b[0;31m---------------------------------------------------------------------------\u001b[0m",
      "\u001b[0;31mFileNotFoundError\u001b[0m                         Traceback (most recent call last)",
      "\u001b[0;32m<ipython-input-55-d171bbbf48c3>\u001b[0m in \u001b[0;36m<module>\u001b[0;34m\u001b[0m\n\u001b[1;32m      2\u001b[0m \u001b[0mtrain_maskrcnn\u001b[0m\u001b[0;34m.\u001b[0m\u001b[0mmodelConfig\u001b[0m\u001b[0;34m(\u001b[0m\u001b[0mnetwork_backbone\u001b[0m \u001b[0;34m=\u001b[0m \u001b[0;34m\"resnet101\"\u001b[0m\u001b[0;34m,\u001b[0m \u001b[0mnum_classes\u001b[0m\u001b[0;34m=\u001b[0m \u001b[0;36m2\u001b[0m\u001b[0;34m,\u001b[0m \u001b[0mbatch_size\u001b[0m \u001b[0;34m=\u001b[0m \u001b[0;36m4\u001b[0m\u001b[0;34m)\u001b[0m\u001b[0;34m\u001b[0m\u001b[0;34m\u001b[0m\u001b[0m\n\u001b[1;32m      3\u001b[0m \u001b[0mtrain_maskrcnn\u001b[0m\u001b[0;34m.\u001b[0m\u001b[0mload_pretrained_model\u001b[0m\u001b[0;34m(\u001b[0m\u001b[0;34m\"/Users/reejungkim/Desktop/mask_rcnn_coco.h5\"\u001b[0m\u001b[0;34m)\u001b[0m\u001b[0;34m\u001b[0m\u001b[0;34m\u001b[0m\u001b[0m\n\u001b[0;32m----> 4\u001b[0;31m \u001b[0mtrain_maskrcnn\u001b[0m\u001b[0;34m.\u001b[0m\u001b[0mload_dataset\u001b[0m\u001b[0;34m(\u001b[0m\u001b[0;34m\"/Users/reejungkim/Desktop/Nature\"\u001b[0m\u001b[0;34m)\u001b[0m\u001b[0;34m\u001b[0m\u001b[0;34m\u001b[0m\u001b[0m\n\u001b[0m\u001b[1;32m      5\u001b[0m \u001b[0mtrain_maskrcnn\u001b[0m\u001b[0;34m.\u001b[0m\u001b[0mtrain_model\u001b[0m\u001b[0;34m(\u001b[0m\u001b[0mnum_epochs\u001b[0m \u001b[0;34m=\u001b[0m \u001b[0;36m300\u001b[0m\u001b[0;34m,\u001b[0m \u001b[0maugmentation\u001b[0m\u001b[0;34m=\u001b[0m\u001b[0;32mTrue\u001b[0m\u001b[0;34m,\u001b[0m  \u001b[0mpath_trained_models\u001b[0m \u001b[0;34m=\u001b[0m \u001b[0;34m\"mask_rcnn_models\"\u001b[0m\u001b[0;34m)\u001b[0m\u001b[0;34m\u001b[0m\u001b[0;34m\u001b[0m\u001b[0m\n",
      "\u001b[0;32m/opt/anaconda3/envs/myenv/lib/python3.7/site-packages/pixellib/custom_train/__init__.py\u001b[0m in \u001b[0;36mload_dataset\u001b[0;34m(self, dataset)\u001b[0m\n\u001b[1;32m     62\u001b[0m \u001b[0;34m\u001b[0m\u001b[0m\n\u001b[1;32m     63\u001b[0m         \u001b[0;31m#conversion of individual labelme json files into a single json file\u001b[0m\u001b[0;34m\u001b[0m\u001b[0;34m\u001b[0m\u001b[0;34m\u001b[0m\u001b[0m\n\u001b[0;32m---> 64\u001b[0;31m         \u001b[0mlabelme2coco\u001b[0m\u001b[0;34m.\u001b[0m\u001b[0mconvert\u001b[0m\u001b[0;34m(\u001b[0m\u001b[0mlabelme_folder1\u001b[0m\u001b[0;34m,\u001b[0m \u001b[0msave_json_path1\u001b[0m\u001b[0;34m)\u001b[0m\u001b[0;34m\u001b[0m\u001b[0;34m\u001b[0m\u001b[0m\n\u001b[0m\u001b[1;32m     65\u001b[0m \u001b[0;34m\u001b[0m\u001b[0m\n\u001b[1;32m     66\u001b[0m         \u001b[0;31m# Training dataset.\u001b[0m\u001b[0;34m\u001b[0m\u001b[0;34m\u001b[0m\u001b[0;34m\u001b[0m\u001b[0m\n",
      "\u001b[0;32m/opt/anaconda3/envs/myenv/lib/python3.7/site-packages/labelme2coco/__init__.py\u001b[0m in \u001b[0;36mconvert\u001b[0;34m(labelme_folder, export_dir, train_split_rate)\u001b[0m\n\u001b[1;32m     30\u001b[0m         \u001b[0mtrain_split_rate\u001b[0m\u001b[0;34m:\u001b[0m \u001b[0mration\u001b[0m \u001b[0mfo\u001b[0m \u001b[0mtrain\u001b[0m \u001b[0msplit\u001b[0m\u001b[0;34m\u001b[0m\u001b[0;34m\u001b[0m\u001b[0m\n\u001b[1;32m     31\u001b[0m     \"\"\"\n\u001b[0;32m---> 32\u001b[0;31m     \u001b[0mcoco\u001b[0m \u001b[0;34m=\u001b[0m \u001b[0mget_coco_from_labelme_folder\u001b[0m\u001b[0;34m(\u001b[0m\u001b[0mlabelme_folder\u001b[0m\u001b[0;34m)\u001b[0m\u001b[0;34m\u001b[0m\u001b[0;34m\u001b[0m\u001b[0m\n\u001b[0m\u001b[1;32m     33\u001b[0m     \u001b[0;32mif\u001b[0m \u001b[0mtrain_split_rate\u001b[0m \u001b[0;34m<\u001b[0m \u001b[0;36m1\u001b[0m\u001b[0;34m:\u001b[0m\u001b[0;34m\u001b[0m\u001b[0;34m\u001b[0m\u001b[0m\n\u001b[1;32m     34\u001b[0m         \u001b[0mresult\u001b[0m \u001b[0;34m=\u001b[0m \u001b[0mcoco\u001b[0m\u001b[0;34m.\u001b[0m\u001b[0msplit_coco_as_train_val\u001b[0m\u001b[0;34m(\u001b[0m\u001b[0mtrain_split_rate\u001b[0m\u001b[0;34m)\u001b[0m\u001b[0;34m\u001b[0m\u001b[0;34m\u001b[0m\u001b[0m\n",
      "\u001b[0;32m/opt/anaconda3/envs/myenv/lib/python3.7/site-packages/labelme2coco/labelme2coco.py\u001b[0m in \u001b[0;36mget_coco_from_labelme_folder\u001b[0;34m(labelme_folder, coco_category_list)\u001b[0m\n\u001b[1;32m     42\u001b[0m         \u001b[0;31m# get image size\u001b[0m\u001b[0;34m\u001b[0m\u001b[0;34m\u001b[0m\u001b[0;34m\u001b[0m\u001b[0m\n\u001b[1;32m     43\u001b[0m         \u001b[0mimage_path\u001b[0m \u001b[0;34m=\u001b[0m \u001b[0mstr\u001b[0m\u001b[0;34m(\u001b[0m\u001b[0mPath\u001b[0m\u001b[0;34m(\u001b[0m\u001b[0mlabelme_folder\u001b[0m\u001b[0;34m)\u001b[0m \u001b[0;34m/\u001b[0m \u001b[0mdata\u001b[0m\u001b[0;34m[\u001b[0m\u001b[0;34m\"imagePath\"\u001b[0m\u001b[0;34m]\u001b[0m\u001b[0;34m)\u001b[0m\u001b[0;34m\u001b[0m\u001b[0;34m\u001b[0m\u001b[0m\n\u001b[0;32m---> 44\u001b[0;31m         \u001b[0mwidth\u001b[0m\u001b[0;34m,\u001b[0m \u001b[0mheight\u001b[0m \u001b[0;34m=\u001b[0m \u001b[0mImage\u001b[0m\u001b[0;34m.\u001b[0m\u001b[0mopen\u001b[0m\u001b[0;34m(\u001b[0m\u001b[0mimage_path\u001b[0m\u001b[0;34m)\u001b[0m\u001b[0;34m.\u001b[0m\u001b[0msize\u001b[0m\u001b[0;34m\u001b[0m\u001b[0;34m\u001b[0m\u001b[0m\n\u001b[0m\u001b[1;32m     45\u001b[0m         \u001b[0;31m# init coco image\u001b[0m\u001b[0;34m\u001b[0m\u001b[0;34m\u001b[0m\u001b[0;34m\u001b[0m\u001b[0m\n\u001b[1;32m     46\u001b[0m         \u001b[0mcoco_image\u001b[0m \u001b[0;34m=\u001b[0m \u001b[0mCocoImage\u001b[0m\u001b[0;34m(\u001b[0m\u001b[0mfile_name\u001b[0m\u001b[0;34m=\u001b[0m\u001b[0mdata\u001b[0m\u001b[0;34m[\u001b[0m\u001b[0;34m\"imagePath\"\u001b[0m\u001b[0;34m]\u001b[0m\u001b[0;34m,\u001b[0m \u001b[0mheight\u001b[0m\u001b[0;34m=\u001b[0m\u001b[0mheight\u001b[0m\u001b[0;34m,\u001b[0m \u001b[0mwidth\u001b[0m\u001b[0;34m=\u001b[0m\u001b[0mwidth\u001b[0m\u001b[0;34m)\u001b[0m\u001b[0;34m\u001b[0m\u001b[0;34m\u001b[0m\u001b[0m\n",
      "\u001b[0;32m/opt/anaconda3/envs/myenv/lib/python3.7/site-packages/PIL/Image.py\u001b[0m in \u001b[0;36mopen\u001b[0;34m(fp, mode, formats)\u001b[0m\n\u001b[1;32m   3090\u001b[0m \u001b[0;34m\u001b[0m\u001b[0m\n\u001b[1;32m   3091\u001b[0m     \u001b[0;32mif\u001b[0m \u001b[0mfilename\u001b[0m\u001b[0;34m:\u001b[0m\u001b[0;34m\u001b[0m\u001b[0;34m\u001b[0m\u001b[0m\n\u001b[0;32m-> 3092\u001b[0;31m         \u001b[0mfp\u001b[0m \u001b[0;34m=\u001b[0m \u001b[0mbuiltins\u001b[0m\u001b[0;34m.\u001b[0m\u001b[0mopen\u001b[0m\u001b[0;34m(\u001b[0m\u001b[0mfilename\u001b[0m\u001b[0;34m,\u001b[0m \u001b[0;34m\"rb\"\u001b[0m\u001b[0;34m)\u001b[0m\u001b[0;34m\u001b[0m\u001b[0;34m\u001b[0m\u001b[0m\n\u001b[0m\u001b[1;32m   3093\u001b[0m         \u001b[0mexclusive_fp\u001b[0m \u001b[0;34m=\u001b[0m \u001b[0;32mTrue\u001b[0m\u001b[0;34m\u001b[0m\u001b[0;34m\u001b[0m\u001b[0m\n\u001b[1;32m   3094\u001b[0m \u001b[0;34m\u001b[0m\u001b[0m\n",
      "\u001b[0;31mFileNotFoundError\u001b[0m: [Errno 2] No such file or directory: '/Users/reejungkim/Desktop/Nature/train/..\\\\butterfly (184).jpg'"
     ]
    }
   ],
   "source": [
    "\n",
    "train_maskrcnn = instance_custom_training()\n",
    "train_maskrcnn.modelConfig(network_backbone = \"resnet101\", num_classes= 2, batch_size = 4)\n",
    "train_maskrcnn.load_pretrained_model(\"/Users/reejungkim/Desktop/mask_rcnn_coco.h5\")\n",
    "train_maskrcnn.load_dataset(\"/Users/reejungkim/Desktop/Nature\")\n",
    "train_maskrcnn.train_model(num_epochs = 300, augmentation=True,  path_trained_models = \"mask_rcnn_models\")\n"
   ]
  },
  {
   "cell_type": "code",
   "execution_count": 54,
   "metadata": {},
   "outputs": [
    {
     "name": "stdout",
     "output_type": "stream",
     "text": [
      "There are 591 listed files in folder train.\n"
     ]
    },
    {
     "name": "stderr",
     "output_type": "stream",
     "text": [
      "Converting labelme annotations to COCO format:   0%|          | 0/591 [00:00<?, ?it/s]\n"
     ]
    },
    {
     "ename": "FileNotFoundError",
     "evalue": "[Errno 2] No such file or directory: '/Users/reejungkim/Desktop/Nature/train/..\\\\butterfly (184).jpg'",
     "output_type": "error",
     "traceback": [
      "\u001b[0;31m---------------------------------------------------------------------------\u001b[0m",
      "\u001b[0;31mFileNotFoundError\u001b[0m                         Traceback (most recent call last)",
      "\u001b[0;32m<ipython-input-54-7ef9eeb1ebd7>\u001b[0m in \u001b[0;36m<module>\u001b[0;34m\u001b[0m\n\u001b[0;32m----> 1\u001b[0;31m \u001b[0mvis_img\u001b[0m\u001b[0;34m.\u001b[0m\u001b[0mload_dataset\u001b[0m\u001b[0;34m(\u001b[0m\u001b[0;34mr\"/Users/reejungkim/Desktop/Nature\"\u001b[0m\u001b[0;34m)\u001b[0m\u001b[0;34m\u001b[0m\u001b[0;34m\u001b[0m\u001b[0m\n\u001b[0m\u001b[1;32m      2\u001b[0m \u001b[0mvis_img\u001b[0m\u001b[0;34m.\u001b[0m\u001b[0mvisualize_sample\u001b[0m\u001b[0;34m(\u001b[0m\u001b[0;34m)\u001b[0m\u001b[0;34m\u001b[0m\u001b[0;34m\u001b[0m\u001b[0m\n",
      "\u001b[0;32m/opt/anaconda3/envs/myenv/lib/python3.7/site-packages/pixellib/custom_train/__init__.py\u001b[0m in \u001b[0;36mload_dataset\u001b[0;34m(self, dataset)\u001b[0m\n\u001b[1;32m     62\u001b[0m \u001b[0;34m\u001b[0m\u001b[0m\n\u001b[1;32m     63\u001b[0m         \u001b[0;31m#conversion of individual labelme json files into a single json file\u001b[0m\u001b[0;34m\u001b[0m\u001b[0;34m\u001b[0m\u001b[0;34m\u001b[0m\u001b[0m\n\u001b[0;32m---> 64\u001b[0;31m         \u001b[0mlabelme2coco\u001b[0m\u001b[0;34m.\u001b[0m\u001b[0mconvert\u001b[0m\u001b[0;34m(\u001b[0m\u001b[0mlabelme_folder1\u001b[0m\u001b[0;34m,\u001b[0m \u001b[0msave_json_path1\u001b[0m\u001b[0;34m)\u001b[0m\u001b[0;34m\u001b[0m\u001b[0;34m\u001b[0m\u001b[0m\n\u001b[0m\u001b[1;32m     65\u001b[0m \u001b[0;34m\u001b[0m\u001b[0m\n\u001b[1;32m     66\u001b[0m         \u001b[0;31m# Training dataset.\u001b[0m\u001b[0;34m\u001b[0m\u001b[0;34m\u001b[0m\u001b[0;34m\u001b[0m\u001b[0m\n",
      "\u001b[0;32m/opt/anaconda3/envs/myenv/lib/python3.7/site-packages/labelme2coco/__init__.py\u001b[0m in \u001b[0;36mconvert\u001b[0;34m(labelme_folder, export_dir, train_split_rate)\u001b[0m\n\u001b[1;32m     30\u001b[0m         \u001b[0mtrain_split_rate\u001b[0m\u001b[0;34m:\u001b[0m \u001b[0mration\u001b[0m \u001b[0mfo\u001b[0m \u001b[0mtrain\u001b[0m \u001b[0msplit\u001b[0m\u001b[0;34m\u001b[0m\u001b[0;34m\u001b[0m\u001b[0m\n\u001b[1;32m     31\u001b[0m     \"\"\"\n\u001b[0;32m---> 32\u001b[0;31m     \u001b[0mcoco\u001b[0m \u001b[0;34m=\u001b[0m \u001b[0mget_coco_from_labelme_folder\u001b[0m\u001b[0;34m(\u001b[0m\u001b[0mlabelme_folder\u001b[0m\u001b[0;34m)\u001b[0m\u001b[0;34m\u001b[0m\u001b[0;34m\u001b[0m\u001b[0m\n\u001b[0m\u001b[1;32m     33\u001b[0m     \u001b[0;32mif\u001b[0m \u001b[0mtrain_split_rate\u001b[0m \u001b[0;34m<\u001b[0m \u001b[0;36m1\u001b[0m\u001b[0;34m:\u001b[0m\u001b[0;34m\u001b[0m\u001b[0;34m\u001b[0m\u001b[0m\n\u001b[1;32m     34\u001b[0m         \u001b[0mresult\u001b[0m \u001b[0;34m=\u001b[0m \u001b[0mcoco\u001b[0m\u001b[0;34m.\u001b[0m\u001b[0msplit_coco_as_train_val\u001b[0m\u001b[0;34m(\u001b[0m\u001b[0mtrain_split_rate\u001b[0m\u001b[0;34m)\u001b[0m\u001b[0;34m\u001b[0m\u001b[0;34m\u001b[0m\u001b[0m\n",
      "\u001b[0;32m/opt/anaconda3/envs/myenv/lib/python3.7/site-packages/labelme2coco/labelme2coco.py\u001b[0m in \u001b[0;36mget_coco_from_labelme_folder\u001b[0;34m(labelme_folder, coco_category_list)\u001b[0m\n\u001b[1;32m     42\u001b[0m         \u001b[0;31m# get image size\u001b[0m\u001b[0;34m\u001b[0m\u001b[0;34m\u001b[0m\u001b[0;34m\u001b[0m\u001b[0m\n\u001b[1;32m     43\u001b[0m         \u001b[0mimage_path\u001b[0m \u001b[0;34m=\u001b[0m \u001b[0mstr\u001b[0m\u001b[0;34m(\u001b[0m\u001b[0mPath\u001b[0m\u001b[0;34m(\u001b[0m\u001b[0mlabelme_folder\u001b[0m\u001b[0;34m)\u001b[0m \u001b[0;34m/\u001b[0m \u001b[0mdata\u001b[0m\u001b[0;34m[\u001b[0m\u001b[0;34m\"imagePath\"\u001b[0m\u001b[0;34m]\u001b[0m\u001b[0;34m)\u001b[0m\u001b[0;34m\u001b[0m\u001b[0;34m\u001b[0m\u001b[0m\n\u001b[0;32m---> 44\u001b[0;31m         \u001b[0mwidth\u001b[0m\u001b[0;34m,\u001b[0m \u001b[0mheight\u001b[0m \u001b[0;34m=\u001b[0m \u001b[0mImage\u001b[0m\u001b[0;34m.\u001b[0m\u001b[0mopen\u001b[0m\u001b[0;34m(\u001b[0m\u001b[0mimage_path\u001b[0m\u001b[0;34m)\u001b[0m\u001b[0;34m.\u001b[0m\u001b[0msize\u001b[0m\u001b[0;34m\u001b[0m\u001b[0;34m\u001b[0m\u001b[0m\n\u001b[0m\u001b[1;32m     45\u001b[0m         \u001b[0;31m# init coco image\u001b[0m\u001b[0;34m\u001b[0m\u001b[0;34m\u001b[0m\u001b[0;34m\u001b[0m\u001b[0m\n\u001b[1;32m     46\u001b[0m         \u001b[0mcoco_image\u001b[0m \u001b[0;34m=\u001b[0m \u001b[0mCocoImage\u001b[0m\u001b[0;34m(\u001b[0m\u001b[0mfile_name\u001b[0m\u001b[0;34m=\u001b[0m\u001b[0mdata\u001b[0m\u001b[0;34m[\u001b[0m\u001b[0;34m\"imagePath\"\u001b[0m\u001b[0;34m]\u001b[0m\u001b[0;34m,\u001b[0m \u001b[0mheight\u001b[0m\u001b[0;34m=\u001b[0m\u001b[0mheight\u001b[0m\u001b[0;34m,\u001b[0m \u001b[0mwidth\u001b[0m\u001b[0;34m=\u001b[0m\u001b[0mwidth\u001b[0m\u001b[0;34m)\u001b[0m\u001b[0;34m\u001b[0m\u001b[0;34m\u001b[0m\u001b[0m\n",
      "\u001b[0;32m/opt/anaconda3/envs/myenv/lib/python3.7/site-packages/PIL/Image.py\u001b[0m in \u001b[0;36mopen\u001b[0;34m(fp, mode, formats)\u001b[0m\n\u001b[1;32m   3090\u001b[0m \u001b[0;34m\u001b[0m\u001b[0m\n\u001b[1;32m   3091\u001b[0m     \u001b[0;32mif\u001b[0m \u001b[0mfilename\u001b[0m\u001b[0;34m:\u001b[0m\u001b[0;34m\u001b[0m\u001b[0;34m\u001b[0m\u001b[0m\n\u001b[0;32m-> 3092\u001b[0;31m         \u001b[0mfp\u001b[0m \u001b[0;34m=\u001b[0m \u001b[0mbuiltins\u001b[0m\u001b[0;34m.\u001b[0m\u001b[0mopen\u001b[0m\u001b[0;34m(\u001b[0m\u001b[0mfilename\u001b[0m\u001b[0;34m,\u001b[0m \u001b[0;34m\"rb\"\u001b[0m\u001b[0;34m)\u001b[0m\u001b[0;34m\u001b[0m\u001b[0;34m\u001b[0m\u001b[0m\n\u001b[0m\u001b[1;32m   3093\u001b[0m         \u001b[0mexclusive_fp\u001b[0m \u001b[0;34m=\u001b[0m \u001b[0;32mTrue\u001b[0m\u001b[0;34m\u001b[0m\u001b[0;34m\u001b[0m\u001b[0m\n\u001b[1;32m   3094\u001b[0m \u001b[0;34m\u001b[0m\u001b[0m\n",
      "\u001b[0;31mFileNotFoundError\u001b[0m: [Errno 2] No such file or directory: '/Users/reejungkim/Desktop/Nature/train/..\\\\butterfly (184).jpg'"
     ]
    }
   ],
   "source": [
    "\n",
    "vis_img.load_dataset(r\"/Users/reejungkim/Desktop/Nature\")\n",
    "vis_img.visualize_sample()"
   ]
  },
  {
   "cell_type": "code",
   "execution_count": null,
   "metadata": {},
   "outputs": [],
   "source": []
  }
 ],
 "metadata": {
  "interpreter": {
   "hash": "e47b1a34c05c1e3b83a62d7885c9d1b5ef8a0522d3be0182d0a008ec409b2b3d"
  },
  "kernelspec": {
   "display_name": "Python 3.7.13 ('myenv')",
   "language": "python",
   "name": "python3"
  },
  "language_info": {
   "codemirror_mode": {
    "name": "ipython",
    "version": 3
   },
   "file_extension": ".py",
   "mimetype": "text/x-python",
   "name": "python",
   "nbconvert_exporter": "python",
   "pygments_lexer": "ipython3",
   "version": "3.7.13"
  },
  "orig_nbformat": 4
 },
 "nbformat": 4,
 "nbformat_minor": 2
}
